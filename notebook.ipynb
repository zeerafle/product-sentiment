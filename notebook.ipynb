{
 "cells": [
  {
   "metadata": {},
   "cell_type": "markdown",
   "source": "# Tokopedia Product Sentiment",
   "id": "703d27e6b6b2d4ce"
  },
  {
   "metadata": {},
   "cell_type": "markdown",
   "source": "## Data Loading",
   "id": "fbdbc9b5e26de2ff"
  },
  {
   "cell_type": "code",
   "id": "initial_id",
   "metadata": {
    "collapsed": true,
    "ExecuteTime": {
     "end_time": "2025-05-16T12:13:31.779455Z",
     "start_time": "2025-05-16T12:13:29.824996Z"
    }
   },
   "source": [
    "import re\n",
    "\n",
    "import pandas as pd\n",
    "\n",
    "df = pd.read_json(path_or_buf='data/reviews.jsonl', lines=True)\n",
    "df.head()"
   ],
   "outputs": [
    {
     "data": {
      "text/plain": [
       "   product_id                                        product_url   shop_id  \\\n",
       "0              https://www.tokopedia.com/merriesofficial/flas...             \n",
       "1              https://www.tokopedia.com/merriesofficial/flas...             \n",
       "2              https://www.tokopedia.com/merriesofficial/flas...             \n",
       "3  8536883143  https://www.tokopedia.com/winodofficialshop/wi...  11061624   \n",
       "4  8536883143  https://www.tokopedia.com/winodofficialshop/wi...  11061624   \n",
       "\n",
       "  shop_name                                     shop_url   review_id  star  \\\n",
       "0      None    https://www.tokopedia.com/merriesofficial                 5   \n",
       "1      None    https://www.tokopedia.com/merriesofficial                 5   \n",
       "2      None    https://www.tokopedia.com/merriesofficial                 5   \n",
       "3     winod  https://www.tokopedia.com/winodofficialshop   914575864     5   \n",
       "4     winod  https://www.tokopedia.com/winodofficialshop  1243605012     5   \n",
       "\n",
       "                                              review source variant_name  \\\n",
       "0  Barang yg dibeli sesuai , pengiriman cepat dan...   html                \n",
       "1  Barang Original!!! Packing sangat aman... Grea...   html                \n",
       "2  Pengiriman sangat cepat!!! pesan hari ini  bes...   html                \n",
       "3  ini rekomen banget.. yg beli ga bakal nyesel.....    api   Black - 37   \n",
       "4  so cute, ukurannya pas, sendalnya ringan dan n...    api   Ivory - 38   \n",
       "\n",
       "  is_anonymous  \n",
       "0               \n",
       "1               \n",
       "2               \n",
       "3        False  \n",
       "4         True  "
      ],
      "text/html": [
       "<div>\n",
       "<style scoped>\n",
       "    .dataframe tbody tr th:only-of-type {\n",
       "        vertical-align: middle;\n",
       "    }\n",
       "\n",
       "    .dataframe tbody tr th {\n",
       "        vertical-align: top;\n",
       "    }\n",
       "\n",
       "    .dataframe thead th {\n",
       "        text-align: right;\n",
       "    }\n",
       "</style>\n",
       "<table border=\"1\" class=\"dataframe\">\n",
       "  <thead>\n",
       "    <tr style=\"text-align: right;\">\n",
       "      <th></th>\n",
       "      <th>product_id</th>\n",
       "      <th>product_url</th>\n",
       "      <th>shop_id</th>\n",
       "      <th>shop_name</th>\n",
       "      <th>shop_url</th>\n",
       "      <th>review_id</th>\n",
       "      <th>star</th>\n",
       "      <th>review</th>\n",
       "      <th>source</th>\n",
       "      <th>variant_name</th>\n",
       "      <th>is_anonymous</th>\n",
       "    </tr>\n",
       "  </thead>\n",
       "  <tbody>\n",
       "    <tr>\n",
       "      <th>0</th>\n",
       "      <td></td>\n",
       "      <td>https://www.tokopedia.com/merriesofficial/flas...</td>\n",
       "      <td></td>\n",
       "      <td>None</td>\n",
       "      <td>https://www.tokopedia.com/merriesofficial</td>\n",
       "      <td></td>\n",
       "      <td>5</td>\n",
       "      <td>Barang yg dibeli sesuai , pengiriman cepat dan...</td>\n",
       "      <td>html</td>\n",
       "      <td></td>\n",
       "      <td></td>\n",
       "    </tr>\n",
       "    <tr>\n",
       "      <th>1</th>\n",
       "      <td></td>\n",
       "      <td>https://www.tokopedia.com/merriesofficial/flas...</td>\n",
       "      <td></td>\n",
       "      <td>None</td>\n",
       "      <td>https://www.tokopedia.com/merriesofficial</td>\n",
       "      <td></td>\n",
       "      <td>5</td>\n",
       "      <td>Barang Original!!! Packing sangat aman... Grea...</td>\n",
       "      <td>html</td>\n",
       "      <td></td>\n",
       "      <td></td>\n",
       "    </tr>\n",
       "    <tr>\n",
       "      <th>2</th>\n",
       "      <td></td>\n",
       "      <td>https://www.tokopedia.com/merriesofficial/flas...</td>\n",
       "      <td></td>\n",
       "      <td>None</td>\n",
       "      <td>https://www.tokopedia.com/merriesofficial</td>\n",
       "      <td></td>\n",
       "      <td>5</td>\n",
       "      <td>Pengiriman sangat cepat!!! pesan hari ini  bes...</td>\n",
       "      <td>html</td>\n",
       "      <td></td>\n",
       "      <td></td>\n",
       "    </tr>\n",
       "    <tr>\n",
       "      <th>3</th>\n",
       "      <td>8536883143</td>\n",
       "      <td>https://www.tokopedia.com/winodofficialshop/wi...</td>\n",
       "      <td>11061624</td>\n",
       "      <td>winod</td>\n",
       "      <td>https://www.tokopedia.com/winodofficialshop</td>\n",
       "      <td>914575864</td>\n",
       "      <td>5</td>\n",
       "      <td>ini rekomen banget.. yg beli ga bakal nyesel.....</td>\n",
       "      <td>api</td>\n",
       "      <td>Black - 37</td>\n",
       "      <td>False</td>\n",
       "    </tr>\n",
       "    <tr>\n",
       "      <th>4</th>\n",
       "      <td>8536883143</td>\n",
       "      <td>https://www.tokopedia.com/winodofficialshop/wi...</td>\n",
       "      <td>11061624</td>\n",
       "      <td>winod</td>\n",
       "      <td>https://www.tokopedia.com/winodofficialshop</td>\n",
       "      <td>1243605012</td>\n",
       "      <td>5</td>\n",
       "      <td>so cute, ukurannya pas, sendalnya ringan dan n...</td>\n",
       "      <td>api</td>\n",
       "      <td>Ivory - 38</td>\n",
       "      <td>True</td>\n",
       "    </tr>\n",
       "  </tbody>\n",
       "</table>\n",
       "</div>"
      ]
     },
     "execution_count": 3,
     "metadata": {},
     "output_type": "execute_result"
    }
   ],
   "execution_count": 3
  },
  {
   "metadata": {
    "ExecuteTime": {
     "end_time": "2025-05-16T12:13:32.079291Z",
     "start_time": "2025-05-16T12:13:32.043362Z"
    }
   },
   "cell_type": "code",
   "source": "df.star.value_counts()",
   "id": "1ba68f31e7cd4d58",
   "outputs": [
    {
     "data": {
      "text/plain": [
       "star\n",
       "5    3626\n",
       "4     215\n",
       "3      88\n",
       "1      71\n",
       "2      34\n",
       "Name: count, dtype: int64"
      ]
     },
     "execution_count": 4,
     "metadata": {},
     "output_type": "execute_result"
    }
   ],
   "execution_count": 4
  },
  {
   "metadata": {},
   "cell_type": "markdown",
   "source": "Kita hanya tertarik pada kolom `review` dan `star`. Maka buang kolom lain.",
   "id": "45af76c11bc6b360"
  },
  {
   "metadata": {
    "ExecuteTime": {
     "end_time": "2025-05-16T12:13:33.391613Z",
     "start_time": "2025-05-16T12:13:33.107391Z"
    }
   },
   "cell_type": "code",
   "source": [
    "df = df[['review', 'star']]\n",
    "df.head()"
   ],
   "id": "238cc291849bb1dd",
   "outputs": [
    {
     "data": {
      "text/plain": [
       "                                              review  star\n",
       "0  Barang yg dibeli sesuai , pengiriman cepat dan...     5\n",
       "1  Barang Original!!! Packing sangat aman... Grea...     5\n",
       "2  Pengiriman sangat cepat!!! pesan hari ini  bes...     5\n",
       "3  ini rekomen banget.. yg beli ga bakal nyesel.....     5\n",
       "4  so cute, ukurannya pas, sendalnya ringan dan n...     5"
      ],
      "text/html": [
       "<div>\n",
       "<style scoped>\n",
       "    .dataframe tbody tr th:only-of-type {\n",
       "        vertical-align: middle;\n",
       "    }\n",
       "\n",
       "    .dataframe tbody tr th {\n",
       "        vertical-align: top;\n",
       "    }\n",
       "\n",
       "    .dataframe thead th {\n",
       "        text-align: right;\n",
       "    }\n",
       "</style>\n",
       "<table border=\"1\" class=\"dataframe\">\n",
       "  <thead>\n",
       "    <tr style=\"text-align: right;\">\n",
       "      <th></th>\n",
       "      <th>review</th>\n",
       "      <th>star</th>\n",
       "    </tr>\n",
       "  </thead>\n",
       "  <tbody>\n",
       "    <tr>\n",
       "      <th>0</th>\n",
       "      <td>Barang yg dibeli sesuai , pengiriman cepat dan...</td>\n",
       "      <td>5</td>\n",
       "    </tr>\n",
       "    <tr>\n",
       "      <th>1</th>\n",
       "      <td>Barang Original!!! Packing sangat aman... Grea...</td>\n",
       "      <td>5</td>\n",
       "    </tr>\n",
       "    <tr>\n",
       "      <th>2</th>\n",
       "      <td>Pengiriman sangat cepat!!! pesan hari ini  bes...</td>\n",
       "      <td>5</td>\n",
       "    </tr>\n",
       "    <tr>\n",
       "      <th>3</th>\n",
       "      <td>ini rekomen banget.. yg beli ga bakal nyesel.....</td>\n",
       "      <td>5</td>\n",
       "    </tr>\n",
       "    <tr>\n",
       "      <th>4</th>\n",
       "      <td>so cute, ukurannya pas, sendalnya ringan dan n...</td>\n",
       "      <td>5</td>\n",
       "    </tr>\n",
       "  </tbody>\n",
       "</table>\n",
       "</div>"
      ]
     },
     "execution_count": 5,
     "metadata": {},
     "output_type": "execute_result"
    }
   ],
   "execution_count": 5
  },
  {
   "metadata": {},
   "cell_type": "markdown",
   "source": "## Assessing Data",
   "id": "da998e4d75fcbf20"
  },
  {
   "metadata": {
    "ExecuteTime": {
     "end_time": "2025-05-16T12:14:41.147450Z",
     "start_time": "2025-05-16T12:14:41.117567Z"
    }
   },
   "cell_type": "code",
   "source": "df.isna().sum()",
   "id": "eea93f35e2ad58c",
   "outputs": [
    {
     "data": {
      "text/plain": [
       "review    123\n",
       "star        0\n",
       "dtype: int64"
      ]
     },
     "execution_count": 9,
     "metadata": {},
     "output_type": "execute_result"
    }
   ],
   "execution_count": 9
  },
  {
   "metadata": {
    "ExecuteTime": {
     "end_time": "2025-05-16T12:20:02.818603Z",
     "start_time": "2025-05-16T12:20:02.800219Z"
    }
   },
   "cell_type": "code",
   "source": [
    "df.dropna(inplace=True)\n",
    "df.head()"
   ],
   "id": "de13af0536897942",
   "outputs": [
    {
     "data": {
      "text/plain": [
       "                                              review  star\n",
       "0  Barang yg dibeli sesuai , pengiriman cepat dan...     5\n",
       "1  Barang Original!!! Packing sangat aman... Grea...     5\n",
       "2  Pengiriman sangat cepat!!! pesan hari ini  bes...     5\n",
       "3  ini rekomen banget.. yg beli ga bakal nyesel.....     5\n",
       "4  so cute, ukurannya pas, sendalnya ringan dan n...     5"
      ],
      "text/html": [
       "<div>\n",
       "<style scoped>\n",
       "    .dataframe tbody tr th:only-of-type {\n",
       "        vertical-align: middle;\n",
       "    }\n",
       "\n",
       "    .dataframe tbody tr th {\n",
       "        vertical-align: top;\n",
       "    }\n",
       "\n",
       "    .dataframe thead th {\n",
       "        text-align: right;\n",
       "    }\n",
       "</style>\n",
       "<table border=\"1\" class=\"dataframe\">\n",
       "  <thead>\n",
       "    <tr style=\"text-align: right;\">\n",
       "      <th></th>\n",
       "      <th>review</th>\n",
       "      <th>star</th>\n",
       "    </tr>\n",
       "  </thead>\n",
       "  <tbody>\n",
       "    <tr>\n",
       "      <th>0</th>\n",
       "      <td>Barang yg dibeli sesuai , pengiriman cepat dan...</td>\n",
       "      <td>5</td>\n",
       "    </tr>\n",
       "    <tr>\n",
       "      <th>1</th>\n",
       "      <td>Barang Original!!! Packing sangat aman... Grea...</td>\n",
       "      <td>5</td>\n",
       "    </tr>\n",
       "    <tr>\n",
       "      <th>2</th>\n",
       "      <td>Pengiriman sangat cepat!!! pesan hari ini  bes...</td>\n",
       "      <td>5</td>\n",
       "    </tr>\n",
       "    <tr>\n",
       "      <th>3</th>\n",
       "      <td>ini rekomen banget.. yg beli ga bakal nyesel.....</td>\n",
       "      <td>5</td>\n",
       "    </tr>\n",
       "    <tr>\n",
       "      <th>4</th>\n",
       "      <td>so cute, ukurannya pas, sendalnya ringan dan n...</td>\n",
       "      <td>5</td>\n",
       "    </tr>\n",
       "  </tbody>\n",
       "</table>\n",
       "</div>"
      ]
     },
     "execution_count": 18,
     "metadata": {},
     "output_type": "execute_result"
    }
   ],
   "execution_count": 18
  },
  {
   "metadata": {
    "ExecuteTime": {
     "end_time": "2025-05-16T12:46:28.756432Z",
     "start_time": "2025-05-16T12:46:28.735191Z"
    }
   },
   "cell_type": "code",
   "source": "df[df.duplicated(subset='review', keep=False)]",
   "id": "3d4710b351c32b21",
   "outputs": [
    {
     "data": {
      "text/plain": [
       "                                                 review  star\n",
       "37                                         Good quality     5\n",
       "38                              Bagus sesuai ekspektasi     5\n",
       "40                                                 good     5\n",
       "49                                               mantap     5\n",
       "50                                               mantap     5\n",
       "...                                                 ...   ...\n",
       "4016  Mantap gan barangnya 👍🏻💯\\nSukses terus buatlap...     5\n",
       "4017  Mantap gan barangnya 👍🏻💯\\nSukses terus buatlap...     5\n",
       "4023             Kualitasnya bagus dan sesuai deskripsi     5\n",
       "4024             Kualitasnya bagus dan sesuai deskripsi     5\n",
       "4031                                     sesuai pesanan     5\n",
       "\n",
       "[524 rows x 2 columns]"
      ],
      "text/html": [
       "<div>\n",
       "<style scoped>\n",
       "    .dataframe tbody tr th:only-of-type {\n",
       "        vertical-align: middle;\n",
       "    }\n",
       "\n",
       "    .dataframe tbody tr th {\n",
       "        vertical-align: top;\n",
       "    }\n",
       "\n",
       "    .dataframe thead th {\n",
       "        text-align: right;\n",
       "    }\n",
       "</style>\n",
       "<table border=\"1\" class=\"dataframe\">\n",
       "  <thead>\n",
       "    <tr style=\"text-align: right;\">\n",
       "      <th></th>\n",
       "      <th>review</th>\n",
       "      <th>star</th>\n",
       "    </tr>\n",
       "  </thead>\n",
       "  <tbody>\n",
       "    <tr>\n",
       "      <th>37</th>\n",
       "      <td>Good quality</td>\n",
       "      <td>5</td>\n",
       "    </tr>\n",
       "    <tr>\n",
       "      <th>38</th>\n",
       "      <td>Bagus sesuai ekspektasi</td>\n",
       "      <td>5</td>\n",
       "    </tr>\n",
       "    <tr>\n",
       "      <th>40</th>\n",
       "      <td>good</td>\n",
       "      <td>5</td>\n",
       "    </tr>\n",
       "    <tr>\n",
       "      <th>49</th>\n",
       "      <td>mantap</td>\n",
       "      <td>5</td>\n",
       "    </tr>\n",
       "    <tr>\n",
       "      <th>50</th>\n",
       "      <td>mantap</td>\n",
       "      <td>5</td>\n",
       "    </tr>\n",
       "    <tr>\n",
       "      <th>...</th>\n",
       "      <td>...</td>\n",
       "      <td>...</td>\n",
       "    </tr>\n",
       "    <tr>\n",
       "      <th>4016</th>\n",
       "      <td>Mantap gan barangnya 👍🏻💯\\nSukses terus buatlap...</td>\n",
       "      <td>5</td>\n",
       "    </tr>\n",
       "    <tr>\n",
       "      <th>4017</th>\n",
       "      <td>Mantap gan barangnya 👍🏻💯\\nSukses terus buatlap...</td>\n",
       "      <td>5</td>\n",
       "    </tr>\n",
       "    <tr>\n",
       "      <th>4023</th>\n",
       "      <td>Kualitasnya bagus dan sesuai deskripsi</td>\n",
       "      <td>5</td>\n",
       "    </tr>\n",
       "    <tr>\n",
       "      <th>4024</th>\n",
       "      <td>Kualitasnya bagus dan sesuai deskripsi</td>\n",
       "      <td>5</td>\n",
       "    </tr>\n",
       "    <tr>\n",
       "      <th>4031</th>\n",
       "      <td>sesuai pesanan</td>\n",
       "      <td>5</td>\n",
       "    </tr>\n",
       "  </tbody>\n",
       "</table>\n",
       "<p>524 rows × 2 columns</p>\n",
       "</div>"
      ]
     },
     "execution_count": 37,
     "metadata": {},
     "output_type": "execute_result"
    }
   ],
   "execution_count": 37
  },
  {
   "metadata": {
    "ExecuteTime": {
     "end_time": "2025-05-16T12:57:52.990918Z",
     "start_time": "2025-05-16T12:57:52.979881Z"
    }
   },
   "cell_type": "code",
   "source": "df.drop_duplicates(inplace=True)",
   "id": "1f45271e441b8f8f",
   "outputs": [],
   "execution_count": 39
  },
  {
   "metadata": {
    "ExecuteTime": {
     "end_time": "2025-05-16T13:01:33.800383Z",
     "start_time": "2025-05-16T13:01:33.783848Z"
    }
   },
   "cell_type": "code",
   "source": "df.duplicated().sum()",
   "id": "b3d18e3061bd8d4b",
   "outputs": [
    {
     "data": {
      "text/plain": [
       "np.int64(0)"
      ]
     },
     "execution_count": 41,
     "metadata": {},
     "output_type": "execute_result"
    }
   ],
   "execution_count": 41
  },
  {
   "metadata": {},
   "cell_type": "markdown",
   "source": "## Text Preprocessing",
   "id": "1ee8ac87d1b0ea20"
  },
  {
   "metadata": {
    "ExecuteTime": {
     "end_time": "2025-05-16T13:16:13.778454Z",
     "start_time": "2025-05-16T13:16:13.773307Z"
    }
   },
   "cell_type": "code",
   "source": "clean_df = df.copy()",
   "id": "1df7b6a7351d3dcc",
   "outputs": [],
   "execution_count": 57
  },
  {
   "metadata": {},
   "cell_type": "markdown",
   "source": "### Case Folding",
   "id": "f1d30f8e0cd718bb"
  },
  {
   "metadata": {
    "ExecuteTime": {
     "end_time": "2025-05-16T13:16:14.521021Z",
     "start_time": "2025-05-16T13:16:14.500608Z"
    }
   },
   "cell_type": "code",
   "source": [
    "clean_df.review = clean_df.review.map(lambda x: x.lower())\n",
    "clean_df.head()"
   ],
   "id": "cfd08eb1dd636bcc",
   "outputs": [
    {
     "data": {
      "text/plain": [
       "                                              review  star\n",
       "0  barang yg dibeli sesuai , pengiriman cepat dan...     5\n",
       "1  barang original!!! packing sangat aman... grea...     5\n",
       "2  pengiriman sangat cepat!!! pesan hari ini  bes...     5\n",
       "3  ini rekomen banget.. yg beli ga bakal nyesel.....     5\n",
       "4  so cute, ukurannya pas, sendalnya ringan dan n...     5"
      ],
      "text/html": [
       "<div>\n",
       "<style scoped>\n",
       "    .dataframe tbody tr th:only-of-type {\n",
       "        vertical-align: middle;\n",
       "    }\n",
       "\n",
       "    .dataframe tbody tr th {\n",
       "        vertical-align: top;\n",
       "    }\n",
       "\n",
       "    .dataframe thead th {\n",
       "        text-align: right;\n",
       "    }\n",
       "</style>\n",
       "<table border=\"1\" class=\"dataframe\">\n",
       "  <thead>\n",
       "    <tr style=\"text-align: right;\">\n",
       "      <th></th>\n",
       "      <th>review</th>\n",
       "      <th>star</th>\n",
       "    </tr>\n",
       "  </thead>\n",
       "  <tbody>\n",
       "    <tr>\n",
       "      <th>0</th>\n",
       "      <td>barang yg dibeli sesuai , pengiriman cepat dan...</td>\n",
       "      <td>5</td>\n",
       "    </tr>\n",
       "    <tr>\n",
       "      <th>1</th>\n",
       "      <td>barang original!!! packing sangat aman... grea...</td>\n",
       "      <td>5</td>\n",
       "    </tr>\n",
       "    <tr>\n",
       "      <th>2</th>\n",
       "      <td>pengiriman sangat cepat!!! pesan hari ini  bes...</td>\n",
       "      <td>5</td>\n",
       "    </tr>\n",
       "    <tr>\n",
       "      <th>3</th>\n",
       "      <td>ini rekomen banget.. yg beli ga bakal nyesel.....</td>\n",
       "      <td>5</td>\n",
       "    </tr>\n",
       "    <tr>\n",
       "      <th>4</th>\n",
       "      <td>so cute, ukurannya pas, sendalnya ringan dan n...</td>\n",
       "      <td>5</td>\n",
       "    </tr>\n",
       "  </tbody>\n",
       "</table>\n",
       "</div>"
      ]
     },
     "execution_count": 58,
     "metadata": {},
     "output_type": "execute_result"
    }
   ],
   "execution_count": 58
  },
  {
   "metadata": {},
   "cell_type": "markdown",
   "source": "### Remove Special Characters",
   "id": "28249a212bdc6e86"
  },
  {
   "metadata": {},
   "cell_type": "markdown",
   "source": "#### Numbers",
   "id": "7c5777b14b4e7ea5"
  },
  {
   "metadata": {
    "ExecuteTime": {
     "end_time": "2025-05-16T13:16:16.640973Z",
     "start_time": "2025-05-16T13:16:16.610696Z"
    }
   },
   "cell_type": "code",
   "source": "clean_df[clean_df.review.str.contains(r'\\d')]",
   "id": "d385997c7e5e283a",
   "outputs": [
    {
     "data": {
      "text/plain": [
       "                                                 review  star\n",
       "26    kuliatas ok, pengiriman cepat respon penjual 100%     5\n",
       "60    si kecil cabe rawit, first impression pas di s...     5\n",
       "67    alhamdulillah paketnya sampe dgn selamat,  coc...     5\n",
       "69    order ke 2x nya karena sebagus itu hydra boost...     5\n",
       "73    udah order beerrr kali2. segar, bisa dipakai k...     5\n",
       "...                                                 ...   ...\n",
       "3961  sdh sampai, barang berfungsi dengan baik, hany...     5\n",
       "3967  tolong sering-sering kasih diskon yaaaaaa kao....     5\n",
       "3976  meh meh meh, toko paling jarang diskon\\nsekali...     5\n",
       "4007  barang saya belum sampai sampai saat ini \\nsdh...     1\n",
       "4022  bagus sekali pengiriman cepat. dapet gift juga...     5\n",
       "\n",
       "[427 rows x 2 columns]"
      ],
      "text/html": [
       "<div>\n",
       "<style scoped>\n",
       "    .dataframe tbody tr th:only-of-type {\n",
       "        vertical-align: middle;\n",
       "    }\n",
       "\n",
       "    .dataframe tbody tr th {\n",
       "        vertical-align: top;\n",
       "    }\n",
       "\n",
       "    .dataframe thead th {\n",
       "        text-align: right;\n",
       "    }\n",
       "</style>\n",
       "<table border=\"1\" class=\"dataframe\">\n",
       "  <thead>\n",
       "    <tr style=\"text-align: right;\">\n",
       "      <th></th>\n",
       "      <th>review</th>\n",
       "      <th>star</th>\n",
       "    </tr>\n",
       "  </thead>\n",
       "  <tbody>\n",
       "    <tr>\n",
       "      <th>26</th>\n",
       "      <td>kuliatas ok, pengiriman cepat respon penjual 100%</td>\n",
       "      <td>5</td>\n",
       "    </tr>\n",
       "    <tr>\n",
       "      <th>60</th>\n",
       "      <td>si kecil cabe rawit, first impression pas di s...</td>\n",
       "      <td>5</td>\n",
       "    </tr>\n",
       "    <tr>\n",
       "      <th>67</th>\n",
       "      <td>alhamdulillah paketnya sampe dgn selamat,  coc...</td>\n",
       "      <td>5</td>\n",
       "    </tr>\n",
       "    <tr>\n",
       "      <th>69</th>\n",
       "      <td>order ke 2x nya karena sebagus itu hydra boost...</td>\n",
       "      <td>5</td>\n",
       "    </tr>\n",
       "    <tr>\n",
       "      <th>73</th>\n",
       "      <td>udah order beerrr kali2. segar, bisa dipakai k...</td>\n",
       "      <td>5</td>\n",
       "    </tr>\n",
       "    <tr>\n",
       "      <th>...</th>\n",
       "      <td>...</td>\n",
       "      <td>...</td>\n",
       "    </tr>\n",
       "    <tr>\n",
       "      <th>3961</th>\n",
       "      <td>sdh sampai, barang berfungsi dengan baik, hany...</td>\n",
       "      <td>5</td>\n",
       "    </tr>\n",
       "    <tr>\n",
       "      <th>3967</th>\n",
       "      <td>tolong sering-sering kasih diskon yaaaaaa kao....</td>\n",
       "      <td>5</td>\n",
       "    </tr>\n",
       "    <tr>\n",
       "      <th>3976</th>\n",
       "      <td>meh meh meh, toko paling jarang diskon\\nsekali...</td>\n",
       "      <td>5</td>\n",
       "    </tr>\n",
       "    <tr>\n",
       "      <th>4007</th>\n",
       "      <td>barang saya belum sampai sampai saat ini \\nsdh...</td>\n",
       "      <td>1</td>\n",
       "    </tr>\n",
       "    <tr>\n",
       "      <th>4022</th>\n",
       "      <td>bagus sekali pengiriman cepat. dapet gift juga...</td>\n",
       "      <td>5</td>\n",
       "    </tr>\n",
       "  </tbody>\n",
       "</table>\n",
       "<p>427 rows × 2 columns</p>\n",
       "</div>"
      ]
     },
     "execution_count": 59,
     "metadata": {},
     "output_type": "execute_result"
    }
   ],
   "execution_count": 59
  },
  {
   "metadata": {
    "ExecuteTime": {
     "end_time": "2025-05-16T13:34:11.435004Z",
     "start_time": "2025-05-16T13:34:11.319860Z"
    }
   },
   "cell_type": "code",
   "source": [
    "import re\n",
    "\n",
    "\n",
    "def preprocess_numbers(x):\n",
    "    # Pattern 1: Price expressions - convert to [PRICE] token\n",
    "    price_pattern = r\"\\b\\d+(?:[,.]\\d+)*(?:rb|ribu|k|jt|juta|m|million)\\b\"\n",
    "    x = re.sub(price_pattern, \"[PRICE]\", x)\n",
    "\n",
    "    # Pattern 2: Simple math expressions - remove these\n",
    "    math_pattern = r\"\\b\\d+[\\+\\-\\*\\/]\\d+\\b\"\n",
    "    x = re.sub(math_pattern, \"\", x)\n",
    "    \n",
    "    # Pattern 3: Split number prefix from words (e.g., 2hari -> 2 hari)\n",
    "    word_prefix_pattern = r\"(\\d+)(\\w+)\"\n",
    "    x = re.sub(word_prefix_pattern, r\"\\1 \\2\", x)\n",
    "\n",
    "    # Pattern 4: Remove repeated words (e.g., masing2 -> masing-masing)\n",
    "    repeated_word_pattern = r\"(\\w+)2\\b\"\n",
    "    x = re.sub(repeated_word_pattern, r\"\\1-\\1\", x)\n",
    "\n",
    "    # Pattern 5: Remove standalone numbers that aren't part of important expressions (time and/or quantity)\n",
    "    # This should run last to avoid interfering with other patterns\n",
    "    standalone_num_pattern = r\"\\b\\d+\\b(?!\\s+(?:tahun|thn|bulan|bln|hari|hr|minggu|mgg|jam|jm|menit|mnt|detik|dtk|pcs|kantong|kantng|bungkus|box|paket|biji|buah))\"\n",
    "    x = re.sub(standalone_num_pattern, \"\", x)\n",
    "    \n",
    "    return x.strip()\n",
    "\n",
    "\n",
    "clean_df.review = clean_df.review.map(preprocess_numbers)\n"
   ],
   "id": "923ef9162e5fa3c1",
   "outputs": [],
   "execution_count": 63
  },
  {
   "metadata": {
    "ExecuteTime": {
     "end_time": "2025-05-16T13:34:14.027676Z",
     "start_time": "2025-05-16T13:34:14.004142Z"
    }
   },
   "cell_type": "code",
   "source": "clean_df[clean_df.review.str.contains(r'\\d')]",
   "id": "ee131f138e645e24",
   "outputs": [
    {
     "data": {
      "text/plain": [
       "                                                 review  star\n",
       "387   minyak wangi paling favorit laahhh, harganya m...     5\n",
       "1677  👍👍👍👍👍👍👍👍👍👍👍\\n1 hari uda nyampek dan aman,,karn...     5\n",
       "2742                                semoga awet 5 tahun     5\n",
       "3222  buku nya tebel banget semoga bisa menambah ilm...     5"
      ],
      "text/html": [
       "<div>\n",
       "<style scoped>\n",
       "    .dataframe tbody tr th:only-of-type {\n",
       "        vertical-align: middle;\n",
       "    }\n",
       "\n",
       "    .dataframe tbody tr th {\n",
       "        vertical-align: top;\n",
       "    }\n",
       "\n",
       "    .dataframe thead th {\n",
       "        text-align: right;\n",
       "    }\n",
       "</style>\n",
       "<table border=\"1\" class=\"dataframe\">\n",
       "  <thead>\n",
       "    <tr style=\"text-align: right;\">\n",
       "      <th></th>\n",
       "      <th>review</th>\n",
       "      <th>star</th>\n",
       "    </tr>\n",
       "  </thead>\n",
       "  <tbody>\n",
       "    <tr>\n",
       "      <th>387</th>\n",
       "      <td>minyak wangi paling favorit laahhh, harganya m...</td>\n",
       "      <td>5</td>\n",
       "    </tr>\n",
       "    <tr>\n",
       "      <th>1677</th>\n",
       "      <td>👍👍👍👍👍👍👍👍👍👍👍\\n1 hari uda nyampek dan aman,,karn...</td>\n",
       "      <td>5</td>\n",
       "    </tr>\n",
       "    <tr>\n",
       "      <th>2742</th>\n",
       "      <td>semoga awet 5 tahun</td>\n",
       "      <td>5</td>\n",
       "    </tr>\n",
       "    <tr>\n",
       "      <th>3222</th>\n",
       "      <td>buku nya tebel banget semoga bisa menambah ilm...</td>\n",
       "      <td>5</td>\n",
       "    </tr>\n",
       "  </tbody>\n",
       "</table>\n",
       "</div>"
      ]
     },
     "execution_count": 64,
     "metadata": {},
     "output_type": "execute_result"
    }
   ],
   "execution_count": 64
  },
  {
   "metadata": {},
   "cell_type": "markdown",
   "source": "#### Punctuation",
   "id": "e3cc476f96a6e6ea"
  },
  {
   "metadata": {
    "ExecuteTime": {
     "end_time": "2025-05-16T13:38:28.920284Z",
     "start_time": "2025-05-16T13:38:28.826361Z"
    }
   },
   "cell_type": "code",
   "source": [
    "import string\n",
    "\n",
    "\n",
    "def remove_punctuation(x):\n",
    "    punctuations = set(string.punctuation)\n",
    "    cleaned_text = ''.join(char for char in x if char not in punctuations)\n",
    "    return cleaned_text\n",
    "\n",
    "clean_df.review.map(remove_punctuation)"
   ],
   "id": "80caac7c7d1a672a",
   "outputs": [
    {
     "data": {
      "text/plain": [
       "0       barang yg dibeli sesuai  pengiriman cepat dan ...\n",
       "1           barang original packing sangat aman great job\n",
       "2       pengiriman sangat cepat pesan hari ini  besok ...\n",
       "3       ini rekomen banget yg beli ga bakal nyesel ga ...\n",
       "4       so cute ukurannya pas sendalnya ringan dan nya...\n",
       "                              ...                        \n",
       "4028                   mantuuulllllmulussssssemoga awettt\n",
       "4029                       kulitas bagus pengiriman cepat\n",
       "4030                                             the best\n",
       "4032    bbbaaarrraaaaaannnnnggggggggggg bbbbaaaaaggggu...\n",
       "4033    terimakasih brg datang tepat waktu dan trmksh ...\n",
       "Name: review, Length: 3579, dtype: object"
      ]
     },
     "execution_count": 66,
     "metadata": {},
     "output_type": "execute_result"
    }
   ],
   "execution_count": 66
  },
  {
   "metadata": {
    "ExecuteTime": {
     "end_time": "2025-05-16T13:39:56.559027Z",
     "start_time": "2025-05-16T13:39:56.496784Z"
    }
   },
   "cell_type": "code",
   "source": "clean_df.review = clean_df.review.map(remove_punctuation)",
   "id": "5dcb06323f98f0b0",
   "outputs": [],
   "execution_count": 67
  },
  {
   "metadata": {},
   "cell_type": "markdown",
   "source": "#### Whitespaces",
   "id": "4d15bef629a6cf22"
  },
  {
   "metadata": {
    "ExecuteTime": {
     "end_time": "2025-05-16T13:42:26.424666Z",
     "start_time": "2025-05-16T13:42:26.384955Z"
    }
   },
   "cell_type": "code",
   "source": [
    "def remove_whitespaces(x):\n",
    "    return re.sub(r\"\\s+\", \" \", x).strip()\n",
    "\n",
    "clean_df.review.map(remove_whitespaces)"
   ],
   "id": "3299a12464bd749a",
   "outputs": [
    {
     "data": {
      "text/plain": [
       "0       barang yg dibeli sesuai pengiriman cepat dan h...\n",
       "1           barang original packing sangat aman great job\n",
       "2       pengiriman sangat cepat pesan hari ini besok s...\n",
       "3       ini rekomen banget yg beli ga bakal nyesel ga ...\n",
       "4       so cute ukurannya pas sendalnya ringan dan nya...\n",
       "                              ...                        \n",
       "4028                   mantuuulllllmulussssssemoga awettt\n",
       "4029                       kulitas bagus pengiriman cepat\n",
       "4030                                             the best\n",
       "4032    bbbaaarrraaaaaannnnnggggggggggg bbbbaaaaaggggu...\n",
       "4033    terimakasih brg datang tepat waktu dan trmksh ...\n",
       "Name: review, Length: 3579, dtype: object"
      ]
     },
     "execution_count": 70,
     "metadata": {},
     "output_type": "execute_result"
    }
   ],
   "execution_count": 70
  },
  {
   "metadata": {
    "ExecuteTime": {
     "end_time": "2025-05-16T14:02:33.798701Z",
     "start_time": "2025-05-16T14:02:33.752400Z"
    }
   },
   "cell_type": "code",
   "source": "clean_df.review = clean_df.review.map(remove_whitespaces)",
   "id": "4ec5b8533292785d",
   "outputs": [],
   "execution_count": 71
  },
  {
   "metadata": {},
   "cell_type": "markdown",
   "source": [
    "#### Emoji\n",
    "\n",
    "Emoji is not directly removed as it might helpful for the sentiment. For example love emoji (❤️‍) shows a positive sentiment.\n",
    "\n",
    "The preprocessing that's needed for emoji is to split any emoji that stick to a word and repeatedly typed or combination of emoji. This will be helpful for tokenization process later."
   ],
   "id": "53e0e0b94bd9fec2"
  },
  {
   "metadata": {
    "ExecuteTime": {
     "end_time": "2025-05-16T14:17:40.106989Z",
     "start_time": "2025-05-16T14:17:39.139916Z"
    }
   },
   "cell_type": "code",
   "source": [
    "import re\n",
    "import emoji\n",
    "\n",
    "def preprocess_emojis(x):\n",
    "    # identify emoji positions\n",
    "    emoji_positions = []\n",
    "    for match in emoji.emoji_list(x):\n",
    "        start, end = match['match_start'], match['match_end']\n",
    "        emoji_positions.append((start, end))\n",
    "    \n",
    "    # Process the string from end to beginning (to avoid position shifts)\n",
    "    emoji_positions.sort(reverse=True)\n",
    "\n",
    "    char_list = list(x)\n",
    "    for start, end in emoji_positions:\n",
    "        # if preceded by word character\n",
    "        if start > 0 and char_list[start-1].isalnum():\n",
    "            char_list.insert(start, ' ')\n",
    "        \n",
    "        # if followed by word character\n",
    "        if end < len(char_list) and end < len(x) and char_list[end].isalnum():\n",
    "            char_list.insert(end, ' ')\n",
    "    \n",
    "    return ''.join(char_list)\n",
    "\n",
    "\n",
    "clean_df.review.map(preprocess_emojis)"
   ],
   "id": "72fa0b26ef5e93ea",
   "outputs": [
    {
     "data": {
      "text/plain": [
       "0       barang yg dibeli sesuai pengiriman cepat dan h...\n",
       "1           barang original packing sangat aman great job\n",
       "2       pengiriman sangat cepat pesan hari ini besok s...\n",
       "3       ini rekomen banget yg beli ga bakal nyesel ga ...\n",
       "4       so cute ukurannya pas sendalnya ringan dan nya...\n",
       "                              ...                        \n",
       "4028                   mantuuulllllmulussssssemoga awettt\n",
       "4029                       kulitas bagus pengiriman cepat\n",
       "4030                                             the best\n",
       "4032    bbbaaarrraaaaaannnnnggggggggggg bbbbaaaaaggggu...\n",
       "4033    terimakasih brg datang tepat waktu dan trmksh ...\n",
       "Name: review, Length: 3579, dtype: object"
      ]
     },
     "execution_count": 74,
     "metadata": {},
     "output_type": "execute_result"
    }
   ],
   "execution_count": 74
  },
  {
   "metadata": {},
   "cell_type": "markdown",
   "source": "### Stopword Removal",
   "id": "440919e8161f0b4e"
  },
  {
   "metadata": {
    "ExecuteTime": {
     "end_time": "2025-05-16T14:35:09.012868Z",
     "start_time": "2025-05-16T14:35:06.427629Z"
    }
   },
   "cell_type": "code",
   "source": [
    "import nltk\n",
    "nltk.download('punkt_tab')"
   ],
   "id": "6a7006f76960808d",
   "outputs": [
    {
     "name": "stderr",
     "output_type": "stream",
     "text": [
      "[nltk_data] Downloading package punkt_tab to\n",
      "[nltk_data]     C:\\Users\\vsefa\\AppData\\Roaming\\nltk_data...\n",
      "[nltk_data]   Unzipping tokenizers\\punkt_tab.zip.\n"
     ]
    },
    {
     "data": {
      "text/plain": [
       "True"
      ]
     },
     "execution_count": 79,
     "metadata": {},
     "output_type": "execute_result"
    }
   ],
   "execution_count": 79
  },
  {
   "metadata": {
    "ExecuteTime": {
     "end_time": "2025-05-16T14:33:46.295294Z",
     "start_time": "2025-05-16T14:33:46.290468Z"
    }
   },
   "cell_type": "code",
   "source": [
    "from Sastrawi.StopWordRemover.StopWordRemoverFactory import StopWordRemoverFactory\n",
    "from nltk.tokenize import word_tokenize\n",
    "\n",
    "factory = StopWordRemoverFactory()\n",
    "stopwords = factory.get_stop_words()"
   ],
   "id": "c32c159a8800566c",
   "outputs": [],
   "execution_count": 77
  },
  {
   "metadata": {
    "ExecuteTime": {
     "end_time": "2025-05-16T14:35:16.158193Z",
     "start_time": "2025-05-16T14:35:15.516468Z"
    }
   },
   "cell_type": "code",
   "source": [
    "def remove_stopwords(x):\n",
    "    word_token = word_tokenize(x)\n",
    "    important_words = [word for word in word_token if word.lower() not in stopwords]\n",
    "    return ' '.join(important_words)\n",
    "\n",
    "clean_df.review.map(remove_stopwords)"
   ],
   "id": "6eaaadb7bf40a639",
   "outputs": [
    {
     "data": {
      "text/plain": [
       "0       barang yg dibeli sesuai pengiriman cepat harga...\n",
       "1           barang original packing sangat aman great job\n",
       "2       pengiriman sangat cepat pesan hari besok great...\n",
       "3       rekomen banget yg beli ga bakal nyesel ga nyan...\n",
       "4       so cute ukurannya pas sendalnya ringan nyaman ...\n",
       "                              ...                        \n",
       "4028                   mantuuulllllmulussssssemoga awettt\n",
       "4029                       kulitas bagus pengiriman cepat\n",
       "4030                                             the best\n",
       "4032    bbbaaarrraaaaaannnnnggggggggggg bbbbaaaaaggggu...\n",
       "4033    terimakasih brg datang tepat waktu trmksh atas...\n",
       "Name: review, Length: 3579, dtype: object"
      ]
     },
     "execution_count": 80,
     "metadata": {},
     "output_type": "execute_result"
    }
   ],
   "execution_count": 80
  },
  {
   "metadata": {
    "ExecuteTime": {
     "end_time": "2025-05-16T14:38:12.416652Z",
     "start_time": "2025-05-16T14:38:10.215971Z"
    }
   },
   "cell_type": "code",
   "source": "clean_df.review = clean_df.review.map(remove_stopwords)",
   "id": "1008e7dbbcae6ade",
   "outputs": [],
   "execution_count": 82
  },
  {
   "metadata": {},
   "cell_type": "markdown",
   "source": "### Stemming",
   "id": "8e7863a0caeb95ae"
  },
  {
   "metadata": {
    "ExecuteTime": {
     "end_time": "2025-05-16T14:37:29.385827Z",
     "start_time": "2025-05-16T14:37:29.224909Z"
    }
   },
   "cell_type": "code",
   "source": [
    "from Sastrawi.Stemmer.StemmerFactory import StemmerFactory\n",
    "\n",
    "factory = StemmerFactory()\n",
    "stemmer = factory.create_stemmer()"
   ],
   "id": "b07dea83f544c258",
   "outputs": [],
   "execution_count": 81
  },
  {
   "metadata": {},
   "cell_type": "markdown",
   "source": "Stemming with Sastrawi is quiet slow. A parallel operation is needed for applying stemming for each row. We use `swifter` for this job.",
   "id": "c81d0ce3c464a646"
  },
  {
   "metadata": {
    "ExecuteTime": {
     "end_time": "2025-05-16T14:46:05.732094Z",
     "start_time": "2025-05-16T14:46:02.765179Z"
    }
   },
   "cell_type": "code",
   "source": "import swifter",
   "id": "8c9d43fd5c30c725",
   "outputs": [],
   "execution_count": 84
  },
  {
   "metadata": {
    "ExecuteTime": {
     "end_time": "2025-05-16T14:58:26.587252Z",
     "start_time": "2025-05-16T14:58:26.579907Z"
    }
   },
   "cell_type": "code",
   "source": [
    "clean_df.swifter.allow_dask_on_strings(enable=True)\n",
    "clean_df.swifter.force_parallel(enable=True)\n"
   ],
   "id": "b1af530e4b04ad99",
   "outputs": [
    {
     "data": {
      "text/plain": [
       "<swifter.swifter.DataFrameAccessor at 0x1d00ee1e7b0>"
      ]
     },
     "execution_count": 91,
     "metadata": {},
     "output_type": "execute_result"
    }
   ],
   "execution_count": 91
  },
  {
   "metadata": {
    "ExecuteTime": {
     "end_time": "2025-05-16T15:03:10.168910Z",
     "start_time": "2025-05-16T14:58:33.799271Z"
    }
   },
   "cell_type": "code",
   "source": "clean_df.review = clean_df.review.swifter.apply(lambda x: stemmer.stem(x))",
   "id": "eaf759c5237ffcf5",
   "outputs": [
    {
     "data": {
      "text/plain": [
       "Pandas Apply:   0%|          | 0/3579 [00:00<?, ?it/s]"
      ],
      "application/vnd.jupyter.widget-view+json": {
       "version_major": 2,
       "version_minor": 0,
       "model_id": "cdd0152026b14a9492b58478e569d55b"
      }
     },
     "metadata": {},
     "output_type": "display_data"
    }
   ],
   "execution_count": 92
  },
  {
   "metadata": {
    "ExecuteTime": {
     "end_time": "2025-05-16T15:03:10.273327Z",
     "start_time": "2025-05-16T15:03:10.242248Z"
    }
   },
   "cell_type": "code",
   "source": "clean_df.review",
   "id": "b20078b1e4ed31fe",
   "outputs": [
    {
     "data": {
      "text/plain": [
       "0       barang yg beli sesuai kirim cepat harga masuk ...\n",
       "1           barang original packing sangat aman great job\n",
       "2           kirim sangat cepat pesan hari besok great jpb\n",
       "3       rekomen banget yg beli ga bakal nyesel ga nyan...\n",
       "4             so cute ukur pas sendal ringan nyaman pakai\n",
       "                              ...                        \n",
       "4028                   mantuuulllllmulussssssemoga awettt\n",
       "4029                            kulitas bagus kirim cepat\n",
       "4030                                             the best\n",
       "4032    bbbaaarrraaaaaannnnnggggggggggg bbbbaaaaaggggu...\n",
       "4033    terimakasih brg datang tepat waktu trmksh atas...\n",
       "Name: review, Length: 3579, dtype: object"
      ]
     },
     "execution_count": 93,
     "metadata": {},
     "output_type": "execute_result"
    }
   ],
   "execution_count": 93
  },
  {
   "metadata": {},
   "cell_type": "markdown",
   "source": "## Feature Extraction",
   "id": "a0edc0308fc3136"
  },
  {
   "metadata": {},
   "cell_type": "code",
   "outputs": [],
   "execution_count": null,
   "source": "",
   "id": "15fd687bf8dfb9d8"
  }
 ],
 "metadata": {
  "kernelspec": {
   "display_name": "Python 3",
   "language": "python",
   "name": "python3"
  },
  "language_info": {
   "codemirror_mode": {
    "name": "ipython",
    "version": 2
   },
   "file_extension": ".py",
   "mimetype": "text/x-python",
   "name": "python",
   "nbconvert_exporter": "python",
   "pygments_lexer": "ipython2",
   "version": "2.7.6"
  }
 },
 "nbformat": 4,
 "nbformat_minor": 5
}
