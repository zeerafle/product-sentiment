{
 "cells": [
  {
   "cell_type": "markdown",
   "id": "703d27e6b6b2d4ce",
   "metadata": {},
   "source": [
    "# Tokopedia Product Sentiment"
   ]
  },
  {
   "cell_type": "code",
   "execution_count": 1,
   "id": "5fb4777c",
   "metadata": {
    "ExecuteTime": {
     "end_time": "2025-05-17T10:27:09.331277Z",
     "start_time": "2025-05-17T10:27:09.327050Z"
    }
   },
   "outputs": [],
   "source": [
    "from tqdm.notebook import tqdm\n",
    "\n",
    "tqdm.pandas()"
   ]
  },
  {
   "cell_type": "markdown",
   "id": "fbdbc9b5e26de2ff",
   "metadata": {},
   "source": [
    "## Data Loading"
   ]
  },
  {
   "cell_type": "code",
   "execution_count": 2,
   "id": "initial_id",
   "metadata": {
    "ExecuteTime": {
     "end_time": "2025-05-17T10:27:10.339375Z",
     "start_time": "2025-05-17T10:27:10.287822Z"
    },
    "collapsed": true
   },
   "outputs": [
    {
     "data": {
      "text/html": [
       "<div>\n",
       "<style scoped>\n",
       "    .dataframe tbody tr th:only-of-type {\n",
       "        vertical-align: middle;\n",
       "    }\n",
       "\n",
       "    .dataframe tbody tr th {\n",
       "        vertical-align: top;\n",
       "    }\n",
       "\n",
       "    .dataframe thead th {\n",
       "        text-align: right;\n",
       "    }\n",
       "</style>\n",
       "<table border=\"1\" class=\"dataframe\">\n",
       "  <thead>\n",
       "    <tr style=\"text-align: right;\">\n",
       "      <th></th>\n",
       "      <th>product_id</th>\n",
       "      <th>product_url</th>\n",
       "      <th>shop_id</th>\n",
       "      <th>shop_name</th>\n",
       "      <th>shop_url</th>\n",
       "      <th>review_id</th>\n",
       "      <th>star</th>\n",
       "      <th>review</th>\n",
       "      <th>source</th>\n",
       "      <th>variant_name</th>\n",
       "      <th>is_anonymous</th>\n",
       "    </tr>\n",
       "  </thead>\n",
       "  <tbody>\n",
       "    <tr>\n",
       "      <th>0</th>\n",
       "      <td></td>\n",
       "      <td>https://www.tokopedia.com/merriesofficial/flas...</td>\n",
       "      <td></td>\n",
       "      <td>None</td>\n",
       "      <td>https://www.tokopedia.com/merriesofficial</td>\n",
       "      <td></td>\n",
       "      <td>5</td>\n",
       "      <td>Barang yg dibeli sesuai , pengiriman cepat dan...</td>\n",
       "      <td>html</td>\n",
       "      <td></td>\n",
       "      <td></td>\n",
       "    </tr>\n",
       "    <tr>\n",
       "      <th>1</th>\n",
       "      <td></td>\n",
       "      <td>https://www.tokopedia.com/merriesofficial/flas...</td>\n",
       "      <td></td>\n",
       "      <td>None</td>\n",
       "      <td>https://www.tokopedia.com/merriesofficial</td>\n",
       "      <td></td>\n",
       "      <td>5</td>\n",
       "      <td>Barang Original!!! Packing sangat aman... Grea...</td>\n",
       "      <td>html</td>\n",
       "      <td></td>\n",
       "      <td></td>\n",
       "    </tr>\n",
       "    <tr>\n",
       "      <th>2</th>\n",
       "      <td></td>\n",
       "      <td>https://www.tokopedia.com/merriesofficial/flas...</td>\n",
       "      <td></td>\n",
       "      <td>None</td>\n",
       "      <td>https://www.tokopedia.com/merriesofficial</td>\n",
       "      <td></td>\n",
       "      <td>5</td>\n",
       "      <td>Pengiriman sangat cepat!!! pesan hari ini  bes...</td>\n",
       "      <td>html</td>\n",
       "      <td></td>\n",
       "      <td></td>\n",
       "    </tr>\n",
       "    <tr>\n",
       "      <th>3</th>\n",
       "      <td>8536883143</td>\n",
       "      <td>https://www.tokopedia.com/winodofficialshop/wi...</td>\n",
       "      <td>11061624</td>\n",
       "      <td>winod</td>\n",
       "      <td>https://www.tokopedia.com/winodofficialshop</td>\n",
       "      <td>914575864</td>\n",
       "      <td>5</td>\n",
       "      <td>ini rekomen banget.. yg beli ga bakal nyesel.....</td>\n",
       "      <td>api</td>\n",
       "      <td>Black - 37</td>\n",
       "      <td>False</td>\n",
       "    </tr>\n",
       "    <tr>\n",
       "      <th>4</th>\n",
       "      <td>8536883143</td>\n",
       "      <td>https://www.tokopedia.com/winodofficialshop/wi...</td>\n",
       "      <td>11061624</td>\n",
       "      <td>winod</td>\n",
       "      <td>https://www.tokopedia.com/winodofficialshop</td>\n",
       "      <td>1243605012</td>\n",
       "      <td>5</td>\n",
       "      <td>so cute, ukurannya pas, sendalnya ringan dan n...</td>\n",
       "      <td>api</td>\n",
       "      <td>Ivory - 38</td>\n",
       "      <td>True</td>\n",
       "    </tr>\n",
       "  </tbody>\n",
       "</table>\n",
       "</div>"
      ],
      "text/plain": [
       "   product_id                                        product_url   shop_id  \\\n",
       "0              https://www.tokopedia.com/merriesofficial/flas...             \n",
       "1              https://www.tokopedia.com/merriesofficial/flas...             \n",
       "2              https://www.tokopedia.com/merriesofficial/flas...             \n",
       "3  8536883143  https://www.tokopedia.com/winodofficialshop/wi...  11061624   \n",
       "4  8536883143  https://www.tokopedia.com/winodofficialshop/wi...  11061624   \n",
       "\n",
       "  shop_name                                     shop_url   review_id  star  \\\n",
       "0      None    https://www.tokopedia.com/merriesofficial                 5   \n",
       "1      None    https://www.tokopedia.com/merriesofficial                 5   \n",
       "2      None    https://www.tokopedia.com/merriesofficial                 5   \n",
       "3     winod  https://www.tokopedia.com/winodofficialshop   914575864     5   \n",
       "4     winod  https://www.tokopedia.com/winodofficialshop  1243605012     5   \n",
       "\n",
       "                                              review source variant_name  \\\n",
       "0  Barang yg dibeli sesuai , pengiriman cepat dan...   html                \n",
       "1  Barang Original!!! Packing sangat aman... Grea...   html                \n",
       "2  Pengiriman sangat cepat!!! pesan hari ini  bes...   html                \n",
       "3  ini rekomen banget.. yg beli ga bakal nyesel.....    api   Black - 37   \n",
       "4  so cute, ukurannya pas, sendalnya ringan dan n...    api   Ivory - 38   \n",
       "\n",
       "  is_anonymous  \n",
       "0               \n",
       "1               \n",
       "2               \n",
       "3        False  \n",
       "4         True  "
      ]
     },
     "execution_count": 2,
     "metadata": {},
     "output_type": "execute_result"
    }
   ],
   "source": [
    "import pandas as pd\n",
    "\n",
    "df = pd.read_json(path_or_buf='data/reviews.jsonl', lines=True)\n",
    "df.head()"
   ]
  },
  {
   "cell_type": "code",
   "execution_count": 3,
   "id": "1ba68f31e7cd4d58",
   "metadata": {
    "ExecuteTime": {
     "end_time": "2025-05-17T10:27:10.941218Z",
     "start_time": "2025-05-17T10:27:10.932577Z"
    }
   },
   "outputs": [
    {
     "data": {
      "text/plain": [
       "star\n",
       "5    3626\n",
       "4     215\n",
       "3      88\n",
       "1      71\n",
       "2      34\n",
       "Name: count, dtype: int64"
      ]
     },
     "execution_count": 3,
     "metadata": {},
     "output_type": "execute_result"
    }
   ],
   "source": [
    "df.star.value_counts()"
   ]
  },
  {
   "cell_type": "markdown",
   "id": "da998e4d75fcbf20",
   "metadata": {},
   "source": [
    "## Assessing Data"
   ]
  },
  {
   "cell_type": "code",
   "execution_count": 4,
   "id": "eea93f35e2ad58c",
   "metadata": {
    "ExecuteTime": {
     "end_time": "2025-05-17T10:27:12.048198Z",
     "start_time": "2025-05-17T10:27:12.037961Z"
    }
   },
   "outputs": [
    {
     "data": {
      "text/plain": [
       "review    123\n",
       "star        0\n",
       "dtype: int64"
      ]
     },
     "execution_count": 4,
     "metadata": {},
     "output_type": "execute_result"
    }
   ],
   "source": [
    "df[['review', 'star']].isna().sum()"
   ]
  },
  {
   "cell_type": "code",
   "execution_count": 5,
   "id": "de13af0536897942",
   "metadata": {
    "ExecuteTime": {
     "end_time": "2025-05-17T10:27:12.568923Z",
     "start_time": "2025-05-17T10:27:12.554994Z"
    }
   },
   "outputs": [
    {
     "data": {
      "text/html": [
       "<div>\n",
       "<style scoped>\n",
       "    .dataframe tbody tr th:only-of-type {\n",
       "        vertical-align: middle;\n",
       "    }\n",
       "\n",
       "    .dataframe tbody tr th {\n",
       "        vertical-align: top;\n",
       "    }\n",
       "\n",
       "    .dataframe thead th {\n",
       "        text-align: right;\n",
       "    }\n",
       "</style>\n",
       "<table border=\"1\" class=\"dataframe\">\n",
       "  <thead>\n",
       "    <tr style=\"text-align: right;\">\n",
       "      <th></th>\n",
       "      <th>review</th>\n",
       "      <th>star</th>\n",
       "    </tr>\n",
       "  </thead>\n",
       "  <tbody>\n",
       "    <tr>\n",
       "      <th>0</th>\n",
       "      <td>Barang yg dibeli sesuai , pengiriman cepat dan...</td>\n",
       "      <td>5</td>\n",
       "    </tr>\n",
       "    <tr>\n",
       "      <th>1</th>\n",
       "      <td>Barang Original!!! Packing sangat aman... Grea...</td>\n",
       "      <td>5</td>\n",
       "    </tr>\n",
       "    <tr>\n",
       "      <th>2</th>\n",
       "      <td>Pengiriman sangat cepat!!! pesan hari ini  bes...</td>\n",
       "      <td>5</td>\n",
       "    </tr>\n",
       "    <tr>\n",
       "      <th>3</th>\n",
       "      <td>ini rekomen banget.. yg beli ga bakal nyesel.....</td>\n",
       "      <td>5</td>\n",
       "    </tr>\n",
       "    <tr>\n",
       "      <th>4</th>\n",
       "      <td>so cute, ukurannya pas, sendalnya ringan dan n...</td>\n",
       "      <td>5</td>\n",
       "    </tr>\n",
       "  </tbody>\n",
       "</table>\n",
       "</div>"
      ],
      "text/plain": [
       "                                              review  star\n",
       "0  Barang yg dibeli sesuai , pengiriman cepat dan...     5\n",
       "1  Barang Original!!! Packing sangat aman... Grea...     5\n",
       "2  Pengiriman sangat cepat!!! pesan hari ini  bes...     5\n",
       "3  ini rekomen banget.. yg beli ga bakal nyesel.....     5\n",
       "4  so cute, ukurannya pas, sendalnya ringan dan n...     5"
      ]
     },
     "execution_count": 5,
     "metadata": {},
     "output_type": "execute_result"
    }
   ],
   "source": [
    "df.dropna(subset='review', inplace=True)\n",
    "df[['review', 'star']].head()"
   ]
  },
  {
   "cell_type": "code",
   "execution_count": 6,
   "id": "3d4710b351c32b21",
   "metadata": {
    "ExecuteTime": {
     "end_time": "2025-05-17T10:27:13.015317Z",
     "start_time": "2025-05-17T10:27:13.005068Z"
    }
   },
   "outputs": [
    {
     "data": {
      "text/plain": [
       "37                                           Good quality\n",
       "38                                Bagus sesuai ekspektasi\n",
       "40                                                   good\n",
       "49                                                 mantap\n",
       "50                                                 mantap\n",
       "                              ...                        \n",
       "4016    Mantap gan barangnya 👍🏻💯\\nSukses terus buatlap...\n",
       "4017    Mantap gan barangnya 👍🏻💯\\nSukses terus buatlap...\n",
       "4023               Kualitasnya bagus dan sesuai deskripsi\n",
       "4024               Kualitasnya bagus dan sesuai deskripsi\n",
       "4031                                       sesuai pesanan\n",
       "Name: review, Length: 524, dtype: object"
      ]
     },
     "execution_count": 6,
     "metadata": {},
     "output_type": "execute_result"
    }
   ],
   "source": [
    "df[df.duplicated(subset='review', keep=False)]['review']"
   ]
  },
  {
   "cell_type": "code",
   "execution_count": 7,
   "id": "1f45271e441b8f8f",
   "metadata": {
    "ExecuteTime": {
     "end_time": "2025-05-17T10:27:13.490490Z",
     "start_time": "2025-05-17T10:27:13.483114Z"
    }
   },
   "outputs": [],
   "source": [
    "df.drop_duplicates(subset='review', inplace=True)"
   ]
  },
  {
   "cell_type": "code",
   "execution_count": 8,
   "id": "b3d18e3061bd8d4b",
   "metadata": {
    "ExecuteTime": {
     "end_time": "2025-05-17T10:27:13.998944Z",
     "start_time": "2025-05-17T10:27:13.965818Z"
    }
   },
   "outputs": [
    {
     "data": {
      "text/plain": [
       "0"
      ]
     },
     "execution_count": 8,
     "metadata": {},
     "output_type": "execute_result"
    }
   ],
   "source": [
    "df.duplicated().sum()"
   ]
  },
  {
   "cell_type": "markdown",
   "id": "1ee8ac87d1b0ea20",
   "metadata": {},
   "source": [
    "## Text Preprocessing"
   ]
  },
  {
   "cell_type": "markdown",
   "id": "3f037156",
   "metadata": {},
   "source": [
    "Kita hanya tertarik pada kolom `review` dan `star`. Maka buang kolom lain."
   ]
  },
  {
   "cell_type": "code",
   "execution_count": 9,
   "id": "1df7b6a7351d3dcc",
   "metadata": {
    "ExecuteTime": {
     "end_time": "2025-05-17T10:27:15.743542Z",
     "start_time": "2025-05-17T10:27:15.738750Z"
    }
   },
   "outputs": [],
   "source": [
    "clean_df = df[['review', 'star']].copy()"
   ]
  },
  {
   "cell_type": "markdown",
   "id": "f1d30f8e0cd718bb",
   "metadata": {},
   "source": [
    "### Case Folding"
   ]
  },
  {
   "cell_type": "code",
   "execution_count": 10,
   "id": "cfd08eb1dd636bcc",
   "metadata": {
    "ExecuteTime": {
     "end_time": "2025-05-17T10:27:16.935745Z",
     "start_time": "2025-05-17T10:27:16.926058Z"
    }
   },
   "outputs": [
    {
     "data": {
      "text/html": [
       "<div>\n",
       "<style scoped>\n",
       "    .dataframe tbody tr th:only-of-type {\n",
       "        vertical-align: middle;\n",
       "    }\n",
       "\n",
       "    .dataframe tbody tr th {\n",
       "        vertical-align: top;\n",
       "    }\n",
       "\n",
       "    .dataframe thead th {\n",
       "        text-align: right;\n",
       "    }\n",
       "</style>\n",
       "<table border=\"1\" class=\"dataframe\">\n",
       "  <thead>\n",
       "    <tr style=\"text-align: right;\">\n",
       "      <th></th>\n",
       "      <th>review</th>\n",
       "      <th>star</th>\n",
       "    </tr>\n",
       "  </thead>\n",
       "  <tbody>\n",
       "    <tr>\n",
       "      <th>0</th>\n",
       "      <td>barang yg dibeli sesuai , pengiriman cepat dan...</td>\n",
       "      <td>5</td>\n",
       "    </tr>\n",
       "    <tr>\n",
       "      <th>1</th>\n",
       "      <td>barang original!!! packing sangat aman... grea...</td>\n",
       "      <td>5</td>\n",
       "    </tr>\n",
       "    <tr>\n",
       "      <th>2</th>\n",
       "      <td>pengiriman sangat cepat!!! pesan hari ini  bes...</td>\n",
       "      <td>5</td>\n",
       "    </tr>\n",
       "    <tr>\n",
       "      <th>3</th>\n",
       "      <td>ini rekomen banget.. yg beli ga bakal nyesel.....</td>\n",
       "      <td>5</td>\n",
       "    </tr>\n",
       "    <tr>\n",
       "      <th>4</th>\n",
       "      <td>so cute, ukurannya pas, sendalnya ringan dan n...</td>\n",
       "      <td>5</td>\n",
       "    </tr>\n",
       "  </tbody>\n",
       "</table>\n",
       "</div>"
      ],
      "text/plain": [
       "                                              review  star\n",
       "0  barang yg dibeli sesuai , pengiriman cepat dan...     5\n",
       "1  barang original!!! packing sangat aman... grea...     5\n",
       "2  pengiriman sangat cepat!!! pesan hari ini  bes...     5\n",
       "3  ini rekomen banget.. yg beli ga bakal nyesel.....     5\n",
       "4  so cute, ukurannya pas, sendalnya ringan dan n...     5"
      ]
     },
     "execution_count": 10,
     "metadata": {},
     "output_type": "execute_result"
    }
   ],
   "source": [
    "clean_df.review = clean_df.review.map(lambda x: x.lower())\n",
    "clean_df.head()"
   ]
  },
  {
   "cell_type": "markdown",
   "id": "28249a212bdc6e86",
   "metadata": {},
   "source": [
    "### Remove Special Characters"
   ]
  },
  {
   "cell_type": "markdown",
   "id": "7c5777b14b4e7ea5",
   "metadata": {},
   "source": [
    "#### Numbers"
   ]
  },
  {
   "cell_type": "code",
   "execution_count": 11,
   "id": "d385997c7e5e283a",
   "metadata": {
    "ExecuteTime": {
     "end_time": "2025-05-17T10:27:18.851801Z",
     "start_time": "2025-05-17T10:27:18.839185Z"
    }
   },
   "outputs": [
    {
     "data": {
      "text/html": [
       "<div>\n",
       "<style scoped>\n",
       "    .dataframe tbody tr th:only-of-type {\n",
       "        vertical-align: middle;\n",
       "    }\n",
       "\n",
       "    .dataframe tbody tr th {\n",
       "        vertical-align: top;\n",
       "    }\n",
       "\n",
       "    .dataframe thead th {\n",
       "        text-align: right;\n",
       "    }\n",
       "</style>\n",
       "<table border=\"1\" class=\"dataframe\">\n",
       "  <thead>\n",
       "    <tr style=\"text-align: right;\">\n",
       "      <th></th>\n",
       "      <th>review</th>\n",
       "      <th>star</th>\n",
       "    </tr>\n",
       "  </thead>\n",
       "  <tbody>\n",
       "    <tr>\n",
       "      <th>26</th>\n",
       "      <td>kuliatas ok, pengiriman cepat respon penjual 100%</td>\n",
       "      <td>5</td>\n",
       "    </tr>\n",
       "    <tr>\n",
       "      <th>60</th>\n",
       "      <td>si kecil cabe rawit, first impression pas di s...</td>\n",
       "      <td>5</td>\n",
       "    </tr>\n",
       "    <tr>\n",
       "      <th>67</th>\n",
       "      <td>alhamdulillah paketnya sampe dgn selamat,  coc...</td>\n",
       "      <td>5</td>\n",
       "    </tr>\n",
       "    <tr>\n",
       "      <th>69</th>\n",
       "      <td>order ke 2x nya karena sebagus itu hydra boost...</td>\n",
       "      <td>5</td>\n",
       "    </tr>\n",
       "    <tr>\n",
       "      <th>73</th>\n",
       "      <td>udah order beerrr kali2. segar, bisa dipakai k...</td>\n",
       "      <td>5</td>\n",
       "    </tr>\n",
       "    <tr>\n",
       "      <th>...</th>\n",
       "      <td>...</td>\n",
       "      <td>...</td>\n",
       "    </tr>\n",
       "    <tr>\n",
       "      <th>3961</th>\n",
       "      <td>sdh sampai, barang berfungsi dengan baik, hany...</td>\n",
       "      <td>5</td>\n",
       "    </tr>\n",
       "    <tr>\n",
       "      <th>3967</th>\n",
       "      <td>tolong sering-sering kasih diskon yaaaaaa kao....</td>\n",
       "      <td>5</td>\n",
       "    </tr>\n",
       "    <tr>\n",
       "      <th>3976</th>\n",
       "      <td>meh meh meh, toko paling jarang diskon\\nsekali...</td>\n",
       "      <td>5</td>\n",
       "    </tr>\n",
       "    <tr>\n",
       "      <th>4007</th>\n",
       "      <td>barang saya belum sampai sampai saat ini \\nsdh...</td>\n",
       "      <td>1</td>\n",
       "    </tr>\n",
       "    <tr>\n",
       "      <th>4022</th>\n",
       "      <td>bagus sekali pengiriman cepat. dapet gift juga...</td>\n",
       "      <td>5</td>\n",
       "    </tr>\n",
       "  </tbody>\n",
       "</table>\n",
       "<p>427 rows × 2 columns</p>\n",
       "</div>"
      ],
      "text/plain": [
       "                                                 review  star\n",
       "26    kuliatas ok, pengiriman cepat respon penjual 100%     5\n",
       "60    si kecil cabe rawit, first impression pas di s...     5\n",
       "67    alhamdulillah paketnya sampe dgn selamat,  coc...     5\n",
       "69    order ke 2x nya karena sebagus itu hydra boost...     5\n",
       "73    udah order beerrr kali2. segar, bisa dipakai k...     5\n",
       "...                                                 ...   ...\n",
       "3961  sdh sampai, barang berfungsi dengan baik, hany...     5\n",
       "3967  tolong sering-sering kasih diskon yaaaaaa kao....     5\n",
       "3976  meh meh meh, toko paling jarang diskon\\nsekali...     5\n",
       "4007  barang saya belum sampai sampai saat ini \\nsdh...     1\n",
       "4022  bagus sekali pengiriman cepat. dapet gift juga...     5\n",
       "\n",
       "[427 rows x 2 columns]"
      ]
     },
     "execution_count": 11,
     "metadata": {},
     "output_type": "execute_result"
    }
   ],
   "source": [
    "clean_df[clean_df.review.str.contains(r'\\d')]"
   ]
  },
  {
   "cell_type": "code",
   "execution_count": 12,
   "id": "923ef9162e5fa3c1",
   "metadata": {
    "ExecuteTime": {
     "end_time": "2025-05-17T10:27:19.399202Z",
     "start_time": "2025-05-17T10:27:19.331501Z"
    }
   },
   "outputs": [],
   "source": [
    "import re\n",
    "\n",
    "\n",
    "def preprocess_numbers(x):\n",
    "    # Pattern 1: Price expressions - convert to [PRICE] token\n",
    "    price_pattern = r\"\\b\\d+(?:[,.]\\d+)*(?:rb|ribu|k|jt|juta|m|million)\\b\"\n",
    "    x = re.sub(price_pattern, \"[PRICE]\", x)\n",
    "\n",
    "    # Pattern 2: Simple math expressions - remove these\n",
    "    math_pattern = r\"\\b\\d+[\\+\\-\\*\\/]\\d+\\b\"\n",
    "    x = re.sub(math_pattern, \"\", x)\n",
    "\n",
    "    # Pattern 3: Split number prefix from words (e.g., 2hari -> 2 hari)\n",
    "    word_prefix_pattern = r\"(\\d+)(\\w+)\"\n",
    "    x = re.sub(word_prefix_pattern, r\"\\1 \\2\", x)\n",
    "\n",
    "    # Pattern 4: Remove repeated words (e.g., masing2 -> masing-masing)\n",
    "    repeated_word_pattern = r\"(\\w+)2\\b\"\n",
    "    x = re.sub(repeated_word_pattern, r\"\\1-\\1\", x)\n",
    "\n",
    "    # Pattern 5: Remove standalone numbers that aren't part of important expressions (time and/or quantity)\n",
    "    # This should run last to avoid interfering with other patterns\n",
    "    standalone_num_pattern = r\"\\b\\d+\\b(?!\\s+(?:tahun|thn|bulan|bln|hari|hr|minggu|mgg|jam|jm|menit|mnt|detik|dtk|pcs|kantong|kantng|bungkus|box|paket|biji|buah))\"\n",
    "    x = re.sub(standalone_num_pattern, \"\", x)\n",
    "\n",
    "    return x.strip()\n",
    "\n",
    "\n",
    "clean_df.review = clean_df.review.map(preprocess_numbers)\n"
   ]
  },
  {
   "cell_type": "code",
   "execution_count": 13,
   "id": "ee131f138e645e24",
   "metadata": {
    "ExecuteTime": {
     "end_time": "2025-05-17T10:27:19.789601Z",
     "start_time": "2025-05-17T10:27:19.774436Z"
    }
   },
   "outputs": [
    {
     "data": {
      "text/html": [
       "<div>\n",
       "<style scoped>\n",
       "    .dataframe tbody tr th:only-of-type {\n",
       "        vertical-align: middle;\n",
       "    }\n",
       "\n",
       "    .dataframe tbody tr th {\n",
       "        vertical-align: top;\n",
       "    }\n",
       "\n",
       "    .dataframe thead th {\n",
       "        text-align: right;\n",
       "    }\n",
       "</style>\n",
       "<table border=\"1\" class=\"dataframe\">\n",
       "  <thead>\n",
       "    <tr style=\"text-align: right;\">\n",
       "      <th></th>\n",
       "      <th>review</th>\n",
       "      <th>star</th>\n",
       "    </tr>\n",
       "  </thead>\n",
       "  <tbody>\n",
       "    <tr>\n",
       "      <th>214</th>\n",
       "      <td>dikasih free 3 pcs masyaallah baik banget. pen...</td>\n",
       "      <td>5</td>\n",
       "    </tr>\n",
       "    <tr>\n",
       "      <th>228</th>\n",
       "      <td>sangat mengecewakan dan sangat tidak professio...</td>\n",
       "      <td>1</td>\n",
       "    </tr>\n",
       "    <tr>\n",
       "      <th>242</th>\n",
       "      <td>sdh diterima br periksa  lusin, cek semuanya p...</td>\n",
       "      <td>5</td>\n",
       "    </tr>\n",
       "    <tr>\n",
       "      <th>299</th>\n",
       "      <td>kurang 2 kantong, mohon di cek kembali pas pac...</td>\n",
       "      <td>4</td>\n",
       "    </tr>\n",
       "    <tr>\n",
       "      <th>387</th>\n",
       "      <td>minyak wangi paling favorit laahhh, harganya m...</td>\n",
       "      <td>5</td>\n",
       "    </tr>\n",
       "    <tr>\n",
       "      <th>...</th>\n",
       "      <td>...</td>\n",
       "      <td>...</td>\n",
       "    </tr>\n",
       "    <tr>\n",
       "      <th>3518</th>\n",
       "      <td>kualitas suara &amp; bluetooth bagus, tapi sayang ...</td>\n",
       "      <td>2</td>\n",
       "    </tr>\n",
       "    <tr>\n",
       "      <th>3525</th>\n",
       "      <td>tws lenovo thinkplus selalu jadi pilihan, oran...</td>\n",
       "      <td>5</td>\n",
       "    </tr>\n",
       "    <tr>\n",
       "      <th>3589</th>\n",
       "      <td>bintang  ini utk pengiriman ya, utk kualitas b...</td>\n",
       "      <td>4</td>\n",
       "    </tr>\n",
       "    <tr>\n",
       "      <th>3662</th>\n",
       "      <td>ternyata dikirim dari ace artha gading yg jara...</td>\n",
       "      <td>2</td>\n",
       "    </tr>\n",
       "    <tr>\n",
       "      <th>3884</th>\n",
       "      <td>mantap...\\ncepat banget pengirimannya...\\ncuma...</td>\n",
       "      <td>5</td>\n",
       "    </tr>\n",
       "  </tbody>\n",
       "</table>\n",
       "<p>70 rows × 2 columns</p>\n",
       "</div>"
      ],
      "text/plain": [
       "                                                 review  star\n",
       "214   dikasih free 3 pcs masyaallah baik banget. pen...     5\n",
       "228   sangat mengecewakan dan sangat tidak professio...     1\n",
       "242   sdh diterima br periksa  lusin, cek semuanya p...     5\n",
       "299   kurang 2 kantong, mohon di cek kembali pas pac...     4\n",
       "387   minyak wangi paling favorit laahhh, harganya m...     5\n",
       "...                                                 ...   ...\n",
       "3518  kualitas suara & bluetooth bagus, tapi sayang ...     2\n",
       "3525  tws lenovo thinkplus selalu jadi pilihan, oran...     5\n",
       "3589  bintang  ini utk pengiriman ya, utk kualitas b...     4\n",
       "3662  ternyata dikirim dari ace artha gading yg jara...     2\n",
       "3884  mantap...\\ncepat banget pengirimannya...\\ncuma...     5\n",
       "\n",
       "[70 rows x 2 columns]"
      ]
     },
     "execution_count": 13,
     "metadata": {},
     "output_type": "execute_result"
    }
   ],
   "source": [
    "clean_df[clean_df.review.str.contains(r'\\d')]"
   ]
  },
  {
   "cell_type": "markdown",
   "id": "e3cc476f96a6e6ea",
   "metadata": {},
   "source": [
    "#### Punctuation"
   ]
  },
  {
   "cell_type": "code",
   "execution_count": 14,
   "id": "80caac7c7d1a672a",
   "metadata": {
    "ExecuteTime": {
     "end_time": "2025-05-17T10:27:20.822207Z",
     "start_time": "2025-05-17T10:27:20.780937Z"
    }
   },
   "outputs": [
    {
     "data": {
      "text/plain": [
       "0       barang yg dibeli sesuai  pengiriman cepat dan ...\n",
       "1           barang original packing sangat aman great job\n",
       "2       pengiriman sangat cepat pesan hari ini  besok ...\n",
       "3       ini rekomen banget yg beli ga bakal nyesel ga ...\n",
       "4       so cute ukurannya pas sendalnya ringan dan nya...\n",
       "                              ...                        \n",
       "4028                   mantuuulllllmulussssssemoga awettt\n",
       "4029                       kulitas bagus pengiriman cepat\n",
       "4030                                             the best\n",
       "4032    bbbaaarrraaaaaannnnnggggggggggg bbbbaaaaaggggu...\n",
       "4033    terimakasih brg datang tepat waktu dan trmksh ...\n",
       "Name: review, Length: 3565, dtype: object"
      ]
     },
     "execution_count": 14,
     "metadata": {},
     "output_type": "execute_result"
    }
   ],
   "source": [
    "import string\n",
    "\n",
    "\n",
    "def remove_punctuation(x):\n",
    "    punctuations = set(string.punctuation)\n",
    "    cleaned_text = ''.join(char for char in x if char not in punctuations)\n",
    "    return cleaned_text\n",
    "\n",
    "clean_df.review.map(remove_punctuation)"
   ]
  },
  {
   "cell_type": "code",
   "execution_count": 15,
   "id": "e9452bddc91b8394",
   "metadata": {
    "ExecuteTime": {
     "end_time": "2025-05-17T10:27:21.353402Z",
     "start_time": "2025-05-17T10:27:21.316429Z"
    }
   },
   "outputs": [],
   "source": [
    "clean_df.review = clean_df.review.map(remove_punctuation)"
   ]
  },
  {
   "cell_type": "markdown",
   "id": "755890049d8b0737",
   "metadata": {},
   "source": [
    "#### Emoji\n",
    "\n",
    "Emoji is not directly removed as it might helpful for the sentiment. For example love emoji (❤️‍) shows a positive sentiment. Instead the emoji is turned to its description or name. So that embedding model can handle it like text."
   ]
  },
  {
   "cell_type": "code",
   "execution_count": 16,
   "id": "a9fc1486ef44cbd9",
   "metadata": {
    "ExecuteTime": {
     "end_time": "2025-05-17T10:27:24.634863Z",
     "start_time": "2025-05-17T10:27:24.279704Z"
    }
   },
   "outputs": [
    {
     "data": {
      "text/plain": [
       "0       barang yg dibeli sesuai  pengiriman cepat dan ...\n",
       "1           barang original packing sangat aman great job\n",
       "2       pengiriman sangat cepat pesan hari ini  besok ...\n",
       "3       ini rekomen banget yg beli ga bakal nyesel ga ...\n",
       "4       so cute ukurannya pas sendalnya ringan dan nya...\n",
       "                              ...                        \n",
       "4028                   mantuuulllllmulussssssemoga awettt\n",
       "4029                       kulitas bagus pengiriman cepat\n",
       "4030                                             the best\n",
       "4032    bbbaaarrraaaaaannnnnggggggggggg bbbbaaaaaggggu...\n",
       "4033    terimakasih brg datang tepat waktu dan trmksh ...\n",
       "Name: review, Length: 3565, dtype: object"
      ]
     },
     "execution_count": 16,
     "metadata": {},
     "output_type": "execute_result"
    }
   ],
   "source": [
    "import re\n",
    "import emoji\n",
    "\n",
    "def preprocess_emojis(x):\n",
    "    text = emoji.demojize(x, language='id', delimiters=(\" \", \" \"))\n",
    "    return text.replace('_', ' ').strip()\n",
    "\n",
    "\n",
    "clean_df.review.map(preprocess_emojis)"
   ]
  },
  {
   "cell_type": "code",
   "execution_count": 17,
   "id": "e5849b160cb562e4",
   "metadata": {
    "ExecuteTime": {
     "end_time": "2025-05-17T10:27:28.286879Z",
     "start_time": "2025-05-17T10:27:27.990164Z"
    }
   },
   "outputs": [],
   "source": [
    "clean_df.review = clean_df.review.map(preprocess_emojis)"
   ]
  },
  {
   "cell_type": "markdown",
   "id": "e0921f57fe25bc50",
   "metadata": {},
   "source": [
    "#### Repeated Letters"
   ]
  },
  {
   "cell_type": "code",
   "execution_count": 18,
   "id": "928da8bf61314239",
   "metadata": {
    "ExecuteTime": {
     "end_time": "2025-05-17T10:27:30.396525Z",
     "start_time": "2025-05-17T10:27:30.319131Z"
    }
   },
   "outputs": [],
   "source": [
    "def normalize_repeated_letters(word):\n",
    "    # Only replace if a character repeats 3 or more times\n",
    "    return re.sub(r'(.)\\1{2,}', r'\\1', word)\n",
    "\n",
    "def normalize_review(text):\n",
    "    return ' '.join([normalize_repeated_letters(w) for w in text.split()])\n",
    "\n",
    "clean_df.review = clean_df.review.map(normalize_review)"
   ]
  },
  {
   "cell_type": "code",
   "execution_count": 19,
   "id": "d33b4334",
   "metadata": {
    "ExecuteTime": {
     "end_time": "2025-05-17T10:27:31.131350Z",
     "start_time": "2025-05-17T10:27:31.124976Z"
    }
   },
   "outputs": [
    {
     "data": {
      "text/plain": [
       "0       barang yg dibeli sesuai pengiriman cepat dan h...\n",
       "1           barang original packing sangat aman great job\n",
       "2       pengiriman sangat cepat pesan hari ini besok s...\n",
       "3       ini rekomen banget yg beli ga bakal nyesel ga ...\n",
       "4       so cute ukurannya pas sendalnya ringan dan nya...\n",
       "                              ...                        \n",
       "4028                                mantulmulusemoga awet\n",
       "4029                       kulitas bagus pengiriman cepat\n",
       "4030                                             the best\n",
       "4032                                    barang bagus puas\n",
       "4033    terimakasih brg datang tepat waktu dan trmksh ...\n",
       "Name: review, Length: 3565, dtype: object"
      ]
     },
     "execution_count": 19,
     "metadata": {},
     "output_type": "execute_result"
    }
   ],
   "source": [
    "clean_df.review"
   ]
  },
  {
   "cell_type": "markdown",
   "id": "440919e8161f0b4e",
   "metadata": {},
   "source": [
    "### Stopword Removal"
   ]
  },
  {
   "cell_type": "code",
   "execution_count": 20,
   "id": "6a7006f76960808d",
   "metadata": {
    "ExecuteTime": {
     "end_time": "2025-05-17T10:27:32.650375Z",
     "start_time": "2025-05-17T10:27:32.577660Z"
    }
   },
   "outputs": [
    {
     "name": "stderr",
     "output_type": "stream",
     "text": [
      "[nltk_data] Downloading package punkt_tab to\n",
      "[nltk_data]     /teamspace/studios/this_studio/nltk_data...\n",
      "[nltk_data]   Package punkt_tab is already up-to-date!\n"
     ]
    },
    {
     "data": {
      "text/plain": [
       "True"
      ]
     },
     "execution_count": 20,
     "metadata": {},
     "output_type": "execute_result"
    }
   ],
   "source": [
    "import nltk\n",
    "nltk.download('punkt_tab')"
   ]
  },
  {
   "cell_type": "code",
   "execution_count": 21,
   "id": "c32c159a8800566c",
   "metadata": {
    "ExecuteTime": {
     "end_time": "2025-05-17T10:27:33.361069Z",
     "start_time": "2025-05-17T10:27:33.357142Z"
    }
   },
   "outputs": [],
   "source": [
    "from Sastrawi.StopWordRemover.StopWordRemoverFactory import StopWordRemoverFactory\n",
    "from nltk.tokenize import word_tokenize\n",
    "\n",
    "factory = StopWordRemoverFactory()\n",
    "stopwords = factory.get_stop_words()"
   ]
  },
  {
   "cell_type": "code",
   "execution_count": 22,
   "id": "6eaaadb7bf40a639",
   "metadata": {
    "ExecuteTime": {
     "end_time": "2025-05-17T10:27:35.715379Z",
     "start_time": "2025-05-17T10:27:35.467432Z"
    }
   },
   "outputs": [
    {
     "data": {
      "text/plain": [
       "0       barang yg dibeli sesuai pengiriman cepat harga...\n",
       "1           barang original packing sangat aman great job\n",
       "2       pengiriman sangat cepat pesan hari besok great...\n",
       "3       rekomen banget yg beli ga bakal nyesel ga nyan...\n",
       "4       so cute ukurannya pas sendalnya ringan nyaman ...\n",
       "                              ...                        \n",
       "4028                                mantulmulusemoga awet\n",
       "4029                       kulitas bagus pengiriman cepat\n",
       "4030                                             the best\n",
       "4032                                    barang bagus puas\n",
       "4033    terimakasih brg datang tepat waktu trmksh atas...\n",
       "Name: review, Length: 3565, dtype: object"
      ]
     },
     "execution_count": 22,
     "metadata": {},
     "output_type": "execute_result"
    }
   ],
   "source": [
    "def remove_stopwords(x):\n",
    "    word_token = word_tokenize(x)\n",
    "    important_words = [word for word in word_token if word.lower() not in stopwords]\n",
    "    return ' '.join(important_words)\n",
    "\n",
    "clean_df.review.map(remove_stopwords)"
   ]
  },
  {
   "cell_type": "code",
   "execution_count": 23,
   "id": "b2144b815f04f520",
   "metadata": {
    "ExecuteTime": {
     "end_time": "2025-05-17T10:27:38.113571Z",
     "start_time": "2025-05-17T10:27:37.864216Z"
    }
   },
   "outputs": [],
   "source": [
    "clean_df.review = clean_df.review.map(remove_stopwords)"
   ]
  },
  {
   "cell_type": "markdown",
   "id": "351d02aeabdf552e",
   "metadata": {},
   "source": [
    "#### Whitespaces"
   ]
  },
  {
   "cell_type": "code",
   "execution_count": 24,
   "id": "6533e1048b1427c",
   "metadata": {
    "ExecuteTime": {
     "end_time": "2025-05-17T10:27:40.543525Z",
     "start_time": "2025-05-17T10:27:40.518757Z"
    }
   },
   "outputs": [
    {
     "data": {
      "text/plain": [
       "0       barang yg dibeli sesuai pengiriman cepat harga...\n",
       "1           barang original packing sangat aman great job\n",
       "2       pengiriman sangat cepat pesan hari besok great...\n",
       "3       rekomen banget yg beli ga bakal nyesel ga nyan...\n",
       "4       so cute ukurannya pas sendalnya ringan nyaman ...\n",
       "                              ...                        \n",
       "4028                                mantulmulusemoga awet\n",
       "4029                       kulitas bagus pengiriman cepat\n",
       "4030                                             the best\n",
       "4032                                    barang bagus puas\n",
       "4033    terimakasih brg datang tepat waktu trmksh atas...\n",
       "Name: review, Length: 3565, dtype: object"
      ]
     },
     "execution_count": 24,
     "metadata": {},
     "output_type": "execute_result"
    }
   ],
   "source": [
    "def remove_whitespaces(x):\n",
    "    return re.sub(r\"\\s+\", \" \", x).strip()\n",
    "\n",
    "clean_df.review.map(remove_whitespaces)"
   ]
  },
  {
   "cell_type": "code",
   "execution_count": 25,
   "id": "f9709c59b11020fb",
   "metadata": {
    "ExecuteTime": {
     "end_time": "2025-05-17T10:27:41.100576Z",
     "start_time": "2025-05-17T10:27:41.074959Z"
    }
   },
   "outputs": [],
   "source": [
    "clean_df.review = clean_df.review.map(remove_whitespaces)"
   ]
  },
  {
   "cell_type": "code",
   "execution_count": 26,
   "id": "d35bb2816c5e2a3f",
   "metadata": {
    "ExecuteTime": {
     "end_time": "2025-05-17T10:32:45.212318Z",
     "start_time": "2025-05-17T10:32:45.205810Z"
    }
   },
   "outputs": [],
   "source": [
    "# drop any empty row (no text) after all the preprocessing\n",
    "clean_df = clean_df[~clean_df[\"review\"].str.match(r\"^\\s*$\", na=False)]"
   ]
  },
  {
   "cell_type": "code",
   "execution_count": 27,
   "id": "da6096db5bcfc5c4",
   "metadata": {
    "ExecuteTime": {
     "end_time": "2025-05-17T10:32:49.703454Z",
     "start_time": "2025-05-17T10:32:49.693187Z"
    }
   },
   "outputs": [
    {
     "data": {
      "text/html": [
       "<div>\n",
       "<style scoped>\n",
       "    .dataframe tbody tr th:only-of-type {\n",
       "        vertical-align: middle;\n",
       "    }\n",
       "\n",
       "    .dataframe tbody tr th {\n",
       "        vertical-align: top;\n",
       "    }\n",
       "\n",
       "    .dataframe thead th {\n",
       "        text-align: right;\n",
       "    }\n",
       "</style>\n",
       "<table border=\"1\" class=\"dataframe\">\n",
       "  <thead>\n",
       "    <tr style=\"text-align: right;\">\n",
       "      <th></th>\n",
       "      <th>review</th>\n",
       "      <th>star</th>\n",
       "    </tr>\n",
       "  </thead>\n",
       "  <tbody>\n",
       "    <tr>\n",
       "      <th>0</th>\n",
       "      <td>barang yg dibeli sesuai pengiriman cepat harga...</td>\n",
       "      <td>5</td>\n",
       "    </tr>\n",
       "    <tr>\n",
       "      <th>1</th>\n",
       "      <td>barang original packing sangat aman great job</td>\n",
       "      <td>5</td>\n",
       "    </tr>\n",
       "    <tr>\n",
       "      <th>2</th>\n",
       "      <td>pengiriman sangat cepat pesan hari besok great...</td>\n",
       "      <td>5</td>\n",
       "    </tr>\n",
       "    <tr>\n",
       "      <th>3</th>\n",
       "      <td>rekomen banget yg beli ga bakal nyesel ga nyan...</td>\n",
       "      <td>5</td>\n",
       "    </tr>\n",
       "    <tr>\n",
       "      <th>4</th>\n",
       "      <td>so cute ukurannya pas sendalnya ringan nyaman ...</td>\n",
       "      <td>5</td>\n",
       "    </tr>\n",
       "    <tr>\n",
       "      <th>...</th>\n",
       "      <td>...</td>\n",
       "      <td>...</td>\n",
       "    </tr>\n",
       "    <tr>\n",
       "      <th>4028</th>\n",
       "      <td>mantulmulusemoga awet</td>\n",
       "      <td>5</td>\n",
       "    </tr>\n",
       "    <tr>\n",
       "      <th>4029</th>\n",
       "      <td>kulitas bagus pengiriman cepat</td>\n",
       "      <td>5</td>\n",
       "    </tr>\n",
       "    <tr>\n",
       "      <th>4030</th>\n",
       "      <td>the best</td>\n",
       "      <td>5</td>\n",
       "    </tr>\n",
       "    <tr>\n",
       "      <th>4032</th>\n",
       "      <td>barang bagus puas</td>\n",
       "      <td>5</td>\n",
       "    </tr>\n",
       "    <tr>\n",
       "      <th>4033</th>\n",
       "      <td>terimakasih brg datang tepat waktu trmksh atas...</td>\n",
       "      <td>5</td>\n",
       "    </tr>\n",
       "  </tbody>\n",
       "</table>\n",
       "<p>3553 rows × 2 columns</p>\n",
       "</div>"
      ],
      "text/plain": [
       "                                                 review  star\n",
       "0     barang yg dibeli sesuai pengiriman cepat harga...     5\n",
       "1         barang original packing sangat aman great job     5\n",
       "2     pengiriman sangat cepat pesan hari besok great...     5\n",
       "3     rekomen banget yg beli ga bakal nyesel ga nyan...     5\n",
       "4     so cute ukurannya pas sendalnya ringan nyaman ...     5\n",
       "...                                                 ...   ...\n",
       "4028                              mantulmulusemoga awet     5\n",
       "4029                     kulitas bagus pengiriman cepat     5\n",
       "4030                                           the best     5\n",
       "4032                                  barang bagus puas     5\n",
       "4033  terimakasih brg datang tepat waktu trmksh atas...     5\n",
       "\n",
       "[3553 rows x 2 columns]"
      ]
     },
     "execution_count": 27,
     "metadata": {},
     "output_type": "execute_result"
    }
   ],
   "source": [
    "clean_df"
   ]
  },
  {
   "cell_type": "markdown",
   "id": "8209628b28145089",
   "metadata": {},
   "source": [
    "### Stemming"
   ]
  },
  {
   "cell_type": "code",
   "execution_count": 28,
   "id": "8f222e3da78106c2",
   "metadata": {
    "ExecuteTime": {
     "end_time": "2025-05-17T10:33:04.290874Z",
     "start_time": "2025-05-17T10:33:04.272658Z"
    }
   },
   "outputs": [],
   "source": [
    "from Sastrawi.Stemmer.StemmerFactory import StemmerFactory\n",
    "\n",
    "factory = StemmerFactory()\n",
    "stemmer = factory.create_stemmer()"
   ]
  },
  {
   "cell_type": "code",
   "execution_count": 29,
   "id": "eaf759c5237ffcf5",
   "metadata": {
    "ExecuteTime": {
     "start_time": "2025-05-17T10:33:04.764464Z"
    },
    "jupyter": {
     "is_executing": true
    }
   },
   "outputs": [
    {
     "data": {
      "application/vnd.jupyter.widget-view+json": {
       "model_id": "c24e0a325a624508bea14138db1386ef",
       "version_major": 2,
       "version_minor": 0
      },
      "text/plain": [
       "  0%|          | 0/3553 [00:00<?, ?it/s]"
      ]
     },
     "metadata": {},
     "output_type": "display_data"
    }
   ],
   "source": [
    "clean_df.review = clean_df.review.progress_map(lambda x: stemmer.stem(x))"
   ]
  },
  {
   "cell_type": "code",
   "execution_count": 30,
   "id": "882925cc679bcc88",
   "metadata": {},
   "outputs": [
    {
     "data": {
      "text/plain": [
       "0       barang yg beli sesuai kirim cepat harga masuk ...\n",
       "1           barang original packing sangat aman great job\n",
       "2           kirim sangat cepat pesan hari besok great jpb\n",
       "3       rekomen banget yg beli ga bakal nyesel ga nyan...\n",
       "4             so cute ukur pas sendal ringan nyaman pakai\n",
       "                              ...                        \n",
       "4028                                mantulmulusemoga awet\n",
       "4029                            kulitas bagus kirim cepat\n",
       "4030                                             the best\n",
       "4032                                    barang bagus puas\n",
       "4033    terimakasih brg datang tepat waktu trmksh atas...\n",
       "Name: review, Length: 3553, dtype: object"
      ]
     },
     "execution_count": 30,
     "metadata": {},
     "output_type": "execute_result"
    }
   ],
   "source": [
    "clean_df.review"
   ]
  },
  {
   "cell_type": "code",
   "execution_count": 31,
   "id": "a0edc0308fc3136",
   "metadata": {
    "ExecuteTime": {
     "end_time": "2025-05-17T10:00:41.926228Z",
     "start_time": "2025-05-17T10:00:41.877540Z"
    }
   },
   "outputs": [],
   "source": [
    "import numpy as np\n",
    "\n",
    "\n",
    "df.loc[clean_df.index]\\\n",
    "    .replace('', np.nan)\\\n",
    "    .assign(review=clean_df.review)\\\n",
    "    .to_csv('data/clean_reviews.tsv', index=False, sep='\\t', na_rep='NULL')"
   ]
  },
  {
   "cell_type": "markdown",
   "id": "a9d24f7e9cae38e4",
   "metadata": {},
   "source": [
    "## Embedding Model\n",
    "\n",
    "For this case we opt for using Fasttext.\n",
    "\n",
    ">FastText breaks down words into smaller parts, such as n-grams, and computes vector representations for each of these subword parts. Then, the vector representation for the word is obtained by combining the subword vectors that form the word. This approach helps FastText address the morphological variation of words in the text\n",
    "\n",
    "*[dicoding](https://www.dicoding.com/academies/185/tutorials/37403)*\n",
    "\n",
    "Suitable for multi typo, messed text found in product review."
   ]
  },
  {
   "cell_type": "code",
   "execution_count": 32,
   "id": "6c1f6d45",
   "metadata": {},
   "outputs": [
    {
     "name": "stdout",
     "output_type": "stream",
     "text": [
      "File already exists at model/cc.id.300.vec. Skipping download and extraction.\n",
      "Extracted file is at: model/cc.id.300.vec\n"
     ]
    }
   ],
   "source": [
    "import requests\n",
    "import gzip\n",
    "import os\n",
    "\n",
    "def download_and_extract_gz(url, output_dir=\"web\"):\n",
    "    # Create the web directory in the current working directory if it doesn't exist\n",
    "    os.makedirs(output_dir, exist_ok=True)\n",
    "\n",
    "    # Get the filename from the URL\n",
    "    filename = os.path.basename(url)\n",
    "    output_filename = os.path.splitext(filename)[0]  # Remove .gz extension\n",
    "\n",
    "    # Save the downloaded .gz file\n",
    "    gz_path = os.path.join(output_dir, filename)\n",
    "    output_path = os.path.join(output_dir, output_filename)\n",
    "\n",
    "    # Check if the extracted file already exists\n",
    "    if os.path.exists(output_path):\n",
    "        print(f\"File already exists at {output_path}. Skipping download and extraction.\")\n",
    "        return output_path\n",
    "\n",
    "    # Download the file\n",
    "    print(f\"Downloading from {url}...\")\n",
    "    response = requests.get(url, stream=True)\n",
    "    response.raise_for_status()  # Raise an exception for failed downloads\n",
    "\n",
    "    with open(gz_path, 'wb') as f:\n",
    "        for chunk in response.iter_content(chunk_size=8192):\n",
    "            f.write(chunk)\n",
    "\n",
    "    # Extract the .gz file\n",
    "    print(f\"Extracting to {output_path}...\")\n",
    "    with gzip.open(gz_path, 'rb') as gz_file:\n",
    "        with open(output_path, 'wb') as output_file:\n",
    "            output_file.write(gz_file.read())\n",
    "\n",
    "    print(f\"Download and extraction complete! File saved to {output_path}\")\n",
    "    return output_path\n",
    "\n",
    "\n",
    "extracted_path = download_and_extract_gz('https://dl.fbaipublicfiles.com/fasttext/vectors-crawl/cc.id.300.vec.gz', 'model')\n",
    "print(f\"Extracted file is at: {extracted_path}\")"
   ]
  },
  {
   "cell_type": "code",
   "execution_count": 33,
   "id": "15fd687bf8dfb9d8",
   "metadata": {},
   "outputs": [],
   "source": [
    "from gensim.models import KeyedVectors\n",
    "\n",
    "# only run this one time\n",
    "# word_vectors = KeyedVectors.load_word2vec_format('model/cc.id.300.vec')\n",
    "# word_vectors.save('model/cc.id.300.kvmodel')"
   ]
  },
  {
   "cell_type": "code",
   "execution_count": 34,
   "id": "729a1fb7",
   "metadata": {},
   "outputs": [],
   "source": [
    "word_vectors = KeyedVectors.load('model/cc.id.300.kvmodel') # loading the saved format"
   ]
  },
  {
   "cell_type": "markdown",
   "id": "a924c8fcc4ae369d",
   "metadata": {},
   "source": [
    "### Load Data"
   ]
  },
  {
   "cell_type": "code",
   "execution_count": 37,
   "id": "1e5fabded269245b",
   "metadata": {},
   "outputs": [
    {
     "data": {
      "text/html": [
       "<div>\n",
       "<style scoped>\n",
       "    .dataframe tbody tr th:only-of-type {\n",
       "        vertical-align: middle;\n",
       "    }\n",
       "\n",
       "    .dataframe tbody tr th {\n",
       "        vertical-align: top;\n",
       "    }\n",
       "\n",
       "    .dataframe thead th {\n",
       "        text-align: right;\n",
       "    }\n",
       "</style>\n",
       "<table border=\"1\" class=\"dataframe\">\n",
       "  <thead>\n",
       "    <tr style=\"text-align: right;\">\n",
       "      <th></th>\n",
       "      <th>star</th>\n",
       "      <th>review</th>\n",
       "    </tr>\n",
       "  </thead>\n",
       "  <tbody>\n",
       "    <tr>\n",
       "      <th>0</th>\n",
       "      <td>5</td>\n",
       "      <td>barang yg beli sesuai kirim cepat harga masuk ...</td>\n",
       "    </tr>\n",
       "    <tr>\n",
       "      <th>1</th>\n",
       "      <td>5</td>\n",
       "      <td>barang original packing sangat aman great job</td>\n",
       "    </tr>\n",
       "    <tr>\n",
       "      <th>2</th>\n",
       "      <td>5</td>\n",
       "      <td>kirim sangat cepat pesan hari besok great jpb</td>\n",
       "    </tr>\n",
       "    <tr>\n",
       "      <th>3</th>\n",
       "      <td>5</td>\n",
       "      <td>rekomen banget yg beli ga bakal nyesel ga nyan...</td>\n",
       "    </tr>\n",
       "    <tr>\n",
       "      <th>4</th>\n",
       "      <td>5</td>\n",
       "      <td>so cute ukur pas sendal ringan nyaman pakai</td>\n",
       "    </tr>\n",
       "  </tbody>\n",
       "</table>\n",
       "</div>"
      ],
      "text/plain": [
       "   star                                             review\n",
       "0     5  barang yg beli sesuai kirim cepat harga masuk ...\n",
       "1     5      barang original packing sangat aman great job\n",
       "2     5      kirim sangat cepat pesan hari besok great jpb\n",
       "3     5  rekomen banget yg beli ga bakal nyesel ga nyan...\n",
       "4     5        so cute ukur pas sendal ringan nyaman pakai"
      ]
     },
     "execution_count": 37,
     "metadata": {},
     "output_type": "execute_result"
    }
   ],
   "source": [
    "# load the cleaned data if necessary\n",
    "import pandas as pd\n",
    "\n",
    "clean_df = pd.read_csv('data/clean_reviews.tsv', sep='\\t', usecols=['review', 'star'])\n",
    "clean_df.head()"
   ]
  },
  {
   "cell_type": "code",
   "execution_count": 43,
   "id": "6d3e7989",
   "metadata": {},
   "outputs": [
    {
     "data": {
      "text/plain": [
       "3553"
      ]
     },
     "execution_count": 43,
     "metadata": {},
     "output_type": "execute_result"
    }
   ],
   "source": [
    "len(clean_df)"
   ]
  },
  {
   "cell_type": "code",
   "execution_count": 39,
   "id": "75cfc603af783be3",
   "metadata": {
    "ExecuteTime": {
     "end_time": "2025-05-17T10:01:21.974880Z",
     "start_time": "2025-05-17T10:01:21.961657Z"
    }
   },
   "outputs": [
    {
     "data": {
      "text/plain": [
       "star\n",
       "5    3210\n",
       "4     193\n",
       "3      75\n",
       "1      50\n",
       "2      25\n",
       "Name: count, dtype: int64"
      ]
     },
     "execution_count": 39,
     "metadata": {},
     "output_type": "execute_result"
    }
   ],
   "source": [
    "clean_df.star.value_counts()"
   ]
  },
  {
   "cell_type": "code",
   "execution_count": 40,
   "id": "d21b9d191189bec",
   "metadata": {},
   "outputs": [
    {
     "data": {
      "text/plain": [
       "{1: [('barang', 21),\n",
       "  ('kirim', 13),\n",
       "  ('yg', 12),\n",
       "  ('beli', 9),\n",
       "  ('sangat', 8),\n",
       "  ('produk', 8),\n",
       "  ('gak', 8),\n",
       "  ('seller', 8),\n",
       "  ('sesuai', 7),\n",
       "  ('baru', 7)],\n",
       " 2: [('kirim', 8),\n",
       "  ('yg', 8),\n",
       "  ('pesan', 5),\n",
       "  ('baru', 5),\n",
       "  ('pcs', 5),\n",
       "  ('nya', 4),\n",
       "  ('barang', 4),\n",
       "  ('sampe', 4),\n",
       "  ('kali', 4),\n",
       "  ('gak', 4)],\n",
       " 3: [('kirim', 19),\n",
       "  ('barang', 18),\n",
       "  ('nya', 13),\n",
       "  ('gak', 9),\n",
       "  ('bagus', 9),\n",
       "  ('yg', 9),\n",
       "  ('lama', 9),\n",
       "  ('kecil', 9),\n",
       "  ('kurang', 8),\n",
       "  ('sesuai', 8)],\n",
       " 4: [('barang', 51),\n",
       "  ('kirim', 42),\n",
       "  ('sesuai', 35),\n",
       "  ('bagus', 35),\n",
       "  ('nya', 30),\n",
       "  ('yg', 26),\n",
       "  ('lama', 24),\n",
       "  ('cepat', 22),\n",
       "  ('kurang', 20),\n",
       "  ('harga', 20)],\n",
       " 5: [('barang', 749),\n",
       "  ('bagus', 702),\n",
       "  ('cepat', 664),\n",
       "  ('sesuai', 623),\n",
       "  ('kirim', 622),\n",
       "  ('atas', 565),\n",
       "  ('jempol', 559),\n",
       "  ('aman', 387),\n",
       "  ('nya', 342),\n",
       "  ('terima', 321)]}"
      ]
     },
     "execution_count": 40,
     "metadata": {},
     "output_type": "execute_result"
    }
   ],
   "source": [
    "from collections import Counter\n",
    "\n",
    "top_words_per_star = {}\n",
    "\n",
    "for star in sorted(clean_df.star.unique()):\n",
    "    reviews = clean_df[clean_df.star == star].review\n",
    "    words = ' '.join(reviews).split()\n",
    "    most_common = Counter(words).most_common(10)\n",
    "    top_words_per_star[star] = most_common\n",
    "\n",
    "top_words_per_star"
   ]
  },
  {
   "cell_type": "code",
   "execution_count": 41,
   "id": "2cb976e819179a54",
   "metadata": {
    "ExecuteTime": {
     "end_time": "2025-05-17T08:53:11.209885Z",
     "start_time": "2025-05-17T08:53:11.203302Z"
    }
   },
   "outputs": [
    {
     "data": {
      "text/plain": [
       "array([ 8.7900e-02, -1.8100e-01, -1.0860e-01,  3.5220e-01, -6.5900e-02,\n",
       "       -7.7500e-02,  7.9400e-02, -3.3100e-02, -6.7400e-02, -1.1810e-01,\n",
       "        3.7400e-02, -1.2480e-01, -6.2600e-02, -3.3700e-02,  2.6060e-01,\n",
       "       -1.8490e-01, -6.5600e-02,  1.9500e-02,  1.1140e-01,  2.7600e-02,\n",
       "        1.8040e-01, -2.2480e-01,  1.8580e-01, -3.5980e-01,  4.6700e-02,\n",
       "       -1.0350e-01, -2.6400e-02, -2.2290e-01, -2.7270e-01,  1.5250e-01,\n",
       "       -1.6670e-01, -1.5000e-03, -1.6560e-01,  1.0550e-01,  3.8600e-02,\n",
       "       -2.9800e-02, -2.1600e-02,  2.0000e-01, -1.3660e-01,  2.2900e-02,\n",
       "        4.3500e-02,  4.9000e-03, -1.2220e-01,  1.3910e-01, -1.8010e-01,\n",
       "        3.9400e-02,  3.9030e-01, -1.6000e-02,  6.9000e-03, -1.1400e-01,\n",
       "       -1.2420e-01, -5.2700e-02, -9.9800e-02, -1.1390e-01, -2.6800e-02,\n",
       "       -5.0300e-02, -4.3600e-02,  4.3000e-03, -1.2570e-01,  9.3000e-03,\n",
       "       -1.3320e-01, -1.3730e-01, -2.2300e-02, -9.4000e-03,  4.4200e-02,\n",
       "       -4.5900e-02, -8.7000e-02,  9.9600e-02,  1.5480e-01, -7.5900e-02,\n",
       "        1.0630e-01, -2.6290e-01,  7.6300e-02,  9.1400e-02, -1.0120e-01,\n",
       "       -7.9400e-02,  4.2200e-02,  7.6600e-02,  3.6800e-02,  7.8900e-02,\n",
       "        1.1540e-01, -2.0860e-01,  3.1450e-01,  7.1500e-02,  7.4500e-02,\n",
       "        5.5000e-03,  8.2700e-02,  1.1500e-02,  1.9590e-01, -5.7100e-02,\n",
       "        1.8710e-01,  3.5600e-02,  1.9730e-01, -7.5000e-02, -3.5040e-01,\n",
       "       -1.1506e+00,  7.5700e-02,  1.2440e-01, -8.5000e-03,  2.4200e-01,\n",
       "       -3.3410e-01,  1.9030e-01,  1.2450e-01,  5.3600e-02, -1.8210e-01,\n",
       "       -2.1700e-02, -1.6970e-01,  2.2650e-01,  4.2400e-02, -8.6200e-02,\n",
       "        2.7330e-01, -9.9700e-02,  1.6800e-02, -2.6920e-01,  3.1460e-01,\n",
       "        1.1850e-01,  1.5110e-01, -1.0760e-01, -7.7500e-02, -2.8100e-02,\n",
       "       -1.5800e-02, -7.0200e-02, -1.2500e-02,  1.8100e-02,  1.2590e-01,\n",
       "        4.3600e-02,  7.3700e-02,  4.0850e-01,  7.0100e-02, -7.2700e-02,\n",
       "        1.1480e-01,  9.3200e-02, -9.2600e-02, -1.1290e-01,  4.5300e-02,\n",
       "       -3.3580e-01, -4.9000e-03,  7.4400e-02, -5.8000e-03,  2.0630e-01,\n",
       "        1.4110e-01, -3.1580e-01,  2.3000e-01, -3.4300e-02, -4.3200e-02,\n",
       "       -2.3100e-02,  8.9500e-02, -1.5450e-01, -4.5800e-02,  1.9580e-01,\n",
       "       -7.9200e-02,  1.0700e-01,  1.0630e-01,  1.7300e-02,  1.0500e-01,\n",
       "       -2.9400e-02,  2.1900e-02,  1.5470e-01,  3.5500e-02, -6.0000e-04,\n",
       "        3.3440e-01,  2.0320e-01, -4.7200e-02,  1.5230e-01, -1.8980e-01,\n",
       "        3.5000e-02,  1.9960e-01,  1.2250e-01,  7.8000e-02, -2.2690e-01,\n",
       "        2.0280e-01,  8.1400e-02,  1.4200e-02, -9.2100e-02, -3.9420e-01,\n",
       "        6.2600e-02,  2.0090e-01,  8.2800e-02,  2.8600e-02, -2.1170e-01,\n",
       "       -3.3400e-02,  1.8910e-01, -1.1860e-01,  8.8400e-02,  8.6000e-03,\n",
       "        9.4000e-03,  8.8000e-02, -8.7000e-02,  2.3700e-02, -1.8230e-01,\n",
       "        3.8400e-02, -1.4240e-01,  1.2360e-01,  1.6320e-01, -1.7610e-01,\n",
       "       -2.0320e-01, -2.1190e-01, -4.0000e-04, -5.9200e-02, -1.5230e-01,\n",
       "       -2.7390e-01, -1.3300e-02,  1.2230e-01, -7.3400e-02,  1.6060e-01,\n",
       "        6.7000e-03,  4.6200e-02, -1.6130e-01,  1.5200e-02, -2.3740e-01,\n",
       "       -1.7520e-01,  3.5500e-02,  5.2100e-02,  7.9800e-02, -1.0540e-01,\n",
       "        1.3860e-01,  1.5100e-02,  4.4400e-02,  6.5400e-02,  1.5710e-01,\n",
       "        2.9700e-02, -9.7100e-02, -1.5000e-01,  8.4000e-03, -1.2700e-01,\n",
       "       -2.1200e-01,  9.5600e-02,  2.2120e-01, -9.9800e-02, -1.4430e-01,\n",
       "        1.1630e-01,  1.4220e-01, -2.0540e-01, -8.6900e-02, -1.6510e-01,\n",
       "       -2.7700e-02, -1.1810e-01,  8.6600e-02, -1.0020e-01, -2.0000e-02,\n",
       "       -1.8200e-01,  7.4800e-02, -4.8500e-02,  2.3740e-01,  5.8500e-02,\n",
       "       -1.4620e-01,  1.6170e-01,  1.9060e-01, -7.7000e-02, -3.2800e-02,\n",
       "        1.6770e-01,  4.5100e-02,  1.0890e-01, -6.2000e-03, -1.4240e-01,\n",
       "        1.4600e-01, -1.0900e-01,  1.3600e-01,  1.3370e-01, -3.1900e-02,\n",
       "        1.7300e-01, -6.6800e-02,  4.5500e-02, -9.4900e-02,  1.8800e-02,\n",
       "        1.8090e-01, -6.9400e-02, -1.0930e-01, -2.3180e-01, -1.9450e-01,\n",
       "       -1.7640e-01, -1.5290e-01, -3.5600e-01, -1.7680e-01,  3.7030e-01,\n",
       "       -1.4520e-01, -1.0820e-01,  6.3000e-03,  3.6560e-01,  1.8880e-01,\n",
       "       -1.7230e-01, -1.6180e-01,  1.7460e-01,  1.5150e-01,  1.2670e-01,\n",
       "        7.3900e-02,  5.0500e-02, -3.8200e-02, -1.0280e-01, -2.2240e-01,\n",
       "        4.0900e-02,  6.0200e-02, -1.6670e-01,  1.7150e-01,  5.3800e-02,\n",
       "        2.9900e-01,  7.2800e-02,  9.8600e-02,  1.3900e-02,  1.2430e-01],\n",
       "      dtype=float32)"
      ]
     },
     "execution_count": 41,
     "metadata": {},
     "output_type": "execute_result"
    }
   ],
   "source": [
    "# sample word vector for abbreviated indonesian words\n",
    "vector = word_vectors['yg']\n",
    "vector"
   ]
  },
  {
   "cell_type": "markdown",
   "id": "0d30b235",
   "metadata": {},
   "source": [
    "### Prepping Data for Training"
   ]
  },
  {
   "cell_type": "markdown",
   "id": "64f2b712",
   "metadata": {},
   "source": [
    "The decision to label the data is based on the fact that the data is highly imbalanced, 5-star alone has around 90% of the total data. Also looking by the most frequent word we consider that the 3 and 4 starred reviews is neutral, while the 1 and 2 considered as negative. Therefor the labelling is follow the following scheme:\n",
    "\n",
    "- positive: 5\n",
    "- neutral: 3,4\n",
    "- negative: 1,2"
   ]
  },
  {
   "cell_type": "code",
   "execution_count": null,
   "id": "755179ec",
   "metadata": {},
   "outputs": [],
   "source": [
    "clean_df['label'] = clean_df.star.map(lambda x: 'neutral' if x == 3 or x == 4 else 'positive' if x > 4 else 'negative')\n",
    "y = clean_df.label.values  # Target variable"
   ]
  },
  {
   "cell_type": "code",
   "execution_count": 51,
   "id": "5ee526c2",
   "metadata": {},
   "outputs": [
    {
     "data": {
      "text/plain": [
       "((2842,), (355,), (356,))"
      ]
     },
     "execution_count": 51,
     "metadata": {},
     "output_type": "execute_result"
    }
   ],
   "source": [
    "from sklearn.model_selection import train_test_split\n",
    "from sklearn.preprocessing import LabelEncoder\n",
    "\n",
    "\n",
    "le = LabelEncoder()\n",
    "y = le.fit_transform(y)\n",
    "\n",
    "# split into train val test\n",
    "X_train, X_temp, y_train, y_temp = train_test_split(clean_df.review.values, y, test_size=0.2, random_state=42)\n",
    "X_val, X_test, y_val, y_test = train_test_split(X_temp, y_temp, test_size=0.5, random_state=42)\n",
    "X_train.shape, X_val.shape, X_test.shape"
   ]
  },
  {
   "cell_type": "markdown",
   "id": "d828de57326d1f12",
   "metadata": {},
   "source": [
    "### Extract Feature\n",
    "\n",
    "We are going to experiment with Fasttext and TF-IDF, since TF-IDF considers the importance of the word accross documents. Hopefull when combined give the word more meaning."
   ]
  },
  {
   "cell_type": "markdown",
   "id": "fbeded3108545c04",
   "metadata": {},
   "source": [
    "#### Fasttext Only"
   ]
  },
  {
   "cell_type": "code",
   "execution_count": 47,
   "id": "f1a999a40e0f0005",
   "metadata": {
    "ExecuteTime": {
     "end_time": "2025-05-17T08:56:32.050795Z",
     "start_time": "2025-05-17T08:56:32.044451Z"
    }
   },
   "outputs": [],
   "source": [
    "import numpy as np\n",
    "\n",
    "\n",
    "def get_document_vector(text, vector_size=300):\n",
    "    sentence_words = text.split()\n",
    "    vectors = [word_vectors[word] for word in sentence_words if word in word_vectors]\n",
    "\n",
    "    if not vectors:\n",
    "        return np.zeros(vector_size)  # Return zeros if no words are found\n",
    "\n",
    "    # Return the average vector\n",
    "    return np.mean(vectors, axis=0)"
   ]
  },
  {
   "cell_type": "code",
   "execution_count": 52,
   "id": "e152de27594f0907",
   "metadata": {
    "ExecuteTime": {
     "end_time": "2025-05-17T08:57:03.566163Z",
     "start_time": "2025-05-17T08:57:03.217373Z"
    }
   },
   "outputs": [
    {
     "data": {
      "text/plain": [
       "((2842, 300), (355, 300), (356, 300))"
      ]
     },
     "execution_count": 52,
     "metadata": {},
     "output_type": "execute_result"
    }
   ],
   "source": [
    "# Create feature vectors\n",
    "X_train_ft = np.array([get_document_vector(review) for review in X_train])\n",
    "X_val_ft = np.array([get_document_vector(review) for review in X_val])\n",
    "X_test_ft = np.array([get_document_vector(review) for review in X_test])\n",
    "X_train_ft.shape, X_val_ft.shape, X_test_ft.shape"
   ]
  },
  {
   "cell_type": "markdown",
   "id": "317903e7",
   "metadata": {},
   "source": [
    "#### Fasttext-TFIDF"
   ]
  },
  {
   "cell_type": "code",
   "execution_count": 53,
   "id": "69a54ff8",
   "metadata": {},
   "outputs": [],
   "source": [
    "from sklearn.feature_extraction.text import TfidfVectorizer\n",
    "\n",
    "tfidf_vectorizer = TfidfVectorizer()\n",
    "# Fit the vectorizer on the training data\n",
    "# notice that we dont fit on the whole data as this will cause data leakage\n",
    "tfidf_matrix = tfidf_vectorizer.fit_transform(X_train)\n",
    "feature_names = tfidf_vectorizer.get_feature_names_out()\n",
    "word_to_tfidf = dict(zip(feature_names, tfidf_vectorizer.idf_))"
   ]
  },
  {
   "cell_type": "code",
   "execution_count": 57,
   "id": "ab0131b5",
   "metadata": {},
   "outputs": [
    {
     "data": {
      "text/html": [
       "<div>\n",
       "<style scoped>\n",
       "    .dataframe tbody tr th:only-of-type {\n",
       "        vertical-align: middle;\n",
       "    }\n",
       "\n",
       "    .dataframe tbody tr th {\n",
       "        vertical-align: top;\n",
       "    }\n",
       "\n",
       "    .dataframe thead th {\n",
       "        text-align: right;\n",
       "    }\n",
       "</style>\n",
       "<table border=\"1\" class=\"dataframe\">\n",
       "  <thead>\n",
       "    <tr style=\"text-align: right;\">\n",
       "      <th></th>\n",
       "      <th>20</th>\n",
       "      <th>a4</th>\n",
       "      <th>a5</th>\n",
       "      <th>aamiin</th>\n",
       "      <th>aammiin</th>\n",
       "      <th>aba</th>\n",
       "      <th>abal</th>\n",
       "      <th>abang</th>\n",
       "      <th>abis</th>\n",
       "      <th>absorbs</th>\n",
       "      <th>...</th>\n",
       "      <th>yifuda</th>\n",
       "      <th>yng</th>\n",
       "      <th>you</th>\n",
       "      <th>your</th>\n",
       "      <th>youtube</th>\n",
       "      <th>youu</th>\n",
       "      <th>yowes</th>\n",
       "      <th>yul</th>\n",
       "      <th>zonk</th>\n",
       "      <th>zw</th>\n",
       "    </tr>\n",
       "  </thead>\n",
       "  <tbody>\n",
       "    <tr>\n",
       "      <th>0</th>\n",
       "      <td>0.0</td>\n",
       "      <td>0.0</td>\n",
       "      <td>0.0</td>\n",
       "      <td>0.0</td>\n",
       "      <td>0.0</td>\n",
       "      <td>0.0</td>\n",
       "      <td>0.0</td>\n",
       "      <td>0.0</td>\n",
       "      <td>0.0</td>\n",
       "      <td>0.0</td>\n",
       "      <td>...</td>\n",
       "      <td>0.0</td>\n",
       "      <td>0.0</td>\n",
       "      <td>0.0</td>\n",
       "      <td>0.0</td>\n",
       "      <td>0.0</td>\n",
       "      <td>0.0</td>\n",
       "      <td>0.0</td>\n",
       "      <td>0.0</td>\n",
       "      <td>0.0</td>\n",
       "      <td>0.0</td>\n",
       "    </tr>\n",
       "    <tr>\n",
       "      <th>1</th>\n",
       "      <td>0.0</td>\n",
       "      <td>0.0</td>\n",
       "      <td>0.0</td>\n",
       "      <td>0.0</td>\n",
       "      <td>0.0</td>\n",
       "      <td>0.0</td>\n",
       "      <td>0.0</td>\n",
       "      <td>0.0</td>\n",
       "      <td>0.0</td>\n",
       "      <td>0.0</td>\n",
       "      <td>...</td>\n",
       "      <td>0.0</td>\n",
       "      <td>0.0</td>\n",
       "      <td>0.0</td>\n",
       "      <td>0.0</td>\n",
       "      <td>0.0</td>\n",
       "      <td>0.0</td>\n",
       "      <td>0.0</td>\n",
       "      <td>0.0</td>\n",
       "      <td>0.0</td>\n",
       "      <td>0.0</td>\n",
       "    </tr>\n",
       "    <tr>\n",
       "      <th>2</th>\n",
       "      <td>0.0</td>\n",
       "      <td>0.0</td>\n",
       "      <td>0.0</td>\n",
       "      <td>0.0</td>\n",
       "      <td>0.0</td>\n",
       "      <td>0.0</td>\n",
       "      <td>0.0</td>\n",
       "      <td>0.0</td>\n",
       "      <td>0.0</td>\n",
       "      <td>0.0</td>\n",
       "      <td>...</td>\n",
       "      <td>0.0</td>\n",
       "      <td>0.0</td>\n",
       "      <td>0.0</td>\n",
       "      <td>0.0</td>\n",
       "      <td>0.0</td>\n",
       "      <td>0.0</td>\n",
       "      <td>0.0</td>\n",
       "      <td>0.0</td>\n",
       "      <td>0.0</td>\n",
       "      <td>0.0</td>\n",
       "    </tr>\n",
       "    <tr>\n",
       "      <th>3</th>\n",
       "      <td>0.0</td>\n",
       "      <td>0.0</td>\n",
       "      <td>0.0</td>\n",
       "      <td>0.0</td>\n",
       "      <td>0.0</td>\n",
       "      <td>0.0</td>\n",
       "      <td>0.0</td>\n",
       "      <td>0.0</td>\n",
       "      <td>0.0</td>\n",
       "      <td>0.0</td>\n",
       "      <td>...</td>\n",
       "      <td>0.0</td>\n",
       "      <td>0.0</td>\n",
       "      <td>0.0</td>\n",
       "      <td>0.0</td>\n",
       "      <td>0.0</td>\n",
       "      <td>0.0</td>\n",
       "      <td>0.0</td>\n",
       "      <td>0.0</td>\n",
       "      <td>0.0</td>\n",
       "      <td>0.0</td>\n",
       "    </tr>\n",
       "    <tr>\n",
       "      <th>4</th>\n",
       "      <td>0.0</td>\n",
       "      <td>0.0</td>\n",
       "      <td>0.0</td>\n",
       "      <td>0.0</td>\n",
       "      <td>0.0</td>\n",
       "      <td>0.0</td>\n",
       "      <td>0.0</td>\n",
       "      <td>0.0</td>\n",
       "      <td>0.0</td>\n",
       "      <td>0.0</td>\n",
       "      <td>...</td>\n",
       "      <td>0.0</td>\n",
       "      <td>0.0</td>\n",
       "      <td>0.0</td>\n",
       "      <td>0.0</td>\n",
       "      <td>0.0</td>\n",
       "      <td>0.0</td>\n",
       "      <td>0.0</td>\n",
       "      <td>0.0</td>\n",
       "      <td>0.0</td>\n",
       "      <td>0.0</td>\n",
       "    </tr>\n",
       "    <tr>\n",
       "      <th>5</th>\n",
       "      <td>0.0</td>\n",
       "      <td>0.0</td>\n",
       "      <td>0.0</td>\n",
       "      <td>0.0</td>\n",
       "      <td>0.0</td>\n",
       "      <td>0.0</td>\n",
       "      <td>0.0</td>\n",
       "      <td>0.0</td>\n",
       "      <td>0.0</td>\n",
       "      <td>0.0</td>\n",
       "      <td>...</td>\n",
       "      <td>0.0</td>\n",
       "      <td>0.0</td>\n",
       "      <td>0.0</td>\n",
       "      <td>0.0</td>\n",
       "      <td>0.0</td>\n",
       "      <td>0.0</td>\n",
       "      <td>0.0</td>\n",
       "      <td>0.0</td>\n",
       "      <td>0.0</td>\n",
       "      <td>0.0</td>\n",
       "    </tr>\n",
       "    <tr>\n",
       "      <th>6</th>\n",
       "      <td>0.0</td>\n",
       "      <td>0.0</td>\n",
       "      <td>0.0</td>\n",
       "      <td>0.0</td>\n",
       "      <td>0.0</td>\n",
       "      <td>0.0</td>\n",
       "      <td>0.0</td>\n",
       "      <td>0.0</td>\n",
       "      <td>0.0</td>\n",
       "      <td>0.0</td>\n",
       "      <td>...</td>\n",
       "      <td>0.0</td>\n",
       "      <td>0.0</td>\n",
       "      <td>0.0</td>\n",
       "      <td>0.0</td>\n",
       "      <td>0.0</td>\n",
       "      <td>0.0</td>\n",
       "      <td>0.0</td>\n",
       "      <td>0.0</td>\n",
       "      <td>0.0</td>\n",
       "      <td>0.0</td>\n",
       "    </tr>\n",
       "    <tr>\n",
       "      <th>7</th>\n",
       "      <td>0.0</td>\n",
       "      <td>0.0</td>\n",
       "      <td>0.0</td>\n",
       "      <td>0.0</td>\n",
       "      <td>0.0</td>\n",
       "      <td>0.0</td>\n",
       "      <td>0.0</td>\n",
       "      <td>0.0</td>\n",
       "      <td>0.0</td>\n",
       "      <td>0.0</td>\n",
       "      <td>...</td>\n",
       "      <td>0.0</td>\n",
       "      <td>0.0</td>\n",
       "      <td>0.0</td>\n",
       "      <td>0.0</td>\n",
       "      <td>0.0</td>\n",
       "      <td>0.0</td>\n",
       "      <td>0.0</td>\n",
       "      <td>0.0</td>\n",
       "      <td>0.0</td>\n",
       "      <td>0.0</td>\n",
       "    </tr>\n",
       "    <tr>\n",
       "      <th>8</th>\n",
       "      <td>0.0</td>\n",
       "      <td>0.0</td>\n",
       "      <td>0.0</td>\n",
       "      <td>0.0</td>\n",
       "      <td>0.0</td>\n",
       "      <td>0.0</td>\n",
       "      <td>0.0</td>\n",
       "      <td>0.0</td>\n",
       "      <td>0.0</td>\n",
       "      <td>0.0</td>\n",
       "      <td>...</td>\n",
       "      <td>0.0</td>\n",
       "      <td>0.0</td>\n",
       "      <td>0.0</td>\n",
       "      <td>0.0</td>\n",
       "      <td>0.0</td>\n",
       "      <td>0.0</td>\n",
       "      <td>0.0</td>\n",
       "      <td>0.0</td>\n",
       "      <td>0.0</td>\n",
       "      <td>0.0</td>\n",
       "    </tr>\n",
       "    <tr>\n",
       "      <th>9</th>\n",
       "      <td>0.0</td>\n",
       "      <td>0.0</td>\n",
       "      <td>0.0</td>\n",
       "      <td>0.0</td>\n",
       "      <td>0.0</td>\n",
       "      <td>0.0</td>\n",
       "      <td>0.0</td>\n",
       "      <td>0.0</td>\n",
       "      <td>0.0</td>\n",
       "      <td>0.0</td>\n",
       "      <td>...</td>\n",
       "      <td>0.0</td>\n",
       "      <td>0.0</td>\n",
       "      <td>0.0</td>\n",
       "      <td>0.0</td>\n",
       "      <td>0.0</td>\n",
       "      <td>0.0</td>\n",
       "      <td>0.0</td>\n",
       "      <td>0.0</td>\n",
       "      <td>0.0</td>\n",
       "      <td>0.0</td>\n",
       "    </tr>\n",
       "  </tbody>\n",
       "</table>\n",
       "<p>10 rows × 4035 columns</p>\n",
       "</div>"
      ],
      "text/plain": [
       "    20   a4   a5  aamiin  aammiin  aba  abal  abang  abis  absorbs  ...  \\\n",
       "0  0.0  0.0  0.0     0.0      0.0  0.0   0.0    0.0   0.0      0.0  ...   \n",
       "1  0.0  0.0  0.0     0.0      0.0  0.0   0.0    0.0   0.0      0.0  ...   \n",
       "2  0.0  0.0  0.0     0.0      0.0  0.0   0.0    0.0   0.0      0.0  ...   \n",
       "3  0.0  0.0  0.0     0.0      0.0  0.0   0.0    0.0   0.0      0.0  ...   \n",
       "4  0.0  0.0  0.0     0.0      0.0  0.0   0.0    0.0   0.0      0.0  ...   \n",
       "5  0.0  0.0  0.0     0.0      0.0  0.0   0.0    0.0   0.0      0.0  ...   \n",
       "6  0.0  0.0  0.0     0.0      0.0  0.0   0.0    0.0   0.0      0.0  ...   \n",
       "7  0.0  0.0  0.0     0.0      0.0  0.0   0.0    0.0   0.0      0.0  ...   \n",
       "8  0.0  0.0  0.0     0.0      0.0  0.0   0.0    0.0   0.0      0.0  ...   \n",
       "9  0.0  0.0  0.0     0.0      0.0  0.0   0.0    0.0   0.0      0.0  ...   \n",
       "\n",
       "   yifuda  yng  you  your  youtube  youu  yowes  yul  zonk   zw  \n",
       "0     0.0  0.0  0.0   0.0      0.0   0.0    0.0  0.0   0.0  0.0  \n",
       "1     0.0  0.0  0.0   0.0      0.0   0.0    0.0  0.0   0.0  0.0  \n",
       "2     0.0  0.0  0.0   0.0      0.0   0.0    0.0  0.0   0.0  0.0  \n",
       "3     0.0  0.0  0.0   0.0      0.0   0.0    0.0  0.0   0.0  0.0  \n",
       "4     0.0  0.0  0.0   0.0      0.0   0.0    0.0  0.0   0.0  0.0  \n",
       "5     0.0  0.0  0.0   0.0      0.0   0.0    0.0  0.0   0.0  0.0  \n",
       "6     0.0  0.0  0.0   0.0      0.0   0.0    0.0  0.0   0.0  0.0  \n",
       "7     0.0  0.0  0.0   0.0      0.0   0.0    0.0  0.0   0.0  0.0  \n",
       "8     0.0  0.0  0.0   0.0      0.0   0.0    0.0  0.0   0.0  0.0  \n",
       "9     0.0  0.0  0.0   0.0      0.0   0.0    0.0  0.0   0.0  0.0  \n",
       "\n",
       "[10 rows x 4035 columns]"
      ]
     },
     "execution_count": 57,
     "metadata": {},
     "output_type": "execute_result"
    }
   ],
   "source": [
    "pd.DataFrame(tfidf_matrix.toarray(), columns=feature_names).head(10)"
   ]
  },
  {
   "cell_type": "code",
   "execution_count": 63,
   "id": "cf007efc",
   "metadata": {},
   "outputs": [],
   "source": [
    "def get_document_vector_tfidf(text, vector_size=300):\n",
    "    sentence_words = text.split()\n",
    "\n",
    "    # Get vectors and weights for each word\n",
    "    word_vectors_list = []\n",
    "    word_weights = []\n",
    "\n",
    "    for word in sentence_words:\n",
    "        if word in word_vectors and word in word_to_tfidf:\n",
    "            word_vectors_list.append(word_vectors[word])\n",
    "            word_weights.append(word_to_tfidf[word])\n",
    "\n",
    "    if not word_vectors_list:\n",
    "        return np.zeros(vector_size)\n",
    "\n",
    "    word_vectors_array = np.array(word_vectors_list)\n",
    "    word_weights = np.array(word_weights)\n",
    "\n",
    "    # normalize weights\n",
    "    word_weights = word_weights / np.sum(word_weights)\n",
    "\n",
    "    # calculate weighted average (i.e. the fasttext vector times the tfidf weight for each word)\n",
    "    weighted_average = np.zeros(vector_size)\n",
    "    for i, vector in enumerate(word_vectors_array):\n",
    "        weighted_average += vector * word_weights[i]\n",
    "\n",
    "    return weighted_average"
   ]
  },
  {
   "cell_type": "code",
   "execution_count": 64,
   "id": "287ac80a",
   "metadata": {},
   "outputs": [
    {
     "data": {
      "text/plain": [
       "((2842, 300), (355, 300), (356, 300))"
      ]
     },
     "execution_count": 64,
     "metadata": {},
     "output_type": "execute_result"
    }
   ],
   "source": [
    "X_train_tfidf_ft = np.array([get_document_vector_tfidf(review) for review in X_train])\n",
    "X_val_tfidf_ft = np.array([get_document_vector_tfidf(review) for review in X_val])\n",
    "X_test_tfidf_ft = np.array([get_document_vector_tfidf(review) for review in X_test])\n",
    "X_train_tfidf_ft.shape, X_val_tfidf_ft.shape, X_test_tfidf_ft.shape"
   ]
  },
  {
   "cell_type": "markdown",
   "id": "4d915e79",
   "metadata": {},
   "source": [
    "## Training Model"
   ]
  },
  {
   "cell_type": "markdown",
   "id": "53d460b7",
   "metadata": {},
   "source": [
    "### XGBoost"
   ]
  },
  {
   "cell_type": "code",
   "execution_count": 72,
   "id": "de27ea0a",
   "metadata": {},
   "outputs": [],
   "source": [
    "from xgboost import XGBClassifier, callback\n",
    "\n",
    "def create_xgboost(**kwargs):\n",
    "    return XGBClassifier(\n",
    "        n_estimators=100,\n",
    "        max_depth=6,\n",
    "        learning_rate=0.1,\n",
    "        objective='multi:softmax',\n",
    "        num_class=len(le.classes_),\n",
    "        random_state=42,\n",
    "        early_stopping_rounds=10,\n",
    "        eval_metric='mlogloss',\n",
    "        **kwargs\n",
    "    )\n",
    "\n",
    "xgb_ft = create_xgboost()\n",
    "xgb_tfidf_ft = create_xgboost()"
   ]
  },
  {
   "cell_type": "code",
   "execution_count": 73,
   "id": "2cccbf18",
   "metadata": {},
   "outputs": [
    {
     "name": "stdout",
     "output_type": "stream",
     "text": [
      "[0]\tvalidation_0-mlogloss:0.98984\n",
      "[1]\tvalidation_0-mlogloss:0.89848\n",
      "[2]\tvalidation_0-mlogloss:0.82181\n",
      "[3]\tvalidation_0-mlogloss:0.75550\n",
      "[4]\tvalidation_0-mlogloss:0.69934\n",
      "[5]\tvalidation_0-mlogloss:0.65154\n",
      "[6]\tvalidation_0-mlogloss:0.60937\n",
      "[7]\tvalidation_0-mlogloss:0.57328\n",
      "[8]\tvalidation_0-mlogloss:0.54120\n",
      "[9]\tvalidation_0-mlogloss:0.51316\n",
      "[10]\tvalidation_0-mlogloss:0.48760\n",
      "[11]\tvalidation_0-mlogloss:0.46464\n",
      "[12]\tvalidation_0-mlogloss:0.44518\n",
      "[13]\tvalidation_0-mlogloss:0.42785\n",
      "[14]\tvalidation_0-mlogloss:0.41219\n",
      "[15]\tvalidation_0-mlogloss:0.39739\n",
      "[16]\tvalidation_0-mlogloss:0.38546\n",
      "[17]\tvalidation_0-mlogloss:0.37350\n",
      "[18]\tvalidation_0-mlogloss:0.36252\n",
      "[19]\tvalidation_0-mlogloss:0.35376\n",
      "[20]\tvalidation_0-mlogloss:0.34548\n",
      "[21]\tvalidation_0-mlogloss:0.33932\n",
      "[22]\tvalidation_0-mlogloss:0.33328\n",
      "[23]\tvalidation_0-mlogloss:0.32677\n",
      "[24]\tvalidation_0-mlogloss:0.32144\n",
      "[25]\tvalidation_0-mlogloss:0.31761\n",
      "[26]\tvalidation_0-mlogloss:0.31400\n",
      "[27]\tvalidation_0-mlogloss:0.31066\n",
      "[28]\tvalidation_0-mlogloss:0.30859\n",
      "[29]\tvalidation_0-mlogloss:0.30711\n",
      "[30]\tvalidation_0-mlogloss:0.30498\n",
      "[31]\tvalidation_0-mlogloss:0.30273\n",
      "[32]\tvalidation_0-mlogloss:0.30096\n",
      "[33]\tvalidation_0-mlogloss:0.30028\n",
      "[34]\tvalidation_0-mlogloss:0.29931\n",
      "[35]\tvalidation_0-mlogloss:0.29835\n",
      "[36]\tvalidation_0-mlogloss:0.29806\n",
      "[37]\tvalidation_0-mlogloss:0.29631\n",
      "[38]\tvalidation_0-mlogloss:0.29657\n",
      "[39]\tvalidation_0-mlogloss:0.29641\n",
      "[40]\tvalidation_0-mlogloss:0.29613\n",
      "[41]\tvalidation_0-mlogloss:0.29659\n",
      "[42]\tvalidation_0-mlogloss:0.29659\n",
      "[43]\tvalidation_0-mlogloss:0.29736\n",
      "[44]\tvalidation_0-mlogloss:0.29737\n",
      "[45]\tvalidation_0-mlogloss:0.29873\n",
      "[46]\tvalidation_0-mlogloss:0.29818\n",
      "[47]\tvalidation_0-mlogloss:0.29803\n",
      "[48]\tvalidation_0-mlogloss:0.29858\n",
      "[49]\tvalidation_0-mlogloss:0.30023\n",
      "[50]\tvalidation_0-mlogloss:0.29984\n"
     ]
    },
    {
     "data": {
      "text/html": [
       "<style>#sk-container-id-1 {\n",
       "  /* Definition of color scheme common for light and dark mode */\n",
       "  --sklearn-color-text: #000;\n",
       "  --sklearn-color-text-muted: #666;\n",
       "  --sklearn-color-line: gray;\n",
       "  /* Definition of color scheme for unfitted estimators */\n",
       "  --sklearn-color-unfitted-level-0: #fff5e6;\n",
       "  --sklearn-color-unfitted-level-1: #f6e4d2;\n",
       "  --sklearn-color-unfitted-level-2: #ffe0b3;\n",
       "  --sklearn-color-unfitted-level-3: chocolate;\n",
       "  /* Definition of color scheme for fitted estimators */\n",
       "  --sklearn-color-fitted-level-0: #f0f8ff;\n",
       "  --sklearn-color-fitted-level-1: #d4ebff;\n",
       "  --sklearn-color-fitted-level-2: #b3dbfd;\n",
       "  --sklearn-color-fitted-level-3: cornflowerblue;\n",
       "\n",
       "  /* Specific color for light theme */\n",
       "  --sklearn-color-text-on-default-background: var(--sg-text-color, var(--theme-code-foreground, var(--jp-content-font-color1, black)));\n",
       "  --sklearn-color-background: var(--sg-background-color, var(--theme-background, var(--jp-layout-color0, white)));\n",
       "  --sklearn-color-border-box: var(--sg-text-color, var(--theme-code-foreground, var(--jp-content-font-color1, black)));\n",
       "  --sklearn-color-icon: #696969;\n",
       "\n",
       "  @media (prefers-color-scheme: dark) {\n",
       "    /* Redefinition of color scheme for dark theme */\n",
       "    --sklearn-color-text-on-default-background: var(--sg-text-color, var(--theme-code-foreground, var(--jp-content-font-color1, white)));\n",
       "    --sklearn-color-background: var(--sg-background-color, var(--theme-background, var(--jp-layout-color0, #111)));\n",
       "    --sklearn-color-border-box: var(--sg-text-color, var(--theme-code-foreground, var(--jp-content-font-color1, white)));\n",
       "    --sklearn-color-icon: #878787;\n",
       "  }\n",
       "}\n",
       "\n",
       "#sk-container-id-1 {\n",
       "  color: var(--sklearn-color-text);\n",
       "}\n",
       "\n",
       "#sk-container-id-1 pre {\n",
       "  padding: 0;\n",
       "}\n",
       "\n",
       "#sk-container-id-1 input.sk-hidden--visually {\n",
       "  border: 0;\n",
       "  clip: rect(1px 1px 1px 1px);\n",
       "  clip: rect(1px, 1px, 1px, 1px);\n",
       "  height: 1px;\n",
       "  margin: -1px;\n",
       "  overflow: hidden;\n",
       "  padding: 0;\n",
       "  position: absolute;\n",
       "  width: 1px;\n",
       "}\n",
       "\n",
       "#sk-container-id-1 div.sk-dashed-wrapped {\n",
       "  border: 1px dashed var(--sklearn-color-line);\n",
       "  margin: 0 0.4em 0.5em 0.4em;\n",
       "  box-sizing: border-box;\n",
       "  padding-bottom: 0.4em;\n",
       "  background-color: var(--sklearn-color-background);\n",
       "}\n",
       "\n",
       "#sk-container-id-1 div.sk-container {\n",
       "  /* jupyter's `normalize.less` sets `[hidden] { display: none; }`\n",
       "     but bootstrap.min.css set `[hidden] { display: none !important; }`\n",
       "     so we also need the `!important` here to be able to override the\n",
       "     default hidden behavior on the sphinx rendered scikit-learn.org.\n",
       "     See: https://github.com/scikit-learn/scikit-learn/issues/21755 */\n",
       "  display: inline-block !important;\n",
       "  position: relative;\n",
       "}\n",
       "\n",
       "#sk-container-id-1 div.sk-text-repr-fallback {\n",
       "  display: none;\n",
       "}\n",
       "\n",
       "div.sk-parallel-item,\n",
       "div.sk-serial,\n",
       "div.sk-item {\n",
       "  /* draw centered vertical line to link estimators */\n",
       "  background-image: linear-gradient(var(--sklearn-color-text-on-default-background), var(--sklearn-color-text-on-default-background));\n",
       "  background-size: 2px 100%;\n",
       "  background-repeat: no-repeat;\n",
       "  background-position: center center;\n",
       "}\n",
       "\n",
       "/* Parallel-specific style estimator block */\n",
       "\n",
       "#sk-container-id-1 div.sk-parallel-item::after {\n",
       "  content: \"\";\n",
       "  width: 100%;\n",
       "  border-bottom: 2px solid var(--sklearn-color-text-on-default-background);\n",
       "  flex-grow: 1;\n",
       "}\n",
       "\n",
       "#sk-container-id-1 div.sk-parallel {\n",
       "  display: flex;\n",
       "  align-items: stretch;\n",
       "  justify-content: center;\n",
       "  background-color: var(--sklearn-color-background);\n",
       "  position: relative;\n",
       "}\n",
       "\n",
       "#sk-container-id-1 div.sk-parallel-item {\n",
       "  display: flex;\n",
       "  flex-direction: column;\n",
       "}\n",
       "\n",
       "#sk-container-id-1 div.sk-parallel-item:first-child::after {\n",
       "  align-self: flex-end;\n",
       "  width: 50%;\n",
       "}\n",
       "\n",
       "#sk-container-id-1 div.sk-parallel-item:last-child::after {\n",
       "  align-self: flex-start;\n",
       "  width: 50%;\n",
       "}\n",
       "\n",
       "#sk-container-id-1 div.sk-parallel-item:only-child::after {\n",
       "  width: 0;\n",
       "}\n",
       "\n",
       "/* Serial-specific style estimator block */\n",
       "\n",
       "#sk-container-id-1 div.sk-serial {\n",
       "  display: flex;\n",
       "  flex-direction: column;\n",
       "  align-items: center;\n",
       "  background-color: var(--sklearn-color-background);\n",
       "  padding-right: 1em;\n",
       "  padding-left: 1em;\n",
       "}\n",
       "\n",
       "\n",
       "/* Toggleable style: style used for estimator/Pipeline/ColumnTransformer box that is\n",
       "clickable and can be expanded/collapsed.\n",
       "- Pipeline and ColumnTransformer use this feature and define the default style\n",
       "- Estimators will overwrite some part of the style using the `sk-estimator` class\n",
       "*/\n",
       "\n",
       "/* Pipeline and ColumnTransformer style (default) */\n",
       "\n",
       "#sk-container-id-1 div.sk-toggleable {\n",
       "  /* Default theme specific background. It is overwritten whether we have a\n",
       "  specific estimator or a Pipeline/ColumnTransformer */\n",
       "  background-color: var(--sklearn-color-background);\n",
       "}\n",
       "\n",
       "/* Toggleable label */\n",
       "#sk-container-id-1 label.sk-toggleable__label {\n",
       "  cursor: pointer;\n",
       "  display: flex;\n",
       "  width: 100%;\n",
       "  margin-bottom: 0;\n",
       "  padding: 0.5em;\n",
       "  box-sizing: border-box;\n",
       "  text-align: center;\n",
       "  align-items: start;\n",
       "  justify-content: space-between;\n",
       "  gap: 0.5em;\n",
       "}\n",
       "\n",
       "#sk-container-id-1 label.sk-toggleable__label .caption {\n",
       "  font-size: 0.6rem;\n",
       "  font-weight: lighter;\n",
       "  color: var(--sklearn-color-text-muted);\n",
       "}\n",
       "\n",
       "#sk-container-id-1 label.sk-toggleable__label-arrow:before {\n",
       "  /* Arrow on the left of the label */\n",
       "  content: \"▸\";\n",
       "  float: left;\n",
       "  margin-right: 0.25em;\n",
       "  color: var(--sklearn-color-icon);\n",
       "}\n",
       "\n",
       "#sk-container-id-1 label.sk-toggleable__label-arrow:hover:before {\n",
       "  color: var(--sklearn-color-text);\n",
       "}\n",
       "\n",
       "/* Toggleable content - dropdown */\n",
       "\n",
       "#sk-container-id-1 div.sk-toggleable__content {\n",
       "  max-height: 0;\n",
       "  max-width: 0;\n",
       "  overflow: hidden;\n",
       "  text-align: left;\n",
       "  /* unfitted */\n",
       "  background-color: var(--sklearn-color-unfitted-level-0);\n",
       "}\n",
       "\n",
       "#sk-container-id-1 div.sk-toggleable__content.fitted {\n",
       "  /* fitted */\n",
       "  background-color: var(--sklearn-color-fitted-level-0);\n",
       "}\n",
       "\n",
       "#sk-container-id-1 div.sk-toggleable__content pre {\n",
       "  margin: 0.2em;\n",
       "  border-radius: 0.25em;\n",
       "  color: var(--sklearn-color-text);\n",
       "  /* unfitted */\n",
       "  background-color: var(--sklearn-color-unfitted-level-0);\n",
       "}\n",
       "\n",
       "#sk-container-id-1 div.sk-toggleable__content.fitted pre {\n",
       "  /* unfitted */\n",
       "  background-color: var(--sklearn-color-fitted-level-0);\n",
       "}\n",
       "\n",
       "#sk-container-id-1 input.sk-toggleable__control:checked~div.sk-toggleable__content {\n",
       "  /* Expand drop-down */\n",
       "  max-height: 200px;\n",
       "  max-width: 100%;\n",
       "  overflow: auto;\n",
       "}\n",
       "\n",
       "#sk-container-id-1 input.sk-toggleable__control:checked~label.sk-toggleable__label-arrow:before {\n",
       "  content: \"▾\";\n",
       "}\n",
       "\n",
       "/* Pipeline/ColumnTransformer-specific style */\n",
       "\n",
       "#sk-container-id-1 div.sk-label input.sk-toggleable__control:checked~label.sk-toggleable__label {\n",
       "  color: var(--sklearn-color-text);\n",
       "  background-color: var(--sklearn-color-unfitted-level-2);\n",
       "}\n",
       "\n",
       "#sk-container-id-1 div.sk-label.fitted input.sk-toggleable__control:checked~label.sk-toggleable__label {\n",
       "  background-color: var(--sklearn-color-fitted-level-2);\n",
       "}\n",
       "\n",
       "/* Estimator-specific style */\n",
       "\n",
       "/* Colorize estimator box */\n",
       "#sk-container-id-1 div.sk-estimator input.sk-toggleable__control:checked~label.sk-toggleable__label {\n",
       "  /* unfitted */\n",
       "  background-color: var(--sklearn-color-unfitted-level-2);\n",
       "}\n",
       "\n",
       "#sk-container-id-1 div.sk-estimator.fitted input.sk-toggleable__control:checked~label.sk-toggleable__label {\n",
       "  /* fitted */\n",
       "  background-color: var(--sklearn-color-fitted-level-2);\n",
       "}\n",
       "\n",
       "#sk-container-id-1 div.sk-label label.sk-toggleable__label,\n",
       "#sk-container-id-1 div.sk-label label {\n",
       "  /* The background is the default theme color */\n",
       "  color: var(--sklearn-color-text-on-default-background);\n",
       "}\n",
       "\n",
       "/* On hover, darken the color of the background */\n",
       "#sk-container-id-1 div.sk-label:hover label.sk-toggleable__label {\n",
       "  color: var(--sklearn-color-text);\n",
       "  background-color: var(--sklearn-color-unfitted-level-2);\n",
       "}\n",
       "\n",
       "/* Label box, darken color on hover, fitted */\n",
       "#sk-container-id-1 div.sk-label.fitted:hover label.sk-toggleable__label.fitted {\n",
       "  color: var(--sklearn-color-text);\n",
       "  background-color: var(--sklearn-color-fitted-level-2);\n",
       "}\n",
       "\n",
       "/* Estimator label */\n",
       "\n",
       "#sk-container-id-1 div.sk-label label {\n",
       "  font-family: monospace;\n",
       "  font-weight: bold;\n",
       "  display: inline-block;\n",
       "  line-height: 1.2em;\n",
       "}\n",
       "\n",
       "#sk-container-id-1 div.sk-label-container {\n",
       "  text-align: center;\n",
       "}\n",
       "\n",
       "/* Estimator-specific */\n",
       "#sk-container-id-1 div.sk-estimator {\n",
       "  font-family: monospace;\n",
       "  border: 1px dotted var(--sklearn-color-border-box);\n",
       "  border-radius: 0.25em;\n",
       "  box-sizing: border-box;\n",
       "  margin-bottom: 0.5em;\n",
       "  /* unfitted */\n",
       "  background-color: var(--sklearn-color-unfitted-level-0);\n",
       "}\n",
       "\n",
       "#sk-container-id-1 div.sk-estimator.fitted {\n",
       "  /* fitted */\n",
       "  background-color: var(--sklearn-color-fitted-level-0);\n",
       "}\n",
       "\n",
       "/* on hover */\n",
       "#sk-container-id-1 div.sk-estimator:hover {\n",
       "  /* unfitted */\n",
       "  background-color: var(--sklearn-color-unfitted-level-2);\n",
       "}\n",
       "\n",
       "#sk-container-id-1 div.sk-estimator.fitted:hover {\n",
       "  /* fitted */\n",
       "  background-color: var(--sklearn-color-fitted-level-2);\n",
       "}\n",
       "\n",
       "/* Specification for estimator info (e.g. \"i\" and \"?\") */\n",
       "\n",
       "/* Common style for \"i\" and \"?\" */\n",
       "\n",
       ".sk-estimator-doc-link,\n",
       "a:link.sk-estimator-doc-link,\n",
       "a:visited.sk-estimator-doc-link {\n",
       "  float: right;\n",
       "  font-size: smaller;\n",
       "  line-height: 1em;\n",
       "  font-family: monospace;\n",
       "  background-color: var(--sklearn-color-background);\n",
       "  border-radius: 1em;\n",
       "  height: 1em;\n",
       "  width: 1em;\n",
       "  text-decoration: none !important;\n",
       "  margin-left: 0.5em;\n",
       "  text-align: center;\n",
       "  /* unfitted */\n",
       "  border: var(--sklearn-color-unfitted-level-1) 1pt solid;\n",
       "  color: var(--sklearn-color-unfitted-level-1);\n",
       "}\n",
       "\n",
       ".sk-estimator-doc-link.fitted,\n",
       "a:link.sk-estimator-doc-link.fitted,\n",
       "a:visited.sk-estimator-doc-link.fitted {\n",
       "  /* fitted */\n",
       "  border: var(--sklearn-color-fitted-level-1) 1pt solid;\n",
       "  color: var(--sklearn-color-fitted-level-1);\n",
       "}\n",
       "\n",
       "/* On hover */\n",
       "div.sk-estimator:hover .sk-estimator-doc-link:hover,\n",
       ".sk-estimator-doc-link:hover,\n",
       "div.sk-label-container:hover .sk-estimator-doc-link:hover,\n",
       ".sk-estimator-doc-link:hover {\n",
       "  /* unfitted */\n",
       "  background-color: var(--sklearn-color-unfitted-level-3);\n",
       "  color: var(--sklearn-color-background);\n",
       "  text-decoration: none;\n",
       "}\n",
       "\n",
       "div.sk-estimator.fitted:hover .sk-estimator-doc-link.fitted:hover,\n",
       ".sk-estimator-doc-link.fitted:hover,\n",
       "div.sk-label-container:hover .sk-estimator-doc-link.fitted:hover,\n",
       ".sk-estimator-doc-link.fitted:hover {\n",
       "  /* fitted */\n",
       "  background-color: var(--sklearn-color-fitted-level-3);\n",
       "  color: var(--sklearn-color-background);\n",
       "  text-decoration: none;\n",
       "}\n",
       "\n",
       "/* Span, style for the box shown on hovering the info icon */\n",
       ".sk-estimator-doc-link span {\n",
       "  display: none;\n",
       "  z-index: 9999;\n",
       "  position: relative;\n",
       "  font-weight: normal;\n",
       "  right: .2ex;\n",
       "  padding: .5ex;\n",
       "  margin: .5ex;\n",
       "  width: min-content;\n",
       "  min-width: 20ex;\n",
       "  max-width: 50ex;\n",
       "  color: var(--sklearn-color-text);\n",
       "  box-shadow: 2pt 2pt 4pt #999;\n",
       "  /* unfitted */\n",
       "  background: var(--sklearn-color-unfitted-level-0);\n",
       "  border: .5pt solid var(--sklearn-color-unfitted-level-3);\n",
       "}\n",
       "\n",
       ".sk-estimator-doc-link.fitted span {\n",
       "  /* fitted */\n",
       "  background: var(--sklearn-color-fitted-level-0);\n",
       "  border: var(--sklearn-color-fitted-level-3);\n",
       "}\n",
       "\n",
       ".sk-estimator-doc-link:hover span {\n",
       "  display: block;\n",
       "}\n",
       "\n",
       "/* \"?\"-specific style due to the `<a>` HTML tag */\n",
       "\n",
       "#sk-container-id-1 a.estimator_doc_link {\n",
       "  float: right;\n",
       "  font-size: 1rem;\n",
       "  line-height: 1em;\n",
       "  font-family: monospace;\n",
       "  background-color: var(--sklearn-color-background);\n",
       "  border-radius: 1rem;\n",
       "  height: 1rem;\n",
       "  width: 1rem;\n",
       "  text-decoration: none;\n",
       "  /* unfitted */\n",
       "  color: var(--sklearn-color-unfitted-level-1);\n",
       "  border: var(--sklearn-color-unfitted-level-1) 1pt solid;\n",
       "}\n",
       "\n",
       "#sk-container-id-1 a.estimator_doc_link.fitted {\n",
       "  /* fitted */\n",
       "  border: var(--sklearn-color-fitted-level-1) 1pt solid;\n",
       "  color: var(--sklearn-color-fitted-level-1);\n",
       "}\n",
       "\n",
       "/* On hover */\n",
       "#sk-container-id-1 a.estimator_doc_link:hover {\n",
       "  /* unfitted */\n",
       "  background-color: var(--sklearn-color-unfitted-level-3);\n",
       "  color: var(--sklearn-color-background);\n",
       "  text-decoration: none;\n",
       "}\n",
       "\n",
       "#sk-container-id-1 a.estimator_doc_link.fitted:hover {\n",
       "  /* fitted */\n",
       "  background-color: var(--sklearn-color-fitted-level-3);\n",
       "}\n",
       "</style><div id=\"sk-container-id-1\" class=\"sk-top-container\"><div class=\"sk-text-repr-fallback\"><pre>XGBClassifier(base_score=None, booster=None, callbacks=None,\n",
       "              colsample_bylevel=None, colsample_bynode=None,\n",
       "              colsample_bytree=None, device=None, early_stopping_rounds=10,\n",
       "              enable_categorical=False, eval_metric=&#x27;mlogloss&#x27;,\n",
       "              feature_types=None, feature_weights=None, gamma=None,\n",
       "              grow_policy=None, importance_type=None,\n",
       "              interaction_constraints=None, learning_rate=0.1, max_bin=None,\n",
       "              max_cat_threshold=None, max_cat_to_onehot=None,\n",
       "              max_delta_step=None, max_depth=6, max_leaves=None,\n",
       "              min_child_weight=None, missing=nan, monotone_constraints=None,\n",
       "              multi_strategy=None, n_estimators=100, n_jobs=None, num_class=3, ...)</pre><b>In a Jupyter environment, please rerun this cell to show the HTML representation or trust the notebook. <br />On GitHub, the HTML representation is unable to render, please try loading this page with nbviewer.org.</b></div><div class=\"sk-container\" hidden><div class=\"sk-item\"><div class=\"sk-estimator fitted sk-toggleable\"><input class=\"sk-toggleable__control sk-hidden--visually\" id=\"sk-estimator-id-1\" type=\"checkbox\" checked><label for=\"sk-estimator-id-1\" class=\"sk-toggleable__label fitted sk-toggleable__label-arrow\"><div><div>XGBClassifier</div></div><div><a class=\"sk-estimator-doc-link fitted\" rel=\"noreferrer\" target=\"_blank\" href=\"https://xgboost.readthedocs.io/en/release_3.0.0/python/python_api.html#xgboost.XGBClassifier\">?<span>Documentation for XGBClassifier</span></a><span class=\"sk-estimator-doc-link fitted\">i<span>Fitted</span></span></div></label><div class=\"sk-toggleable__content fitted\"><pre>XGBClassifier(base_score=None, booster=None, callbacks=None,\n",
       "              colsample_bylevel=None, colsample_bynode=None,\n",
       "              colsample_bytree=None, device=None, early_stopping_rounds=10,\n",
       "              enable_categorical=False, eval_metric=&#x27;mlogloss&#x27;,\n",
       "              feature_types=None, feature_weights=None, gamma=None,\n",
       "              grow_policy=None, importance_type=None,\n",
       "              interaction_constraints=None, learning_rate=0.1, max_bin=None,\n",
       "              max_cat_threshold=None, max_cat_to_onehot=None,\n",
       "              max_delta_step=None, max_depth=6, max_leaves=None,\n",
       "              min_child_weight=None, missing=nan, monotone_constraints=None,\n",
       "              multi_strategy=None, n_estimators=100, n_jobs=None, num_class=3, ...)</pre></div> </div></div></div></div>"
      ],
      "text/plain": [
       "XGBClassifier(base_score=None, booster=None, callbacks=None,\n",
       "              colsample_bylevel=None, colsample_bynode=None,\n",
       "              colsample_bytree=None, device=None, early_stopping_rounds=10,\n",
       "              enable_categorical=False, eval_metric='mlogloss',\n",
       "              feature_types=None, feature_weights=None, gamma=None,\n",
       "              grow_policy=None, importance_type=None,\n",
       "              interaction_constraints=None, learning_rate=0.1, max_bin=None,\n",
       "              max_cat_threshold=None, max_cat_to_onehot=None,\n",
       "              max_delta_step=None, max_depth=6, max_leaves=None,\n",
       "              min_child_weight=None, missing=nan, monotone_constraints=None,\n",
       "              multi_strategy=None, n_estimators=100, n_jobs=None, num_class=3, ...)"
      ]
     },
     "execution_count": 73,
     "metadata": {},
     "output_type": "execute_result"
    }
   ],
   "source": [
    "xgb_ft.fit(X_train_ft, y_train,\n",
    "           eval_set=[(X_val_ft, y_val)],\n",
    "           verbose=True)"
   ]
  },
  {
   "cell_type": "code",
   "execution_count": 75,
   "id": "90ca6376",
   "metadata": {},
   "outputs": [
    {
     "name": "stdout",
     "output_type": "stream",
     "text": [
      "[0]\tvalidation_0-mlogloss:0.99052\n",
      "[1]\tvalidation_0-mlogloss:0.90124\n",
      "[2]\tvalidation_0-mlogloss:0.82470\n",
      "[3]\tvalidation_0-mlogloss:0.75905\n",
      "[4]\tvalidation_0-mlogloss:0.70277\n",
      "[5]\tvalidation_0-mlogloss:0.65368\n",
      "[6]\tvalidation_0-mlogloss:0.61054\n",
      "[7]\tvalidation_0-mlogloss:0.57428\n",
      "[8]\tvalidation_0-mlogloss:0.54307\n",
      "[9]\tvalidation_0-mlogloss:0.51378\n",
      "[10]\tvalidation_0-mlogloss:0.48836\n",
      "[11]\tvalidation_0-mlogloss:0.46724\n",
      "[12]\tvalidation_0-mlogloss:0.44859\n",
      "[13]\tvalidation_0-mlogloss:0.43124\n",
      "[14]\tvalidation_0-mlogloss:0.41544\n",
      "[15]\tvalidation_0-mlogloss:0.40292\n",
      "[16]\tvalidation_0-mlogloss:0.38978\n",
      "[17]\tvalidation_0-mlogloss:0.37820\n",
      "[18]\tvalidation_0-mlogloss:0.36745\n",
      "[19]\tvalidation_0-mlogloss:0.35866\n",
      "[20]\tvalidation_0-mlogloss:0.35051\n",
      "[21]\tvalidation_0-mlogloss:0.34462\n",
      "[22]\tvalidation_0-mlogloss:0.33846\n",
      "[23]\tvalidation_0-mlogloss:0.33317\n",
      "[24]\tvalidation_0-mlogloss:0.32787\n",
      "[25]\tvalidation_0-mlogloss:0.32390\n",
      "[26]\tvalidation_0-mlogloss:0.32077\n",
      "[27]\tvalidation_0-mlogloss:0.31816\n",
      "[28]\tvalidation_0-mlogloss:0.31624\n",
      "[29]\tvalidation_0-mlogloss:0.31508\n",
      "[30]\tvalidation_0-mlogloss:0.31381\n",
      "[31]\tvalidation_0-mlogloss:0.31271\n",
      "[32]\tvalidation_0-mlogloss:0.31227\n",
      "[33]\tvalidation_0-mlogloss:0.31191\n",
      "[34]\tvalidation_0-mlogloss:0.31200\n",
      "[35]\tvalidation_0-mlogloss:0.31089\n",
      "[36]\tvalidation_0-mlogloss:0.31028\n",
      "[37]\tvalidation_0-mlogloss:0.30973\n",
      "[38]\tvalidation_0-mlogloss:0.30983\n",
      "[39]\tvalidation_0-mlogloss:0.31045\n",
      "[40]\tvalidation_0-mlogloss:0.31031\n",
      "[41]\tvalidation_0-mlogloss:0.30993\n",
      "[42]\tvalidation_0-mlogloss:0.30997\n",
      "[43]\tvalidation_0-mlogloss:0.31037\n",
      "[44]\tvalidation_0-mlogloss:0.31093\n",
      "[45]\tvalidation_0-mlogloss:0.31184\n",
      "[46]\tvalidation_0-mlogloss:0.31151\n",
      "[47]\tvalidation_0-mlogloss:0.31135\n"
     ]
    },
    {
     "data": {
      "text/html": [
       "<style>#sk-container-id-2 {\n",
       "  /* Definition of color scheme common for light and dark mode */\n",
       "  --sklearn-color-text: #000;\n",
       "  --sklearn-color-text-muted: #666;\n",
       "  --sklearn-color-line: gray;\n",
       "  /* Definition of color scheme for unfitted estimators */\n",
       "  --sklearn-color-unfitted-level-0: #fff5e6;\n",
       "  --sklearn-color-unfitted-level-1: #f6e4d2;\n",
       "  --sklearn-color-unfitted-level-2: #ffe0b3;\n",
       "  --sklearn-color-unfitted-level-3: chocolate;\n",
       "  /* Definition of color scheme for fitted estimators */\n",
       "  --sklearn-color-fitted-level-0: #f0f8ff;\n",
       "  --sklearn-color-fitted-level-1: #d4ebff;\n",
       "  --sklearn-color-fitted-level-2: #b3dbfd;\n",
       "  --sklearn-color-fitted-level-3: cornflowerblue;\n",
       "\n",
       "  /* Specific color for light theme */\n",
       "  --sklearn-color-text-on-default-background: var(--sg-text-color, var(--theme-code-foreground, var(--jp-content-font-color1, black)));\n",
       "  --sklearn-color-background: var(--sg-background-color, var(--theme-background, var(--jp-layout-color0, white)));\n",
       "  --sklearn-color-border-box: var(--sg-text-color, var(--theme-code-foreground, var(--jp-content-font-color1, black)));\n",
       "  --sklearn-color-icon: #696969;\n",
       "\n",
       "  @media (prefers-color-scheme: dark) {\n",
       "    /* Redefinition of color scheme for dark theme */\n",
       "    --sklearn-color-text-on-default-background: var(--sg-text-color, var(--theme-code-foreground, var(--jp-content-font-color1, white)));\n",
       "    --sklearn-color-background: var(--sg-background-color, var(--theme-background, var(--jp-layout-color0, #111)));\n",
       "    --sklearn-color-border-box: var(--sg-text-color, var(--theme-code-foreground, var(--jp-content-font-color1, white)));\n",
       "    --sklearn-color-icon: #878787;\n",
       "  }\n",
       "}\n",
       "\n",
       "#sk-container-id-2 {\n",
       "  color: var(--sklearn-color-text);\n",
       "}\n",
       "\n",
       "#sk-container-id-2 pre {\n",
       "  padding: 0;\n",
       "}\n",
       "\n",
       "#sk-container-id-2 input.sk-hidden--visually {\n",
       "  border: 0;\n",
       "  clip: rect(1px 1px 1px 1px);\n",
       "  clip: rect(1px, 1px, 1px, 1px);\n",
       "  height: 1px;\n",
       "  margin: -1px;\n",
       "  overflow: hidden;\n",
       "  padding: 0;\n",
       "  position: absolute;\n",
       "  width: 1px;\n",
       "}\n",
       "\n",
       "#sk-container-id-2 div.sk-dashed-wrapped {\n",
       "  border: 1px dashed var(--sklearn-color-line);\n",
       "  margin: 0 0.4em 0.5em 0.4em;\n",
       "  box-sizing: border-box;\n",
       "  padding-bottom: 0.4em;\n",
       "  background-color: var(--sklearn-color-background);\n",
       "}\n",
       "\n",
       "#sk-container-id-2 div.sk-container {\n",
       "  /* jupyter's `normalize.less` sets `[hidden] { display: none; }`\n",
       "     but bootstrap.min.css set `[hidden] { display: none !important; }`\n",
       "     so we also need the `!important` here to be able to override the\n",
       "     default hidden behavior on the sphinx rendered scikit-learn.org.\n",
       "     See: https://github.com/scikit-learn/scikit-learn/issues/21755 */\n",
       "  display: inline-block !important;\n",
       "  position: relative;\n",
       "}\n",
       "\n",
       "#sk-container-id-2 div.sk-text-repr-fallback {\n",
       "  display: none;\n",
       "}\n",
       "\n",
       "div.sk-parallel-item,\n",
       "div.sk-serial,\n",
       "div.sk-item {\n",
       "  /* draw centered vertical line to link estimators */\n",
       "  background-image: linear-gradient(var(--sklearn-color-text-on-default-background), var(--sklearn-color-text-on-default-background));\n",
       "  background-size: 2px 100%;\n",
       "  background-repeat: no-repeat;\n",
       "  background-position: center center;\n",
       "}\n",
       "\n",
       "/* Parallel-specific style estimator block */\n",
       "\n",
       "#sk-container-id-2 div.sk-parallel-item::after {\n",
       "  content: \"\";\n",
       "  width: 100%;\n",
       "  border-bottom: 2px solid var(--sklearn-color-text-on-default-background);\n",
       "  flex-grow: 1;\n",
       "}\n",
       "\n",
       "#sk-container-id-2 div.sk-parallel {\n",
       "  display: flex;\n",
       "  align-items: stretch;\n",
       "  justify-content: center;\n",
       "  background-color: var(--sklearn-color-background);\n",
       "  position: relative;\n",
       "}\n",
       "\n",
       "#sk-container-id-2 div.sk-parallel-item {\n",
       "  display: flex;\n",
       "  flex-direction: column;\n",
       "}\n",
       "\n",
       "#sk-container-id-2 div.sk-parallel-item:first-child::after {\n",
       "  align-self: flex-end;\n",
       "  width: 50%;\n",
       "}\n",
       "\n",
       "#sk-container-id-2 div.sk-parallel-item:last-child::after {\n",
       "  align-self: flex-start;\n",
       "  width: 50%;\n",
       "}\n",
       "\n",
       "#sk-container-id-2 div.sk-parallel-item:only-child::after {\n",
       "  width: 0;\n",
       "}\n",
       "\n",
       "/* Serial-specific style estimator block */\n",
       "\n",
       "#sk-container-id-2 div.sk-serial {\n",
       "  display: flex;\n",
       "  flex-direction: column;\n",
       "  align-items: center;\n",
       "  background-color: var(--sklearn-color-background);\n",
       "  padding-right: 1em;\n",
       "  padding-left: 1em;\n",
       "}\n",
       "\n",
       "\n",
       "/* Toggleable style: style used for estimator/Pipeline/ColumnTransformer box that is\n",
       "clickable and can be expanded/collapsed.\n",
       "- Pipeline and ColumnTransformer use this feature and define the default style\n",
       "- Estimators will overwrite some part of the style using the `sk-estimator` class\n",
       "*/\n",
       "\n",
       "/* Pipeline and ColumnTransformer style (default) */\n",
       "\n",
       "#sk-container-id-2 div.sk-toggleable {\n",
       "  /* Default theme specific background. It is overwritten whether we have a\n",
       "  specific estimator or a Pipeline/ColumnTransformer */\n",
       "  background-color: var(--sklearn-color-background);\n",
       "}\n",
       "\n",
       "/* Toggleable label */\n",
       "#sk-container-id-2 label.sk-toggleable__label {\n",
       "  cursor: pointer;\n",
       "  display: flex;\n",
       "  width: 100%;\n",
       "  margin-bottom: 0;\n",
       "  padding: 0.5em;\n",
       "  box-sizing: border-box;\n",
       "  text-align: center;\n",
       "  align-items: start;\n",
       "  justify-content: space-between;\n",
       "  gap: 0.5em;\n",
       "}\n",
       "\n",
       "#sk-container-id-2 label.sk-toggleable__label .caption {\n",
       "  font-size: 0.6rem;\n",
       "  font-weight: lighter;\n",
       "  color: var(--sklearn-color-text-muted);\n",
       "}\n",
       "\n",
       "#sk-container-id-2 label.sk-toggleable__label-arrow:before {\n",
       "  /* Arrow on the left of the label */\n",
       "  content: \"▸\";\n",
       "  float: left;\n",
       "  margin-right: 0.25em;\n",
       "  color: var(--sklearn-color-icon);\n",
       "}\n",
       "\n",
       "#sk-container-id-2 label.sk-toggleable__label-arrow:hover:before {\n",
       "  color: var(--sklearn-color-text);\n",
       "}\n",
       "\n",
       "/* Toggleable content - dropdown */\n",
       "\n",
       "#sk-container-id-2 div.sk-toggleable__content {\n",
       "  max-height: 0;\n",
       "  max-width: 0;\n",
       "  overflow: hidden;\n",
       "  text-align: left;\n",
       "  /* unfitted */\n",
       "  background-color: var(--sklearn-color-unfitted-level-0);\n",
       "}\n",
       "\n",
       "#sk-container-id-2 div.sk-toggleable__content.fitted {\n",
       "  /* fitted */\n",
       "  background-color: var(--sklearn-color-fitted-level-0);\n",
       "}\n",
       "\n",
       "#sk-container-id-2 div.sk-toggleable__content pre {\n",
       "  margin: 0.2em;\n",
       "  border-radius: 0.25em;\n",
       "  color: var(--sklearn-color-text);\n",
       "  /* unfitted */\n",
       "  background-color: var(--sklearn-color-unfitted-level-0);\n",
       "}\n",
       "\n",
       "#sk-container-id-2 div.sk-toggleable__content.fitted pre {\n",
       "  /* unfitted */\n",
       "  background-color: var(--sklearn-color-fitted-level-0);\n",
       "}\n",
       "\n",
       "#sk-container-id-2 input.sk-toggleable__control:checked~div.sk-toggleable__content {\n",
       "  /* Expand drop-down */\n",
       "  max-height: 200px;\n",
       "  max-width: 100%;\n",
       "  overflow: auto;\n",
       "}\n",
       "\n",
       "#sk-container-id-2 input.sk-toggleable__control:checked~label.sk-toggleable__label-arrow:before {\n",
       "  content: \"▾\";\n",
       "}\n",
       "\n",
       "/* Pipeline/ColumnTransformer-specific style */\n",
       "\n",
       "#sk-container-id-2 div.sk-label input.sk-toggleable__control:checked~label.sk-toggleable__label {\n",
       "  color: var(--sklearn-color-text);\n",
       "  background-color: var(--sklearn-color-unfitted-level-2);\n",
       "}\n",
       "\n",
       "#sk-container-id-2 div.sk-label.fitted input.sk-toggleable__control:checked~label.sk-toggleable__label {\n",
       "  background-color: var(--sklearn-color-fitted-level-2);\n",
       "}\n",
       "\n",
       "/* Estimator-specific style */\n",
       "\n",
       "/* Colorize estimator box */\n",
       "#sk-container-id-2 div.sk-estimator input.sk-toggleable__control:checked~label.sk-toggleable__label {\n",
       "  /* unfitted */\n",
       "  background-color: var(--sklearn-color-unfitted-level-2);\n",
       "}\n",
       "\n",
       "#sk-container-id-2 div.sk-estimator.fitted input.sk-toggleable__control:checked~label.sk-toggleable__label {\n",
       "  /* fitted */\n",
       "  background-color: var(--sklearn-color-fitted-level-2);\n",
       "}\n",
       "\n",
       "#sk-container-id-2 div.sk-label label.sk-toggleable__label,\n",
       "#sk-container-id-2 div.sk-label label {\n",
       "  /* The background is the default theme color */\n",
       "  color: var(--sklearn-color-text-on-default-background);\n",
       "}\n",
       "\n",
       "/* On hover, darken the color of the background */\n",
       "#sk-container-id-2 div.sk-label:hover label.sk-toggleable__label {\n",
       "  color: var(--sklearn-color-text);\n",
       "  background-color: var(--sklearn-color-unfitted-level-2);\n",
       "}\n",
       "\n",
       "/* Label box, darken color on hover, fitted */\n",
       "#sk-container-id-2 div.sk-label.fitted:hover label.sk-toggleable__label.fitted {\n",
       "  color: var(--sklearn-color-text);\n",
       "  background-color: var(--sklearn-color-fitted-level-2);\n",
       "}\n",
       "\n",
       "/* Estimator label */\n",
       "\n",
       "#sk-container-id-2 div.sk-label label {\n",
       "  font-family: monospace;\n",
       "  font-weight: bold;\n",
       "  display: inline-block;\n",
       "  line-height: 1.2em;\n",
       "}\n",
       "\n",
       "#sk-container-id-2 div.sk-label-container {\n",
       "  text-align: center;\n",
       "}\n",
       "\n",
       "/* Estimator-specific */\n",
       "#sk-container-id-2 div.sk-estimator {\n",
       "  font-family: monospace;\n",
       "  border: 1px dotted var(--sklearn-color-border-box);\n",
       "  border-radius: 0.25em;\n",
       "  box-sizing: border-box;\n",
       "  margin-bottom: 0.5em;\n",
       "  /* unfitted */\n",
       "  background-color: var(--sklearn-color-unfitted-level-0);\n",
       "}\n",
       "\n",
       "#sk-container-id-2 div.sk-estimator.fitted {\n",
       "  /* fitted */\n",
       "  background-color: var(--sklearn-color-fitted-level-0);\n",
       "}\n",
       "\n",
       "/* on hover */\n",
       "#sk-container-id-2 div.sk-estimator:hover {\n",
       "  /* unfitted */\n",
       "  background-color: var(--sklearn-color-unfitted-level-2);\n",
       "}\n",
       "\n",
       "#sk-container-id-2 div.sk-estimator.fitted:hover {\n",
       "  /* fitted */\n",
       "  background-color: var(--sklearn-color-fitted-level-2);\n",
       "}\n",
       "\n",
       "/* Specification for estimator info (e.g. \"i\" and \"?\") */\n",
       "\n",
       "/* Common style for \"i\" and \"?\" */\n",
       "\n",
       ".sk-estimator-doc-link,\n",
       "a:link.sk-estimator-doc-link,\n",
       "a:visited.sk-estimator-doc-link {\n",
       "  float: right;\n",
       "  font-size: smaller;\n",
       "  line-height: 1em;\n",
       "  font-family: monospace;\n",
       "  background-color: var(--sklearn-color-background);\n",
       "  border-radius: 1em;\n",
       "  height: 1em;\n",
       "  width: 1em;\n",
       "  text-decoration: none !important;\n",
       "  margin-left: 0.5em;\n",
       "  text-align: center;\n",
       "  /* unfitted */\n",
       "  border: var(--sklearn-color-unfitted-level-1) 1pt solid;\n",
       "  color: var(--sklearn-color-unfitted-level-1);\n",
       "}\n",
       "\n",
       ".sk-estimator-doc-link.fitted,\n",
       "a:link.sk-estimator-doc-link.fitted,\n",
       "a:visited.sk-estimator-doc-link.fitted {\n",
       "  /* fitted */\n",
       "  border: var(--sklearn-color-fitted-level-1) 1pt solid;\n",
       "  color: var(--sklearn-color-fitted-level-1);\n",
       "}\n",
       "\n",
       "/* On hover */\n",
       "div.sk-estimator:hover .sk-estimator-doc-link:hover,\n",
       ".sk-estimator-doc-link:hover,\n",
       "div.sk-label-container:hover .sk-estimator-doc-link:hover,\n",
       ".sk-estimator-doc-link:hover {\n",
       "  /* unfitted */\n",
       "  background-color: var(--sklearn-color-unfitted-level-3);\n",
       "  color: var(--sklearn-color-background);\n",
       "  text-decoration: none;\n",
       "}\n",
       "\n",
       "div.sk-estimator.fitted:hover .sk-estimator-doc-link.fitted:hover,\n",
       ".sk-estimator-doc-link.fitted:hover,\n",
       "div.sk-label-container:hover .sk-estimator-doc-link.fitted:hover,\n",
       ".sk-estimator-doc-link.fitted:hover {\n",
       "  /* fitted */\n",
       "  background-color: var(--sklearn-color-fitted-level-3);\n",
       "  color: var(--sklearn-color-background);\n",
       "  text-decoration: none;\n",
       "}\n",
       "\n",
       "/* Span, style for the box shown on hovering the info icon */\n",
       ".sk-estimator-doc-link span {\n",
       "  display: none;\n",
       "  z-index: 9999;\n",
       "  position: relative;\n",
       "  font-weight: normal;\n",
       "  right: .2ex;\n",
       "  padding: .5ex;\n",
       "  margin: .5ex;\n",
       "  width: min-content;\n",
       "  min-width: 20ex;\n",
       "  max-width: 50ex;\n",
       "  color: var(--sklearn-color-text);\n",
       "  box-shadow: 2pt 2pt 4pt #999;\n",
       "  /* unfitted */\n",
       "  background: var(--sklearn-color-unfitted-level-0);\n",
       "  border: .5pt solid var(--sklearn-color-unfitted-level-3);\n",
       "}\n",
       "\n",
       ".sk-estimator-doc-link.fitted span {\n",
       "  /* fitted */\n",
       "  background: var(--sklearn-color-fitted-level-0);\n",
       "  border: var(--sklearn-color-fitted-level-3);\n",
       "}\n",
       "\n",
       ".sk-estimator-doc-link:hover span {\n",
       "  display: block;\n",
       "}\n",
       "\n",
       "/* \"?\"-specific style due to the `<a>` HTML tag */\n",
       "\n",
       "#sk-container-id-2 a.estimator_doc_link {\n",
       "  float: right;\n",
       "  font-size: 1rem;\n",
       "  line-height: 1em;\n",
       "  font-family: monospace;\n",
       "  background-color: var(--sklearn-color-background);\n",
       "  border-radius: 1rem;\n",
       "  height: 1rem;\n",
       "  width: 1rem;\n",
       "  text-decoration: none;\n",
       "  /* unfitted */\n",
       "  color: var(--sklearn-color-unfitted-level-1);\n",
       "  border: var(--sklearn-color-unfitted-level-1) 1pt solid;\n",
       "}\n",
       "\n",
       "#sk-container-id-2 a.estimator_doc_link.fitted {\n",
       "  /* fitted */\n",
       "  border: var(--sklearn-color-fitted-level-1) 1pt solid;\n",
       "  color: var(--sklearn-color-fitted-level-1);\n",
       "}\n",
       "\n",
       "/* On hover */\n",
       "#sk-container-id-2 a.estimator_doc_link:hover {\n",
       "  /* unfitted */\n",
       "  background-color: var(--sklearn-color-unfitted-level-3);\n",
       "  color: var(--sklearn-color-background);\n",
       "  text-decoration: none;\n",
       "}\n",
       "\n",
       "#sk-container-id-2 a.estimator_doc_link.fitted:hover {\n",
       "  /* fitted */\n",
       "  background-color: var(--sklearn-color-fitted-level-3);\n",
       "}\n",
       "</style><div id=\"sk-container-id-2\" class=\"sk-top-container\"><div class=\"sk-text-repr-fallback\"><pre>XGBClassifier(base_score=None, booster=None, callbacks=None,\n",
       "              colsample_bylevel=None, colsample_bynode=None,\n",
       "              colsample_bytree=None, device=None, early_stopping_rounds=10,\n",
       "              enable_categorical=False, eval_metric=&#x27;mlogloss&#x27;,\n",
       "              feature_types=None, feature_weights=None, gamma=None,\n",
       "              grow_policy=None, importance_type=None,\n",
       "              interaction_constraints=None, learning_rate=0.1, max_bin=None,\n",
       "              max_cat_threshold=None, max_cat_to_onehot=None,\n",
       "              max_delta_step=None, max_depth=6, max_leaves=None,\n",
       "              min_child_weight=None, missing=nan, monotone_constraints=None,\n",
       "              multi_strategy=None, n_estimators=100, n_jobs=None, num_class=3, ...)</pre><b>In a Jupyter environment, please rerun this cell to show the HTML representation or trust the notebook. <br />On GitHub, the HTML representation is unable to render, please try loading this page with nbviewer.org.</b></div><div class=\"sk-container\" hidden><div class=\"sk-item\"><div class=\"sk-estimator fitted sk-toggleable\"><input class=\"sk-toggleable__control sk-hidden--visually\" id=\"sk-estimator-id-2\" type=\"checkbox\" checked><label for=\"sk-estimator-id-2\" class=\"sk-toggleable__label fitted sk-toggleable__label-arrow\"><div><div>XGBClassifier</div></div><div><a class=\"sk-estimator-doc-link fitted\" rel=\"noreferrer\" target=\"_blank\" href=\"https://xgboost.readthedocs.io/en/release_3.0.0/python/python_api.html#xgboost.XGBClassifier\">?<span>Documentation for XGBClassifier</span></a><span class=\"sk-estimator-doc-link fitted\">i<span>Fitted</span></span></div></label><div class=\"sk-toggleable__content fitted\"><pre>XGBClassifier(base_score=None, booster=None, callbacks=None,\n",
       "              colsample_bylevel=None, colsample_bynode=None,\n",
       "              colsample_bytree=None, device=None, early_stopping_rounds=10,\n",
       "              enable_categorical=False, eval_metric=&#x27;mlogloss&#x27;,\n",
       "              feature_types=None, feature_weights=None, gamma=None,\n",
       "              grow_policy=None, importance_type=None,\n",
       "              interaction_constraints=None, learning_rate=0.1, max_bin=None,\n",
       "              max_cat_threshold=None, max_cat_to_onehot=None,\n",
       "              max_delta_step=None, max_depth=6, max_leaves=None,\n",
       "              min_child_weight=None, missing=nan, monotone_constraints=None,\n",
       "              multi_strategy=None, n_estimators=100, n_jobs=None, num_class=3, ...)</pre></div> </div></div></div></div>"
      ],
      "text/plain": [
       "XGBClassifier(base_score=None, booster=None, callbacks=None,\n",
       "              colsample_bylevel=None, colsample_bynode=None,\n",
       "              colsample_bytree=None, device=None, early_stopping_rounds=10,\n",
       "              enable_categorical=False, eval_metric='mlogloss',\n",
       "              feature_types=None, feature_weights=None, gamma=None,\n",
       "              grow_policy=None, importance_type=None,\n",
       "              interaction_constraints=None, learning_rate=0.1, max_bin=None,\n",
       "              max_cat_threshold=None, max_cat_to_onehot=None,\n",
       "              max_delta_step=None, max_depth=6, max_leaves=None,\n",
       "              min_child_weight=None, missing=nan, monotone_constraints=None,\n",
       "              multi_strategy=None, n_estimators=100, n_jobs=None, num_class=3, ...)"
      ]
     },
     "execution_count": 75,
     "metadata": {},
     "output_type": "execute_result"
    }
   ],
   "source": [
    "xgb_tfidf_ft.fit(X_train_tfidf_ft, y_train,\n",
    "                 eval_set=[(X_val_tfidf_ft, y_val)],\n",
    "                 verbose=True)"
   ]
  },
  {
   "cell_type": "markdown",
   "id": "cb384f82",
   "metadata": {},
   "source": [
    "### Deep Learning"
   ]
  },
  {
   "cell_type": "code",
   "execution_count": 79,
   "id": "6d687b50",
   "metadata": {},
   "outputs": [
    {
     "name": "stderr",
     "output_type": "stream",
     "text": [
      "2025-05-17 13:47:51.841380: I external/local_xla/xla/tsl/cuda/cudart_stub.cc:32] Could not find cuda drivers on your machine, GPU will not be used.\n",
      "2025-05-17 13:47:51.969194: I external/local_xla/xla/tsl/cuda/cudart_stub.cc:32] Could not find cuda drivers on your machine, GPU will not be used.\n",
      "2025-05-17 13:47:52.090280: E external/local_xla/xla/stream_executor/cuda/cuda_fft.cc:467] Unable to register cuFFT factory: Attempting to register factory for plugin cuFFT when one has already been registered\n",
      "WARNING: All log messages before absl::InitializeLog() is called are written to STDERR\n",
      "E0000 00:00:1747489672.184815   77917 cuda_dnn.cc:8579] Unable to register cuDNN factory: Attempting to register factory for plugin cuDNN when one has already been registered\n",
      "E0000 00:00:1747489672.211885   77917 cuda_blas.cc:1407] Unable to register cuBLAS factory: Attempting to register factory for plugin cuBLAS when one has already been registered\n",
      "W0000 00:00:1747489672.421340   77917 computation_placer.cc:177] computation placer already registered. Please check linkage and avoid linking the same target more than once.\n",
      "W0000 00:00:1747489672.421369   77917 computation_placer.cc:177] computation placer already registered. Please check linkage and avoid linking the same target more than once.\n",
      "W0000 00:00:1747489672.421371   77917 computation_placer.cc:177] computation placer already registered. Please check linkage and avoid linking the same target more than once.\n",
      "W0000 00:00:1747489672.421373   77917 computation_placer.cc:177] computation placer already registered. Please check linkage and avoid linking the same target more than once.\n",
      "2025-05-17 13:47:52.447892: I tensorflow/core/platform/cpu_feature_guard.cc:210] This TensorFlow binary is optimized to use available CPU instructions in performance-critical operations.\n",
      "To enable the following instructions: AVX2 FMA, in other operations, rebuild TensorFlow with the appropriate compiler flags.\n",
      "/teamspace/studios/this_studio/product-sentiment/.venv/lib/python3.12/site-packages/keras/src/layers/core/dense.py:87: UserWarning: Do not pass an `input_shape`/`input_dim` argument to a layer. When using Sequential models, prefer using an `Input(shape)` object as the first layer in the model instead.\n",
      "  super().__init__(activity_regularizer=activity_regularizer, **kwargs)\n",
      "2025-05-17 13:48:02.687166: E external/local_xla/xla/stream_executor/cuda/cuda_platform.cc:51] failed call to cuInit: INTERNAL: CUDA error: Failed call to cuInit: UNKNOWN ERROR (303)\n"
     ]
    }
   ],
   "source": [
    "import tensorflow as tf\n",
    "from tensorflow.keras.models import Sequential\n",
    "from tensorflow.keras.layers import Dense, Dropout\n",
    "\n",
    "\n",
    "def create_dl(input_dim, output_dim=len(le.classes_), dropout_rate=0.5):\n",
    "    model = Sequential()\n",
    "    model.add(Dense(512, activation='elu', input_dim=input_dim))\n",
    "    model.add(Dropout(dropout_rate))\n",
    "    model.add(Dense(256, activation='elu'))\n",
    "    model.add(Dropout(dropout_rate))\n",
    "    model.add(Dense(128, activation='elu'))\n",
    "    model.add(Dropout(dropout_rate))\n",
    "    model.add(Dense(output_dim, activation='softmax'))\n",
    "\n",
    "    model.compile(optimizer='adam', loss='sparse_categorical_crossentropy', metrics=['accuracy'])\n",
    "    return model\n",
    "\n",
    "\n",
    "input_dim = 300\n",
    "dl_ft = create_dl(input_dim)\n",
    "dl_tfidf_ft = create_dl(input_dim)"
   ]
  },
  {
   "cell_type": "code",
   "execution_count": 80,
   "id": "1a816b5d",
   "metadata": {},
   "outputs": [
    {
     "name": "stdout",
     "output_type": "stream",
     "text": [
      "Epoch 1/100\n",
      "\u001b[1m89/89\u001b[0m \u001b[32m━━━━━━━━━━━━━━━━━━━━\u001b[0m\u001b[37m\u001b[0m \u001b[1m2s\u001b[0m 7ms/step - accuracy: 0.8583 - loss: 0.4712 - val_accuracy: 0.9042 - val_loss: 0.2967\n",
      "Epoch 2/100\n",
      "\u001b[1m89/89\u001b[0m \u001b[32m━━━━━━━━━━━━━━━━━━━━\u001b[0m\u001b[37m\u001b[0m \u001b[1m0s\u001b[0m 5ms/step - accuracy: 0.9041 - loss: 0.3256 - val_accuracy: 0.9042 - val_loss: 0.3022\n",
      "Epoch 3/100\n",
      "\u001b[1m89/89\u001b[0m \u001b[32m━━━━━━━━━━━━━━━━━━━━\u001b[0m\u001b[37m\u001b[0m \u001b[1m1s\u001b[0m 5ms/step - accuracy: 0.9037 - loss: 0.3075 - val_accuracy: 0.9070 - val_loss: 0.2716\n",
      "Epoch 4/100\n",
      "\u001b[1m89/89\u001b[0m \u001b[32m━━━━━━━━━━━━━━━━━━━━\u001b[0m\u001b[37m\u001b[0m \u001b[1m0s\u001b[0m 5ms/step - accuracy: 0.8962 - loss: 0.3226 - val_accuracy: 0.9099 - val_loss: 0.2743\n",
      "Epoch 5/100\n",
      "\u001b[1m89/89\u001b[0m \u001b[32m━━━━━━━━━━━━━━━━━━━━\u001b[0m\u001b[37m\u001b[0m \u001b[1m0s\u001b[0m 5ms/step - accuracy: 0.9127 - loss: 0.2849 - val_accuracy: 0.9099 - val_loss: 0.2799\n",
      "Epoch 6/100\n",
      "\u001b[1m89/89\u001b[0m \u001b[32m━━━━━━━━━━━━━━━━━━━━\u001b[0m\u001b[37m\u001b[0m \u001b[1m1s\u001b[0m 6ms/step - accuracy: 0.9040 - loss: 0.2990 - val_accuracy: 0.9070 - val_loss: 0.2729\n",
      "Epoch 7/100\n",
      "\u001b[1m89/89\u001b[0m \u001b[32m━━━━━━━━━━━━━━━━━━━━\u001b[0m\u001b[37m\u001b[0m \u001b[1m0s\u001b[0m 5ms/step - accuracy: 0.9004 - loss: 0.2916 - val_accuracy: 0.9099 - val_loss: 0.2783\n",
      "Epoch 8/100\n",
      "\u001b[1m89/89\u001b[0m \u001b[32m━━━━━━━━━━━━━━━━━━━━\u001b[0m\u001b[37m\u001b[0m \u001b[1m0s\u001b[0m 5ms/step - accuracy: 0.9116 - loss: 0.2919 - val_accuracy: 0.9183 - val_loss: 0.2688\n",
      "Epoch 9/100\n",
      "\u001b[1m89/89\u001b[0m \u001b[32m━━━━━━━━━━━━━━━━━━━━\u001b[0m\u001b[37m\u001b[0m \u001b[1m0s\u001b[0m 5ms/step - accuracy: 0.9161 - loss: 0.2783 - val_accuracy: 0.9099 - val_loss: 0.2702\n",
      "Epoch 10/100\n",
      "\u001b[1m89/89\u001b[0m \u001b[32m━━━━━━━━━━━━━━━━━━━━\u001b[0m\u001b[37m\u001b[0m \u001b[1m0s\u001b[0m 5ms/step - accuracy: 0.9097 - loss: 0.2751 - val_accuracy: 0.9183 - val_loss: 0.2675\n",
      "Epoch 11/100\n",
      "\u001b[1m89/89\u001b[0m \u001b[32m━━━━━━━━━━━━━━━━━━━━\u001b[0m\u001b[37m\u001b[0m \u001b[1m0s\u001b[0m 5ms/step - accuracy: 0.9215 - loss: 0.2561 - val_accuracy: 0.9014 - val_loss: 0.2762\n",
      "Epoch 12/100\n",
      "\u001b[1m89/89\u001b[0m \u001b[32m━━━━━━━━━━━━━━━━━━━━\u001b[0m\u001b[37m\u001b[0m \u001b[1m0s\u001b[0m 5ms/step - accuracy: 0.9189 - loss: 0.2536 - val_accuracy: 0.9183 - val_loss: 0.2713\n",
      "Epoch 13/100\n",
      "\u001b[1m89/89\u001b[0m \u001b[32m━━━━━━━━━━━━━━━━━━━━\u001b[0m\u001b[37m\u001b[0m \u001b[1m0s\u001b[0m 5ms/step - accuracy: 0.9237 - loss: 0.2393 - val_accuracy: 0.9099 - val_loss: 0.2753\n",
      "Epoch 14/100\n",
      "\u001b[1m89/89\u001b[0m \u001b[32m━━━━━━━━━━━━━━━━━━━━\u001b[0m\u001b[37m\u001b[0m \u001b[1m0s\u001b[0m 5ms/step - accuracy: 0.9075 - loss: 0.2766 - val_accuracy: 0.9099 - val_loss: 0.2849\n",
      "Epoch 15/100\n",
      "\u001b[1m89/89\u001b[0m \u001b[32m━━━━━━━━━━━━━━━━━━━━\u001b[0m\u001b[37m\u001b[0m \u001b[1m0s\u001b[0m 5ms/step - accuracy: 0.9183 - loss: 0.2609 - val_accuracy: 0.9127 - val_loss: 0.3097\n",
      "Epoch 16/100\n",
      "\u001b[1m89/89\u001b[0m \u001b[32m━━━━━━━━━━━━━━━━━━━━\u001b[0m\u001b[37m\u001b[0m \u001b[1m0s\u001b[0m 5ms/step - accuracy: 0.9205 - loss: 0.2530 - val_accuracy: 0.9099 - val_loss: 0.2737\n",
      "Epoch 17/100\n",
      "\u001b[1m89/89\u001b[0m \u001b[32m━━━━━━━━━━━━━━━━━━━━\u001b[0m\u001b[37m\u001b[0m \u001b[1m0s\u001b[0m 5ms/step - accuracy: 0.9219 - loss: 0.2393 - val_accuracy: 0.9127 - val_loss: 0.2659\n",
      "Epoch 18/100\n",
      "\u001b[1m89/89\u001b[0m \u001b[32m━━━━━━━━━━━━━━━━━━━━\u001b[0m\u001b[37m\u001b[0m \u001b[1m0s\u001b[0m 5ms/step - accuracy: 0.9110 - loss: 0.2527 - val_accuracy: 0.9070 - val_loss: 0.2813\n",
      "Epoch 19/100\n",
      "\u001b[1m89/89\u001b[0m \u001b[32m━━━━━━━━━━━━━━━━━━━━\u001b[0m\u001b[37m\u001b[0m \u001b[1m0s\u001b[0m 5ms/step - accuracy: 0.9261 - loss: 0.2124 - val_accuracy: 0.9099 - val_loss: 0.2793\n",
      "Epoch 20/100\n",
      "\u001b[1m89/89\u001b[0m \u001b[32m━━━━━━━━━━━━━━━━━━━━\u001b[0m\u001b[37m\u001b[0m \u001b[1m0s\u001b[0m 5ms/step - accuracy: 0.9106 - loss: 0.2557 - val_accuracy: 0.9127 - val_loss: 0.3069\n",
      "Epoch 21/100\n",
      "\u001b[1m89/89\u001b[0m \u001b[32m━━━━━━━━━━━━━━━━━━━━\u001b[0m\u001b[37m\u001b[0m \u001b[1m0s\u001b[0m 5ms/step - accuracy: 0.9157 - loss: 0.2403 - val_accuracy: 0.9127 - val_loss: 0.2742\n",
      "Epoch 22/100\n",
      "\u001b[1m89/89\u001b[0m \u001b[32m━━━━━━━━━━━━━━━━━━━━\u001b[0m\u001b[37m\u001b[0m \u001b[1m0s\u001b[0m 5ms/step - accuracy: 0.9261 - loss: 0.2256 - val_accuracy: 0.9183 - val_loss: 0.2671\n",
      "Epoch 23/100\n",
      "\u001b[1m89/89\u001b[0m \u001b[32m━━━━━━━━━━━━━━━━━━━━\u001b[0m\u001b[37m\u001b[0m \u001b[1m0s\u001b[0m 5ms/step - accuracy: 0.9127 - loss: 0.2458 - val_accuracy: 0.9183 - val_loss: 0.2729\n",
      "Epoch 24/100\n",
      "\u001b[1m89/89\u001b[0m \u001b[32m━━━━━━━━━━━━━━━━━━━━\u001b[0m\u001b[37m\u001b[0m \u001b[1m0s\u001b[0m 5ms/step - accuracy: 0.9071 - loss: 0.2574 - val_accuracy: 0.9127 - val_loss: 0.2817\n",
      "Epoch 25/100\n",
      "\u001b[1m89/89\u001b[0m \u001b[32m━━━━━━━━━━━━━━━━━━━━\u001b[0m\u001b[37m\u001b[0m \u001b[1m0s\u001b[0m 5ms/step - accuracy: 0.9298 - loss: 0.2118 - val_accuracy: 0.9155 - val_loss: 0.2789\n",
      "Epoch 26/100\n",
      "\u001b[1m89/89\u001b[0m \u001b[32m━━━━━━━━━━━━━━━━━━━━\u001b[0m\u001b[37m\u001b[0m \u001b[1m0s\u001b[0m 4ms/step - accuracy: 0.9263 - loss: 0.2262 - val_accuracy: 0.9127 - val_loss: 0.2677\n",
      "Epoch 27/100\n",
      "\u001b[1m89/89\u001b[0m \u001b[32m━━━━━━━━━━━━━━━━━━━━\u001b[0m\u001b[37m\u001b[0m \u001b[1m0s\u001b[0m 5ms/step - accuracy: 0.9298 - loss: 0.2046 - val_accuracy: 0.9127 - val_loss: 0.2728\n"
     ]
    }
   ],
   "source": [
    "from tensorflow.keras.callbacks import EarlyStopping\n",
    "\n",
    "\n",
    "early_stopping = EarlyStopping(monitor='val_loss', patience=10, restore_best_weights=True)\n",
    "hist_ft = dl_ft.fit(X_train_ft, y_train, validation_data=(X_val_ft, y_val), epochs=100, batch_size=32, callbacks=[early_stopping])"
   ]
  },
  {
   "cell_type": "code",
   "execution_count": 81,
   "id": "5576fb84",
   "metadata": {},
   "outputs": [
    {
     "name": "stdout",
     "output_type": "stream",
     "text": [
      "Epoch 1/100\n",
      "\u001b[1m89/89\u001b[0m \u001b[32m━━━━━━━━━━━━━━━━━━━━\u001b[0m\u001b[37m\u001b[0m \u001b[1m2s\u001b[0m 7ms/step - accuracy: 0.8817 - loss: 0.4569 - val_accuracy: 0.9014 - val_loss: 0.3358\n",
      "Epoch 2/100\n",
      "\u001b[1m89/89\u001b[0m \u001b[32m━━━━━━━━━━━━━━━━━━━━\u001b[0m\u001b[37m\u001b[0m \u001b[1m0s\u001b[0m 5ms/step - accuracy: 0.8949 - loss: 0.3391 - val_accuracy: 0.9070 - val_loss: 0.2887\n",
      "Epoch 3/100\n",
      "\u001b[1m89/89\u001b[0m \u001b[32m━━━━━━━━━━━━━━━━━━━━\u001b[0m\u001b[37m\u001b[0m \u001b[1m1s\u001b[0m 6ms/step - accuracy: 0.8969 - loss: 0.3339 - val_accuracy: 0.9014 - val_loss: 0.2939\n",
      "Epoch 4/100\n",
      "\u001b[1m89/89\u001b[0m \u001b[32m━━━━━━━━━━━━━━━━━━━━\u001b[0m\u001b[37m\u001b[0m \u001b[1m0s\u001b[0m 5ms/step - accuracy: 0.8977 - loss: 0.3128 - val_accuracy: 0.9070 - val_loss: 0.2910\n",
      "Epoch 5/100\n",
      "\u001b[1m89/89\u001b[0m \u001b[32m━━━━━━━━━━━━━━━━━━━━\u001b[0m\u001b[37m\u001b[0m \u001b[1m0s\u001b[0m 5ms/step - accuracy: 0.9031 - loss: 0.2817 - val_accuracy: 0.8986 - val_loss: 0.3179\n",
      "Epoch 6/100\n",
      "\u001b[1m89/89\u001b[0m \u001b[32m━━━━━━━━━━━━━━━━━━━━\u001b[0m\u001b[37m\u001b[0m \u001b[1m0s\u001b[0m 5ms/step - accuracy: 0.9022 - loss: 0.2839 - val_accuracy: 0.9014 - val_loss: 0.2937\n",
      "Epoch 7/100\n",
      "\u001b[1m89/89\u001b[0m \u001b[32m━━━━━━━━━━━━━━━━━━━━\u001b[0m\u001b[37m\u001b[0m \u001b[1m0s\u001b[0m 5ms/step - accuracy: 0.8967 - loss: 0.3133 - val_accuracy: 0.9099 - val_loss: 0.2907\n",
      "Epoch 8/100\n",
      "\u001b[1m89/89\u001b[0m \u001b[32m━━━━━━━━━━━━━━━━━━━━\u001b[0m\u001b[37m\u001b[0m \u001b[1m0s\u001b[0m 5ms/step - accuracy: 0.8970 - loss: 0.3030 - val_accuracy: 0.9099 - val_loss: 0.3305\n",
      "Epoch 9/100\n",
      "\u001b[1m89/89\u001b[0m \u001b[32m━━━━━━━━━━━━━━━━━━━━\u001b[0m\u001b[37m\u001b[0m \u001b[1m0s\u001b[0m 5ms/step - accuracy: 0.9135 - loss: 0.2639 - val_accuracy: 0.9070 - val_loss: 0.2950\n",
      "Epoch 10/100\n",
      "\u001b[1m89/89\u001b[0m \u001b[32m━━━━━━━━━━━━━━━━━━━━\u001b[0m\u001b[37m\u001b[0m \u001b[1m0s\u001b[0m 5ms/step - accuracy: 0.9106 - loss: 0.2827 - val_accuracy: 0.9099 - val_loss: 0.3389\n",
      "Epoch 11/100\n",
      "\u001b[1m89/89\u001b[0m \u001b[32m━━━━━━━━━━━━━━━━━━━━\u001b[0m\u001b[37m\u001b[0m \u001b[1m0s\u001b[0m 5ms/step - accuracy: 0.9171 - loss: 0.2473 - val_accuracy: 0.9099 - val_loss: 0.2989\n",
      "Epoch 12/100\n",
      "\u001b[1m89/89\u001b[0m \u001b[32m━━━━━━━━━━━━━━━━━━━━\u001b[0m\u001b[37m\u001b[0m \u001b[1m0s\u001b[0m 5ms/step - accuracy: 0.9126 - loss: 0.2494 - val_accuracy: 0.9127 - val_loss: 0.2889\n"
     ]
    }
   ],
   "source": [
    "hist_tfidf_ft = dl_tfidf_ft.fit(X_train_tfidf_ft, y_train, validation_data=(X_val_tfidf_ft, y_val), epochs=100, batch_size=32, callbacks=[early_stopping])"
   ]
  },
  {
   "cell_type": "code",
   "execution_count": null,
   "id": "55d8dc74",
   "metadata": {},
   "outputs": [],
   "source": [
    "import matplotlib.pyplot as plt\n",
    "\n",
    "def plot_training_history(history, figsize=(12, 5)):\n",
    "    \"\"\"\n",
    "    Plot the training and validation metrics from a Keras/TensorFlow model's history.\n",
    "\n",
    "    Parameters:\n",
    "    -----------\n",
    "    history : History object\n",
    "        The history object returned by model.fit()\n",
    "    figsize : tuple, optional\n",
    "        Size of the figure (width, height)\n",
    "    \"\"\"\n",
    "    # Get history dictionary\n",
    "    hist = history.history\n",
    "\n",
    "    # Create a figure with subplots\n",
    "    fig, axes = plt.subplots(1, 2, figsize=figsize)\n",
    "\n",
    "    # Plot training & validation loss\n",
    "    axes[0].plot(hist['loss'], label='Training Loss')\n",
    "    if 'val_loss' in hist:\n",
    "        axes[0].plot(hist['val_loss'], label='Validation Loss')\n",
    "    axes[0].set_title('Model Loss')\n",
    "    axes[0].set_xlabel('Epoch')\n",
    "    axes[0].set_ylabel('Loss')\n",
    "    axes[0].legend(loc='upper right')\n",
    "    axes[0].grid(True, linestyle='--', alpha=0.6)\n",
    "\n",
    "    # Plot training & validation accuracy if available\n",
    "    if 'accuracy' in hist:\n",
    "        axes[1].plot(hist['accuracy'], label='Training Accuracy')\n",
    "        if 'val_accuracy' in hist:\n",
    "            axes[1].plot(hist['val_accuracy'], label='Validation Accuracy')\n",
    "        axes[1].set_title('Model Accuracy')\n",
    "        axes[1].set_xlabel('Epoch')\n",
    "        axes[1].set_ylabel('Accuracy')\n",
    "        axes[1].legend(loc='lower right')\n",
    "        axes[1].grid(True, linestyle='--', alpha=0.6)\n",
    "\n",
    "    plt.tight_layout()\n",
    "    plt.show()\n",
    "\n",
    "    # Print some metrics about the training\n",
    "    epochs_trained = len(hist['loss'])\n",
    "    print(f\"Model trained for {epochs_trained} epochs\")\n",
    "\n",
    "    if 'val_loss' in hist:\n",
    "        best_epoch = np.argmin(hist['val_loss'])\n",
    "        best_val_loss = hist['val_loss'][best_epoch]\n",
    "        print(f\"Best validation loss: {best_val_loss:.4f} (epoch {best_epoch+1})\")\n",
    "\n",
    "        if 'val_accuracy' in hist:\n",
    "            best_val_acc = hist['val_accuracy'][best_epoch]\n",
    "            print(f\"Validation accuracy at best epoch: {best_val_acc:.4f}\")"
   ]
  },
  {
   "cell_type": "code",
   "execution_count": 83,
   "id": "9c4815e6",
   "metadata": {},
   "outputs": [
    {
     "data": {
      "image/png": "[encoded data removed]",
      "text/plain": [
       "<Figure size 1200x500 with 2 Axes>"
      ]
     },
     "metadata": {},
     "output_type": "display_data"
    },
    {
     "name": "stdout",
     "output_type": "stream",
     "text": [
      "Model trained for 27 epochs\n",
      "Best validation loss: 0.2659 (epoch 17)\n",
      "Validation accuracy at best epoch: 0.9127\n"
     ]
    },
    {
     "data": {
      "image/png": "[encoded data removed]",
      "text/plain": [
       "<Figure size 1200x500 with 2 Axes>"
      ]
     },
     "metadata": {},
     "output_type": "display_data"
    },
    {
     "name": "stdout",
     "output_type": "stream",
     "text": [
      "Model trained for 12 epochs\n",
      "Best validation loss: 0.2887 (epoch 2)\n",
      "Validation accuracy at best epoch: 0.9070\n"
     ]
    }
   ],
   "source": [
    "plot_training_history(hist_ft)\n",
    "plot_training_history(hist_tfidf_ft)"
   ]
  },
  {
   "cell_type": "code",
   "execution_count": 97,
   "id": "4639ecb8",
   "metadata": {},
   "outputs": [
    {
     "name": "stdout",
     "output_type": "stream",
     "text": [
      "All models saved successfully!\n"
     ]
    }
   ],
   "source": [
    "import os\n",
    "import pickle\n",
    "\n",
    "# Create directory for saving models if it doesn't exist\n",
    "os.makedirs('model/saved_models', exist_ok=True)\n",
    "\n",
    "# Save XGBoost models\n",
    "xgb_ft.save_model('model/saved_models/xgb_fasttext.json')\n",
    "xgb_tfidf_ft.save_model('model/saved_models/xgb_tfidf_fasttext.json')\n",
    "\n",
    "# Save Deep Learning models\n",
    "dl_ft.save('model/saved_models/dl_fasttext.keras')\n",
    "dl_tfidf_ft.save('model/saved_models/dl_tfidf_fasttext.keras')\n",
    "\n",
    "# Save TF-IDF vectorizer\n",
    "with open('model/saved_models/tfidf_vectorizer.pkl', 'wb') as f:\n",
    "    pickle.dump(tfidf_vectorizer, f)\n",
    "\n",
    "# Save label encoder\n",
    "with open('model/saved_models/label_encoder.pkl', 'wb') as f:\n",
    "    pickle.dump(le, f)\n",
    "\n",
    "print(\"All models saved successfully!\")"
   ]
  },
  {
   "cell_type": "markdown",
   "id": "bdfa5dc2",
   "metadata": {},
   "source": [
    "## Evaluation"
   ]
  },
  {
   "cell_type": "code",
   "execution_count": null,
   "id": "662667c7",
   "metadata": {},
   "outputs": [],
   "source": [
    "import numpy as np\n",
    "from sklearn.metrics import accuracy_score, precision_recall_fscore_support, classification_report, confusion_matrix\n",
    "import seaborn as sns\n",
    "import matplotlib.pyplot as plt\n",
    "\n",
    "results = {}\n",
    "\n",
    "def evaluate_model(name, model, X_test, y_test, is_keras=False):\n",
    "    if is_keras:\n",
    "        y_pred = model.predict(X_test)\n",
    "        y_pred = np.argmax(y_pred, axis=1)\n",
    "    else:\n",
    "        y_pred = model.predict(X_test)\n",
    "\n",
    "    # Calculate metrics\n",
    "    accuracy = accuracy_score(y_test, y_pred)\n",
    "    precision, recall, f1, _ = precision_recall_fscore_support(y_test, y_pred, average='weighted')\n",
    "\n",
    "    # Store results\n",
    "    results[name] = {\n",
    "        'accuracy': accuracy,\n",
    "        'precision': precision,\n",
    "        'recall': recall,\n",
    "        'f1': f1,\n",
    "        'y_pred': y_pred\n",
    "    }\n",
    "\n",
    "    print(f\"\\n----- {name} Evaluation -----\")\n",
    "    print(f\"Accuracy: {accuracy:.4f}\")\n",
    "    print(f\"Precision: {precision:.4f}\")\n",
    "    print(f\"Recall: {recall:.4f}\")\n",
    "    print(f\"F1 Score: {f1:.4f}\")\n",
    "\n",
    "    # Display classification report\n",
    "    print(\"\\nClassification Report:\")\n",
    "    print(classification_report(y_test, y_pred, target_names=le.classes_))\n",
    "\n",
    "    # Plot confusion matrix\n",
    "    plt.figure(figsize=(8, 6))\n",
    "    cm = confusion_matrix(y_test, y_pred)\n",
    "    sns.heatmap(cm, annot=True, fmt='d', cmap='Blues',\n",
    "                xticklabels=le.classes_, yticklabels=le.classes_)\n",
    "    plt.title(f'Confusion Matrix - {name}')\n",
    "    plt.ylabel('True Label')\n",
    "    plt.xlabel('Predicted Label')\n",
    "    plt.tight_layout()\n",
    "    plt.show()"
   ]
  },
  {
   "cell_type": "markdown",
   "id": "2dab62e3",
   "metadata": {},
   "source": [
    "### XGBoost-Fasttext"
   ]
  },
  {
   "cell_type": "code",
   "execution_count": 87,
   "id": "0086bd67",
   "metadata": {},
   "outputs": [
    {
     "name": "stderr",
     "output_type": "stream",
     "text": [
      "/teamspace/studios/this_studio/product-sentiment/.venv/lib/python3.12/site-packages/sklearn/metrics/_classification.py:1565: UndefinedMetricWarning: Precision is ill-defined and being set to 0.0 in labels with no predicted samples. Use `zero_division` parameter to control this behavior.\n",
      "  _warn_prf(average, modifier, f\"{metric.capitalize()} is\", len(result))\n",
      "/teamspace/studios/this_studio/product-sentiment/.venv/lib/python3.12/site-packages/sklearn/metrics/_classification.py:1565: UndefinedMetricWarning: Precision is ill-defined and being set to 0.0 in labels with no predicted samples. Use `zero_division` parameter to control this behavior.\n",
      "  _warn_prf(average, modifier, f\"{metric.capitalize()} is\", len(result))\n",
      "/teamspace/studios/this_studio/product-sentiment/.venv/lib/python3.12/site-packages/sklearn/metrics/_classification.py:1565: UndefinedMetricWarning: Precision is ill-defined and being set to 0.0 in labels with no predicted samples. Use `zero_division` parameter to control this behavior.\n",
      "  _warn_prf(average, modifier, f\"{metric.capitalize()} is\", len(result))\n",
      "/teamspace/studios/this_studio/product-sentiment/.venv/lib/python3.12/site-packages/sklearn/metrics/_classification.py:1565: UndefinedMetricWarning: Precision is ill-defined and being set to 0.0 in labels with no predicted samples. Use `zero_division` parameter to control this behavior.\n",
      "  _warn_prf(average, modifier, f\"{metric.capitalize()} is\", len(result))\n"
     ]
    },
    {
     "name": "stdout",
     "output_type": "stream",
     "text": [
      "\n",
      "----- XGBoost FastText Evaluation -----\n",
      "Accuracy: 0.8989\n",
      "Precision: 0.8493\n",
      "Recall: 0.8989\n",
      "F1 Score: 0.8561\n",
      "\n",
      "Classification Report:\n",
      "              precision    recall  f1-score   support\n",
      "\n",
      "    negative       0.00      0.00      0.00         8\n",
      "     neutral       0.50      0.04      0.07        28\n",
      "    positive       0.90      1.00      0.95       320\n",
      "\n",
      "    accuracy                           0.90       356\n",
      "   macro avg       0.47      0.34      0.34       356\n",
      "weighted avg       0.85      0.90      0.86       356\n",
      "\n"
     ]
    },
    {
     "data": {
      "image/png": "[encoded data removed]",
      "text/plain": [
       "<Figure size 800x600 with 2 Axes>"
      ]
     },
     "metadata": {},
     "output_type": "display_data"
    }
   ],
   "source": [
    "evaluate_model('XGBoost FastText', xgb_ft, X_test_ft, y_test)"
   ]
  },
  {
   "cell_type": "markdown",
   "id": "e72c49e8",
   "metadata": {},
   "source": [
    "### XGBoost-TFIDF-Fasttext"
   ]
  },
  {
   "cell_type": "code",
   "execution_count": 88,
   "id": "881e3123",
   "metadata": {},
   "outputs": [
    {
     "name": "stdout",
     "output_type": "stream",
     "text": [
      "\n",
      "----- XGBoost TF-IDF FastText Evaluation -----\n",
      "Accuracy: 0.8989\n",
      "Precision: 0.8080\n",
      "Recall: 0.8989\n",
      "F1 Score: 0.8510\n",
      "\n",
      "Classification Report:\n",
      "              precision    recall  f1-score   support\n",
      "\n",
      "    negative       0.00      0.00      0.00         8\n",
      "     neutral       0.00      0.00      0.00        28\n",
      "    positive       0.90      1.00      0.95       320\n",
      "\n",
      "    accuracy                           0.90       356\n",
      "   macro avg       0.30      0.33      0.32       356\n",
      "weighted avg       0.81      0.90      0.85       356\n",
      "\n"
     ]
    },
    {
     "name": "stderr",
     "output_type": "stream",
     "text": [
      "/teamspace/studios/this_studio/product-sentiment/.venv/lib/python3.12/site-packages/sklearn/metrics/_classification.py:1565: UndefinedMetricWarning: Precision is ill-defined and being set to 0.0 in labels with no predicted samples. Use `zero_division` parameter to control this behavior.\n",
      "  _warn_prf(average, modifier, f\"{metric.capitalize()} is\", len(result))\n",
      "/teamspace/studios/this_studio/product-sentiment/.venv/lib/python3.12/site-packages/sklearn/metrics/_classification.py:1565: UndefinedMetricWarning: Precision is ill-defined and being set to 0.0 in labels with no predicted samples. Use `zero_division` parameter to control this behavior.\n",
      "  _warn_prf(average, modifier, f\"{metric.capitalize()} is\", len(result))\n",
      "/teamspace/studios/this_studio/product-sentiment/.venv/lib/python3.12/site-packages/sklearn/metrics/_classification.py:1565: UndefinedMetricWarning: Precision is ill-defined and being set to 0.0 in labels with no predicted samples. Use `zero_division` parameter to control this behavior.\n",
      "  _warn_prf(average, modifier, f\"{metric.capitalize()} is\", len(result))\n",
      "/teamspace/studios/this_studio/product-sentiment/.venv/lib/python3.12/site-packages/sklearn/metrics/_classification.py:1565: UndefinedMetricWarning: Precision is ill-defined and being set to 0.0 in labels with no predicted samples. Use `zero_division` parameter to control this behavior.\n",
      "  _warn_prf(average, modifier, f\"{metric.capitalize()} is\", len(result))\n"
     ]
    },
    {
     "data": {
      "image/png": "[encoded data removed]",
      "text/plain": [
       "<Figure size 800x600 with 2 Axes>"
      ]
     },
     "metadata": {},
     "output_type": "display_data"
    }
   ],
   "source": [
    "evaluate_model('XGBoost TF-IDF FastText', xgb_tfidf_ft, X_test_tfidf_ft, y_test)"
   ]
  },
  {
   "cell_type": "markdown",
   "id": "0c7419c9",
   "metadata": {},
   "source": [
    "### Deep Learning-Fasttext"
   ]
  },
  {
   "cell_type": "code",
   "execution_count": 89,
   "id": "9dff5df6",
   "metadata": {},
   "outputs": [
    {
     "name": "stdout",
     "output_type": "stream",
     "text": [
      "\u001b[1m12/12\u001b[0m \u001b[32m━━━━━━━━━━━━━━━━━━━━\u001b[0m\u001b[37m\u001b[0m \u001b[1m0s\u001b[0m 3ms/step \n",
      "\n",
      "----- Deep Learning FastText Evaluation -----\n",
      "Accuracy: 0.8961\n",
      "Precision: 0.8497\n",
      "Recall: 0.8961\n",
      "F1 Score: 0.8695\n",
      "\n",
      "Classification Report:\n",
      "              precision    recall  f1-score   support\n",
      "\n",
      "    negative       0.00      0.00      0.00         8\n",
      "     neutral       0.31      0.14      0.20        28\n",
      "    positive       0.92      0.98      0.95       320\n",
      "\n",
      "    accuracy                           0.90       356\n",
      "   macro avg       0.41      0.38      0.38       356\n",
      "weighted avg       0.85      0.90      0.87       356\n",
      "\n"
     ]
    },
    {
     "name": "stderr",
     "output_type": "stream",
     "text": [
      "/teamspace/studios/this_studio/product-sentiment/.venv/lib/python3.12/site-packages/sklearn/metrics/_classification.py:1565: UndefinedMetricWarning: Precision is ill-defined and being set to 0.0 in labels with no predicted samples. Use `zero_division` parameter to control this behavior.\n",
      "  _warn_prf(average, modifier, f\"{metric.capitalize()} is\", len(result))\n",
      "/teamspace/studios/this_studio/product-sentiment/.venv/lib/python3.12/site-packages/sklearn/metrics/_classification.py:1565: UndefinedMetricWarning: Precision is ill-defined and being set to 0.0 in labels with no predicted samples. Use `zero_division` parameter to control this behavior.\n",
      "  _warn_prf(average, modifier, f\"{metric.capitalize()} is\", len(result))\n",
      "/teamspace/studios/this_studio/product-sentiment/.venv/lib/python3.12/site-packages/sklearn/metrics/_classification.py:1565: UndefinedMetricWarning: Precision is ill-defined and being set to 0.0 in labels with no predicted samples. Use `zero_division` parameter to control this behavior.\n",
      "  _warn_prf(average, modifier, f\"{metric.capitalize()} is\", len(result))\n",
      "/teamspace/studios/this_studio/product-sentiment/.venv/lib/python3.12/site-packages/sklearn/metrics/_classification.py:1565: UndefinedMetricWarning: Precision is ill-defined and being set to 0.0 in labels with no predicted samples. Use `zero_division` parameter to control this behavior.\n",
      "  _warn_prf(average, modifier, f\"{metric.capitalize()} is\", len(result))\n"
     ]
    },
    {
     "data": {
      "image/png": "[encoded data removed]",
      "text/plain": [
       "<Figure size 800x600 with 2 Axes>"
      ]
     },
     "metadata": {},
     "output_type": "display_data"
    }
   ],
   "source": [
    "evaluate_model('Deep Learning FastText', dl_ft, X_test_ft, y_test, is_keras=True)"
   ]
  },
  {
   "cell_type": "markdown",
   "id": "f87e4edc",
   "metadata": {},
   "source": [
    "### Deep Learning-TFIDF-Fasttext"
   ]
  },
  {
   "cell_type": "code",
   "execution_count": 90,
   "id": "54bc70da",
   "metadata": {},
   "outputs": [
    {
     "name": "stdout",
     "output_type": "stream",
     "text": [
      "\u001b[1m12/12\u001b[0m \u001b[32m━━━━━━━━━━━━━━━━━━━━\u001b[0m\u001b[37m\u001b[0m \u001b[1m0s\u001b[0m 3ms/step \n",
      "\n",
      "----- Deep Learning TF-IDF FastText Evaluation -----\n",
      "Accuracy: 0.9073\n",
      "Precision: 0.8667\n",
      "Recall: 0.9073\n",
      "F1 Score: 0.8716\n",
      "\n",
      "Classification Report:\n",
      "              precision    recall  f1-score   support\n",
      "\n",
      "    negative       0.00      0.00      0.00         8\n",
      "     neutral       0.60      0.11      0.18        28\n",
      "    positive       0.91      1.00      0.95       320\n",
      "\n",
      "    accuracy                           0.91       356\n",
      "   macro avg       0.50      0.37      0.38       356\n",
      "weighted avg       0.87      0.91      0.87       356\n",
      "\n"
     ]
    },
    {
     "name": "stderr",
     "output_type": "stream",
     "text": [
      "/teamspace/studios/this_studio/product-sentiment/.venv/lib/python3.12/site-packages/sklearn/metrics/_classification.py:1565: UndefinedMetricWarning: Precision is ill-defined and being set to 0.0 in labels with no predicted samples. Use `zero_division` parameter to control this behavior.\n",
      "  _warn_prf(average, modifier, f\"{metric.capitalize()} is\", len(result))\n",
      "/teamspace/studios/this_studio/product-sentiment/.venv/lib/python3.12/site-packages/sklearn/metrics/_classification.py:1565: UndefinedMetricWarning: Precision is ill-defined and being set to 0.0 in labels with no predicted samples. Use `zero_division` parameter to control this behavior.\n",
      "  _warn_prf(average, modifier, f\"{metric.capitalize()} is\", len(result))\n",
      "/teamspace/studios/this_studio/product-sentiment/.venv/lib/python3.12/site-packages/sklearn/metrics/_classification.py:1565: UndefinedMetricWarning: Precision is ill-defined and being set to 0.0 in labels with no predicted samples. Use `zero_division` parameter to control this behavior.\n",
      "  _warn_prf(average, modifier, f\"{metric.capitalize()} is\", len(result))\n",
      "/teamspace/studios/this_studio/product-sentiment/.venv/lib/python3.12/site-packages/sklearn/metrics/_classification.py:1565: UndefinedMetricWarning: Precision is ill-defined and being set to 0.0 in labels with no predicted samples. Use `zero_division` parameter to control this behavior.\n",
      "  _warn_prf(average, modifier, f\"{metric.capitalize()} is\", len(result))\n"
     ]
    },
    {
     "data": {
      "image/png": "[encoded data removed]",
      "text/plain": [
       "<Figure size 800x600 with 2 Axes>"
      ]
     },
     "metadata": {},
     "output_type": "display_data"
    }
   ],
   "source": [
    "evaluate_model('Deep Learning TF-IDF FastText', dl_tfidf_ft, X_test_tfidf_ft, y_test, is_keras=True)"
   ]
  },
  {
   "cell_type": "code",
   "execution_count": 94,
   "id": "034198c4",
   "metadata": {},
   "outputs": [
    {
     "data": {
      "image/png": "[encoded data removed]",
      "text/plain": [
       "<Figure size 1200x800 with 1 Axes>"
      ]
     },
     "metadata": {},
     "output_type": "display_data"
    }
   ],
   "source": [
    "# Compare all models\n",
    "model_names = list(results.keys())\n",
    "metrics = ['accuracy', 'precision', 'recall', 'f1']\n",
    "\n",
    "# Create comparison bar chart\n",
    "plt.figure(figsize=(12, 8))\n",
    "x = np.arange(len(model_names))\n",
    "width = 0.2\n",
    "multiplier = 0\n",
    "\n",
    "for metric in metrics:\n",
    "    offset = width * multiplier\n",
    "    rects = plt.bar(x + offset, [results[model][metric] for model in model_names], width, label=metric)\n",
    "    multiplier += 1\n",
    "\n",
    "plt.ylabel('Score')\n",
    "plt.title('Model Comparison')\n",
    "plt.xticks(x + width, model_names, rotation=45, ha='right')\n",
    "plt.legend(loc='upper left')\n",
    "plt.tight_layout()\n",
    "plt.grid(axis='y', linestyle='--', alpha=0.7)\n",
    "plt.ylim(0.7, 1.0)  # Set y-axis limits for better visibility\n",
    "plt.show()"
   ]
  },
  {
   "cell_type": "code",
   "execution_count": 95,
   "id": "178243cd",
   "metadata": {},
   "outputs": [
    {
     "name": "stdout",
     "output_type": "stream",
     "text": [
      "\n",
      "----- Summary of Results -----\n",
      "\n",
      "XGBoost FastText:\n",
      "  Accuracy: 0.8989\n",
      "  Precision: 0.8493\n",
      "  Recall: 0.8989\n",
      "  F1: 0.8561\n",
      "\n",
      "XGBoost TF-IDF FastText:\n",
      "  Accuracy: 0.8989\n",
      "  Precision: 0.8080\n",
      "  Recall: 0.8989\n",
      "  F1: 0.8510\n",
      "\n",
      "Deep Learning FastText:\n",
      "  Accuracy: 0.8961\n",
      "  Precision: 0.8497\n",
      "  Recall: 0.8961\n",
      "  F1: 0.8695\n",
      "\n",
      "Deep Learning TF-IDF FastText:\n",
      "  Accuracy: 0.9073\n",
      "  Precision: 0.8667\n",
      "  Recall: 0.9073\n",
      "  F1: 0.8716\n"
     ]
    }
   ],
   "source": [
    "# Print summary table\n",
    "print(\"\\n----- Summary of Results -----\")\n",
    "for model in model_names:\n",
    "    print(f\"\\n{model}:\")\n",
    "    for metric in metrics:\n",
    "        print(f\"  {metric.capitalize()}: {results[model][metric]:.4f}\")"
   ]
  },
  {
   "cell_type": "markdown",
   "id": "489cd816",
   "metadata": {},
   "source": [
    "## Inference Testing\n",
    "\n",
    "The best-considered model is Deep Learning with TF-IDF+Fasttext. Therefore this inference is using that model. Below is the sample review.\n",
    "\n",
    "![](sample_image.png)"
   ]
  },
  {
   "cell_type": "code",
   "execution_count": 101,
   "id": "edc222f6",
   "metadata": {},
   "outputs": [
    {
     "name": "stdout",
     "output_type": "stream",
     "text": [
      "\u001b[1m1/1\u001b[0m \u001b[32m━━━━━━━━━━━━━━━━━━━━\u001b[0m\u001b[37m\u001b[0m \u001b[1m0s\u001b[0m 30ms/step\n",
      "Predicted class for the review: positive\n"
     ]
    }
   ],
   "source": [
    "review = \"bahan nya bagus, tapi size tidak sesuai, cocok untuk BB 50 ke 55. Akhirnya saya kasih ke anak saya...\"\n",
    "\n",
    "review_vector = get_document_vector_tfidf(review)\n",
    "review_vector = review_vector.reshape(1, -1)\n",
    "predicted_class = dl_tfidf_ft.predict(review_vector)\n",
    "predicted_class = np.argmax(predicted_class, axis=1)\n",
    "predicted_label = le.inverse_transform(predicted_class)[0]\n",
    "print(f\"Predicted class for the review: {predicted_label}\")"
   ]
  }
 ],
 "metadata": {
  "kernelspec": {
   "display_name": ".venv",
   "language": "python",
   "name": "python3"
  },
  "language_info": {
   "codemirror_mode": {
    "name": "ipython",
    "version": 3
   },
   "file_extension": ".py",
   "mimetype": "text/x-python",
   "name": "python",
   "nbconvert_exporter": "python",
   "pygments_lexer": "ipython3",
   "version": "3.12.9"
  }
 },
 "nbformat": 4,
 "nbformat_minor": 5
}
