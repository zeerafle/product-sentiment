{
 "cells": [
  {
   "cell_type": "markdown",
   "id": "703d27e6b6b2d4ce",
   "metadata": {},
   "source": [
    "# Tokopedia Product Sentiment"
   ]
  },
  {
   "cell_type": "code",
   "execution_count": 102,
   "id": "5fb4777c",
   "metadata": {
    "ExecuteTime": {
     "end_time": "2025-05-17T10:27:09.331277Z",
     "start_time": "2025-05-17T10:27:09.327050Z"
    }
   },
   "outputs": [],
   "source": [
    "from tqdm.notebook import tqdm\n",
    "\n",
    "tqdm.pandas()"
   ]
  },
  {
   "cell_type": "markdown",
   "id": "fbdbc9b5e26de2ff",
   "metadata": {},
   "source": [
    "## Data Loading"
   ]
  },
  {
   "cell_type": "code",
   "execution_count": 103,
   "id": "initial_id",
   "metadata": {
    "ExecuteTime": {
     "end_time": "2025-05-17T10:27:10.339375Z",
     "start_time": "2025-05-17T10:27:10.287822Z"
    },
    "collapsed": true
   },
   "outputs": [
    {
     "data": {
      "text/html": [
       "<div>\n",
       "<style scoped>\n",
       "    .dataframe tbody tr th:only-of-type {\n",
       "        vertical-align: middle;\n",
       "    }\n",
       "\n",
       "    .dataframe tbody tr th {\n",
       "        vertical-align: top;\n",
       "    }\n",
       "\n",
       "    .dataframe thead th {\n",
       "        text-align: right;\n",
       "    }\n",
       "</style>\n",
       "<table border=\"1\" class=\"dataframe\">\n",
       "  <thead>\n",
       "    <tr style=\"text-align: right;\">\n",
       "      <th></th>\n",
       "      <th>product_id</th>\n",
       "      <th>product_url</th>\n",
       "      <th>shop_id</th>\n",
       "      <th>shop_name</th>\n",
       "      <th>shop_url</th>\n",
       "      <th>review_id</th>\n",
       "      <th>star</th>\n",
       "      <th>review</th>\n",
       "      <th>source</th>\n",
       "      <th>variant_name</th>\n",
       "      <th>is_anonymous</th>\n",
       "    </tr>\n",
       "  </thead>\n",
       "  <tbody>\n",
       "    <tr>\n",
       "      <th>0</th>\n",
       "      <td>NaN</td>\n",
       "      <td>https://www.tokopedia.com/multi-game-indonesia...</td>\n",
       "      <td>NaN</td>\n",
       "      <td>None</td>\n",
       "      <td>https://www.tokopedia.com/multi-game-indonesia</td>\n",
       "      <td>NaN</td>\n",
       "      <td>5</td>\n",
       "      <td>Abis dibayar lgsg proses, da bes</td>\n",
       "      <td>html</td>\n",
       "      <td>None</td>\n",
       "      <td>NaN</td>\n",
       "    </tr>\n",
       "    <tr>\n",
       "      <th>1</th>\n",
       "      <td>NaN</td>\n",
       "      <td>https://www.tokopedia.com/multi-game-indonesia...</td>\n",
       "      <td>NaN</td>\n",
       "      <td>None</td>\n",
       "      <td>https://www.tokopedia.com/multi-game-indonesia</td>\n",
       "      <td>NaN</td>\n",
       "      <td>5</td>\n",
       "      <td>MANTAB GAN!!</td>\n",
       "      <td>html</td>\n",
       "      <td>None</td>\n",
       "      <td>NaN</td>\n",
       "    </tr>\n",
       "    <tr>\n",
       "      <th>2</th>\n",
       "      <td>NaN</td>\n",
       "      <td>https://www.tokopedia.com/multi-game-indonesia...</td>\n",
       "      <td>NaN</td>\n",
       "      <td>None</td>\n",
       "      <td>https://www.tokopedia.com/multi-game-indonesia</td>\n",
       "      <td>NaN</td>\n",
       "      <td>5</td>\n",
       "      <td>Gamenya bagus, pas dapat diskon gede pula, top...</td>\n",
       "      <td>html</td>\n",
       "      <td>None</td>\n",
       "      <td>NaN</td>\n",
       "    </tr>\n",
       "    <tr>\n",
       "      <th>3</th>\n",
       "      <td>NaN</td>\n",
       "      <td>https://www.tokopedia.com/multi-game-indonesia...</td>\n",
       "      <td>NaN</td>\n",
       "      <td>None</td>\n",
       "      <td>https://www.tokopedia.com/multi-game-indonesia</td>\n",
       "      <td>NaN</td>\n",
       "      <td>5</td>\n",
       "      <td>Barang sesuai dan cepat sampai..</td>\n",
       "      <td>html</td>\n",
       "      <td>None</td>\n",
       "      <td>NaN</td>\n",
       "    </tr>\n",
       "    <tr>\n",
       "      <th>4</th>\n",
       "      <td>NaN</td>\n",
       "      <td>https://www.tokopedia.com/multi-game-indonesia...</td>\n",
       "      <td>NaN</td>\n",
       "      <td>None</td>\n",
       "      <td>https://www.tokopedia.com/multi-game-indonesia</td>\n",
       "      <td>NaN</td>\n",
       "      <td>5</td>\n",
       "      <td>gaming terbaik. Game nya seru!. kelengkapan se...</td>\n",
       "      <td>html</td>\n",
       "      <td>None</td>\n",
       "      <td>NaN</td>\n",
       "    </tr>\n",
       "  </tbody>\n",
       "</table>\n",
       "</div>"
      ],
      "text/plain": [
       "   product_id                                        product_url  shop_id  \\\n",
       "0         NaN  https://www.tokopedia.com/multi-game-indonesia...      NaN   \n",
       "1         NaN  https://www.tokopedia.com/multi-game-indonesia...      NaN   \n",
       "2         NaN  https://www.tokopedia.com/multi-game-indonesia...      NaN   \n",
       "3         NaN  https://www.tokopedia.com/multi-game-indonesia...      NaN   \n",
       "4         NaN  https://www.tokopedia.com/multi-game-indonesia...      NaN   \n",
       "\n",
       "  shop_name                                        shop_url  review_id  star  \\\n",
       "0      None  https://www.tokopedia.com/multi-game-indonesia        NaN     5   \n",
       "1      None  https://www.tokopedia.com/multi-game-indonesia        NaN     5   \n",
       "2      None  https://www.tokopedia.com/multi-game-indonesia        NaN     5   \n",
       "3      None  https://www.tokopedia.com/multi-game-indonesia        NaN     5   \n",
       "4      None  https://www.tokopedia.com/multi-game-indonesia        NaN     5   \n",
       "\n",
       "                                              review source variant_name  \\\n",
       "0                   Abis dibayar lgsg proses, da bes   html         None   \n",
       "1                                       MANTAB GAN!!   html         None   \n",
       "2  Gamenya bagus, pas dapat diskon gede pula, top...   html         None   \n",
       "3                   Barang sesuai dan cepat sampai..   html         None   \n",
       "4  gaming terbaik. Game nya seru!. kelengkapan se...   html         None   \n",
       "\n",
       "   is_anonymous  \n",
       "0           NaN  \n",
       "1           NaN  \n",
       "2           NaN  \n",
       "3           NaN  \n",
       "4           NaN  "
      ]
     },
     "execution_count": 103,
     "metadata": {},
     "output_type": "execute_result"
    }
   ],
   "source": [
    "import pandas as pd\n",
    "\n",
    "df = pd.read_json(path_or_buf='data/reviews_new.jsonl', lines=True)\n",
    "df.head()"
   ]
  },
  {
   "cell_type": "code",
   "execution_count": 104,
   "id": "a285bb29",
   "metadata": {},
   "outputs": [
    {
     "data": {
      "text/plain": [
       "(10423, 11)"
      ]
     },
     "execution_count": 104,
     "metadata": {},
     "output_type": "execute_result"
    }
   ],
   "source": [
    "df.shape"
   ]
  },
  {
   "cell_type": "code",
   "execution_count": 106,
   "id": "1ba68f31e7cd4d58",
   "metadata": {
    "ExecuteTime": {
     "end_time": "2025-05-17T10:27:10.941218Z",
     "start_time": "2025-05-17T10:27:10.932577Z"
    }
   },
   "outputs": [
    {
     "data": {
      "text/plain": [
       "star\n",
       "5    9475\n",
       "4     515\n",
       "3     185\n",
       "1     169\n",
       "2      79\n",
       "Name: count, dtype: int64"
      ]
     },
     "execution_count": 106,
     "metadata": {},
     "output_type": "execute_result"
    }
   ],
   "source": [
    "df.star.value_counts()"
   ]
  },
  {
   "cell_type": "markdown",
   "id": "da998e4d75fcbf20",
   "metadata": {},
   "source": [
    "## Assessing Data"
   ]
  },
  {
   "cell_type": "code",
   "execution_count": 107,
   "id": "eea93f35e2ad58c",
   "metadata": {
    "ExecuteTime": {
     "end_time": "2025-05-17T10:27:12.048198Z",
     "start_time": "2025-05-17T10:27:12.037961Z"
    }
   },
   "outputs": [
    {
     "data": {
      "text/plain": [
       "review    286\n",
       "star        0\n",
       "dtype: int64"
      ]
     },
     "execution_count": 107,
     "metadata": {},
     "output_type": "execute_result"
    }
   ],
   "source": [
    "df[['review', 'star']].isna().sum()"
   ]
  },
  {
   "cell_type": "code",
   "execution_count": 108,
   "id": "de13af0536897942",
   "metadata": {
    "ExecuteTime": {
     "end_time": "2025-05-17T10:27:12.568923Z",
     "start_time": "2025-05-17T10:27:12.554994Z"
    }
   },
   "outputs": [
    {
     "data": {
      "text/html": [
       "<div>\n",
       "<style scoped>\n",
       "    .dataframe tbody tr th:only-of-type {\n",
       "        vertical-align: middle;\n",
       "    }\n",
       "\n",
       "    .dataframe tbody tr th {\n",
       "        vertical-align: top;\n",
       "    }\n",
       "\n",
       "    .dataframe thead th {\n",
       "        text-align: right;\n",
       "    }\n",
       "</style>\n",
       "<table border=\"1\" class=\"dataframe\">\n",
       "  <thead>\n",
       "    <tr style=\"text-align: right;\">\n",
       "      <th></th>\n",
       "      <th>review</th>\n",
       "      <th>star</th>\n",
       "    </tr>\n",
       "  </thead>\n",
       "  <tbody>\n",
       "    <tr>\n",
       "      <th>0</th>\n",
       "      <td>Abis dibayar lgsg proses, da bes</td>\n",
       "      <td>5</td>\n",
       "    </tr>\n",
       "    <tr>\n",
       "      <th>1</th>\n",
       "      <td>MANTAB GAN!!</td>\n",
       "      <td>5</td>\n",
       "    </tr>\n",
       "    <tr>\n",
       "      <th>2</th>\n",
       "      <td>Gamenya bagus, pas dapat diskon gede pula, top...</td>\n",
       "      <td>5</td>\n",
       "    </tr>\n",
       "    <tr>\n",
       "      <th>3</th>\n",
       "      <td>Barang sesuai dan cepat sampai..</td>\n",
       "      <td>5</td>\n",
       "    </tr>\n",
       "    <tr>\n",
       "      <th>4</th>\n",
       "      <td>gaming terbaik. Game nya seru!. kelengkapan se...</td>\n",
       "      <td>5</td>\n",
       "    </tr>\n",
       "  </tbody>\n",
       "</table>\n",
       "</div>"
      ],
      "text/plain": [
       "                                              review  star\n",
       "0                   Abis dibayar lgsg proses, da bes     5\n",
       "1                                       MANTAB GAN!!     5\n",
       "2  Gamenya bagus, pas dapat diskon gede pula, top...     5\n",
       "3                   Barang sesuai dan cepat sampai..     5\n",
       "4  gaming terbaik. Game nya seru!. kelengkapan se...     5"
      ]
     },
     "execution_count": 108,
     "metadata": {},
     "output_type": "execute_result"
    }
   ],
   "source": [
    "df.dropna(subset='review', inplace=True)\n",
    "df[['review', 'star']].head()"
   ]
  },
  {
   "cell_type": "code",
   "execution_count": 109,
   "id": "3d4710b351c32b21",
   "metadata": {
    "ExecuteTime": {
     "end_time": "2025-05-17T10:27:13.015317Z",
     "start_time": "2025-05-17T10:27:13.005068Z"
    }
   },
   "outputs": [
    {
     "data": {
      "text/plain": [
       "11                            barang original dan baguuuus\n",
       "12                            barang original dan baguuuus\n",
       "27                          Paket sudah diterima.\\nThanks.\n",
       "28                          Paket sudah diterima.\\nThanks.\n",
       "36                                                        \n",
       "                               ...                        \n",
       "10397                                                   ok\n",
       "10400    sesuai deskripsi uk 30cm..barang bagus..materi...\n",
       "10401    sesuai deskripsi uk 30cm..barang bagus..materi...\n",
       "10412    monitor berfungsi dengan baik, cuma sedikit ke...\n",
       "10413    monitor berfungsi dengan baik, cuma sedikit ke...\n",
       "Name: review, Length: 2063, dtype: object"
      ]
     },
     "execution_count": 109,
     "metadata": {},
     "output_type": "execute_result"
    }
   ],
   "source": [
    "df[df.duplicated(subset='review', keep=False)]['review']"
   ]
  },
  {
   "cell_type": "code",
   "execution_count": 110,
   "id": "1f45271e441b8f8f",
   "metadata": {
    "ExecuteTime": {
     "end_time": "2025-05-17T10:27:13.490490Z",
     "start_time": "2025-05-17T10:27:13.483114Z"
    }
   },
   "outputs": [],
   "source": [
    "df.drop_duplicates(subset='review', inplace=True)"
   ]
  },
  {
   "cell_type": "code",
   "execution_count": 111,
   "id": "b3d18e3061bd8d4b",
   "metadata": {
    "ExecuteTime": {
     "end_time": "2025-05-17T10:27:13.998944Z",
     "start_time": "2025-05-17T10:27:13.965818Z"
    }
   },
   "outputs": [
    {
     "data": {
      "text/plain": [
       "0"
      ]
     },
     "execution_count": 111,
     "metadata": {},
     "output_type": "execute_result"
    }
   ],
   "source": [
    "df.duplicated().sum()"
   ]
  },
  {
   "cell_type": "code",
   "execution_count": 112,
   "id": "70eb4b7b",
   "metadata": {},
   "outputs": [
    {
     "data": {
      "text/plain": [
       "(8820, 11)"
      ]
     },
     "execution_count": 112,
     "metadata": {},
     "output_type": "execute_result"
    }
   ],
   "source": [
    "df.shape"
   ]
  },
  {
   "cell_type": "markdown",
   "id": "1ee8ac87d1b0ea20",
   "metadata": {},
   "source": [
    "## Text Preprocessing"
   ]
  },
  {
   "cell_type": "markdown",
   "id": "3f037156",
   "metadata": {},
   "source": [
    "Kita hanya tertarik pada kolom `review` dan `star`. Maka buang kolom lain."
   ]
  },
  {
   "cell_type": "code",
   "execution_count": 113,
   "id": "1df7b6a7351d3dcc",
   "metadata": {
    "ExecuteTime": {
     "end_time": "2025-05-17T10:27:15.743542Z",
     "start_time": "2025-05-17T10:27:15.738750Z"
    }
   },
   "outputs": [],
   "source": [
    "clean_df = df[['review', 'star']].copy()"
   ]
  },
  {
   "cell_type": "markdown",
   "id": "f1d30f8e0cd718bb",
   "metadata": {},
   "source": [
    "### Case Folding"
   ]
  },
  {
   "cell_type": "code",
   "execution_count": 114,
   "id": "cfd08eb1dd636bcc",
   "metadata": {
    "ExecuteTime": {
     "end_time": "2025-05-17T10:27:16.935745Z",
     "start_time": "2025-05-17T10:27:16.926058Z"
    }
   },
   "outputs": [
    {
     "data": {
      "text/html": [
       "<div>\n",
       "<style scoped>\n",
       "    .dataframe tbody tr th:only-of-type {\n",
       "        vertical-align: middle;\n",
       "    }\n",
       "\n",
       "    .dataframe tbody tr th {\n",
       "        vertical-align: top;\n",
       "    }\n",
       "\n",
       "    .dataframe thead th {\n",
       "        text-align: right;\n",
       "    }\n",
       "</style>\n",
       "<table border=\"1\" class=\"dataframe\">\n",
       "  <thead>\n",
       "    <tr style=\"text-align: right;\">\n",
       "      <th></th>\n",
       "      <th>review</th>\n",
       "      <th>star</th>\n",
       "    </tr>\n",
       "  </thead>\n",
       "  <tbody>\n",
       "    <tr>\n",
       "      <th>0</th>\n",
       "      <td>abis dibayar lgsg proses, da bes</td>\n",
       "      <td>5</td>\n",
       "    </tr>\n",
       "    <tr>\n",
       "      <th>1</th>\n",
       "      <td>mantab gan!!</td>\n",
       "      <td>5</td>\n",
       "    </tr>\n",
       "    <tr>\n",
       "      <th>2</th>\n",
       "      <td>gamenya bagus, pas dapat diskon gede pula, top...</td>\n",
       "      <td>5</td>\n",
       "    </tr>\n",
       "    <tr>\n",
       "      <th>3</th>\n",
       "      <td>barang sesuai dan cepat sampai..</td>\n",
       "      <td>5</td>\n",
       "    </tr>\n",
       "    <tr>\n",
       "      <th>4</th>\n",
       "      <td>gaming terbaik. game nya seru!. kelengkapan se...</td>\n",
       "      <td>5</td>\n",
       "    </tr>\n",
       "  </tbody>\n",
       "</table>\n",
       "</div>"
      ],
      "text/plain": [
       "                                              review  star\n",
       "0                   abis dibayar lgsg proses, da bes     5\n",
       "1                                       mantab gan!!     5\n",
       "2  gamenya bagus, pas dapat diskon gede pula, top...     5\n",
       "3                   barang sesuai dan cepat sampai..     5\n",
       "4  gaming terbaik. game nya seru!. kelengkapan se...     5"
      ]
     },
     "execution_count": 114,
     "metadata": {},
     "output_type": "execute_result"
    }
   ],
   "source": [
    "clean_df.review = clean_df.review.map(lambda x: x.lower())\n",
    "clean_df.head()"
   ]
  },
  {
   "cell_type": "markdown",
   "id": "28249a212bdc6e86",
   "metadata": {},
   "source": [
    "### Remove Special Characters"
   ]
  },
  {
   "cell_type": "markdown",
   "id": "7c5777b14b4e7ea5",
   "metadata": {},
   "source": [
    "#### Numbers"
   ]
  },
  {
   "cell_type": "code",
   "execution_count": 115,
   "id": "d385997c7e5e283a",
   "metadata": {
    "ExecuteTime": {
     "end_time": "2025-05-17T10:27:18.851801Z",
     "start_time": "2025-05-17T10:27:18.839185Z"
    }
   },
   "outputs": [
    {
     "data": {
      "text/html": [
       "<div>\n",
       "<style scoped>\n",
       "    .dataframe tbody tr th:only-of-type {\n",
       "        vertical-align: middle;\n",
       "    }\n",
       "\n",
       "    .dataframe tbody tr th {\n",
       "        vertical-align: top;\n",
       "    }\n",
       "\n",
       "    .dataframe thead th {\n",
       "        text-align: right;\n",
       "    }\n",
       "</style>\n",
       "<table border=\"1\" class=\"dataframe\">\n",
       "  <thead>\n",
       "    <tr style=\"text-align: right;\">\n",
       "      <th></th>\n",
       "      <th>review</th>\n",
       "      <th>star</th>\n",
       "    </tr>\n",
       "  </thead>\n",
       "  <tbody>\n",
       "    <tr>\n",
       "      <th>31</th>\n",
       "      <td>description kurang lengkap..ternyata cma jual ...</td>\n",
       "      <td>1</td>\n",
       "    </tr>\n",
       "    <tr>\n",
       "      <th>32</th>\n",
       "      <td>kurirnya ga jujur, bilang harga 4000 padahal d...</td>\n",
       "      <td>1</td>\n",
       "    </tr>\n",
       "    <tr>\n",
       "      <th>33</th>\n",
       "      <td>kirain 100pcs trnyata 1 bola aza,,,, \\ntp y sd...</td>\n",
       "      <td>2</td>\n",
       "    </tr>\n",
       "    <tr>\n",
       "      <th>42</th>\n",
       "      <td>packing bagus, tapi soal selera x ya , pertama...</td>\n",
       "      <td>4</td>\n",
       "    </tr>\n",
       "    <tr>\n",
       "      <th>43</th>\n",
       "      <td>mudah2an nda rusak, pengiriman via paxel sanga...</td>\n",
       "      <td>5</td>\n",
       "    </tr>\n",
       "    <tr>\n",
       "      <th>...</th>\n",
       "      <td>...</td>\n",
       "      <td>...</td>\n",
       "    </tr>\n",
       "    <tr>\n",
       "      <th>10367</th>\n",
       "      <td>ok bgt udah pake dari 2019 ga pernah ganti sel...</td>\n",
       "      <td>5</td>\n",
       "    </tr>\n",
       "    <tr>\n",
       "      <th>10382</th>\n",
       "      <td>sebenernya secara kualitas barang cukup baik,s...</td>\n",
       "      <td>3</td>\n",
       "    </tr>\n",
       "    <tr>\n",
       "      <th>10383</th>\n",
       "      <td>jahitan rapih, puas lah berkali&amp;#34; order kesini</td>\n",
       "      <td>5</td>\n",
       "    </tr>\n",
       "    <tr>\n",
       "      <th>10400</th>\n",
       "      <td>sesuai deskripsi uk 30cm..barang bagus..materi...</td>\n",
       "      <td>5</td>\n",
       "    </tr>\n",
       "    <tr>\n",
       "      <th>10411</th>\n",
       "      <td>kualitas warna layar bagus dan untuk menu di m...</td>\n",
       "      <td>5</td>\n",
       "    </tr>\n",
       "  </tbody>\n",
       "</table>\n",
       "<p>1143 rows × 2 columns</p>\n",
       "</div>"
      ],
      "text/plain": [
       "                                                  review  star\n",
       "31     description kurang lengkap..ternyata cma jual ...     1\n",
       "32     kurirnya ga jujur, bilang harga 4000 padahal d...     1\n",
       "33     kirain 100pcs trnyata 1 bola aza,,,, \\ntp y sd...     2\n",
       "42     packing bagus, tapi soal selera x ya , pertama...     4\n",
       "43     mudah2an nda rusak, pengiriman via paxel sanga...     5\n",
       "...                                                  ...   ...\n",
       "10367  ok bgt udah pake dari 2019 ga pernah ganti sel...     5\n",
       "10382  sebenernya secara kualitas barang cukup baik,s...     3\n",
       "10383  jahitan rapih, puas lah berkali&#34; order kesini     5\n",
       "10400  sesuai deskripsi uk 30cm..barang bagus..materi...     5\n",
       "10411  kualitas warna layar bagus dan untuk menu di m...     5\n",
       "\n",
       "[1143 rows x 2 columns]"
      ]
     },
     "execution_count": 115,
     "metadata": {},
     "output_type": "execute_result"
    }
   ],
   "source": [
    "clean_df[clean_df.review.str.contains(r'\\d')]"
   ]
  },
  {
   "cell_type": "code",
   "execution_count": 116,
   "id": "923ef9162e5fa3c1",
   "metadata": {
    "ExecuteTime": {
     "end_time": "2025-05-17T10:27:19.399202Z",
     "start_time": "2025-05-17T10:27:19.331501Z"
    }
   },
   "outputs": [],
   "source": [
    "import re\n",
    "\n",
    "\n",
    "def preprocess_numbers(x):\n",
    "    # Pattern 1: Price expressions - convert to [PRICE] token\n",
    "    price_pattern = r\"\\b\\d+(?:[,.]\\d+)*(?:rb|ribu|k|jt|juta|m|million)\\b\"\n",
    "    x = re.sub(price_pattern, \"[PRICE]\", x)\n",
    "\n",
    "    # Pattern 2: Simple math expressions - remove these\n",
    "    math_pattern = r\"\\b\\d+[\\+\\-\\*\\/]\\d+\\b\"\n",
    "    x = re.sub(math_pattern, \"\", x)\n",
    "\n",
    "    # Pattern 3: Split number prefix from words (e.g., 2hari -> 2 hari)\n",
    "    word_prefix_pattern = r\"(\\d+)(\\w+)\"\n",
    "    x = re.sub(word_prefix_pattern, r\"\\1 \\2\", x)\n",
    "\n",
    "    # Pattern 4: Remove repeated words (e.g., masing2 -> masing-masing)\n",
    "    repeated_word_pattern = r\"(\\w+)2\\b\"\n",
    "    x = re.sub(repeated_word_pattern, r\"\\1-\\1\", x)\n",
    "\n",
    "    # Pattern 5: Remove standalone numbers that aren't part of important expressions (time and/or quantity)\n",
    "    # This should run last to avoid interfering with other patterns\n",
    "    standalone_num_pattern = r\"\\b\\d+\\b(?!\\s+(?:tahun|thn|bulan|bln|hari|hr|minggu|mgg|jam|jm|menit|mnt|detik|dtk|pcs|kantong|kantng|bungkus|box|paket|biji|buah))\"\n",
    "    x = re.sub(standalone_num_pattern, \"\", x)\n",
    "\n",
    "    return x.strip()\n",
    "\n",
    "\n",
    "clean_df.review = clean_df.review.map(preprocess_numbers)\n"
   ]
  },
  {
   "cell_type": "code",
   "execution_count": 117,
   "id": "ee131f138e645e24",
   "metadata": {
    "ExecuteTime": {
     "end_time": "2025-05-17T10:27:19.789601Z",
     "start_time": "2025-05-17T10:27:19.774436Z"
    }
   },
   "outputs": [
    {
     "data": {
      "text/html": [
       "<div>\n",
       "<style scoped>\n",
       "    .dataframe tbody tr th:only-of-type {\n",
       "        vertical-align: middle;\n",
       "    }\n",
       "\n",
       "    .dataframe tbody tr th {\n",
       "        vertical-align: top;\n",
       "    }\n",
       "\n",
       "    .dataframe thead th {\n",
       "        text-align: right;\n",
       "    }\n",
       "</style>\n",
       "<table border=\"1\" class=\"dataframe\">\n",
       "  <thead>\n",
       "    <tr style=\"text-align: right;\">\n",
       "      <th></th>\n",
       "      <th>review</th>\n",
       "      <th>star</th>\n",
       "    </tr>\n",
       "  </thead>\n",
       "  <tbody>\n",
       "    <tr>\n",
       "      <th>33</th>\n",
       "      <td>kirain 100 pcs trnyata  bola aza,,,, \\ntp y sd...</td>\n",
       "      <td>2</td>\n",
       "    </tr>\n",
       "    <tr>\n",
       "      <th>52</th>\n",
       "      <td>2 hr sampai.. blm di coba krn puasa. mudah-mud...</td>\n",
       "      <td>5</td>\n",
       "    </tr>\n",
       "    <tr>\n",
       "      <th>107</th>\n",
       "      <td>packing rapi, overall minyak rambut nya kurang...</td>\n",
       "      <td>4</td>\n",
       "    </tr>\n",
       "    <tr>\n",
       "      <th>123</th>\n",
       "      <td>barang okay sangat gampang digunakan dan sanga...</td>\n",
       "      <td>5</td>\n",
       "    </tr>\n",
       "    <tr>\n",
       "      <th>156</th>\n",
       "      <td>cukup wangi, medium strong, medium shine. belu...</td>\n",
       "      <td>5</td>\n",
       "    </tr>\n",
       "    <tr>\n",
       "      <th>...</th>\n",
       "      <td>...</td>\n",
       "      <td>...</td>\n",
       "    </tr>\n",
       "    <tr>\n",
       "      <th>10032</th>\n",
       "      <td>ok bgtt, sudah dipakai untuk perjalanan  4 jam...</td>\n",
       "      <td>5</td>\n",
       "    </tr>\n",
       "    <tr>\n",
       "      <th>10255</th>\n",
       "      <td>kalau ada yg minat bisa pesan di toko harjunsh...</td>\n",
       "      <td>5</td>\n",
       "    </tr>\n",
       "    <tr>\n",
       "      <th>10302</th>\n",
       "      <td>pembelian ke dua. dapetny 2 pcs,  kalo pake ti...</td>\n",
       "      <td>5</td>\n",
       "    </tr>\n",
       "    <tr>\n",
       "      <th>10356</th>\n",
       "      <td>favoriiit  paraaah, bagus banget ini makasih y...</td>\n",
       "      <td>5</td>\n",
       "    </tr>\n",
       "    <tr>\n",
       "      <th>10360</th>\n",
       "      <td>kyalitas barang bagus, paket sampai dengan sel...</td>\n",
       "      <td>4</td>\n",
       "    </tr>\n",
       "  </tbody>\n",
       "</table>\n",
       "<p>220 rows × 2 columns</p>\n",
       "</div>"
      ],
      "text/plain": [
       "                                                  review  star\n",
       "33     kirain 100 pcs trnyata  bola aza,,,, \\ntp y sd...     2\n",
       "52     2 hr sampai.. blm di coba krn puasa. mudah-mud...     5\n",
       "107    packing rapi, overall minyak rambut nya kurang...     4\n",
       "123    barang okay sangat gampang digunakan dan sanga...     5\n",
       "156    cukup wangi, medium strong, medium shine. belu...     5\n",
       "...                                                  ...   ...\n",
       "10032  ok bgtt, sudah dipakai untuk perjalanan  4 jam...     5\n",
       "10255  kalau ada yg minat bisa pesan di toko harjunsh...     5\n",
       "10302  pembelian ke dua. dapetny 2 pcs,  kalo pake ti...     5\n",
       "10356  favoriiit  paraaah, bagus banget ini makasih y...     5\n",
       "10360  kyalitas barang bagus, paket sampai dengan sel...     4\n",
       "\n",
       "[220 rows x 2 columns]"
      ]
     },
     "execution_count": 117,
     "metadata": {},
     "output_type": "execute_result"
    }
   ],
   "source": [
    "clean_df[clean_df.review.str.contains(r'\\d')]"
   ]
  },
  {
   "cell_type": "markdown",
   "id": "e3cc476f96a6e6ea",
   "metadata": {},
   "source": [
    "#### Punctuation"
   ]
  },
  {
   "cell_type": "code",
   "execution_count": 118,
   "id": "80caac7c7d1a672a",
   "metadata": {
    "ExecuteTime": {
     "end_time": "2025-05-17T10:27:20.822207Z",
     "start_time": "2025-05-17T10:27:20.780937Z"
    }
   },
   "outputs": [
    {
     "data": {
      "text/plain": [
       "0                          abis dibayar lgsg proses da bes\n",
       "1                                               mantab gan\n",
       "2             gamenya bagus pas dapat diskon gede pula top\n",
       "3                           barang sesuai dan cepat sampai\n",
       "4        gaming terbaik game nya seru kelengkapan sesua...\n",
       "                               ...                        \n",
       "10418          pelayanan sangat ramah  cepat terimakasih 🙏\n",
       "10419    oke monitorny mantap bener cuy paling worth it...\n",
       "10420    semoga aman maaf baru review baru sempet tes m...\n",
       "10421    pesan dangan packing kayu  instant yang datang...\n",
       "10422    toko nya ramah bgt👍 fast respon jga🤟 keren deh...\n",
       "Name: review, Length: 8820, dtype: object"
      ]
     },
     "execution_count": 118,
     "metadata": {},
     "output_type": "execute_result"
    }
   ],
   "source": [
    "import string\n",
    "\n",
    "\n",
    "def remove_punctuation(x):\n",
    "    punctuations = set(string.punctuation)\n",
    "    cleaned_text = ''.join(char for char in x if char not in punctuations)\n",
    "    return cleaned_text\n",
    "\n",
    "clean_df.review.map(remove_punctuation)"
   ]
  },
  {
   "cell_type": "code",
   "execution_count": 119,
   "id": "e9452bddc91b8394",
   "metadata": {
    "ExecuteTime": {
     "end_time": "2025-05-17T10:27:21.353402Z",
     "start_time": "2025-05-17T10:27:21.316429Z"
    }
   },
   "outputs": [],
   "source": [
    "clean_df.review = clean_df.review.map(remove_punctuation)"
   ]
  },
  {
   "cell_type": "markdown",
   "id": "755890049d8b0737",
   "metadata": {},
   "source": [
    "#### Emoji\n",
    "\n",
    "Emoji is not directly removed as it might helpful for the sentiment. For example love emoji (❤️‍) shows a positive sentiment. Instead the emoji is turned to its description or name. So that embedding model can handle it like text."
   ]
  },
  {
   "cell_type": "code",
   "execution_count": 120,
   "id": "a9fc1486ef44cbd9",
   "metadata": {
    "ExecuteTime": {
     "end_time": "2025-05-17T10:27:24.634863Z",
     "start_time": "2025-05-17T10:27:24.279704Z"
    }
   },
   "outputs": [
    {
     "data": {
      "text/plain": [
       "0                          abis dibayar lgsg proses da bes\n",
       "1                                               mantab gan\n",
       "2             gamenya bagus pas dapat diskon gede pula top\n",
       "3                           barang sesuai dan cepat sampai\n",
       "4        gaming terbaik game nya seru kelengkapan sesua...\n",
       "                               ...                        \n",
       "10418    pelayanan sangat ramah  cepat terimakasih  mel...\n",
       "10419    oke monitorny mantap bener cuy paling worth it...\n",
       "10420    semoga aman maaf baru review baru sempet tes m...\n",
       "10421    pesan dangan packing kayu  instant yang datang...\n",
       "10422    toko nya ramah bgt jempol ke atas  fast respon...\n",
       "Name: review, Length: 8820, dtype: object"
      ]
     },
     "execution_count": 120,
     "metadata": {},
     "output_type": "execute_result"
    }
   ],
   "source": [
    "import re\n",
    "import emoji\n",
    "\n",
    "def preprocess_emojis(x):\n",
    "    text = emoji.demojize(x, language='id', delimiters=(\" \", \" \"))\n",
    "    return text.replace('_', ' ').strip()\n",
    "\n",
    "\n",
    "clean_df.review.map(preprocess_emojis)"
   ]
  },
  {
   "cell_type": "code",
   "execution_count": 121,
   "id": "e5849b160cb562e4",
   "metadata": {
    "ExecuteTime": {
     "end_time": "2025-05-17T10:27:28.286879Z",
     "start_time": "2025-05-17T10:27:27.990164Z"
    }
   },
   "outputs": [],
   "source": [
    "clean_df.review = clean_df.review.map(preprocess_emojis)"
   ]
  },
  {
   "cell_type": "markdown",
   "id": "e0921f57fe25bc50",
   "metadata": {},
   "source": [
    "#### Repeated Letters"
   ]
  },
  {
   "cell_type": "code",
   "execution_count": 122,
   "id": "928da8bf61314239",
   "metadata": {
    "ExecuteTime": {
     "end_time": "2025-05-17T10:27:30.396525Z",
     "start_time": "2025-05-17T10:27:30.319131Z"
    }
   },
   "outputs": [],
   "source": [
    "def normalize_repeated_letters(word):\n",
    "    # Only replace if a character repeats 3 or more times\n",
    "    return re.sub(r'(.)\\1{2,}', r'\\1', word)\n",
    "\n",
    "def normalize_review(text):\n",
    "    return ' '.join([normalize_repeated_letters(w) for w in text.split()])\n",
    "\n",
    "clean_df.review = clean_df.review.map(normalize_review)"
   ]
  },
  {
   "cell_type": "code",
   "execution_count": 123,
   "id": "d33b4334",
   "metadata": {
    "ExecuteTime": {
     "end_time": "2025-05-17T10:27:31.131350Z",
     "start_time": "2025-05-17T10:27:31.124976Z"
    }
   },
   "outputs": [
    {
     "data": {
      "text/plain": [
       "0                          abis dibayar lgsg proses da bes\n",
       "1                                               mantab gan\n",
       "2             gamenya bagus pas dapat diskon gede pula top\n",
       "3                           barang sesuai dan cepat sampai\n",
       "4        gaming terbaik game nya seru kelengkapan sesua...\n",
       "                               ...                        \n",
       "10418    pelayanan sangat ramah cepat terimakasih melip...\n",
       "10419    oke monitorny mantap bener cuy paling worth it...\n",
       "10420    semoga aman maaf baru review baru sempet tes m...\n",
       "10421    pesan dangan packing kayu instant yang datang ...\n",
       "10422    toko nya ramah bgt jempol ke atas fast respon ...\n",
       "Name: review, Length: 8820, dtype: object"
      ]
     },
     "execution_count": 123,
     "metadata": {},
     "output_type": "execute_result"
    }
   ],
   "source": [
    "clean_df.review"
   ]
  },
  {
   "cell_type": "markdown",
   "id": "3bf7b942",
   "metadata": {},
   "source": [
    "#### Common Mistakes"
   ]
  },
  {
   "cell_type": "code",
   "execution_count": 225,
   "id": "bc981009",
   "metadata": {},
   "outputs": [],
   "source": [
    "# common abbreviated words and common slangs\n",
    "\n",
    "common_abbv = {\n",
    "    'yg': 'yang',\n",
    "    'gak': 'tidak',\n",
    "    'nggak': 'tidak',\n",
    "    'gk': 'tidak',\n",
    "    'ga': 'tidak',\n",
    "    'tdk': 'tidak',\n",
    "    'gitu': 'begitu',\n",
    "    'bgt': 'banget',\n",
    "    'bgtu': 'begitu',\n",
    "    'lgsg': 'langsung',\n",
    "    'mantab': 'mantap',\n",
    "    'mntp': 'mantap',\n",
    "    'moga': 'semoga',\n",
    "    'gede': 'besar',\n",
    "    'thx': 'terima kasih',\n",
    "    'makasih': 'terima kasih',\n",
    "    'terimakasih': 'terima kasih',\n",
    "    'trims': 'terima kasih',\n",
    "    'tp': 'tapi',\n",
    "    'sy': 'saya',\n",
    "    'sya': 'saya',\n",
    "    'sdh': 'sudah',\n",
    "    'smpai': 'sampai',\n",
    "    'dgn': 'dengan',\n",
    "}\n",
    "\n",
    "def replace_abbreviations(text):\n",
    "    for abbv, full in common_abbv.items():\n",
    "        text = re.sub(r'\\b' + abbv + r'\\b', full, text)\n",
    "    return text\n",
    "\n",
    "clean_df.review = clean_df.review.map(replace_abbreviations)"
   ]
  },
  {
   "cell_type": "code",
   "execution_count": 173,
   "id": "42dca57a",
   "metadata": {},
   "outputs": [],
   "source": [
    "# remove 'nya' word which detached from the word before it\n",
    "def remove_detached_nya(text):\n",
    "    return re.sub(r'(\\w+)\\s+nya\\b', r'\\1', text)\n",
    "\n",
    "clean_df.review = clean_df.review.map(remove_detached_nya)"
   ]
  },
  {
   "cell_type": "code",
   "execution_count": 174,
   "id": "c9a30036",
   "metadata": {},
   "outputs": [
    {
     "data": {
      "text/plain": [
       "0                       abis bayar langsung proses da bes\n",
       "1                                              mantap gan\n",
       "2                      gamenya bagus pas diskon besar top\n",
       "3                                     barang sesuai cepat\n",
       "4        gaming baik game seru lengkap sesuai produk baru\n",
       "                              ...                        \n",
       "8799    layan sangat ramah cepat terima kasih lipat ta...\n",
       "8800    oke monitorny mantap bener cuy paling worth it...\n",
       "8801    semoga aman maaf baru review baru sempet tes m...\n",
       "8802    pesan dang packing kayu instant datang packing...\n",
       "8803    toko ramah banget jempol atas fast respon jga ...\n",
       "Name: review, Length: 8804, dtype: object"
      ]
     },
     "execution_count": 174,
     "metadata": {},
     "output_type": "execute_result"
    }
   ],
   "source": [
    "clean_df.review"
   ]
  },
  {
   "cell_type": "markdown",
   "id": "440919e8161f0b4e",
   "metadata": {},
   "source": [
    "#### Stopword Removal"
   ]
  },
  {
   "cell_type": "code",
   "execution_count": 124,
   "id": "6a7006f76960808d",
   "metadata": {
    "ExecuteTime": {
     "end_time": "2025-05-17T10:27:32.650375Z",
     "start_time": "2025-05-17T10:27:32.577660Z"
    }
   },
   "outputs": [
    {
     "name": "stderr",
     "output_type": "stream",
     "text": [
      "[nltk_data] Downloading package punkt_tab to\n",
      "[nltk_data]     /teamspace/studios/this_studio/nltk_data...\n",
      "[nltk_data]   Package punkt_tab is already up-to-date!\n"
     ]
    },
    {
     "data": {
      "text/plain": [
       "True"
      ]
     },
     "execution_count": 124,
     "metadata": {},
     "output_type": "execute_result"
    }
   ],
   "source": [
    "import nltk\n",
    "nltk.download('punkt_tab')"
   ]
  },
  {
   "cell_type": "code",
   "execution_count": 125,
   "id": "c32c159a8800566c",
   "metadata": {
    "ExecuteTime": {
     "end_time": "2025-05-17T10:27:33.361069Z",
     "start_time": "2025-05-17T10:27:33.357142Z"
    }
   },
   "outputs": [],
   "source": [
    "from Sastrawi.StopWordRemover.StopWordRemoverFactory import StopWordRemoverFactory\n",
    "from nltk.tokenize import word_tokenize\n",
    "\n",
    "factory = StopWordRemoverFactory()\n",
    "stopwords = factory.get_stop_words()"
   ]
  },
  {
   "cell_type": "code",
   "execution_count": 206,
   "id": "6eaaadb7bf40a639",
   "metadata": {
    "ExecuteTime": {
     "end_time": "2025-05-17T10:27:35.715379Z",
     "start_time": "2025-05-17T10:27:35.467432Z"
    }
   },
   "outputs": [
    {
     "data": {
      "text/plain": [
       "0                       abis bayar langsung proses da bes\n",
       "1                                              mantap gan\n",
       "2                      gamenya bagus pas diskon besar top\n",
       "3                                     barang sesuai cepat\n",
       "4        gaming baik game seru lengkap sesuai produk baru\n",
       "                              ...                        \n",
       "8799    layan sangat ramah cepat terima kasih lipat ta...\n",
       "8800    oke monitorny mantap bener cuy paling worth it...\n",
       "8801    semoga aman maaf baru review baru sempet tes m...\n",
       "8802    pesan dang packing kayu instant datang packing...\n",
       "8803    toko ramah banget jempol atas fast respon jga ...\n",
       "Name: review, Length: 8804, dtype: object"
      ]
     },
     "execution_count": 206,
     "metadata": {},
     "output_type": "execute_result"
    }
   ],
   "source": [
    "def remove_stopwords(x):\n",
    "    word_token = word_tokenize(x)\n",
    "    important_words = [word for word in word_token if word.lower() not in stopwords]\n",
    "    return ' '.join(important_words)\n",
    "\n",
    "clean_df.review.map(remove_stopwords)"
   ]
  },
  {
   "cell_type": "code",
   "execution_count": 226,
   "id": "b2144b815f04f520",
   "metadata": {
    "ExecuteTime": {
     "end_time": "2025-05-17T10:27:38.113571Z",
     "start_time": "2025-05-17T10:27:37.864216Z"
    }
   },
   "outputs": [],
   "source": [
    "clean_df.review = clean_df.review.map(remove_stopwords)"
   ]
  },
  {
   "cell_type": "markdown",
   "id": "351d02aeabdf552e",
   "metadata": {},
   "source": [
    "#### Whitespaces"
   ]
  },
  {
   "cell_type": "code",
   "execution_count": 208,
   "id": "6533e1048b1427c",
   "metadata": {
    "ExecuteTime": {
     "end_time": "2025-05-17T10:27:40.543525Z",
     "start_time": "2025-05-17T10:27:40.518757Z"
    }
   },
   "outputs": [
    {
     "data": {
      "text/plain": [
       "0                       abis bayar langsung proses da bes\n",
       "1                                              mantap gan\n",
       "2                      gamenya bagus pas diskon besar top\n",
       "3                                     barang sesuai cepat\n",
       "4        gaming baik game seru lengkap sesuai produk baru\n",
       "                              ...                        \n",
       "8799    layan sangat ramah cepat terima kasih lipat ta...\n",
       "8800    oke monitorny mantap bener cuy paling worth it...\n",
       "8801    semoga aman maaf baru review baru sempet tes m...\n",
       "8802    pesan dang packing kayu instant datang packing...\n",
       "8803    toko ramah banget jempol atas fast respon jga ...\n",
       "Name: review, Length: 8804, dtype: object"
      ]
     },
     "execution_count": 208,
     "metadata": {},
     "output_type": "execute_result"
    }
   ],
   "source": [
    "def remove_whitespaces(x):\n",
    "    return re.sub(r\"\\s+\", \" \", x).strip()\n",
    "\n",
    "clean_df.review.map(remove_whitespaces)"
   ]
  },
  {
   "cell_type": "code",
   "execution_count": 227,
   "id": "f9709c59b11020fb",
   "metadata": {
    "ExecuteTime": {
     "end_time": "2025-05-17T10:27:41.100576Z",
     "start_time": "2025-05-17T10:27:41.074959Z"
    }
   },
   "outputs": [],
   "source": [
    "clean_df.review = clean_df.review.map(remove_whitespaces)"
   ]
  },
  {
   "cell_type": "code",
   "execution_count": 228,
   "id": "d35bb2816c5e2a3f",
   "metadata": {
    "ExecuteTime": {
     "end_time": "2025-05-17T10:32:45.212318Z",
     "start_time": "2025-05-17T10:32:45.205810Z"
    }
   },
   "outputs": [],
   "source": [
    "# drop any empty row (no text) after all the preprocessing\n",
    "clean_df = clean_df[~clean_df[\"review\"].str.match(r\"^\\s*$\", na=False)]"
   ]
  },
  {
   "cell_type": "markdown",
   "id": "8209628b28145089",
   "metadata": {},
   "source": [
    "### Stemming"
   ]
  },
  {
   "cell_type": "code",
   "execution_count": 132,
   "id": "8f222e3da78106c2",
   "metadata": {
    "ExecuteTime": {
     "end_time": "2025-05-17T10:33:04.290874Z",
     "start_time": "2025-05-17T10:33:04.272658Z"
    }
   },
   "outputs": [],
   "source": [
    "from Sastrawi.Stemmer.StemmerFactory import StemmerFactory\n",
    "\n",
    "factory = StemmerFactory()\n",
    "stemmer = factory.create_stemmer()"
   ]
  },
  {
   "cell_type": "code",
   "execution_count": 133,
   "id": "eaf759c5237ffcf5",
   "metadata": {
    "ExecuteTime": {
     "start_time": "2025-05-17T10:33:04.764464Z"
    },
    "jupyter": {
     "is_executing": true
    }
   },
   "outputs": [
    {
     "data": {
      "application/vnd.jupyter.widget-view+json": {
       "model_id": "8ac0baf6b5c64312a30f64396e39e4f2",
       "version_major": 2,
       "version_minor": 0
      },
      "text/plain": [
       "  0%|          | 0/8804 [00:00<?, ?it/s]"
      ]
     },
     "metadata": {},
     "output_type": "display_data"
    }
   ],
   "source": [
    "clean_df.review = clean_df.review.progress_map(lambda x: stemmer.stem(x))"
   ]
  },
  {
   "cell_type": "code",
   "execution_count": 134,
   "id": "882925cc679bcc88",
   "metadata": {},
   "outputs": [
    {
     "data": {
      "text/plain": [
       "0                            abis bayar lgsg proses da bes\n",
       "1                                               mantab gan\n",
       "2                        gamenya bagus pas diskon gede top\n",
       "3                                      barang sesuai cepat\n",
       "4        gaming baik game nya seru lengkap sesuai produ...\n",
       "                               ...                        \n",
       "10418    layan sangat ramah cepat terimakasih lipat tangan\n",
       "10419    oke monitorny mantap bener cuy paling worth it...\n",
       "10420    moga aman maaf baru review baru sempet tes mon...\n",
       "10421    pesan dang packing kayu instant datang packing...\n",
       "10422    toko nya ramah bgt jempol atas fast respon jga...\n",
       "Name: review, Length: 8804, dtype: object"
      ]
     },
     "execution_count": 134,
     "metadata": {},
     "output_type": "execute_result"
    }
   ],
   "source": [
    "clean_df.review"
   ]
  },
  {
   "cell_type": "code",
   "execution_count": null,
   "id": "a0edc0308fc3136",
   "metadata": {
    "ExecuteTime": {
     "end_time": "2025-05-17T10:00:41.926228Z",
     "start_time": "2025-05-17T10:00:41.877540Z"
    }
   },
   "outputs": [],
   "source": [
    "clean_df.to_csv('data/clean_reviews.csv', index=False)"
   ]
  },
  {
   "cell_type": "markdown",
   "id": "a9d24f7e9cae38e4",
   "metadata": {},
   "source": [
    "## Embedding Model\n",
    "\n",
    "For this case we opt for using Fasttext.\n",
    "\n",
    ">FastText breaks down words into smaller parts, such as n-grams, and computes vector representations for each of these subword parts. Then, the vector representation for the word is obtained by combining the subword vectors that form the word. This approach helps FastText address the morphological variation of words in the text\n",
    "\n",
    "*[dicoding](https://www.dicoding.com/academies/185/tutorials/37403)*\n",
    "\n",
    "Suitable for multi typo, messed text found in product review."
   ]
  },
  {
   "cell_type": "code",
   "execution_count": 176,
   "id": "6c1f6d45",
   "metadata": {},
   "outputs": [
    {
     "name": "stdout",
     "output_type": "stream",
     "text": [
      "File already exists at model/cc.id.300.vec. Skipping download and extraction.\n",
      "Extracted file is at: model/cc.id.300.vec\n"
     ]
    }
   ],
   "source": [
    "import requests\n",
    "import gzip\n",
    "import os\n",
    "\n",
    "def download_and_extract_gz(url, output_dir=\"web\"):\n",
    "    # Create the web directory in the current working directory if it doesn't exist\n",
    "    os.makedirs(output_dir, exist_ok=True)\n",
    "\n",
    "    # Get the filename from the URL\n",
    "    filename = os.path.basename(url)\n",
    "    output_filename = os.path.splitext(filename)[0]  # Remove .gz extension\n",
    "\n",
    "    # Save the downloaded .gz file\n",
    "    gz_path = os.path.join(output_dir, filename)\n",
    "    output_path = os.path.join(output_dir, output_filename)\n",
    "\n",
    "    # Check if the extracted file already exists\n",
    "    if os.path.exists(output_path):\n",
    "        print(f\"File already exists at {output_path}. Skipping download and extraction.\")\n",
    "        return output_path\n",
    "\n",
    "    # Download the file\n",
    "    print(f\"Downloading from {url}...\")\n",
    "    response = requests.get(url, stream=True)\n",
    "    response.raise_for_status()  # Raise an exception for failed downloads\n",
    "\n",
    "    with open(gz_path, 'wb') as f:\n",
    "        for chunk in response.iter_content(chunk_size=8192):\n",
    "            f.write(chunk)\n",
    "\n",
    "    # Extract the .gz file\n",
    "    print(f\"Extracting to {output_path}...\")\n",
    "    with gzip.open(gz_path, 'rb') as gz_file:\n",
    "        with open(output_path, 'wb') as output_file:\n",
    "            output_file.write(gz_file.read())\n",
    "\n",
    "    print(f\"Download and extraction complete! File saved to {output_path}\")\n",
    "    return output_path\n",
    "\n",
    "\n",
    "extracted_path = download_and_extract_gz('https://dl.fbaipublicfiles.com/fasttext/vectors-crawl/cc.id.300.vec.gz', 'model')\n",
    "print(f\"Extracted file is at: {extracted_path}\")"
   ]
  },
  {
   "cell_type": "code",
   "execution_count": 136,
   "id": "15fd687bf8dfb9d8",
   "metadata": {},
   "outputs": [],
   "source": [
    "from gensim.models import KeyedVectors\n",
    "\n",
    "# only run this one time\n",
    "# word_vectors = KeyedVectors.load_word2vec_format('model/cc.id.300.vec')\n",
    "# word_vectors.save('model/cc.id.300.kvmodel')"
   ]
  },
  {
   "cell_type": "code",
   "execution_count": 137,
   "id": "729a1fb7",
   "metadata": {},
   "outputs": [],
   "source": [
    "word_vectors = KeyedVectors.load('model/cc.id.300.kvmodel') # loading the saved format"
   ]
  },
  {
   "cell_type": "markdown",
   "id": "a924c8fcc4ae369d",
   "metadata": {},
   "source": [
    "### Load Data"
   ]
  },
  {
   "cell_type": "code",
   "execution_count": 177,
   "id": "1e5fabded269245b",
   "metadata": {},
   "outputs": [
    {
     "data": {
      "text/html": [
       "<div>\n",
       "<style scoped>\n",
       "    .dataframe tbody tr th:only-of-type {\n",
       "        vertical-align: middle;\n",
       "    }\n",
       "\n",
       "    .dataframe tbody tr th {\n",
       "        vertical-align: top;\n",
       "    }\n",
       "\n",
       "    .dataframe thead th {\n",
       "        text-align: right;\n",
       "    }\n",
       "</style>\n",
       "<table border=\"1\" class=\"dataframe\">\n",
       "  <thead>\n",
       "    <tr style=\"text-align: right;\">\n",
       "      <th></th>\n",
       "      <th>review</th>\n",
       "      <th>star</th>\n",
       "      <th>label</th>\n",
       "    </tr>\n",
       "  </thead>\n",
       "  <tbody>\n",
       "    <tr>\n",
       "      <th>0</th>\n",
       "      <td>abis bayar langsung proses da bes</td>\n",
       "      <td>5</td>\n",
       "      <td>positive</td>\n",
       "    </tr>\n",
       "    <tr>\n",
       "      <th>1</th>\n",
       "      <td>mantap gan</td>\n",
       "      <td>5</td>\n",
       "      <td>positive</td>\n",
       "    </tr>\n",
       "    <tr>\n",
       "      <th>2</th>\n",
       "      <td>gamenya bagus pas diskon besar top</td>\n",
       "      <td>5</td>\n",
       "      <td>positive</td>\n",
       "    </tr>\n",
       "    <tr>\n",
       "      <th>3</th>\n",
       "      <td>barang sesuai cepat</td>\n",
       "      <td>5</td>\n",
       "      <td>positive</td>\n",
       "    </tr>\n",
       "    <tr>\n",
       "      <th>4</th>\n",
       "      <td>gaming baik game seru lengkap sesuai produk baru</td>\n",
       "      <td>5</td>\n",
       "      <td>positive</td>\n",
       "    </tr>\n",
       "  </tbody>\n",
       "</table>\n",
       "</div>"
      ],
      "text/plain": [
       "                                             review  star     label\n",
       "0                 abis bayar langsung proses da bes     5  positive\n",
       "1                                        mantap gan     5  positive\n",
       "2                gamenya bagus pas diskon besar top     5  positive\n",
       "3                               barang sesuai cepat     5  positive\n",
       "4  gaming baik game seru lengkap sesuai produk baru     5  positive"
      ]
     },
     "execution_count": 177,
     "metadata": {},
     "output_type": "execute_result"
    }
   ],
   "source": [
    "# load the cleaned data if necessary\n",
    "import pandas as pd\n",
    "\n",
    "clean_df = pd.read_csv('data/clean_reviews.csv')\n",
    "clean_df.head()"
   ]
  },
  {
   "cell_type": "code",
   "execution_count": 218,
   "id": "6d3e7989",
   "metadata": {},
   "outputs": [
    {
     "data": {
      "text/plain": [
       "8804"
      ]
     },
     "execution_count": 218,
     "metadata": {},
     "output_type": "execute_result"
    }
   ],
   "source": [
    "len(clean_df)"
   ]
  },
  {
   "cell_type": "code",
   "execution_count": 219,
   "id": "75cfc603af783be3",
   "metadata": {
    "ExecuteTime": {
     "end_time": "2025-05-17T10:01:21.974880Z",
     "start_time": "2025-05-17T10:01:21.961657Z"
    }
   },
   "outputs": [
    {
     "data": {
      "text/plain": [
       "star\n",
       "5    8000\n",
       "4     463\n",
       "3     156\n",
       "1     121\n",
       "2      64\n",
       "Name: count, dtype: int64"
      ]
     },
     "execution_count": 219,
     "metadata": {},
     "output_type": "execute_result"
    }
   ],
   "source": [
    "clean_df.star.value_counts()"
   ]
  },
  {
   "cell_type": "code",
   "execution_count": 232,
   "id": "d21b9d191189bec",
   "metadata": {},
   "outputs": [
    {
     "data": {
      "text/plain": [
       "{1: [('kirim', 38),\n",
       "  ('barang', 37),\n",
       "  ('beli', 30),\n",
       "  ('jual', 18),\n",
       "  ('wajah', 16),\n",
       "  ('pesan', 15),\n",
       "  ('sesuai', 13),\n",
       "  ('lama', 13),\n",
       "  ('sama', 13),\n",
       "  ('terima', 10)],\n",
       " 2: [('kurang', 12),\n",
       "  ('packing', 12),\n",
       "  ('kirim', 11),\n",
       "  ('bagus', 10),\n",
       "  ('barang', 10),\n",
       "  ('ukur', 9),\n",
       "  ('kali', 8),\n",
       "  ('baik', 8),\n",
       "  ('kualitas', 8),\n",
       "  ('hari', 8)],\n",
       " 3: [('barang', 29),\n",
       "  ('sesuai', 26),\n",
       "  ('kirim', 25),\n",
       "  ('kurang', 21),\n",
       "  ('lama', 18),\n",
       "  ('beli', 17),\n",
       "  ('baru', 17),\n",
       "  ('baik', 15),\n",
       "  ('packing', 14),\n",
       "  ('terima', 14)],\n",
       " 4: [('barang', 132),\n",
       "  ('kirim', 123),\n",
       "  ('bagus', 86),\n",
       "  ('sesuai', 84),\n",
       "  ('kurang', 61),\n",
       "  ('lama', 58),\n",
       "  ('cepat', 57),\n",
       "  ('baik', 55),\n",
       "  ('banget', 45),\n",
       "  ('terima', 44)],\n",
       " 5: [('barang', 2178),\n",
       "  ('bagus', 1914),\n",
       "  ('sesuai', 1833),\n",
       "  ('cepat', 1778),\n",
       "  ('kirim', 1682),\n",
       "  ('terima', 1372),\n",
       "  ('atas', 1221),\n",
       "  ('jempol', 1191),\n",
       "  ('kasih', 1130),\n",
       "  ('aman', 1129)]}"
      ]
     },
     "execution_count": 232,
     "metadata": {},
     "output_type": "execute_result"
    }
   ],
   "source": [
    "from collections import Counter\n",
    "\n",
    "top_words_per_star = {}\n",
    "\n",
    "for star in sorted(clean_df.star.unique()):\n",
    "    reviews = clean_df[clean_df.star == star].review\n",
    "    words = ' '.join(reviews).split()\n",
    "    most_common = Counter(words).most_common(10)\n",
    "    top_words_per_star[star] = most_common\n",
    "\n",
    "top_words_per_star"
   ]
  },
  {
   "cell_type": "code",
   "execution_count": 221,
   "id": "2cb976e819179a54",
   "metadata": {
    "ExecuteTime": {
     "end_time": "2025-05-17T08:53:11.209885Z",
     "start_time": "2025-05-17T08:53:11.203302Z"
    }
   },
   "outputs": [
    {
     "data": {
      "text/plain": [
       "array([ 8.500e-03,  2.340e-02,  7.650e-02,  1.607e-01, -4.070e-02,\n",
       "       -3.220e-02, -1.660e-02,  3.230e-02, -4.750e-02, -1.565e-01,\n",
       "        8.840e-02, -7.720e-02, -1.795e-01,  7.000e-02,  2.100e-02,\n",
       "        4.680e-02,  8.220e-02, -5.200e-02, -2.670e-02,  9.500e-03,\n",
       "       -7.170e-02,  2.720e-02,  1.087e-01,  1.154e-01,  1.200e-01,\n",
       "       -3.530e-02,  8.670e-02, -4.000e-03,  1.357e-01,  5.650e-02,\n",
       "       -1.220e-02, -9.820e-02,  1.156e-01, -5.960e-02,  4.910e-02,\n",
       "       -2.950e-02, -2.810e-02,  1.446e-01,  8.920e-02, -1.187e-01,\n",
       "        3.440e-02, -1.341e-01,  2.920e-02,  1.693e-01, -8.770e-02,\n",
       "        4.380e-02,  5.060e-02,  9.490e-02, -7.800e-03, -4.990e-02,\n",
       "        8.640e-02, -1.810e-02, -1.202e-01,  3.410e-02, -6.320e-02,\n",
       "       -6.490e-02,  2.187e-01,  1.015e-01, -3.100e-03, -9.290e-02,\n",
       "        5.130e-02, -1.510e-01, -5.860e-02, -7.520e-02, -8.900e-03,\n",
       "       -5.600e-03, -1.007e-01,  3.500e-03,  7.860e-02,  3.480e-02,\n",
       "       -5.120e-02,  1.630e-02, -3.050e-02, -6.550e-02,  8.530e-02,\n",
       "       -1.355e-01,  1.550e-02, -1.671e-01, -2.040e-02,  9.710e-02,\n",
       "       -1.720e-02, -2.210e-02,  7.260e-02,  6.500e-02,  5.820e-02,\n",
       "        5.370e-02, -2.133e-01, -1.197e-01,  9.770e-02,  5.170e-02,\n",
       "       -8.400e-03,  1.832e-01, -1.800e-03, -6.540e-02, -2.793e-01,\n",
       "       -2.205e-01, -1.235e-01,  4.360e-02,  1.383e-01,  2.000e-04,\n",
       "        1.146e-01,  3.740e-02, -6.570e-02, -1.274e-01,  7.310e-02,\n",
       "       -4.340e-02,  1.771e-01, -1.320e-02,  3.350e-02,  7.400e-03,\n",
       "       -1.760e-02,  1.820e-02, -7.280e-02, -3.300e-03,  7.800e-03,\n",
       "       -6.000e-03,  6.300e-02, -1.820e-02, -1.143e-01,  3.680e-02,\n",
       "       -1.079e-01, -2.270e-02,  6.980e-02,  3.050e-02, -7.080e-02,\n",
       "       -1.354e-01, -2.190e-02,  7.860e-02, -7.200e-03,  7.040e-02,\n",
       "       -1.242e-01, -1.052e-01,  1.292e-01, -8.360e-02,  2.545e-01,\n",
       "       -7.590e-02,  2.510e-02,  1.600e-03, -5.600e-02,  9.930e-02,\n",
       "       -4.640e-02, -3.532e-01,  9.000e-04, -7.670e-02,  1.402e-01,\n",
       "        1.285e-01,  2.230e-02, -4.690e-02, -5.260e-02,  1.580e-02,\n",
       "        1.260e-02,  8.220e-02, -2.130e-02, -3.550e-02,  2.523e-01,\n",
       "        7.900e-02, -2.150e-02,  7.330e-02,  7.880e-02,  1.050e-02,\n",
       "        1.681e-01,  1.436e-01, -9.850e-02, -9.010e-02,  9.800e-03,\n",
       "        1.562e-01,  5.310e-02,  4.530e-02, -6.200e-02,  2.350e-01,\n",
       "       -3.060e-02,  1.200e-02, -1.700e-02, -6.390e-02, -3.200e-02,\n",
       "       -1.053e-01,  1.098e-01,  9.600e-02, -6.050e-02, -1.015e-01,\n",
       "        1.784e-01, -1.560e-02, -8.430e-02, -9.150e-02, -9.350e-02,\n",
       "       -1.800e-03,  1.982e-01, -1.300e-02, -2.200e-03, -1.230e-02,\n",
       "        1.930e-02,  1.138e-01, -1.205e-01,  1.017e-01, -2.036e-01,\n",
       "       -2.210e-02, -8.740e-02, -1.134e-01, -1.030e-01,  9.540e-02,\n",
       "        3.610e-02,  7.600e-02, -1.549e-01, -5.380e-02,  5.810e-02,\n",
       "        1.018e-01,  4.130e-02, -1.032e-01, -2.410e-02, -2.170e-02,\n",
       "       -3.400e-02, -3.730e-02, -1.260e-01,  1.860e-01, -7.940e-02,\n",
       "       -1.720e-02, -1.893e-01,  8.590e-02, -1.571e-01,  9.190e-02,\n",
       "        1.749e-01,  1.396e-01, -2.298e-01,  6.380e-02,  4.920e-02,\n",
       "       -1.111e-01, -3.080e-01, -6.320e-02,  3.880e-02,  1.088e-01,\n",
       "        6.240e-02,  6.220e-02, -5.360e-02,  1.751e-01, -1.128e-01,\n",
       "        7.510e-02, -2.620e-02, -4.250e-02, -6.090e-02, -2.000e-04,\n",
       "        2.900e-03,  1.595e-01, -5.280e-02, -1.503e-01, -1.222e-01,\n",
       "       -3.160e-02, -4.560e-02,  6.400e-03,  1.229e-01, -1.068e-01,\n",
       "       -2.840e-02, -1.070e-01,  7.400e-03, -1.173e-01,  6.980e-02,\n",
       "        8.680e-02,  4.300e-02,  8.050e-02,  1.819e-01,  1.379e-01,\n",
       "        1.310e-02,  2.760e-02,  1.178e-01, -4.930e-02, -4.730e-02,\n",
       "        8.770e-02,  3.030e-02,  1.228e-01,  3.740e-02, -1.522e-01,\n",
       "       -1.130e-02, -1.007e-01, -9.380e-02, -2.830e-02, -1.149e-01,\n",
       "       -2.550e-02, -2.510e-02, -8.520e-02, -8.880e-02, -5.470e-02,\n",
       "        1.255e-01,  4.230e-02,  7.370e-02, -5.030e-02, -6.130e-02,\n",
       "       -6.440e-02,  2.860e-02,  9.870e-02, -1.762e-01,  3.230e-02,\n",
       "       -1.639e-01, -1.244e-01, -1.430e-02, -4.010e-02,  3.700e-03,\n",
       "        1.446e-01, -3.480e-02, -1.541e-01,  4.520e-02,  4.200e-02],\n",
       "      dtype=float32)"
      ]
     },
     "execution_count": 221,
     "metadata": {},
     "output_type": "execute_result"
    }
   ],
   "source": [
    "# sample word vector for indonesian slang\n",
    "vector = word_vectors['pas']\n",
    "vector"
   ]
  },
  {
   "cell_type": "markdown",
   "id": "0d30b235",
   "metadata": {},
   "source": [
    "### Prepping Data for Training"
   ]
  },
  {
   "cell_type": "code",
   "execution_count": 233,
   "id": "656588bb",
   "metadata": {},
   "outputs": [
    {
     "data": {
      "text/plain": [
       "array(['bertahuntahun perang ribat trauma trauma pribadi perfeksionis sedikit ocd butuh banyak ajar utk adaptasi ekspektasi semoga buku',\n",
       "       'sesuai pesan alhamdulillah cocok atas biang keringat anak',\n",
       "       'terima kasih mantap banget masa aktif langsung masuk cepet banget',\n",
       "       'beli sim card buat rombong minggu depan baru aktif semoga hasil',\n",
       "       'bahan kertas bagus cetak bagus plg penting adminnya gercep banget aku baru order jam malam cm chat n minta pagipagi kirim krn mau pakai hari besok'],\n",
       "      dtype=object)"
      ]
     },
     "execution_count": 233,
     "metadata": {},
     "output_type": "execute_result"
    }
   ],
   "source": [
    "clean_df[clean_df['star'] == 5].review.sample(5).values"
   ]
  },
  {
   "cell_type": "code",
   "execution_count": 222,
   "id": "78d1e553",
   "metadata": {},
   "outputs": [
    {
     "data": {
      "text/plain": [
       "array(['kapasitas besar desain bagus ukur pas pesan datang sesuai harap kipasnyabagus kenceng tidakada cacat sama sekali emas bagus',\n",
       "       'bagus kelas jual sendok mahal gin dukung gambar lebih oke lah deskripsi sizenya gt kyk tokotoko biar bingung pas milih',\n",
       "       'sy kasih bintang datang warna putih bukan abu abu',\n",
       "       'kirim tdk tepat waktu sesuai jadwal tgl tiba',\n",
       "       'alhamdulillah pesan sdh dgn aman dn baik kwalitas barang tajam baru coba smoga mesin benarbenar original bagus aamiin'],\n",
       "      dtype=object)"
      ]
     },
     "execution_count": 222,
     "metadata": {},
     "output_type": "execute_result"
    }
   ],
   "source": [
    "clean_df[clean_df['star'] == 4].review.sample(5).values"
   ]
  },
  {
   "cell_type": "code",
   "execution_count": null,
   "id": "f4ad6c6e",
   "metadata": {},
   "outputs": [
    {
     "data": {
      "text/plain": [
       "array(['kendor copotcopot jarak rekat terlalu kecil jd dikencengin',\n",
       "       'penyok irit bubble wrap pelit menang design sja bahan tipis mudah penyok barang mahal harga segitu ikut video foto klo oamera kurang banget lihat asli liat langsung parah',\n",
       "       'memang beli online resiko cuman ngasih foto',\n",
       "       'packing kecewa kertas tipis plastik buku cacad',\n",
       "       'bahan tipis terawang'], dtype=object)"
      ]
     },
     "execution_count": 235,
     "metadata": {},
     "output_type": "execute_result"
    }
   ],
   "source": [
    "clean_df[clean_df['star'] == 3].review.sample(5).values"
   ]
  },
  {
   "cell_type": "code",
   "execution_count": null,
   "id": "74183d65",
   "metadata": {},
   "outputs": [
    {
     "data": {
      "text/plain": [
       "array(['kurang suka kwalitasnya tipis',\n",
       "       'kesel banget udh beberapa hari dtg selalu keruh bening arti air kelapa lama tahan cmn 1 hari kulkas bsknya jd banyak buang krn bis',\n",
       "       'kali enak seblmnya bumbubumbu kurang', 'kurang segar',\n",
       "       'pikir isi banyak nyata cuma 1 pcs'], dtype=object)"
      ]
     },
     "execution_count": 236,
     "metadata": {},
     "output_type": "execute_result"
    }
   ],
   "source": [
    "clean_df[clean_df['star'] == 2].review.sample(5).values"
   ]
  },
  {
   "cell_type": "code",
   "execution_count": null,
   "id": "5e432733",
   "metadata": {},
   "outputs": [
    {
     "data": {
      "text/plain": [
       "array(['kirim packing toko baik cuman mattressnya gembos sama skali worth price mattress sama bantal lama gepeng tebal mirip kualitas harg',\n",
       "       'kirim barang lapak si seller minta tukar minta video unboxingnya',\n",
       "       'semuha size sma wajah mata atas cek size tera ukur produk benar jauh error order baju ukur sama semua mubazir',\n",
       "       'ukur kecilgk cmreal dtg hny cm',\n",
       "       'baru kali sen pempek asam sesuai rasa biasa cuko baik sayang banget baru buka aju komplain'],\n",
       "      dtype=object)"
      ]
     },
     "execution_count": 237,
     "metadata": {},
     "output_type": "execute_result"
    }
   ],
   "source": [
    "clean_df[clean_df['star'] == 1].review.sample(5).values"
   ]
  },
  {
   "cell_type": "markdown",
   "id": "64f2b712",
   "metadata": {},
   "source": [
    "The decision to label the data is based on the fact that the data is highly imbalanced, 5-star alone has around 90% of the total data. Also looking by the most frequent word and some samples of each star we consider that the 3 and below starred reviews is considered negative, 4 is neutral as it has some mixed sentiment or just neither happy nor hate about the product, and finally 5 for positive."
   ]
  },
  {
   "cell_type": "code",
   "execution_count": 270,
   "id": "755179ec",
   "metadata": {},
   "outputs": [],
   "source": [
    "def star_to_label(x):\n",
    "    if x <= 3:\n",
    "        return 'negative'\n",
    "    elif x == 5:\n",
    "        return 'positive'\n",
    "    else:\n",
    "        return 'neutral'\n",
    "\n",
    "clean_df['label'] = clean_df.star.map(star_to_label)\n",
    "y = clean_df.label.values  # Target variable"
   ]
  },
  {
   "cell_type": "code",
   "execution_count": 271,
   "id": "5ee526c2",
   "metadata": {},
   "outputs": [
    {
     "data": {
      "text/plain": [
       "((7043,), (880,), (881,))"
      ]
     },
     "execution_count": 271,
     "metadata": {},
     "output_type": "execute_result"
    }
   ],
   "source": [
    "from sklearn.model_selection import train_test_split\n",
    "from sklearn.preprocessing import LabelEncoder\n",
    "\n",
    "\n",
    "le = LabelEncoder()\n",
    "y = le.fit_transform(y)\n",
    "\n",
    "# split into train val test\n",
    "X_train, X_temp, y_train, y_temp = train_test_split(clean_df.review.values, y, test_size=0.2, random_state=42)\n",
    "X_val, X_test, y_val, y_test = train_test_split(X_temp, y_temp, test_size=0.5, random_state=42)\n",
    "X_train.shape, X_val.shape, X_test.shape"
   ]
  },
  {
   "cell_type": "code",
   "execution_count": 274,
   "id": "4525a295",
   "metadata": {},
   "outputs": [
    {
     "data": {
      "text/plain": [
       "array(['negative', 'neutral', 'positive'], dtype=object)"
      ]
     },
     "execution_count": 274,
     "metadata": {},
     "output_type": "execute_result"
    }
   ],
   "source": [
    "le.inverse_transform([0, 1, 2])"
   ]
  },
  {
   "cell_type": "markdown",
   "id": "d828de57326d1f12",
   "metadata": {},
   "source": [
    "### Extract Feature\n",
    "\n",
    "We are going to experiment with Fasttext and TF-IDF, since TF-IDF considers the importance of the word accross documents. Hopefull when combined give the word more meaning."
   ]
  },
  {
   "cell_type": "markdown",
   "id": "fbeded3108545c04",
   "metadata": {},
   "source": [
    "#### Fasttext Only"
   ]
  },
  {
   "cell_type": "code",
   "execution_count": 241,
   "id": "f1a999a40e0f0005",
   "metadata": {
    "ExecuteTime": {
     "end_time": "2025-05-17T08:56:32.050795Z",
     "start_time": "2025-05-17T08:56:32.044451Z"
    }
   },
   "outputs": [],
   "source": [
    "import numpy as np\n",
    "\n",
    "\n",
    "def get_document_vector(text, vector_size=300):\n",
    "    sentence_words = text.split()\n",
    "    vectors = [word_vectors[word] for word in sentence_words if word in word_vectors]\n",
    "\n",
    "    if not vectors:\n",
    "        return np.zeros(vector_size)  # Return zeros if no words are found\n",
    "\n",
    "    # Return the average vector\n",
    "    return np.mean(vectors, axis=0)"
   ]
  },
  {
   "cell_type": "code",
   "execution_count": 242,
   "id": "e152de27594f0907",
   "metadata": {
    "ExecuteTime": {
     "end_time": "2025-05-17T08:57:03.566163Z",
     "start_time": "2025-05-17T08:57:03.217373Z"
    }
   },
   "outputs": [
    {
     "data": {
      "text/plain": [
       "((7043, 300), (880, 300), (881, 300))"
      ]
     },
     "execution_count": 242,
     "metadata": {},
     "output_type": "execute_result"
    }
   ],
   "source": [
    "# Create feature vectors\n",
    "X_train_ft = np.array([get_document_vector(review) for review in X_train])\n",
    "X_val_ft = np.array([get_document_vector(review) for review in X_val])\n",
    "X_test_ft = np.array([get_document_vector(review) for review in X_test])\n",
    "X_train_ft.shape, X_val_ft.shape, X_test_ft.shape"
   ]
  },
  {
   "cell_type": "markdown",
   "id": "317903e7",
   "metadata": {},
   "source": [
    "#### Fasttext-TFIDF"
   ]
  },
  {
   "cell_type": "code",
   "execution_count": 243,
   "id": "69a54ff8",
   "metadata": {},
   "outputs": [],
   "source": [
    "from sklearn.feature_extraction.text import TfidfVectorizer\n",
    "\n",
    "tfidf_vectorizer = TfidfVectorizer()\n",
    "# Fit the vectorizer on the training data\n",
    "# notice that we dont fit on the whole data as this will cause data leakage\n",
    "tfidf_matrix = tfidf_vectorizer.fit_transform(X_train)\n",
    "feature_names = tfidf_vectorizer.get_feature_names_out()\n",
    "word_to_tfidf = dict(zip(feature_names, tfidf_vectorizer.idf_))"
   ]
  },
  {
   "cell_type": "code",
   "execution_count": 244,
   "id": "ab0131b5",
   "metadata": {},
   "outputs": [
    {
     "data": {
      "text/html": [
       "<div>\n",
       "<style scoped>\n",
       "    .dataframe tbody tr th:only-of-type {\n",
       "        vertical-align: middle;\n",
       "    }\n",
       "\n",
       "    .dataframe tbody tr th {\n",
       "        vertical-align: top;\n",
       "    }\n",
       "\n",
       "    .dataframe thead th {\n",
       "        text-align: right;\n",
       "    }\n",
       "</style>\n",
       "<table border=\"1\" class=\"dataframe\">\n",
       "  <thead>\n",
       "    <tr style=\"text-align: right;\">\n",
       "      <th></th>\n",
       "      <th>10</th>\n",
       "      <th>100</th>\n",
       "      <th>23</th>\n",
       "      <th>30</th>\n",
       "      <th>50</th>\n",
       "      <th>a1</th>\n",
       "      <th>a4</th>\n",
       "      <th>a7</th>\n",
       "      <th>aamii</th>\n",
       "      <th>aamiin</th>\n",
       "      <th>...</th>\n",
       "      <th>zama</th>\n",
       "      <th>zampai</th>\n",
       "      <th>zebra</th>\n",
       "      <th>zegarr</th>\n",
       "      <th>zionis</th>\n",
       "      <th>ziplock</th>\n",
       "      <th>ziqrah</th>\n",
       "      <th>zonk</th>\n",
       "      <th>zoo</th>\n",
       "      <th>zve1</th>\n",
       "    </tr>\n",
       "  </thead>\n",
       "  <tbody>\n",
       "    <tr>\n",
       "      <th>0</th>\n",
       "      <td>0.0</td>\n",
       "      <td>0.0</td>\n",
       "      <td>0.0</td>\n",
       "      <td>0.0</td>\n",
       "      <td>0.0</td>\n",
       "      <td>0.0</td>\n",
       "      <td>0.0</td>\n",
       "      <td>0.0</td>\n",
       "      <td>0.0</td>\n",
       "      <td>0.0</td>\n",
       "      <td>...</td>\n",
       "      <td>0.0</td>\n",
       "      <td>0.0</td>\n",
       "      <td>0.0</td>\n",
       "      <td>0.0</td>\n",
       "      <td>0.0</td>\n",
       "      <td>0.0</td>\n",
       "      <td>0.0</td>\n",
       "      <td>0.0</td>\n",
       "      <td>0.0</td>\n",
       "      <td>0.0</td>\n",
       "    </tr>\n",
       "    <tr>\n",
       "      <th>1</th>\n",
       "      <td>0.0</td>\n",
       "      <td>0.0</td>\n",
       "      <td>0.0</td>\n",
       "      <td>0.0</td>\n",
       "      <td>0.0</td>\n",
       "      <td>0.0</td>\n",
       "      <td>0.0</td>\n",
       "      <td>0.0</td>\n",
       "      <td>0.0</td>\n",
       "      <td>0.0</td>\n",
       "      <td>...</td>\n",
       "      <td>0.0</td>\n",
       "      <td>0.0</td>\n",
       "      <td>0.0</td>\n",
       "      <td>0.0</td>\n",
       "      <td>0.0</td>\n",
       "      <td>0.0</td>\n",
       "      <td>0.0</td>\n",
       "      <td>0.0</td>\n",
       "      <td>0.0</td>\n",
       "      <td>0.0</td>\n",
       "    </tr>\n",
       "    <tr>\n",
       "      <th>2</th>\n",
       "      <td>0.0</td>\n",
       "      <td>0.0</td>\n",
       "      <td>0.0</td>\n",
       "      <td>0.0</td>\n",
       "      <td>0.0</td>\n",
       "      <td>0.0</td>\n",
       "      <td>0.0</td>\n",
       "      <td>0.0</td>\n",
       "      <td>0.0</td>\n",
       "      <td>0.0</td>\n",
       "      <td>...</td>\n",
       "      <td>0.0</td>\n",
       "      <td>0.0</td>\n",
       "      <td>0.0</td>\n",
       "      <td>0.0</td>\n",
       "      <td>0.0</td>\n",
       "      <td>0.0</td>\n",
       "      <td>0.0</td>\n",
       "      <td>0.0</td>\n",
       "      <td>0.0</td>\n",
       "      <td>0.0</td>\n",
       "    </tr>\n",
       "    <tr>\n",
       "      <th>3</th>\n",
       "      <td>0.0</td>\n",
       "      <td>0.0</td>\n",
       "      <td>0.0</td>\n",
       "      <td>0.0</td>\n",
       "      <td>0.0</td>\n",
       "      <td>0.0</td>\n",
       "      <td>0.0</td>\n",
       "      <td>0.0</td>\n",
       "      <td>0.0</td>\n",
       "      <td>0.0</td>\n",
       "      <td>...</td>\n",
       "      <td>0.0</td>\n",
       "      <td>0.0</td>\n",
       "      <td>0.0</td>\n",
       "      <td>0.0</td>\n",
       "      <td>0.0</td>\n",
       "      <td>0.0</td>\n",
       "      <td>0.0</td>\n",
       "      <td>0.0</td>\n",
       "      <td>0.0</td>\n",
       "      <td>0.0</td>\n",
       "    </tr>\n",
       "    <tr>\n",
       "      <th>4</th>\n",
       "      <td>0.0</td>\n",
       "      <td>0.0</td>\n",
       "      <td>0.0</td>\n",
       "      <td>0.0</td>\n",
       "      <td>0.0</td>\n",
       "      <td>0.0</td>\n",
       "      <td>0.0</td>\n",
       "      <td>0.0</td>\n",
       "      <td>0.0</td>\n",
       "      <td>0.0</td>\n",
       "      <td>...</td>\n",
       "      <td>0.0</td>\n",
       "      <td>0.0</td>\n",
       "      <td>0.0</td>\n",
       "      <td>0.0</td>\n",
       "      <td>0.0</td>\n",
       "      <td>0.0</td>\n",
       "      <td>0.0</td>\n",
       "      <td>0.0</td>\n",
       "      <td>0.0</td>\n",
       "      <td>0.0</td>\n",
       "    </tr>\n",
       "    <tr>\n",
       "      <th>5</th>\n",
       "      <td>0.0</td>\n",
       "      <td>0.0</td>\n",
       "      <td>0.0</td>\n",
       "      <td>0.0</td>\n",
       "      <td>0.0</td>\n",
       "      <td>0.0</td>\n",
       "      <td>0.0</td>\n",
       "      <td>0.0</td>\n",
       "      <td>0.0</td>\n",
       "      <td>0.0</td>\n",
       "      <td>...</td>\n",
       "      <td>0.0</td>\n",
       "      <td>0.0</td>\n",
       "      <td>0.0</td>\n",
       "      <td>0.0</td>\n",
       "      <td>0.0</td>\n",
       "      <td>0.0</td>\n",
       "      <td>0.0</td>\n",
       "      <td>0.0</td>\n",
       "      <td>0.0</td>\n",
       "      <td>0.0</td>\n",
       "    </tr>\n",
       "    <tr>\n",
       "      <th>6</th>\n",
       "      <td>0.0</td>\n",
       "      <td>0.0</td>\n",
       "      <td>0.0</td>\n",
       "      <td>0.0</td>\n",
       "      <td>0.0</td>\n",
       "      <td>0.0</td>\n",
       "      <td>0.0</td>\n",
       "      <td>0.0</td>\n",
       "      <td>0.0</td>\n",
       "      <td>0.0</td>\n",
       "      <td>...</td>\n",
       "      <td>0.0</td>\n",
       "      <td>0.0</td>\n",
       "      <td>0.0</td>\n",
       "      <td>0.0</td>\n",
       "      <td>0.0</td>\n",
       "      <td>0.0</td>\n",
       "      <td>0.0</td>\n",
       "      <td>0.0</td>\n",
       "      <td>0.0</td>\n",
       "      <td>0.0</td>\n",
       "    </tr>\n",
       "    <tr>\n",
       "      <th>7</th>\n",
       "      <td>0.0</td>\n",
       "      <td>0.0</td>\n",
       "      <td>0.0</td>\n",
       "      <td>0.0</td>\n",
       "      <td>0.0</td>\n",
       "      <td>0.0</td>\n",
       "      <td>0.0</td>\n",
       "      <td>0.0</td>\n",
       "      <td>0.0</td>\n",
       "      <td>0.0</td>\n",
       "      <td>...</td>\n",
       "      <td>0.0</td>\n",
       "      <td>0.0</td>\n",
       "      <td>0.0</td>\n",
       "      <td>0.0</td>\n",
       "      <td>0.0</td>\n",
       "      <td>0.0</td>\n",
       "      <td>0.0</td>\n",
       "      <td>0.0</td>\n",
       "      <td>0.0</td>\n",
       "      <td>0.0</td>\n",
       "    </tr>\n",
       "    <tr>\n",
       "      <th>8</th>\n",
       "      <td>0.0</td>\n",
       "      <td>0.0</td>\n",
       "      <td>0.0</td>\n",
       "      <td>0.0</td>\n",
       "      <td>0.0</td>\n",
       "      <td>0.0</td>\n",
       "      <td>0.0</td>\n",
       "      <td>0.0</td>\n",
       "      <td>0.0</td>\n",
       "      <td>0.0</td>\n",
       "      <td>...</td>\n",
       "      <td>0.0</td>\n",
       "      <td>0.0</td>\n",
       "      <td>0.0</td>\n",
       "      <td>0.0</td>\n",
       "      <td>0.0</td>\n",
       "      <td>0.0</td>\n",
       "      <td>0.0</td>\n",
       "      <td>0.0</td>\n",
       "      <td>0.0</td>\n",
       "      <td>0.0</td>\n",
       "    </tr>\n",
       "    <tr>\n",
       "      <th>9</th>\n",
       "      <td>0.0</td>\n",
       "      <td>0.0</td>\n",
       "      <td>0.0</td>\n",
       "      <td>0.0</td>\n",
       "      <td>0.0</td>\n",
       "      <td>0.0</td>\n",
       "      <td>0.0</td>\n",
       "      <td>0.0</td>\n",
       "      <td>0.0</td>\n",
       "      <td>0.0</td>\n",
       "      <td>...</td>\n",
       "      <td>0.0</td>\n",
       "      <td>0.0</td>\n",
       "      <td>0.0</td>\n",
       "      <td>0.0</td>\n",
       "      <td>0.0</td>\n",
       "      <td>0.0</td>\n",
       "      <td>0.0</td>\n",
       "      <td>0.0</td>\n",
       "      <td>0.0</td>\n",
       "      <td>0.0</td>\n",
       "    </tr>\n",
       "  </tbody>\n",
       "</table>\n",
       "<p>10 rows × 7303 columns</p>\n",
       "</div>"
      ],
      "text/plain": [
       "    10  100   23   30   50   a1   a4   a7  aamii  aamiin  ...  zama  zampai  \\\n",
       "0  0.0  0.0  0.0  0.0  0.0  0.0  0.0  0.0    0.0     0.0  ...   0.0     0.0   \n",
       "1  0.0  0.0  0.0  0.0  0.0  0.0  0.0  0.0    0.0     0.0  ...   0.0     0.0   \n",
       "2  0.0  0.0  0.0  0.0  0.0  0.0  0.0  0.0    0.0     0.0  ...   0.0     0.0   \n",
       "3  0.0  0.0  0.0  0.0  0.0  0.0  0.0  0.0    0.0     0.0  ...   0.0     0.0   \n",
       "4  0.0  0.0  0.0  0.0  0.0  0.0  0.0  0.0    0.0     0.0  ...   0.0     0.0   \n",
       "5  0.0  0.0  0.0  0.0  0.0  0.0  0.0  0.0    0.0     0.0  ...   0.0     0.0   \n",
       "6  0.0  0.0  0.0  0.0  0.0  0.0  0.0  0.0    0.0     0.0  ...   0.0     0.0   \n",
       "7  0.0  0.0  0.0  0.0  0.0  0.0  0.0  0.0    0.0     0.0  ...   0.0     0.0   \n",
       "8  0.0  0.0  0.0  0.0  0.0  0.0  0.0  0.0    0.0     0.0  ...   0.0     0.0   \n",
       "9  0.0  0.0  0.0  0.0  0.0  0.0  0.0  0.0    0.0     0.0  ...   0.0     0.0   \n",
       "\n",
       "   zebra  zegarr  zionis  ziplock  ziqrah  zonk  zoo  zve1  \n",
       "0    0.0     0.0     0.0      0.0     0.0   0.0  0.0   0.0  \n",
       "1    0.0     0.0     0.0      0.0     0.0   0.0  0.0   0.0  \n",
       "2    0.0     0.0     0.0      0.0     0.0   0.0  0.0   0.0  \n",
       "3    0.0     0.0     0.0      0.0     0.0   0.0  0.0   0.0  \n",
       "4    0.0     0.0     0.0      0.0     0.0   0.0  0.0   0.0  \n",
       "5    0.0     0.0     0.0      0.0     0.0   0.0  0.0   0.0  \n",
       "6    0.0     0.0     0.0      0.0     0.0   0.0  0.0   0.0  \n",
       "7    0.0     0.0     0.0      0.0     0.0   0.0  0.0   0.0  \n",
       "8    0.0     0.0     0.0      0.0     0.0   0.0  0.0   0.0  \n",
       "9    0.0     0.0     0.0      0.0     0.0   0.0  0.0   0.0  \n",
       "\n",
       "[10 rows x 7303 columns]"
      ]
     },
     "execution_count": 244,
     "metadata": {},
     "output_type": "execute_result"
    }
   ],
   "source": [
    "pd.DataFrame(tfidf_matrix.toarray(), columns=feature_names).head(10)"
   ]
  },
  {
   "cell_type": "code",
   "execution_count": 245,
   "id": "cf007efc",
   "metadata": {},
   "outputs": [],
   "source": [
    "def get_document_vector_tfidf(text, vector_size=300):\n",
    "    sentence_words = text.split()\n",
    "\n",
    "    # Get vectors and weights for each word\n",
    "    word_vectors_list = []\n",
    "    word_weights = []\n",
    "\n",
    "    for word in sentence_words:\n",
    "        if word in word_vectors and word in word_to_tfidf:\n",
    "            word_vectors_list.append(word_vectors[word])\n",
    "            word_weights.append(word_to_tfidf[word])\n",
    "\n",
    "    if not word_vectors_list:\n",
    "        return np.zeros(vector_size)\n",
    "\n",
    "    word_vectors_array = np.array(word_vectors_list)\n",
    "    word_weights = np.array(word_weights)\n",
    "\n",
    "    # normalize weights\n",
    "    word_weights = word_weights / np.sum(word_weights)\n",
    "\n",
    "    # calculate weighted average (i.e. the fasttext vector times the tfidf weight for each word)\n",
    "    weighted_average = np.zeros(vector_size)\n",
    "    for i, vector in enumerate(word_vectors_array):\n",
    "        weighted_average += vector * word_weights[i]\n",
    "\n",
    "    return weighted_average"
   ]
  },
  {
   "cell_type": "code",
   "execution_count": 246,
   "id": "287ac80a",
   "metadata": {},
   "outputs": [
    {
     "data": {
      "text/plain": [
       "((7043, 300), (880, 300), (881, 300))"
      ]
     },
     "execution_count": 246,
     "metadata": {},
     "output_type": "execute_result"
    }
   ],
   "source": [
    "X_train_tfidf_ft = np.array([get_document_vector_tfidf(review) for review in X_train])\n",
    "X_val_tfidf_ft = np.array([get_document_vector_tfidf(review) for review in X_val])\n",
    "X_test_tfidf_ft = np.array([get_document_vector_tfidf(review) for review in X_test])\n",
    "X_train_tfidf_ft.shape, X_val_tfidf_ft.shape, X_test_tfidf_ft.shape"
   ]
  },
  {
   "cell_type": "markdown",
   "id": "4d915e79",
   "metadata": {},
   "source": [
    "## Training Model"
   ]
  },
  {
   "cell_type": "markdown",
   "id": "53d460b7",
   "metadata": {},
   "source": [
    "### XGBoost"
   ]
  },
  {
   "cell_type": "code",
   "execution_count": 247,
   "id": "de27ea0a",
   "metadata": {},
   "outputs": [],
   "source": [
    "from xgboost import XGBClassifier, callback\n",
    "\n",
    "def create_xgboost(**kwargs):\n",
    "    return XGBClassifier(\n",
    "        n_estimators=100,\n",
    "        max_depth=6,\n",
    "        learning_rate=0.1,\n",
    "        objective='multi:softmax',\n",
    "        num_class=len(le.classes_),\n",
    "        random_state=42,\n",
    "        early_stopping_rounds=10,\n",
    "        eval_metric='mlogloss',\n",
    "        **kwargs\n",
    "    )\n",
    "\n",
    "xgb_ft = create_xgboost()\n",
    "xgb_tfidf_ft = create_xgboost()"
   ]
  },
  {
   "cell_type": "code",
   "execution_count": 248,
   "id": "2cccbf18",
   "metadata": {},
   "outputs": [
    {
     "name": "stdout",
     "output_type": "stream",
     "text": [
      "[0]\tvalidation_0-mlogloss:0.98982\n",
      "[1]\tvalidation_0-mlogloss:0.89994\n",
      "[2]\tvalidation_0-mlogloss:0.82413\n",
      "[3]\tvalidation_0-mlogloss:0.75929\n",
      "[4]\tvalidation_0-mlogloss:0.70375\n",
      "[5]\tvalidation_0-mlogloss:0.65644\n",
      "[6]\tvalidation_0-mlogloss:0.61446\n",
      "[7]\tvalidation_0-mlogloss:0.57795\n",
      "[8]\tvalidation_0-mlogloss:0.54673\n",
      "[9]\tvalidation_0-mlogloss:0.51943\n",
      "[10]\tvalidation_0-mlogloss:0.49525\n",
      "[11]\tvalidation_0-mlogloss:0.47433\n",
      "[12]\tvalidation_0-mlogloss:0.45443\n",
      "[13]\tvalidation_0-mlogloss:0.43762\n",
      "[14]\tvalidation_0-mlogloss:0.42279\n",
      "[15]\tvalidation_0-mlogloss:0.41113\n",
      "[16]\tvalidation_0-mlogloss:0.39898\n",
      "[17]\tvalidation_0-mlogloss:0.38896\n",
      "[18]\tvalidation_0-mlogloss:0.38036\n",
      "[19]\tvalidation_0-mlogloss:0.37225\n",
      "[20]\tvalidation_0-mlogloss:0.36575\n",
      "[21]\tvalidation_0-mlogloss:0.36019\n",
      "[22]\tvalidation_0-mlogloss:0.35492\n",
      "[23]\tvalidation_0-mlogloss:0.34990\n",
      "[24]\tvalidation_0-mlogloss:0.34562\n",
      "[25]\tvalidation_0-mlogloss:0.34168\n",
      "[26]\tvalidation_0-mlogloss:0.33815\n",
      "[27]\tvalidation_0-mlogloss:0.33588\n",
      "[28]\tvalidation_0-mlogloss:0.33380\n",
      "[29]\tvalidation_0-mlogloss:0.33302\n",
      "[30]\tvalidation_0-mlogloss:0.33090\n",
      "[31]\tvalidation_0-mlogloss:0.32964\n",
      "[32]\tvalidation_0-mlogloss:0.32888\n",
      "[33]\tvalidation_0-mlogloss:0.32816\n",
      "[34]\tvalidation_0-mlogloss:0.32679\n",
      "[35]\tvalidation_0-mlogloss:0.32628\n",
      "[36]\tvalidation_0-mlogloss:0.32543\n",
      "[37]\tvalidation_0-mlogloss:0.32481\n",
      "[38]\tvalidation_0-mlogloss:0.32474\n",
      "[39]\tvalidation_0-mlogloss:0.32452\n",
      "[40]\tvalidation_0-mlogloss:0.32432\n",
      "[41]\tvalidation_0-mlogloss:0.32527\n",
      "[42]\tvalidation_0-mlogloss:0.32502\n",
      "[43]\tvalidation_0-mlogloss:0.32519\n",
      "[44]\tvalidation_0-mlogloss:0.32486\n",
      "[45]\tvalidation_0-mlogloss:0.32524\n",
      "[46]\tvalidation_0-mlogloss:0.32609\n",
      "[47]\tvalidation_0-mlogloss:0.32677\n",
      "[48]\tvalidation_0-mlogloss:0.32755\n",
      "[49]\tvalidation_0-mlogloss:0.32868\n",
      "[50]\tvalidation_0-mlogloss:0.32968\n"
     ]
    },
    {
     "data": {
      "text/html": [
       "<style>#sk-container-id-7 {\n",
       "  /* Definition of color scheme common for light and dark mode */\n",
       "  --sklearn-color-text: #000;\n",
       "  --sklearn-color-text-muted: #666;\n",
       "  --sklearn-color-line: gray;\n",
       "  /* Definition of color scheme for unfitted estimators */\n",
       "  --sklearn-color-unfitted-level-0: #fff5e6;\n",
       "  --sklearn-color-unfitted-level-1: #f6e4d2;\n",
       "  --sklearn-color-unfitted-level-2: #ffe0b3;\n",
       "  --sklearn-color-unfitted-level-3: chocolate;\n",
       "  /* Definition of color scheme for fitted estimators */\n",
       "  --sklearn-color-fitted-level-0: #f0f8ff;\n",
       "  --sklearn-color-fitted-level-1: #d4ebff;\n",
       "  --sklearn-color-fitted-level-2: #b3dbfd;\n",
       "  --sklearn-color-fitted-level-3: cornflowerblue;\n",
       "\n",
       "  /* Specific color for light theme */\n",
       "  --sklearn-color-text-on-default-background: var(--sg-text-color, var(--theme-code-foreground, var(--jp-content-font-color1, black)));\n",
       "  --sklearn-color-background: var(--sg-background-color, var(--theme-background, var(--jp-layout-color0, white)));\n",
       "  --sklearn-color-border-box: var(--sg-text-color, var(--theme-code-foreground, var(--jp-content-font-color1, black)));\n",
       "  --sklearn-color-icon: #696969;\n",
       "\n",
       "  @media (prefers-color-scheme: dark) {\n",
       "    /* Redefinition of color scheme for dark theme */\n",
       "    --sklearn-color-text-on-default-background: var(--sg-text-color, var(--theme-code-foreground, var(--jp-content-font-color1, white)));\n",
       "    --sklearn-color-background: var(--sg-background-color, var(--theme-background, var(--jp-layout-color0, #111)));\n",
       "    --sklearn-color-border-box: var(--sg-text-color, var(--theme-code-foreground, var(--jp-content-font-color1, white)));\n",
       "    --sklearn-color-icon: #878787;\n",
       "  }\n",
       "}\n",
       "\n",
       "#sk-container-id-7 {\n",
       "  color: var(--sklearn-color-text);\n",
       "}\n",
       "\n",
       "#sk-container-id-7 pre {\n",
       "  padding: 0;\n",
       "}\n",
       "\n",
       "#sk-container-id-7 input.sk-hidden--visually {\n",
       "  border: 0;\n",
       "  clip: rect(1px 1px 1px 1px);\n",
       "  clip: rect(1px, 1px, 1px, 1px);\n",
       "  height: 1px;\n",
       "  margin: -1px;\n",
       "  overflow: hidden;\n",
       "  padding: 0;\n",
       "  position: absolute;\n",
       "  width: 1px;\n",
       "}\n",
       "\n",
       "#sk-container-id-7 div.sk-dashed-wrapped {\n",
       "  border: 1px dashed var(--sklearn-color-line);\n",
       "  margin: 0 0.4em 0.5em 0.4em;\n",
       "  box-sizing: border-box;\n",
       "  padding-bottom: 0.4em;\n",
       "  background-color: var(--sklearn-color-background);\n",
       "}\n",
       "\n",
       "#sk-container-id-7 div.sk-container {\n",
       "  /* jupyter's `normalize.less` sets `[hidden] { display: none; }`\n",
       "     but bootstrap.min.css set `[hidden] { display: none !important; }`\n",
       "     so we also need the `!important` here to be able to override the\n",
       "     default hidden behavior on the sphinx rendered scikit-learn.org.\n",
       "     See: https://github.com/scikit-learn/scikit-learn/issues/21755 */\n",
       "  display: inline-block !important;\n",
       "  position: relative;\n",
       "}\n",
       "\n",
       "#sk-container-id-7 div.sk-text-repr-fallback {\n",
       "  display: none;\n",
       "}\n",
       "\n",
       "div.sk-parallel-item,\n",
       "div.sk-serial,\n",
       "div.sk-item {\n",
       "  /* draw centered vertical line to link estimators */\n",
       "  background-image: linear-gradient(var(--sklearn-color-text-on-default-background), var(--sklearn-color-text-on-default-background));\n",
       "  background-size: 2px 100%;\n",
       "  background-repeat: no-repeat;\n",
       "  background-position: center center;\n",
       "}\n",
       "\n",
       "/* Parallel-specific style estimator block */\n",
       "\n",
       "#sk-container-id-7 div.sk-parallel-item::after {\n",
       "  content: \"\";\n",
       "  width: 100%;\n",
       "  border-bottom: 2px solid var(--sklearn-color-text-on-default-background);\n",
       "  flex-grow: 1;\n",
       "}\n",
       "\n",
       "#sk-container-id-7 div.sk-parallel {\n",
       "  display: flex;\n",
       "  align-items: stretch;\n",
       "  justify-content: center;\n",
       "  background-color: var(--sklearn-color-background);\n",
       "  position: relative;\n",
       "}\n",
       "\n",
       "#sk-container-id-7 div.sk-parallel-item {\n",
       "  display: flex;\n",
       "  flex-direction: column;\n",
       "}\n",
       "\n",
       "#sk-container-id-7 div.sk-parallel-item:first-child::after {\n",
       "  align-self: flex-end;\n",
       "  width: 50%;\n",
       "}\n",
       "\n",
       "#sk-container-id-7 div.sk-parallel-item:last-child::after {\n",
       "  align-self: flex-start;\n",
       "  width: 50%;\n",
       "}\n",
       "\n",
       "#sk-container-id-7 div.sk-parallel-item:only-child::after {\n",
       "  width: 0;\n",
       "}\n",
       "\n",
       "/* Serial-specific style estimator block */\n",
       "\n",
       "#sk-container-id-7 div.sk-serial {\n",
       "  display: flex;\n",
       "  flex-direction: column;\n",
       "  align-items: center;\n",
       "  background-color: var(--sklearn-color-background);\n",
       "  padding-right: 1em;\n",
       "  padding-left: 1em;\n",
       "}\n",
       "\n",
       "\n",
       "/* Toggleable style: style used for estimator/Pipeline/ColumnTransformer box that is\n",
       "clickable and can be expanded/collapsed.\n",
       "- Pipeline and ColumnTransformer use this feature and define the default style\n",
       "- Estimators will overwrite some part of the style using the `sk-estimator` class\n",
       "*/\n",
       "\n",
       "/* Pipeline and ColumnTransformer style (default) */\n",
       "\n",
       "#sk-container-id-7 div.sk-toggleable {\n",
       "  /* Default theme specific background. It is overwritten whether we have a\n",
       "  specific estimator or a Pipeline/ColumnTransformer */\n",
       "  background-color: var(--sklearn-color-background);\n",
       "}\n",
       "\n",
       "/* Toggleable label */\n",
       "#sk-container-id-7 label.sk-toggleable__label {\n",
       "  cursor: pointer;\n",
       "  display: flex;\n",
       "  width: 100%;\n",
       "  margin-bottom: 0;\n",
       "  padding: 0.5em;\n",
       "  box-sizing: border-box;\n",
       "  text-align: center;\n",
       "  align-items: start;\n",
       "  justify-content: space-between;\n",
       "  gap: 0.5em;\n",
       "}\n",
       "\n",
       "#sk-container-id-7 label.sk-toggleable__label .caption {\n",
       "  font-size: 0.6rem;\n",
       "  font-weight: lighter;\n",
       "  color: var(--sklearn-color-text-muted);\n",
       "}\n",
       "\n",
       "#sk-container-id-7 label.sk-toggleable__label-arrow:before {\n",
       "  /* Arrow on the left of the label */\n",
       "  content: \"▸\";\n",
       "  float: left;\n",
       "  margin-right: 0.25em;\n",
       "  color: var(--sklearn-color-icon);\n",
       "}\n",
       "\n",
       "#sk-container-id-7 label.sk-toggleable__label-arrow:hover:before {\n",
       "  color: var(--sklearn-color-text);\n",
       "}\n",
       "\n",
       "/* Toggleable content - dropdown */\n",
       "\n",
       "#sk-container-id-7 div.sk-toggleable__content {\n",
       "  max-height: 0;\n",
       "  max-width: 0;\n",
       "  overflow: hidden;\n",
       "  text-align: left;\n",
       "  /* unfitted */\n",
       "  background-color: var(--sklearn-color-unfitted-level-0);\n",
       "}\n",
       "\n",
       "#sk-container-id-7 div.sk-toggleable__content.fitted {\n",
       "  /* fitted */\n",
       "  background-color: var(--sklearn-color-fitted-level-0);\n",
       "}\n",
       "\n",
       "#sk-container-id-7 div.sk-toggleable__content pre {\n",
       "  margin: 0.2em;\n",
       "  border-radius: 0.25em;\n",
       "  color: var(--sklearn-color-text);\n",
       "  /* unfitted */\n",
       "  background-color: var(--sklearn-color-unfitted-level-0);\n",
       "}\n",
       "\n",
       "#sk-container-id-7 div.sk-toggleable__content.fitted pre {\n",
       "  /* unfitted */\n",
       "  background-color: var(--sklearn-color-fitted-level-0);\n",
       "}\n",
       "\n",
       "#sk-container-id-7 input.sk-toggleable__control:checked~div.sk-toggleable__content {\n",
       "  /* Expand drop-down */\n",
       "  max-height: 200px;\n",
       "  max-width: 100%;\n",
       "  overflow: auto;\n",
       "}\n",
       "\n",
       "#sk-container-id-7 input.sk-toggleable__control:checked~label.sk-toggleable__label-arrow:before {\n",
       "  content: \"▾\";\n",
       "}\n",
       "\n",
       "/* Pipeline/ColumnTransformer-specific style */\n",
       "\n",
       "#sk-container-id-7 div.sk-label input.sk-toggleable__control:checked~label.sk-toggleable__label {\n",
       "  color: var(--sklearn-color-text);\n",
       "  background-color: var(--sklearn-color-unfitted-level-2);\n",
       "}\n",
       "\n",
       "#sk-container-id-7 div.sk-label.fitted input.sk-toggleable__control:checked~label.sk-toggleable__label {\n",
       "  background-color: var(--sklearn-color-fitted-level-2);\n",
       "}\n",
       "\n",
       "/* Estimator-specific style */\n",
       "\n",
       "/* Colorize estimator box */\n",
       "#sk-container-id-7 div.sk-estimator input.sk-toggleable__control:checked~label.sk-toggleable__label {\n",
       "  /* unfitted */\n",
       "  background-color: var(--sklearn-color-unfitted-level-2);\n",
       "}\n",
       "\n",
       "#sk-container-id-7 div.sk-estimator.fitted input.sk-toggleable__control:checked~label.sk-toggleable__label {\n",
       "  /* fitted */\n",
       "  background-color: var(--sklearn-color-fitted-level-2);\n",
       "}\n",
       "\n",
       "#sk-container-id-7 div.sk-label label.sk-toggleable__label,\n",
       "#sk-container-id-7 div.sk-label label {\n",
       "  /* The background is the default theme color */\n",
       "  color: var(--sklearn-color-text-on-default-background);\n",
       "}\n",
       "\n",
       "/* On hover, darken the color of the background */\n",
       "#sk-container-id-7 div.sk-label:hover label.sk-toggleable__label {\n",
       "  color: var(--sklearn-color-text);\n",
       "  background-color: var(--sklearn-color-unfitted-level-2);\n",
       "}\n",
       "\n",
       "/* Label box, darken color on hover, fitted */\n",
       "#sk-container-id-7 div.sk-label.fitted:hover label.sk-toggleable__label.fitted {\n",
       "  color: var(--sklearn-color-text);\n",
       "  background-color: var(--sklearn-color-fitted-level-2);\n",
       "}\n",
       "\n",
       "/* Estimator label */\n",
       "\n",
       "#sk-container-id-7 div.sk-label label {\n",
       "  font-family: monospace;\n",
       "  font-weight: bold;\n",
       "  display: inline-block;\n",
       "  line-height: 1.2em;\n",
       "}\n",
       "\n",
       "#sk-container-id-7 div.sk-label-container {\n",
       "  text-align: center;\n",
       "}\n",
       "\n",
       "/* Estimator-specific */\n",
       "#sk-container-id-7 div.sk-estimator {\n",
       "  font-family: monospace;\n",
       "  border: 1px dotted var(--sklearn-color-border-box);\n",
       "  border-radius: 0.25em;\n",
       "  box-sizing: border-box;\n",
       "  margin-bottom: 0.5em;\n",
       "  /* unfitted */\n",
       "  background-color: var(--sklearn-color-unfitted-level-0);\n",
       "}\n",
       "\n",
       "#sk-container-id-7 div.sk-estimator.fitted {\n",
       "  /* fitted */\n",
       "  background-color: var(--sklearn-color-fitted-level-0);\n",
       "}\n",
       "\n",
       "/* on hover */\n",
       "#sk-container-id-7 div.sk-estimator:hover {\n",
       "  /* unfitted */\n",
       "  background-color: var(--sklearn-color-unfitted-level-2);\n",
       "}\n",
       "\n",
       "#sk-container-id-7 div.sk-estimator.fitted:hover {\n",
       "  /* fitted */\n",
       "  background-color: var(--sklearn-color-fitted-level-2);\n",
       "}\n",
       "\n",
       "/* Specification for estimator info (e.g. \"i\" and \"?\") */\n",
       "\n",
       "/* Common style for \"i\" and \"?\" */\n",
       "\n",
       ".sk-estimator-doc-link,\n",
       "a:link.sk-estimator-doc-link,\n",
       "a:visited.sk-estimator-doc-link {\n",
       "  float: right;\n",
       "  font-size: smaller;\n",
       "  line-height: 1em;\n",
       "  font-family: monospace;\n",
       "  background-color: var(--sklearn-color-background);\n",
       "  border-radius: 1em;\n",
       "  height: 1em;\n",
       "  width: 1em;\n",
       "  text-decoration: none !important;\n",
       "  margin-left: 0.5em;\n",
       "  text-align: center;\n",
       "  /* unfitted */\n",
       "  border: var(--sklearn-color-unfitted-level-1) 1pt solid;\n",
       "  color: var(--sklearn-color-unfitted-level-1);\n",
       "}\n",
       "\n",
       ".sk-estimator-doc-link.fitted,\n",
       "a:link.sk-estimator-doc-link.fitted,\n",
       "a:visited.sk-estimator-doc-link.fitted {\n",
       "  /* fitted */\n",
       "  border: var(--sklearn-color-fitted-level-1) 1pt solid;\n",
       "  color: var(--sklearn-color-fitted-level-1);\n",
       "}\n",
       "\n",
       "/* On hover */\n",
       "div.sk-estimator:hover .sk-estimator-doc-link:hover,\n",
       ".sk-estimator-doc-link:hover,\n",
       "div.sk-label-container:hover .sk-estimator-doc-link:hover,\n",
       ".sk-estimator-doc-link:hover {\n",
       "  /* unfitted */\n",
       "  background-color: var(--sklearn-color-unfitted-level-3);\n",
       "  color: var(--sklearn-color-background);\n",
       "  text-decoration: none;\n",
       "}\n",
       "\n",
       "div.sk-estimator.fitted:hover .sk-estimator-doc-link.fitted:hover,\n",
       ".sk-estimator-doc-link.fitted:hover,\n",
       "div.sk-label-container:hover .sk-estimator-doc-link.fitted:hover,\n",
       ".sk-estimator-doc-link.fitted:hover {\n",
       "  /* fitted */\n",
       "  background-color: var(--sklearn-color-fitted-level-3);\n",
       "  color: var(--sklearn-color-background);\n",
       "  text-decoration: none;\n",
       "}\n",
       "\n",
       "/* Span, style for the box shown on hovering the info icon */\n",
       ".sk-estimator-doc-link span {\n",
       "  display: none;\n",
       "  z-index: 9999;\n",
       "  position: relative;\n",
       "  font-weight: normal;\n",
       "  right: .2ex;\n",
       "  padding: .5ex;\n",
       "  margin: .5ex;\n",
       "  width: min-content;\n",
       "  min-width: 20ex;\n",
       "  max-width: 50ex;\n",
       "  color: var(--sklearn-color-text);\n",
       "  box-shadow: 2pt 2pt 4pt #999;\n",
       "  /* unfitted */\n",
       "  background: var(--sklearn-color-unfitted-level-0);\n",
       "  border: .5pt solid var(--sklearn-color-unfitted-level-3);\n",
       "}\n",
       "\n",
       ".sk-estimator-doc-link.fitted span {\n",
       "  /* fitted */\n",
       "  background: var(--sklearn-color-fitted-level-0);\n",
       "  border: var(--sklearn-color-fitted-level-3);\n",
       "}\n",
       "\n",
       ".sk-estimator-doc-link:hover span {\n",
       "  display: block;\n",
       "}\n",
       "\n",
       "/* \"?\"-specific style due to the `<a>` HTML tag */\n",
       "\n",
       "#sk-container-id-7 a.estimator_doc_link {\n",
       "  float: right;\n",
       "  font-size: 1rem;\n",
       "  line-height: 1em;\n",
       "  font-family: monospace;\n",
       "  background-color: var(--sklearn-color-background);\n",
       "  border-radius: 1rem;\n",
       "  height: 1rem;\n",
       "  width: 1rem;\n",
       "  text-decoration: none;\n",
       "  /* unfitted */\n",
       "  color: var(--sklearn-color-unfitted-level-1);\n",
       "  border: var(--sklearn-color-unfitted-level-1) 1pt solid;\n",
       "}\n",
       "\n",
       "#sk-container-id-7 a.estimator_doc_link.fitted {\n",
       "  /* fitted */\n",
       "  border: var(--sklearn-color-fitted-level-1) 1pt solid;\n",
       "  color: var(--sklearn-color-fitted-level-1);\n",
       "}\n",
       "\n",
       "/* On hover */\n",
       "#sk-container-id-7 a.estimator_doc_link:hover {\n",
       "  /* unfitted */\n",
       "  background-color: var(--sklearn-color-unfitted-level-3);\n",
       "  color: var(--sklearn-color-background);\n",
       "  text-decoration: none;\n",
       "}\n",
       "\n",
       "#sk-container-id-7 a.estimator_doc_link.fitted:hover {\n",
       "  /* fitted */\n",
       "  background-color: var(--sklearn-color-fitted-level-3);\n",
       "}\n",
       "</style><div id=\"sk-container-id-7\" class=\"sk-top-container\"><div class=\"sk-text-repr-fallback\"><pre>XGBClassifier(base_score=None, booster=None, callbacks=None,\n",
       "              colsample_bylevel=None, colsample_bynode=None,\n",
       "              colsample_bytree=None, device=None, early_stopping_rounds=10,\n",
       "              enable_categorical=False, eval_metric=&#x27;mlogloss&#x27;,\n",
       "              feature_types=None, feature_weights=None, gamma=None,\n",
       "              grow_policy=None, importance_type=None,\n",
       "              interaction_constraints=None, learning_rate=0.1, max_bin=None,\n",
       "              max_cat_threshold=None, max_cat_to_onehot=None,\n",
       "              max_delta_step=None, max_depth=6, max_leaves=None,\n",
       "              min_child_weight=None, missing=nan, monotone_constraints=None,\n",
       "              multi_strategy=None, n_estimators=100, n_jobs=None, num_class=3, ...)</pre><b>In a Jupyter environment, please rerun this cell to show the HTML representation or trust the notebook. <br />On GitHub, the HTML representation is unable to render, please try loading this page with nbviewer.org.</b></div><div class=\"sk-container\" hidden><div class=\"sk-item\"><div class=\"sk-estimator fitted sk-toggleable\"><input class=\"sk-toggleable__control sk-hidden--visually\" id=\"sk-estimator-id-7\" type=\"checkbox\" checked><label for=\"sk-estimator-id-7\" class=\"sk-toggleable__label fitted sk-toggleable__label-arrow\"><div><div>XGBClassifier</div></div><div><a class=\"sk-estimator-doc-link fitted\" rel=\"noreferrer\" target=\"_blank\" href=\"https://xgboost.readthedocs.io/en/release_3.0.0/python/python_api.html#xgboost.XGBClassifier\">?<span>Documentation for XGBClassifier</span></a><span class=\"sk-estimator-doc-link fitted\">i<span>Fitted</span></span></div></label><div class=\"sk-toggleable__content fitted\"><pre>XGBClassifier(base_score=None, booster=None, callbacks=None,\n",
       "              colsample_bylevel=None, colsample_bynode=None,\n",
       "              colsample_bytree=None, device=None, early_stopping_rounds=10,\n",
       "              enable_categorical=False, eval_metric=&#x27;mlogloss&#x27;,\n",
       "              feature_types=None, feature_weights=None, gamma=None,\n",
       "              grow_policy=None, importance_type=None,\n",
       "              interaction_constraints=None, learning_rate=0.1, max_bin=None,\n",
       "              max_cat_threshold=None, max_cat_to_onehot=None,\n",
       "              max_delta_step=None, max_depth=6, max_leaves=None,\n",
       "              min_child_weight=None, missing=nan, monotone_constraints=None,\n",
       "              multi_strategy=None, n_estimators=100, n_jobs=None, num_class=3, ...)</pre></div> </div></div></div></div>"
      ],
      "text/plain": [
       "XGBClassifier(base_score=None, booster=None, callbacks=None,\n",
       "              colsample_bylevel=None, colsample_bynode=None,\n",
       "              colsample_bytree=None, device=None, early_stopping_rounds=10,\n",
       "              enable_categorical=False, eval_metric='mlogloss',\n",
       "              feature_types=None, feature_weights=None, gamma=None,\n",
       "              grow_policy=None, importance_type=None,\n",
       "              interaction_constraints=None, learning_rate=0.1, max_bin=None,\n",
       "              max_cat_threshold=None, max_cat_to_onehot=None,\n",
       "              max_delta_step=None, max_depth=6, max_leaves=None,\n",
       "              min_child_weight=None, missing=nan, monotone_constraints=None,\n",
       "              multi_strategy=None, n_estimators=100, n_jobs=None, num_class=3, ...)"
      ]
     },
     "execution_count": 248,
     "metadata": {},
     "output_type": "execute_result"
    }
   ],
   "source": [
    "xgb_ft.fit(X_train_ft, y_train,\n",
    "           eval_set=[(X_val_ft, y_val)],\n",
    "           verbose=True)"
   ]
  },
  {
   "cell_type": "code",
   "execution_count": 249,
   "id": "90ca6376",
   "metadata": {},
   "outputs": [
    {
     "name": "stdout",
     "output_type": "stream",
     "text": [
      "[0]\tvalidation_0-mlogloss:0.99140\n",
      "[1]\tvalidation_0-mlogloss:0.90206\n",
      "[2]\tvalidation_0-mlogloss:0.82727\n",
      "[3]\tvalidation_0-mlogloss:0.76312\n",
      "[4]\tvalidation_0-mlogloss:0.70825\n",
      "[5]\tvalidation_0-mlogloss:0.66137\n",
      "[6]\tvalidation_0-mlogloss:0.62065\n",
      "[7]\tvalidation_0-mlogloss:0.58482\n",
      "[8]\tvalidation_0-mlogloss:0.55348\n",
      "[9]\tvalidation_0-mlogloss:0.52570\n",
      "[10]\tvalidation_0-mlogloss:0.50206\n",
      "[11]\tvalidation_0-mlogloss:0.48165\n",
      "[12]\tvalidation_0-mlogloss:0.46378\n",
      "[13]\tvalidation_0-mlogloss:0.44665\n",
      "[14]\tvalidation_0-mlogloss:0.43234\n",
      "[15]\tvalidation_0-mlogloss:0.41867\n",
      "[16]\tvalidation_0-mlogloss:0.40787\n",
      "[17]\tvalidation_0-mlogloss:0.39892\n",
      "[18]\tvalidation_0-mlogloss:0.39033\n",
      "[19]\tvalidation_0-mlogloss:0.38273\n",
      "[20]\tvalidation_0-mlogloss:0.37579\n",
      "[21]\tvalidation_0-mlogloss:0.36984\n",
      "[22]\tvalidation_0-mlogloss:0.36424\n",
      "[23]\tvalidation_0-mlogloss:0.35967\n",
      "[24]\tvalidation_0-mlogloss:0.35609\n",
      "[25]\tvalidation_0-mlogloss:0.35289\n",
      "[26]\tvalidation_0-mlogloss:0.35015\n",
      "[27]\tvalidation_0-mlogloss:0.34692\n",
      "[28]\tvalidation_0-mlogloss:0.34539\n",
      "[29]\tvalidation_0-mlogloss:0.34363\n",
      "[30]\tvalidation_0-mlogloss:0.34166\n",
      "[31]\tvalidation_0-mlogloss:0.34017\n",
      "[32]\tvalidation_0-mlogloss:0.33908\n",
      "[33]\tvalidation_0-mlogloss:0.33739\n",
      "[34]\tvalidation_0-mlogloss:0.33637\n",
      "[35]\tvalidation_0-mlogloss:0.33609\n",
      "[36]\tvalidation_0-mlogloss:0.33556\n",
      "[37]\tvalidation_0-mlogloss:0.33567\n",
      "[38]\tvalidation_0-mlogloss:0.33528\n",
      "[39]\tvalidation_0-mlogloss:0.33497\n",
      "[40]\tvalidation_0-mlogloss:0.33498\n",
      "[41]\tvalidation_0-mlogloss:0.33443\n",
      "[42]\tvalidation_0-mlogloss:0.33374\n",
      "[43]\tvalidation_0-mlogloss:0.33473\n",
      "[44]\tvalidation_0-mlogloss:0.33478\n",
      "[45]\tvalidation_0-mlogloss:0.33464\n",
      "[46]\tvalidation_0-mlogloss:0.33580\n",
      "[47]\tvalidation_0-mlogloss:0.33663\n",
      "[48]\tvalidation_0-mlogloss:0.33764\n",
      "[49]\tvalidation_0-mlogloss:0.33818\n",
      "[50]\tvalidation_0-mlogloss:0.33928\n",
      "[51]\tvalidation_0-mlogloss:0.34008\n"
     ]
    },
    {
     "data": {
      "text/html": [
       "<style>#sk-container-id-8 {\n",
       "  /* Definition of color scheme common for light and dark mode */\n",
       "  --sklearn-color-text: #000;\n",
       "  --sklearn-color-text-muted: #666;\n",
       "  --sklearn-color-line: gray;\n",
       "  /* Definition of color scheme for unfitted estimators */\n",
       "  --sklearn-color-unfitted-level-0: #fff5e6;\n",
       "  --sklearn-color-unfitted-level-1: #f6e4d2;\n",
       "  --sklearn-color-unfitted-level-2: #ffe0b3;\n",
       "  --sklearn-color-unfitted-level-3: chocolate;\n",
       "  /* Definition of color scheme for fitted estimators */\n",
       "  --sklearn-color-fitted-level-0: #f0f8ff;\n",
       "  --sklearn-color-fitted-level-1: #d4ebff;\n",
       "  --sklearn-color-fitted-level-2: #b3dbfd;\n",
       "  --sklearn-color-fitted-level-3: cornflowerblue;\n",
       "\n",
       "  /* Specific color for light theme */\n",
       "  --sklearn-color-text-on-default-background: var(--sg-text-color, var(--theme-code-foreground, var(--jp-content-font-color1, black)));\n",
       "  --sklearn-color-background: var(--sg-background-color, var(--theme-background, var(--jp-layout-color0, white)));\n",
       "  --sklearn-color-border-box: var(--sg-text-color, var(--theme-code-foreground, var(--jp-content-font-color1, black)));\n",
       "  --sklearn-color-icon: #696969;\n",
       "\n",
       "  @media (prefers-color-scheme: dark) {\n",
       "    /* Redefinition of color scheme for dark theme */\n",
       "    --sklearn-color-text-on-default-background: var(--sg-text-color, var(--theme-code-foreground, var(--jp-content-font-color1, white)));\n",
       "    --sklearn-color-background: var(--sg-background-color, var(--theme-background, var(--jp-layout-color0, #111)));\n",
       "    --sklearn-color-border-box: var(--sg-text-color, var(--theme-code-foreground, var(--jp-content-font-color1, white)));\n",
       "    --sklearn-color-icon: #878787;\n",
       "  }\n",
       "}\n",
       "\n",
       "#sk-container-id-8 {\n",
       "  color: var(--sklearn-color-text);\n",
       "}\n",
       "\n",
       "#sk-container-id-8 pre {\n",
       "  padding: 0;\n",
       "}\n",
       "\n",
       "#sk-container-id-8 input.sk-hidden--visually {\n",
       "  border: 0;\n",
       "  clip: rect(1px 1px 1px 1px);\n",
       "  clip: rect(1px, 1px, 1px, 1px);\n",
       "  height: 1px;\n",
       "  margin: -1px;\n",
       "  overflow: hidden;\n",
       "  padding: 0;\n",
       "  position: absolute;\n",
       "  width: 1px;\n",
       "}\n",
       "\n",
       "#sk-container-id-8 div.sk-dashed-wrapped {\n",
       "  border: 1px dashed var(--sklearn-color-line);\n",
       "  margin: 0 0.4em 0.5em 0.4em;\n",
       "  box-sizing: border-box;\n",
       "  padding-bottom: 0.4em;\n",
       "  background-color: var(--sklearn-color-background);\n",
       "}\n",
       "\n",
       "#sk-container-id-8 div.sk-container {\n",
       "  /* jupyter's `normalize.less` sets `[hidden] { display: none; }`\n",
       "     but bootstrap.min.css set `[hidden] { display: none !important; }`\n",
       "     so we also need the `!important` here to be able to override the\n",
       "     default hidden behavior on the sphinx rendered scikit-learn.org.\n",
       "     See: https://github.com/scikit-learn/scikit-learn/issues/21755 */\n",
       "  display: inline-block !important;\n",
       "  position: relative;\n",
       "}\n",
       "\n",
       "#sk-container-id-8 div.sk-text-repr-fallback {\n",
       "  display: none;\n",
       "}\n",
       "\n",
       "div.sk-parallel-item,\n",
       "div.sk-serial,\n",
       "div.sk-item {\n",
       "  /* draw centered vertical line to link estimators */\n",
       "  background-image: linear-gradient(var(--sklearn-color-text-on-default-background), var(--sklearn-color-text-on-default-background));\n",
       "  background-size: 2px 100%;\n",
       "  background-repeat: no-repeat;\n",
       "  background-position: center center;\n",
       "}\n",
       "\n",
       "/* Parallel-specific style estimator block */\n",
       "\n",
       "#sk-container-id-8 div.sk-parallel-item::after {\n",
       "  content: \"\";\n",
       "  width: 100%;\n",
       "  border-bottom: 2px solid var(--sklearn-color-text-on-default-background);\n",
       "  flex-grow: 1;\n",
       "}\n",
       "\n",
       "#sk-container-id-8 div.sk-parallel {\n",
       "  display: flex;\n",
       "  align-items: stretch;\n",
       "  justify-content: center;\n",
       "  background-color: var(--sklearn-color-background);\n",
       "  position: relative;\n",
       "}\n",
       "\n",
       "#sk-container-id-8 div.sk-parallel-item {\n",
       "  display: flex;\n",
       "  flex-direction: column;\n",
       "}\n",
       "\n",
       "#sk-container-id-8 div.sk-parallel-item:first-child::after {\n",
       "  align-self: flex-end;\n",
       "  width: 50%;\n",
       "}\n",
       "\n",
       "#sk-container-id-8 div.sk-parallel-item:last-child::after {\n",
       "  align-self: flex-start;\n",
       "  width: 50%;\n",
       "}\n",
       "\n",
       "#sk-container-id-8 div.sk-parallel-item:only-child::after {\n",
       "  width: 0;\n",
       "}\n",
       "\n",
       "/* Serial-specific style estimator block */\n",
       "\n",
       "#sk-container-id-8 div.sk-serial {\n",
       "  display: flex;\n",
       "  flex-direction: column;\n",
       "  align-items: center;\n",
       "  background-color: var(--sklearn-color-background);\n",
       "  padding-right: 1em;\n",
       "  padding-left: 1em;\n",
       "}\n",
       "\n",
       "\n",
       "/* Toggleable style: style used for estimator/Pipeline/ColumnTransformer box that is\n",
       "clickable and can be expanded/collapsed.\n",
       "- Pipeline and ColumnTransformer use this feature and define the default style\n",
       "- Estimators will overwrite some part of the style using the `sk-estimator` class\n",
       "*/\n",
       "\n",
       "/* Pipeline and ColumnTransformer style (default) */\n",
       "\n",
       "#sk-container-id-8 div.sk-toggleable {\n",
       "  /* Default theme specific background. It is overwritten whether we have a\n",
       "  specific estimator or a Pipeline/ColumnTransformer */\n",
       "  background-color: var(--sklearn-color-background);\n",
       "}\n",
       "\n",
       "/* Toggleable label */\n",
       "#sk-container-id-8 label.sk-toggleable__label {\n",
       "  cursor: pointer;\n",
       "  display: flex;\n",
       "  width: 100%;\n",
       "  margin-bottom: 0;\n",
       "  padding: 0.5em;\n",
       "  box-sizing: border-box;\n",
       "  text-align: center;\n",
       "  align-items: start;\n",
       "  justify-content: space-between;\n",
       "  gap: 0.5em;\n",
       "}\n",
       "\n",
       "#sk-container-id-8 label.sk-toggleable__label .caption {\n",
       "  font-size: 0.6rem;\n",
       "  font-weight: lighter;\n",
       "  color: var(--sklearn-color-text-muted);\n",
       "}\n",
       "\n",
       "#sk-container-id-8 label.sk-toggleable__label-arrow:before {\n",
       "  /* Arrow on the left of the label */\n",
       "  content: \"▸\";\n",
       "  float: left;\n",
       "  margin-right: 0.25em;\n",
       "  color: var(--sklearn-color-icon);\n",
       "}\n",
       "\n",
       "#sk-container-id-8 label.sk-toggleable__label-arrow:hover:before {\n",
       "  color: var(--sklearn-color-text);\n",
       "}\n",
       "\n",
       "/* Toggleable content - dropdown */\n",
       "\n",
       "#sk-container-id-8 div.sk-toggleable__content {\n",
       "  max-height: 0;\n",
       "  max-width: 0;\n",
       "  overflow: hidden;\n",
       "  text-align: left;\n",
       "  /* unfitted */\n",
       "  background-color: var(--sklearn-color-unfitted-level-0);\n",
       "}\n",
       "\n",
       "#sk-container-id-8 div.sk-toggleable__content.fitted {\n",
       "  /* fitted */\n",
       "  background-color: var(--sklearn-color-fitted-level-0);\n",
       "}\n",
       "\n",
       "#sk-container-id-8 div.sk-toggleable__content pre {\n",
       "  margin: 0.2em;\n",
       "  border-radius: 0.25em;\n",
       "  color: var(--sklearn-color-text);\n",
       "  /* unfitted */\n",
       "  background-color: var(--sklearn-color-unfitted-level-0);\n",
       "}\n",
       "\n",
       "#sk-container-id-8 div.sk-toggleable__content.fitted pre {\n",
       "  /* unfitted */\n",
       "  background-color: var(--sklearn-color-fitted-level-0);\n",
       "}\n",
       "\n",
       "#sk-container-id-8 input.sk-toggleable__control:checked~div.sk-toggleable__content {\n",
       "  /* Expand drop-down */\n",
       "  max-height: 200px;\n",
       "  max-width: 100%;\n",
       "  overflow: auto;\n",
       "}\n",
       "\n",
       "#sk-container-id-8 input.sk-toggleable__control:checked~label.sk-toggleable__label-arrow:before {\n",
       "  content: \"▾\";\n",
       "}\n",
       "\n",
       "/* Pipeline/ColumnTransformer-specific style */\n",
       "\n",
       "#sk-container-id-8 div.sk-label input.sk-toggleable__control:checked~label.sk-toggleable__label {\n",
       "  color: var(--sklearn-color-text);\n",
       "  background-color: var(--sklearn-color-unfitted-level-2);\n",
       "}\n",
       "\n",
       "#sk-container-id-8 div.sk-label.fitted input.sk-toggleable__control:checked~label.sk-toggleable__label {\n",
       "  background-color: var(--sklearn-color-fitted-level-2);\n",
       "}\n",
       "\n",
       "/* Estimator-specific style */\n",
       "\n",
       "/* Colorize estimator box */\n",
       "#sk-container-id-8 div.sk-estimator input.sk-toggleable__control:checked~label.sk-toggleable__label {\n",
       "  /* unfitted */\n",
       "  background-color: var(--sklearn-color-unfitted-level-2);\n",
       "}\n",
       "\n",
       "#sk-container-id-8 div.sk-estimator.fitted input.sk-toggleable__control:checked~label.sk-toggleable__label {\n",
       "  /* fitted */\n",
       "  background-color: var(--sklearn-color-fitted-level-2);\n",
       "}\n",
       "\n",
       "#sk-container-id-8 div.sk-label label.sk-toggleable__label,\n",
       "#sk-container-id-8 div.sk-label label {\n",
       "  /* The background is the default theme color */\n",
       "  color: var(--sklearn-color-text-on-default-background);\n",
       "}\n",
       "\n",
       "/* On hover, darken the color of the background */\n",
       "#sk-container-id-8 div.sk-label:hover label.sk-toggleable__label {\n",
       "  color: var(--sklearn-color-text);\n",
       "  background-color: var(--sklearn-color-unfitted-level-2);\n",
       "}\n",
       "\n",
       "/* Label box, darken color on hover, fitted */\n",
       "#sk-container-id-8 div.sk-label.fitted:hover label.sk-toggleable__label.fitted {\n",
       "  color: var(--sklearn-color-text);\n",
       "  background-color: var(--sklearn-color-fitted-level-2);\n",
       "}\n",
       "\n",
       "/* Estimator label */\n",
       "\n",
       "#sk-container-id-8 div.sk-label label {\n",
       "  font-family: monospace;\n",
       "  font-weight: bold;\n",
       "  display: inline-block;\n",
       "  line-height: 1.2em;\n",
       "}\n",
       "\n",
       "#sk-container-id-8 div.sk-label-container {\n",
       "  text-align: center;\n",
       "}\n",
       "\n",
       "/* Estimator-specific */\n",
       "#sk-container-id-8 div.sk-estimator {\n",
       "  font-family: monospace;\n",
       "  border: 1px dotted var(--sklearn-color-border-box);\n",
       "  border-radius: 0.25em;\n",
       "  box-sizing: border-box;\n",
       "  margin-bottom: 0.5em;\n",
       "  /* unfitted */\n",
       "  background-color: var(--sklearn-color-unfitted-level-0);\n",
       "}\n",
       "\n",
       "#sk-container-id-8 div.sk-estimator.fitted {\n",
       "  /* fitted */\n",
       "  background-color: var(--sklearn-color-fitted-level-0);\n",
       "}\n",
       "\n",
       "/* on hover */\n",
       "#sk-container-id-8 div.sk-estimator:hover {\n",
       "  /* unfitted */\n",
       "  background-color: var(--sklearn-color-unfitted-level-2);\n",
       "}\n",
       "\n",
       "#sk-container-id-8 div.sk-estimator.fitted:hover {\n",
       "  /* fitted */\n",
       "  background-color: var(--sklearn-color-fitted-level-2);\n",
       "}\n",
       "\n",
       "/* Specification for estimator info (e.g. \"i\" and \"?\") */\n",
       "\n",
       "/* Common style for \"i\" and \"?\" */\n",
       "\n",
       ".sk-estimator-doc-link,\n",
       "a:link.sk-estimator-doc-link,\n",
       "a:visited.sk-estimator-doc-link {\n",
       "  float: right;\n",
       "  font-size: smaller;\n",
       "  line-height: 1em;\n",
       "  font-family: monospace;\n",
       "  background-color: var(--sklearn-color-background);\n",
       "  border-radius: 1em;\n",
       "  height: 1em;\n",
       "  width: 1em;\n",
       "  text-decoration: none !important;\n",
       "  margin-left: 0.5em;\n",
       "  text-align: center;\n",
       "  /* unfitted */\n",
       "  border: var(--sklearn-color-unfitted-level-1) 1pt solid;\n",
       "  color: var(--sklearn-color-unfitted-level-1);\n",
       "}\n",
       "\n",
       ".sk-estimator-doc-link.fitted,\n",
       "a:link.sk-estimator-doc-link.fitted,\n",
       "a:visited.sk-estimator-doc-link.fitted {\n",
       "  /* fitted */\n",
       "  border: var(--sklearn-color-fitted-level-1) 1pt solid;\n",
       "  color: var(--sklearn-color-fitted-level-1);\n",
       "}\n",
       "\n",
       "/* On hover */\n",
       "div.sk-estimator:hover .sk-estimator-doc-link:hover,\n",
       ".sk-estimator-doc-link:hover,\n",
       "div.sk-label-container:hover .sk-estimator-doc-link:hover,\n",
       ".sk-estimator-doc-link:hover {\n",
       "  /* unfitted */\n",
       "  background-color: var(--sklearn-color-unfitted-level-3);\n",
       "  color: var(--sklearn-color-background);\n",
       "  text-decoration: none;\n",
       "}\n",
       "\n",
       "div.sk-estimator.fitted:hover .sk-estimator-doc-link.fitted:hover,\n",
       ".sk-estimator-doc-link.fitted:hover,\n",
       "div.sk-label-container:hover .sk-estimator-doc-link.fitted:hover,\n",
       ".sk-estimator-doc-link.fitted:hover {\n",
       "  /* fitted */\n",
       "  background-color: var(--sklearn-color-fitted-level-3);\n",
       "  color: var(--sklearn-color-background);\n",
       "  text-decoration: none;\n",
       "}\n",
       "\n",
       "/* Span, style for the box shown on hovering the info icon */\n",
       ".sk-estimator-doc-link span {\n",
       "  display: none;\n",
       "  z-index: 9999;\n",
       "  position: relative;\n",
       "  font-weight: normal;\n",
       "  right: .2ex;\n",
       "  padding: .5ex;\n",
       "  margin: .5ex;\n",
       "  width: min-content;\n",
       "  min-width: 20ex;\n",
       "  max-width: 50ex;\n",
       "  color: var(--sklearn-color-text);\n",
       "  box-shadow: 2pt 2pt 4pt #999;\n",
       "  /* unfitted */\n",
       "  background: var(--sklearn-color-unfitted-level-0);\n",
       "  border: .5pt solid var(--sklearn-color-unfitted-level-3);\n",
       "}\n",
       "\n",
       ".sk-estimator-doc-link.fitted span {\n",
       "  /* fitted */\n",
       "  background: var(--sklearn-color-fitted-level-0);\n",
       "  border: var(--sklearn-color-fitted-level-3);\n",
       "}\n",
       "\n",
       ".sk-estimator-doc-link:hover span {\n",
       "  display: block;\n",
       "}\n",
       "\n",
       "/* \"?\"-specific style due to the `<a>` HTML tag */\n",
       "\n",
       "#sk-container-id-8 a.estimator_doc_link {\n",
       "  float: right;\n",
       "  font-size: 1rem;\n",
       "  line-height: 1em;\n",
       "  font-family: monospace;\n",
       "  background-color: var(--sklearn-color-background);\n",
       "  border-radius: 1rem;\n",
       "  height: 1rem;\n",
       "  width: 1rem;\n",
       "  text-decoration: none;\n",
       "  /* unfitted */\n",
       "  color: var(--sklearn-color-unfitted-level-1);\n",
       "  border: var(--sklearn-color-unfitted-level-1) 1pt solid;\n",
       "}\n",
       "\n",
       "#sk-container-id-8 a.estimator_doc_link.fitted {\n",
       "  /* fitted */\n",
       "  border: var(--sklearn-color-fitted-level-1) 1pt solid;\n",
       "  color: var(--sklearn-color-fitted-level-1);\n",
       "}\n",
       "\n",
       "/* On hover */\n",
       "#sk-container-id-8 a.estimator_doc_link:hover {\n",
       "  /* unfitted */\n",
       "  background-color: var(--sklearn-color-unfitted-level-3);\n",
       "  color: var(--sklearn-color-background);\n",
       "  text-decoration: none;\n",
       "}\n",
       "\n",
       "#sk-container-id-8 a.estimator_doc_link.fitted:hover {\n",
       "  /* fitted */\n",
       "  background-color: var(--sklearn-color-fitted-level-3);\n",
       "}\n",
       "</style><div id=\"sk-container-id-8\" class=\"sk-top-container\"><div class=\"sk-text-repr-fallback\"><pre>XGBClassifier(base_score=None, booster=None, callbacks=None,\n",
       "              colsample_bylevel=None, colsample_bynode=None,\n",
       "              colsample_bytree=None, device=None, early_stopping_rounds=10,\n",
       "              enable_categorical=False, eval_metric=&#x27;mlogloss&#x27;,\n",
       "              feature_types=None, feature_weights=None, gamma=None,\n",
       "              grow_policy=None, importance_type=None,\n",
       "              interaction_constraints=None, learning_rate=0.1, max_bin=None,\n",
       "              max_cat_threshold=None, max_cat_to_onehot=None,\n",
       "              max_delta_step=None, max_depth=6, max_leaves=None,\n",
       "              min_child_weight=None, missing=nan, monotone_constraints=None,\n",
       "              multi_strategy=None, n_estimators=100, n_jobs=None, num_class=3, ...)</pre><b>In a Jupyter environment, please rerun this cell to show the HTML representation or trust the notebook. <br />On GitHub, the HTML representation is unable to render, please try loading this page with nbviewer.org.</b></div><div class=\"sk-container\" hidden><div class=\"sk-item\"><div class=\"sk-estimator fitted sk-toggleable\"><input class=\"sk-toggleable__control sk-hidden--visually\" id=\"sk-estimator-id-8\" type=\"checkbox\" checked><label for=\"sk-estimator-id-8\" class=\"sk-toggleable__label fitted sk-toggleable__label-arrow\"><div><div>XGBClassifier</div></div><div><a class=\"sk-estimator-doc-link fitted\" rel=\"noreferrer\" target=\"_blank\" href=\"https://xgboost.readthedocs.io/en/release_3.0.0/python/python_api.html#xgboost.XGBClassifier\">?<span>Documentation for XGBClassifier</span></a><span class=\"sk-estimator-doc-link fitted\">i<span>Fitted</span></span></div></label><div class=\"sk-toggleable__content fitted\"><pre>XGBClassifier(base_score=None, booster=None, callbacks=None,\n",
       "              colsample_bylevel=None, colsample_bynode=None,\n",
       "              colsample_bytree=None, device=None, early_stopping_rounds=10,\n",
       "              enable_categorical=False, eval_metric=&#x27;mlogloss&#x27;,\n",
       "              feature_types=None, feature_weights=None, gamma=None,\n",
       "              grow_policy=None, importance_type=None,\n",
       "              interaction_constraints=None, learning_rate=0.1, max_bin=None,\n",
       "              max_cat_threshold=None, max_cat_to_onehot=None,\n",
       "              max_delta_step=None, max_depth=6, max_leaves=None,\n",
       "              min_child_weight=None, missing=nan, monotone_constraints=None,\n",
       "              multi_strategy=None, n_estimators=100, n_jobs=None, num_class=3, ...)</pre></div> </div></div></div></div>"
      ],
      "text/plain": [
       "XGBClassifier(base_score=None, booster=None, callbacks=None,\n",
       "              colsample_bylevel=None, colsample_bynode=None,\n",
       "              colsample_bytree=None, device=None, early_stopping_rounds=10,\n",
       "              enable_categorical=False, eval_metric='mlogloss',\n",
       "              feature_types=None, feature_weights=None, gamma=None,\n",
       "              grow_policy=None, importance_type=None,\n",
       "              interaction_constraints=None, learning_rate=0.1, max_bin=None,\n",
       "              max_cat_threshold=None, max_cat_to_onehot=None,\n",
       "              max_delta_step=None, max_depth=6, max_leaves=None,\n",
       "              min_child_weight=None, missing=nan, monotone_constraints=None,\n",
       "              multi_strategy=None, n_estimators=100, n_jobs=None, num_class=3, ...)"
      ]
     },
     "execution_count": 249,
     "metadata": {},
     "output_type": "execute_result"
    }
   ],
   "source": [
    "xgb_tfidf_ft.fit(X_train_tfidf_ft, y_train,\n",
    "                 eval_set=[(X_val_tfidf_ft, y_val)],\n",
    "                 verbose=True)"
   ]
  },
  {
   "cell_type": "markdown",
   "id": "cb384f82",
   "metadata": {},
   "source": [
    "### Deep Learning"
   ]
  },
  {
   "cell_type": "code",
   "execution_count": 250,
   "id": "6d687b50",
   "metadata": {},
   "outputs": [
    {
     "name": "stderr",
     "output_type": "stream",
     "text": [
      "/teamspace/studios/this_studio/product-sentiment/.venv/lib/python3.12/site-packages/keras/src/layers/core/dense.py:87: UserWarning: Do not pass an `input_shape`/`input_dim` argument to a layer. When using Sequential models, prefer using an `Input(shape)` object as the first layer in the model instead.\n",
      "  super().__init__(activity_regularizer=activity_regularizer, **kwargs)\n"
     ]
    }
   ],
   "source": [
    "import tensorflow as tf\n",
    "from tensorflow.keras.models import Sequential\n",
    "from tensorflow.keras.layers import Dense, Dropout\n",
    "\n",
    "\n",
    "def create_dl(input_dim, output_dim=len(le.classes_), dropout_rate=0.5):\n",
    "    model = Sequential()\n",
    "    model.add(Dense(512, activation='elu', input_dim=input_dim))\n",
    "    model.add(Dropout(dropout_rate))\n",
    "    model.add(Dense(256, activation='elu'))\n",
    "    model.add(Dropout(dropout_rate))\n",
    "    model.add(Dense(128, activation='elu'))\n",
    "    model.add(Dropout(dropout_rate))\n",
    "    model.add(Dense(output_dim, activation='softmax'))\n",
    "\n",
    "    model.compile(optimizer='adam', loss='sparse_categorical_crossentropy', metrics=['accuracy'])\n",
    "    return model\n",
    "\n",
    "\n",
    "input_dim = 300\n",
    "dl_ft = create_dl(input_dim)\n",
    "dl_tfidf_ft = create_dl(input_dim)"
   ]
  },
  {
   "cell_type": "code",
   "execution_count": 251,
   "id": "1a816b5d",
   "metadata": {},
   "outputs": [
    {
     "name": "stdout",
     "output_type": "stream",
     "text": [
      "Epoch 1/100\n"
     ]
    },
    {
     "name": "stdout",
     "output_type": "stream",
     "text": [
      "\u001b[1m221/221\u001b[0m \u001b[32m━━━━━━━━━━━━━━━━━━━━\u001b[0m\u001b[37m\u001b[0m \u001b[1m3s\u001b[0m 6ms/step - accuracy: 0.8978 - loss: 0.3982 - val_accuracy: 0.9080 - val_loss: 0.3033\n",
      "Epoch 2/100\n",
      "\u001b[1m221/221\u001b[0m \u001b[32m━━━━━━━━━━━━━━━━━━━━\u001b[0m\u001b[37m\u001b[0m \u001b[1m1s\u001b[0m 5ms/step - accuracy: 0.9040 - loss: 0.3195 - val_accuracy: 0.9057 - val_loss: 0.3299\n",
      "Epoch 3/100\n",
      "\u001b[1m221/221\u001b[0m \u001b[32m━━━━━━━━━━━━━━━━━━━━\u001b[0m\u001b[37m\u001b[0m \u001b[1m1s\u001b[0m 5ms/step - accuracy: 0.9033 - loss: 0.3250 - val_accuracy: 0.8989 - val_loss: 0.3014\n",
      "Epoch 4/100\n",
      "\u001b[1m221/221\u001b[0m \u001b[32m━━━━━━━━━━━━━━━━━━━━\u001b[0m\u001b[37m\u001b[0m \u001b[1m1s\u001b[0m 5ms/step - accuracy: 0.9047 - loss: 0.3092 - val_accuracy: 0.9057 - val_loss: 0.3126\n",
      "Epoch 5/100\n",
      "\u001b[1m221/221\u001b[0m \u001b[32m━━━━━━━━━━━━━━━━━━━━\u001b[0m\u001b[37m\u001b[0m \u001b[1m1s\u001b[0m 5ms/step - accuracy: 0.9105 - loss: 0.2926 - val_accuracy: 0.9045 - val_loss: 0.3224\n",
      "Epoch 6/100\n",
      "\u001b[1m221/221\u001b[0m \u001b[32m━━━━━━━━━━━━━━━━━━━━\u001b[0m\u001b[37m\u001b[0m \u001b[1m1s\u001b[0m 5ms/step - accuracy: 0.9065 - loss: 0.3058 - val_accuracy: 0.9034 - val_loss: 0.3037\n",
      "Epoch 7/100\n",
      "\u001b[1m221/221\u001b[0m \u001b[32m━━━━━━━━━━━━━━━━━━━━\u001b[0m\u001b[37m\u001b[0m \u001b[1m1s\u001b[0m 5ms/step - accuracy: 0.9112 - loss: 0.2808 - val_accuracy: 0.9057 - val_loss: 0.3011\n",
      "Epoch 8/100\n",
      "\u001b[1m221/221\u001b[0m \u001b[32m━━━━━━━━━━━━━━━━━━━━\u001b[0m\u001b[37m\u001b[0m \u001b[1m1s\u001b[0m 5ms/step - accuracy: 0.9071 - loss: 0.2871 - val_accuracy: 0.9068 - val_loss: 0.3103\n",
      "Epoch 9/100\n",
      "\u001b[1m221/221\u001b[0m \u001b[32m━━━━━━━━━━━━━━━━━━━━\u001b[0m\u001b[37m\u001b[0m \u001b[1m1s\u001b[0m 5ms/step - accuracy: 0.9150 - loss: 0.2754 - val_accuracy: 0.9057 - val_loss: 0.3031\n",
      "Epoch 10/100\n",
      "\u001b[1m221/221\u001b[0m \u001b[32m━━━━━━━━━━━━━━━━━━━━\u001b[0m\u001b[37m\u001b[0m \u001b[1m1s\u001b[0m 5ms/step - accuracy: 0.9127 - loss: 0.2710 - val_accuracy: 0.9034 - val_loss: 0.2978\n",
      "Epoch 11/100\n",
      "\u001b[1m221/221\u001b[0m \u001b[32m━━━━━━━━━━━━━━━━━━━━\u001b[0m\u001b[37m\u001b[0m \u001b[1m1s\u001b[0m 5ms/step - accuracy: 0.9103 - loss: 0.2691 - val_accuracy: 0.9034 - val_loss: 0.2962\n",
      "Epoch 12/100\n",
      "\u001b[1m221/221\u001b[0m \u001b[32m━━━━━━━━━━━━━━━━━━━━\u001b[0m\u001b[37m\u001b[0m \u001b[1m1s\u001b[0m 5ms/step - accuracy: 0.9147 - loss: 0.2677 - val_accuracy: 0.9057 - val_loss: 0.2925\n",
      "Epoch 13/100\n",
      "\u001b[1m221/221\u001b[0m \u001b[32m━━━━━━━━━━━━━━━━━━━━\u001b[0m\u001b[37m\u001b[0m \u001b[1m1s\u001b[0m 5ms/step - accuracy: 0.9158 - loss: 0.2754 - val_accuracy: 0.9045 - val_loss: 0.3098\n",
      "Epoch 14/100\n",
      "\u001b[1m221/221\u001b[0m \u001b[32m━━━━━━━━━━━━━━━━━━━━\u001b[0m\u001b[37m\u001b[0m \u001b[1m1s\u001b[0m 5ms/step - accuracy: 0.9057 - loss: 0.2771 - val_accuracy: 0.9023 - val_loss: 0.3026\n",
      "Epoch 15/100\n",
      "\u001b[1m221/221\u001b[0m \u001b[32m━━━━━━━━━━━━━━━━━━━━\u001b[0m\u001b[37m\u001b[0m \u001b[1m1s\u001b[0m 5ms/step - accuracy: 0.9143 - loss: 0.2624 - val_accuracy: 0.9011 - val_loss: 0.3033\n",
      "Epoch 16/100\n",
      "\u001b[1m221/221\u001b[0m \u001b[32m━━━━━━━━━━━━━━━━━━━━\u001b[0m\u001b[37m\u001b[0m \u001b[1m1s\u001b[0m 5ms/step - accuracy: 0.9079 - loss: 0.2815 - val_accuracy: 0.9023 - val_loss: 0.2996\n",
      "Epoch 17/100\n",
      "\u001b[1m221/221\u001b[0m \u001b[32m━━━━━━━━━━━━━━━━━━━━\u001b[0m\u001b[37m\u001b[0m \u001b[1m1s\u001b[0m 5ms/step - accuracy: 0.9110 - loss: 0.2835 - val_accuracy: 0.9057 - val_loss: 0.3006\n",
      "Epoch 18/100\n",
      "\u001b[1m221/221\u001b[0m \u001b[32m━━━━━━━━━━━━━━━━━━━━\u001b[0m\u001b[37m\u001b[0m \u001b[1m1s\u001b[0m 5ms/step - accuracy: 0.9143 - loss: 0.2618 - val_accuracy: 0.9023 - val_loss: 0.2975\n",
      "Epoch 19/100\n",
      "\u001b[1m221/221\u001b[0m \u001b[32m━━━━━━━━━━━━━━━━━━━━\u001b[0m\u001b[37m\u001b[0m \u001b[1m1s\u001b[0m 5ms/step - accuracy: 0.9165 - loss: 0.2494 - val_accuracy: 0.9011 - val_loss: 0.3003\n",
      "Epoch 20/100\n",
      "\u001b[1m221/221\u001b[0m \u001b[32m━━━━━━━━━━━━━━━━━━━━\u001b[0m\u001b[37m\u001b[0m \u001b[1m1s\u001b[0m 5ms/step - accuracy: 0.9165 - loss: 0.2559 - val_accuracy: 0.9091 - val_loss: 0.3064\n",
      "Epoch 21/100\n",
      "\u001b[1m221/221\u001b[0m \u001b[32m━━━━━━━━━━━━━━━━━━━━\u001b[0m\u001b[37m\u001b[0m \u001b[1m1s\u001b[0m 5ms/step - accuracy: 0.9172 - loss: 0.2601 - val_accuracy: 0.9045 - val_loss: 0.3021\n",
      "Epoch 22/100\n",
      "\u001b[1m221/221\u001b[0m \u001b[32m━━━━━━━━━━━━━━━━━━━━\u001b[0m\u001b[37m\u001b[0m \u001b[1m1s\u001b[0m 5ms/step - accuracy: 0.9165 - loss: 0.2566 - val_accuracy: 0.9011 - val_loss: 0.3088\n"
     ]
    }
   ],
   "source": [
    "from tensorflow.keras.callbacks import EarlyStopping\n",
    "\n",
    "\n",
    "early_stopping = EarlyStopping(monitor='val_loss', patience=10, restore_best_weights=True)\n",
    "hist_ft = dl_ft.fit(X_train_ft, y_train, validation_data=(X_val_ft, y_val), epochs=100, batch_size=32, callbacks=[early_stopping])"
   ]
  },
  {
   "cell_type": "code",
   "execution_count": 252,
   "id": "5576fb84",
   "metadata": {},
   "outputs": [
    {
     "name": "stdout",
     "output_type": "stream",
     "text": [
      "Epoch 1/100\n"
     ]
    },
    {
     "name": "stdout",
     "output_type": "stream",
     "text": [
      "\u001b[1m221/221\u001b[0m \u001b[32m━━━━━━━━━━━━━━━━━━━━\u001b[0m\u001b[37m\u001b[0m \u001b[1m3s\u001b[0m 6ms/step - accuracy: 0.8955 - loss: 0.4043 - val_accuracy: 0.9045 - val_loss: 0.3236\n",
      "Epoch 2/100\n",
      "\u001b[1m221/221\u001b[0m \u001b[32m━━━━━━━━━━━━━━━━━━━━\u001b[0m\u001b[37m\u001b[0m \u001b[1m1s\u001b[0m 5ms/step - accuracy: 0.9091 - loss: 0.3151 - val_accuracy: 0.9011 - val_loss: 0.3222\n",
      "Epoch 3/100\n",
      "\u001b[1m221/221\u001b[0m \u001b[32m━━━━━━━━━━━━━━━━━━━━\u001b[0m\u001b[37m\u001b[0m \u001b[1m1s\u001b[0m 5ms/step - accuracy: 0.9063 - loss: 0.3030 - val_accuracy: 0.9000 - val_loss: 0.3098\n",
      "Epoch 4/100\n",
      "\u001b[1m221/221\u001b[0m \u001b[32m━━━━━━━━━━━━━━━━━━━━\u001b[0m\u001b[37m\u001b[0m \u001b[1m1s\u001b[0m 5ms/step - accuracy: 0.9076 - loss: 0.3129 - val_accuracy: 0.8966 - val_loss: 0.3177\n",
      "Epoch 5/100\n",
      "\u001b[1m221/221\u001b[0m \u001b[32m━━━━━━━━━━━━━━━━━━━━\u001b[0m\u001b[37m\u001b[0m \u001b[1m1s\u001b[0m 5ms/step - accuracy: 0.9026 - loss: 0.3047 - val_accuracy: 0.8977 - val_loss: 0.3199\n",
      "Epoch 6/100\n",
      "\u001b[1m221/221\u001b[0m \u001b[32m━━━━━━━━━━━━━━━━━━━━\u001b[0m\u001b[37m\u001b[0m \u001b[1m1s\u001b[0m 5ms/step - accuracy: 0.9074 - loss: 0.2958 - val_accuracy: 0.9000 - val_loss: 0.3471\n",
      "Epoch 7/100\n",
      "\u001b[1m221/221\u001b[0m \u001b[32m━━━━━━━━━━━━━━━━━━━━\u001b[0m\u001b[37m\u001b[0m \u001b[1m1s\u001b[0m 5ms/step - accuracy: 0.9118 - loss: 0.2816 - val_accuracy: 0.8989 - val_loss: 0.3141\n",
      "Epoch 8/100\n",
      "\u001b[1m221/221\u001b[0m \u001b[32m━━━━━━━━━━━━━━━━━━━━\u001b[0m\u001b[37m\u001b[0m \u001b[1m1s\u001b[0m 5ms/step - accuracy: 0.9096 - loss: 0.2838 - val_accuracy: 0.9045 - val_loss: 0.3187\n",
      "Epoch 9/100\n",
      "\u001b[1m221/221\u001b[0m \u001b[32m━━━━━━━━━━━━━━━━━━━━\u001b[0m\u001b[37m\u001b[0m \u001b[1m1s\u001b[0m 5ms/step - accuracy: 0.9051 - loss: 0.2946 - val_accuracy: 0.9034 - val_loss: 0.3306\n",
      "Epoch 10/100\n",
      "\u001b[1m221/221\u001b[0m \u001b[32m━━━━━━━━━━━━━━━━━━━━\u001b[0m\u001b[37m\u001b[0m \u001b[1m1s\u001b[0m 5ms/step - accuracy: 0.9110 - loss: 0.2812 - val_accuracy: 0.9034 - val_loss: 0.3265\n",
      "Epoch 11/100\n",
      "\u001b[1m221/221\u001b[0m \u001b[32m━━━━━━━━━━━━━━━━━━━━\u001b[0m\u001b[37m\u001b[0m \u001b[1m1s\u001b[0m 5ms/step - accuracy: 0.9155 - loss: 0.2713 - val_accuracy: 0.8955 - val_loss: 0.3153\n",
      "Epoch 12/100\n",
      "\u001b[1m221/221\u001b[0m \u001b[32m━━━━━━━━━━━━━━━━━━━━\u001b[0m\u001b[37m\u001b[0m \u001b[1m1s\u001b[0m 5ms/step - accuracy: 0.9025 - loss: 0.2906 - val_accuracy: 0.9057 - val_loss: 0.3685\n",
      "Epoch 13/100\n",
      "\u001b[1m221/221\u001b[0m \u001b[32m━━━━━━━━━━━━━━━━━━━━\u001b[0m\u001b[37m\u001b[0m \u001b[1m1s\u001b[0m 5ms/step - accuracy: 0.9102 - loss: 0.2738 - val_accuracy: 0.9000 - val_loss: 0.3106\n"
     ]
    }
   ],
   "source": [
    "hist_tfidf_ft = dl_tfidf_ft.fit(X_train_tfidf_ft, y_train, validation_data=(X_val_tfidf_ft, y_val), epochs=100, batch_size=32, callbacks=[early_stopping])"
   ]
  },
  {
   "cell_type": "code",
   "execution_count": 253,
   "id": "55d8dc74",
   "metadata": {},
   "outputs": [],
   "source": [
    "import matplotlib.pyplot as plt\n",
    "\n",
    "def plot_training_history(history, figsize=(12, 5)):\n",
    "    \"\"\"\n",
    "    Plot the training and validation metrics from a Keras/TensorFlow model's history.\n",
    "\n",
    "    Parameters:\n",
    "    -----------\n",
    "    history : History object\n",
    "        The history object returned by model.fit()\n",
    "    figsize : tuple, optional\n",
    "        Size of the figure (width, height)\n",
    "    \"\"\"\n",
    "    # Get history dictionary\n",
    "    hist = history.history\n",
    "\n",
    "    # Create a figure with subplots\n",
    "    fig, axes = plt.subplots(1, 2, figsize=figsize)\n",
    "\n",
    "    # Plot training & validation loss\n",
    "    axes[0].plot(hist['loss'], label='Training Loss')\n",
    "    if 'val_loss' in hist:\n",
    "        axes[0].plot(hist['val_loss'], label='Validation Loss')\n",
    "    axes[0].set_title('Model Loss')\n",
    "    axes[0].set_xlabel('Epoch')\n",
    "    axes[0].set_ylabel('Loss')\n",
    "    axes[0].legend(loc='upper right')\n",
    "    axes[0].grid(True, linestyle='--', alpha=0.6)\n",
    "\n",
    "    # Plot training & validation accuracy if available\n",
    "    if 'accuracy' in hist:\n",
    "        axes[1].plot(hist['accuracy'], label='Training Accuracy')\n",
    "        if 'val_accuracy' in hist:\n",
    "            axes[1].plot(hist['val_accuracy'], label='Validation Accuracy')\n",
    "        axes[1].set_title('Model Accuracy')\n",
    "        axes[1].set_xlabel('Epoch')\n",
    "        axes[1].set_ylabel('Accuracy')\n",
    "        axes[1].legend(loc='lower right')\n",
    "        axes[1].grid(True, linestyle='--', alpha=0.6)\n",
    "\n",
    "    plt.tight_layout()\n",
    "    plt.show()\n",
    "\n",
    "    # Print some metrics about the training\n",
    "    epochs_trained = len(hist['loss'])\n",
    "    print(f\"Model trained for {epochs_trained} epochs\")\n",
    "\n",
    "    if 'val_loss' in hist:\n",
    "        best_epoch = np.argmin(hist['val_loss'])\n",
    "        best_val_loss = hist['val_loss'][best_epoch]\n",
    "        print(f\"Best validation loss: {best_val_loss:.4f} (epoch {best_epoch+1})\")\n",
    "\n",
    "        if 'val_accuracy' in hist:\n",
    "            best_val_acc = hist['val_accuracy'][best_epoch]\n",
    "            print(f\"Validation accuracy at best epoch: {best_val_acc:.4f}\")"
   ]
  },
  {
   "cell_type": "code",
   "execution_count": 254,
   "id": "9c4815e6",
   "metadata": {},
   "outputs": [
    {
     "data": {
      "image/png": "[encoded data removed]",
      "text/plain": [
       "<Figure size 1200x500 with 2 Axes>"
      ]
     },
     "metadata": {},
     "output_type": "display_data"
    },
    {
     "name": "stdout",
     "output_type": "stream",
     "text": [
      "Model trained for 22 epochs\n",
      "Best validation loss: 0.2925 (epoch 12)\n",
      "Validation accuracy at best epoch: 0.9057\n"
     ]
    },
    {
     "data": {
      "image/png": "[encoded data removed]",
      "text/plain": [
       "<Figure size 1200x500 with 2 Axes>"
      ]
     },
     "metadata": {},
     "output_type": "display_data"
    },
    {
     "name": "stdout",
     "output_type": "stream",
     "text": [
      "Model trained for 13 epochs\n",
      "Best validation loss: 0.3098 (epoch 3)\n",
      "Validation accuracy at best epoch: 0.9000\n"
     ]
    }
   ],
   "source": [
    "plot_training_history(hist_ft)\n",
    "plot_training_history(hist_tfidf_ft)"
   ]
  },
  {
   "cell_type": "code",
   "execution_count": 255,
   "id": "4639ecb8",
   "metadata": {},
   "outputs": [
    {
     "name": "stdout",
     "output_type": "stream",
     "text": [
      "All models saved successfully!\n"
     ]
    }
   ],
   "source": [
    "import os\n",
    "import pickle\n",
    "\n",
    "# Create directory for saving models if it doesn't exist\n",
    "os.makedirs('model/saved_models', exist_ok=True)\n",
    "\n",
    "# Save XGBoost models\n",
    "xgb_ft.save_model('model/saved_models/xgb_fasttext.json')\n",
    "xgb_tfidf_ft.save_model('model/saved_models/xgb_tfidf_fasttext.json')\n",
    "\n",
    "# Save Deep Learning models\n",
    "dl_ft.save('model/saved_models/dl_fasttext.keras')\n",
    "dl_tfidf_ft.save('model/saved_models/dl_tfidf_fasttext.keras')\n",
    "\n",
    "# Save TF-IDF vectorizer\n",
    "with open('model/saved_models/tfidf_vectorizer.pkl', 'wb') as f:\n",
    "    pickle.dump(tfidf_vectorizer, f)\n",
    "\n",
    "# Save label encoder\n",
    "with open('model/saved_models/label_encoder.pkl', 'wb') as f:\n",
    "    pickle.dump(le, f)\n",
    "\n",
    "print(\"All models saved successfully!\")"
   ]
  },
  {
   "cell_type": "markdown",
   "id": "bdfa5dc2",
   "metadata": {},
   "source": [
    "## Evaluation"
   ]
  },
  {
   "cell_type": "code",
   "execution_count": 275,
   "id": "662667c7",
   "metadata": {},
   "outputs": [],
   "source": [
    "import numpy as np\n",
    "from sklearn.metrics import accuracy_score, precision_recall_fscore_support, confusion_matrix\n",
    "import seaborn as sns\n",
    "import matplotlib.pyplot as plt\n",
    "\n",
    "results = {}\n",
    "\n",
    "def evaluate_model(name, model, X_test, y_test, is_keras=False):\n",
    "    if is_keras:\n",
    "        y_pred = model.predict(X_test)\n",
    "        y_pred = np.argmax(y_pred, axis=1)\n",
    "    else:\n",
    "        y_pred = model.predict(X_test)\n",
    "\n",
    "    # Calculate metrics\n",
    "    accuracy = accuracy_score(y_test, y_pred)\n",
    "    precision, recall, f1, _ = precision_recall_fscore_support(y_test, y_pred, average='weighted')\n",
    "\n",
    "    # Store results\n",
    "    results[name] = {\n",
    "        'accuracy': accuracy,\n",
    "        'precision': precision,\n",
    "        'recall': recall,\n",
    "        'f1': f1,\n",
    "        'y_pred': y_pred\n",
    "    }\n",
    "\n",
    "    print(f\"\\n----- {name} Evaluation -----\")\n",
    "    print(f\"Accuracy: {accuracy:.4f}\")\n",
    "    print(f\"Precision: {precision:.4f}\")\n",
    "    print(f\"Recall: {recall:.4f}\")\n",
    "    print(f\"F1 Score: {f1:.4f}\")\n",
    "\n",
    "    # Plot confusion matrix\n",
    "    plt.figure(figsize=(8, 6))\n",
    "    cm = confusion_matrix(y_test, y_pred)\n",
    "    sns.heatmap(cm, annot=True, fmt='d', cmap='Blues',\n",
    "                xticklabels=le.classes_, yticklabels=le.classes_)\n",
    "    plt.title(f'Confusion Matrix - {name}')\n",
    "    plt.ylabel('True Label')\n",
    "    plt.xlabel('Predicted Label')\n",
    "    plt.tight_layout()\n",
    "    plt.show()"
   ]
  },
  {
   "cell_type": "markdown",
   "id": "2dab62e3",
   "metadata": {},
   "source": [
    "### XGBoost-Fasttext"
   ]
  },
  {
   "cell_type": "code",
   "execution_count": 276,
   "id": "0086bd67",
   "metadata": {},
   "outputs": [
    {
     "name": "stdout",
     "output_type": "stream",
     "text": [
      "\n",
      "----- XGBoost FastText Evaluation -----\n",
      "Accuracy: 0.9047\n",
      "Precision: 0.8243\n",
      "Recall: 0.9047\n",
      "F1 Score: 0.8626\n"
     ]
    },
    {
     "data": {
      "image/png": "[encoded data removed]",
      "text/plain": [
       "<Figure size 800x600 with 2 Axes>"
      ]
     },
     "metadata": {},
     "output_type": "display_data"
    }
   ],
   "source": [
    "evaluate_model('XGBoost FastText', xgb_ft, X_test_ft, y_test)"
   ]
  },
  {
   "cell_type": "markdown",
   "id": "e72c49e8",
   "metadata": {},
   "source": [
    "### XGBoost-TFIDF-Fasttext"
   ]
  },
  {
   "cell_type": "code",
   "execution_count": 277,
   "id": "881e3123",
   "metadata": {},
   "outputs": [
    {
     "name": "stderr",
     "output_type": "stream",
     "text": [
      "/teamspace/studios/this_studio/product-sentiment/.venv/lib/python3.12/site-packages/sklearn/metrics/_classification.py:1565: UndefinedMetricWarning: Precision is ill-defined and being set to 0.0 in labels with no predicted samples. Use `zero_division` parameter to control this behavior.\n",
      "  _warn_prf(average, modifier, f\"{metric.capitalize()} is\", len(result))\n"
     ]
    },
    {
     "name": "stdout",
     "output_type": "stream",
     "text": [
      "\n",
      "----- XGBoost TF-IDF FastText Evaluation -----\n",
      "Accuracy: 0.9058\n",
      "Precision: 0.8244\n",
      "Recall: 0.9058\n",
      "F1 Score: 0.8632\n"
     ]
    },
    {
     "data": {
      "image/png": "[encoded data removed]",
      "text/plain": [
       "<Figure size 800x600 with 2 Axes>"
      ]
     },
     "metadata": {},
     "output_type": "display_data"
    }
   ],
   "source": [
    "evaluate_model('XGBoost TF-IDF FastText', xgb_tfidf_ft, X_test_tfidf_ft, y_test)"
   ]
  },
  {
   "cell_type": "markdown",
   "id": "0c7419c9",
   "metadata": {},
   "source": [
    "### Deep Learning-Fasttext"
   ]
  },
  {
   "cell_type": "code",
   "execution_count": 278,
   "id": "9dff5df6",
   "metadata": {},
   "outputs": [
    {
     "name": "stdout",
     "output_type": "stream",
     "text": [
      "\u001b[1m28/28\u001b[0m \u001b[32m━━━━━━━━━━━━━━━━━━━━\u001b[0m\u001b[37m\u001b[0m \u001b[1m0s\u001b[0m 3ms/step\n",
      "\n",
      "----- Deep Learning FastText Evaluation -----\n",
      "Accuracy: 0.9035\n",
      "Precision: 0.8400\n",
      "Recall: 0.9035\n",
      "F1 Score: 0.8693\n"
     ]
    },
    {
     "data": {
      "image/png": "[encoded data removed]",
      "text/plain": [
       "<Figure size 800x600 with 2 Axes>"
      ]
     },
     "metadata": {},
     "output_type": "display_data"
    }
   ],
   "source": [
    "evaluate_model('Deep Learning FastText', dl_ft, X_test_ft, y_test, is_keras=True)"
   ]
  },
  {
   "cell_type": "markdown",
   "id": "f87e4edc",
   "metadata": {},
   "source": [
    "### Deep Learning-TFIDF-Fasttext"
   ]
  },
  {
   "cell_type": "code",
   "execution_count": 279,
   "id": "54bc70da",
   "metadata": {},
   "outputs": [
    {
     "name": "stdout",
     "output_type": "stream",
     "text": [
      "\u001b[1m28/28\u001b[0m \u001b[32m━━━━━━━━━━━━━━━━━━━━\u001b[0m\u001b[37m\u001b[0m \u001b[1m0s\u001b[0m 3ms/step \n"
     ]
    },
    {
     "name": "stdout",
     "output_type": "stream",
     "text": [
      "\n",
      "----- Deep Learning TF-IDF FastText Evaluation -----\n",
      "Accuracy: 0.9058\n",
      "Precision: 0.8416\n",
      "Recall: 0.9058\n",
      "F1 Score: 0.8680\n"
     ]
    },
    {
     "data": {
      "image/png": "[encoded data removed]",
      "text/plain": [
       "<Figure size 800x600 with 2 Axes>"
      ]
     },
     "metadata": {},
     "output_type": "display_data"
    }
   ],
   "source": [
    "evaluate_model('Deep Learning TF-IDF FastText', dl_tfidf_ft, X_test_tfidf_ft, y_test, is_keras=True)"
   ]
  },
  {
   "cell_type": "code",
   "execution_count": 280,
   "id": "034198c4",
   "metadata": {},
   "outputs": [
    {
     "data": {
      "image/png": "[encoded data removed]",
      "text/plain": [
       "<Figure size 1200x800 with 1 Axes>"
      ]
     },
     "metadata": {},
     "output_type": "display_data"
    }
   ],
   "source": [
    "# Compare all models\n",
    "model_names = list(results.keys())\n",
    "metrics = ['accuracy', 'precision', 'recall', 'f1']\n",
    "\n",
    "# Create comparison bar chart\n",
    "plt.figure(figsize=(12, 8))\n",
    "x = np.arange(len(model_names))\n",
    "width = 0.2\n",
    "multiplier = 0\n",
    "\n",
    "for metric in metrics:\n",
    "    offset = width * multiplier\n",
    "    rects = plt.bar(x + offset, [results[model][metric] for model in model_names], width, label=metric)\n",
    "    multiplier += 1\n",
    "\n",
    "plt.ylabel('Score')\n",
    "plt.title('Model Comparison')\n",
    "plt.xticks(x + width, model_names, rotation=45, ha='right')\n",
    "plt.legend(loc='upper left')\n",
    "plt.tight_layout()\n",
    "plt.grid(axis='y', linestyle='--', alpha=0.7)\n",
    "plt.ylim(0.7, 1.0)  # Set y-axis limits for better visibility\n",
    "plt.show()"
   ]
  },
  {
   "cell_type": "code",
   "execution_count": 265,
   "id": "178243cd",
   "metadata": {},
   "outputs": [
    {
     "name": "stdout",
     "output_type": "stream",
     "text": [
      "\n",
      "----- Summary of Results -----\n",
      "\n",
      "XGBoost FastText:\n",
      "  Accuracy: 0.9047\n",
      "  Precision: 0.8243\n",
      "  Recall: 0.9047\n",
      "  F1: 0.8626\n",
      "\n",
      "XGBoost TF-IDF FastText:\n",
      "  Accuracy: 0.9058\n",
      "  Precision: 0.8244\n",
      "  Recall: 0.9058\n",
      "  F1: 0.8632\n",
      "\n",
      "Deep Learning FastText:\n",
      "  Accuracy: 0.9035\n",
      "  Precision: 0.8400\n",
      "  Recall: 0.9035\n",
      "  F1: 0.8693\n",
      "\n",
      "Deep Learning TF-IDF FastText:\n",
      "  Accuracy: 0.9058\n",
      "  Precision: 0.8416\n",
      "  Recall: 0.9058\n",
      "  F1: 0.8680\n"
     ]
    }
   ],
   "source": [
    "# Print summary table\n",
    "print(\"\\n----- Summary of Results -----\")\n",
    "for model in model_names:\n",
    "    print(f\"\\n{model}:\")\n",
    "    for metric in metrics:\n",
    "        print(f\"  {metric.capitalize()}: {results[model][metric]:.4f}\")"
   ]
  },
  {
   "cell_type": "markdown",
   "id": "489cd816",
   "metadata": {},
   "source": [
    "## Inference Testing\n",
    "\n",
    "The best-considered model is Deep Learning with Fasttext only, judging by F1-Score. Therefore this inference is using that model. Below is the sample review.\n",
    "\n",
    "![](sample_image.png)"
   ]
  },
  {
   "cell_type": "code",
   "execution_count": 281,
   "id": "edc222f6",
   "metadata": {},
   "outputs": [
    {
     "name": "stdout",
     "output_type": "stream",
     "text": [
      "\u001b[1m1/1\u001b[0m \u001b[32m━━━━━━━━━━━━━━━━━━━━\u001b[0m\u001b[37m\u001b[0m \u001b[1m0s\u001b[0m 43ms/step\n",
      "Predicted class for the review: positive\n"
     ]
    }
   ],
   "source": [
    "review = \"bahan nya bagus, tapi size tidak sesuai, cocok untuk BB 50 ke 55. Akhirnya saya kasih ke anak saya...\"\n",
    "\n",
    "review_vector = get_document_vector_tfidf(review)\n",
    "review_vector = review_vector.reshape(1, -1)\n",
    "predicted_class = dl_ft.predict(review_vector)\n",
    "predicted_class = np.argmax(predicted_class, axis=1)\n",
    "predicted_label = le.inverse_transform(predicted_class)[0]\n",
    "print(f\"Predicted class for the review: {predicted_label}\")"
   ]
  }
 ],
 "metadata": {
  "kernelspec": {
   "display_name": ".venv",
   "language": "python",
   "name": "python3"
  },
  "language_info": {
   "codemirror_mode": {
    "name": "ipython",
    "version": 3
   },
   "file_extension": ".py",
   "mimetype": "text/x-python",
   "name": "python",
   "nbconvert_exporter": "python",
   "pygments_lexer": "ipython3",
   "version": "3.12.9"
  }
 },
 "nbformat": 4,
 "nbformat_minor": 5
}
