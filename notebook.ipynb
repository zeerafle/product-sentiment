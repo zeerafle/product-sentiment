{
 "cells": [
  {
   "cell_type": "markdown",
   "id": "703d27e6b6b2d4ce",
   "metadata": {},
   "source": [
    "# Tokopedia Product Sentiment"
   ]
  },
  {
   "cell_type": "code",
   "execution_count": 2,
   "id": "5fb4777c",
   "metadata": {},
   "outputs": [],
   "source": [
    "from tqdm.notebook import tqdm\n",
    "\n",
    "tqdm.pandas()"
   ]
  },
  {
   "cell_type": "markdown",
   "id": "fbdbc9b5e26de2ff",
   "metadata": {},
   "source": [
    "## Data Loading"
   ]
  },
  {
   "cell_type": "code",
   "execution_count": 49,
   "id": "initial_id",
   "metadata": {
    "ExecuteTime": {
     "end_time": "2025-05-16T12:13:31.779455Z",
     "start_time": "2025-05-16T12:13:29.824996Z"
    },
    "collapsed": true
   },
   "outputs": [
    {
     "data": {
      "text/html": [
       "<div>\n",
       "<style scoped>\n",
       "    .dataframe tbody tr th:only-of-type {\n",
       "        vertical-align: middle;\n",
       "    }\n",
       "\n",
       "    .dataframe tbody tr th {\n",
       "        vertical-align: top;\n",
       "    }\n",
       "\n",
       "    .dataframe thead th {\n",
       "        text-align: right;\n",
       "    }\n",
       "</style>\n",
       "<table border=\"1\" class=\"dataframe\">\n",
       "  <thead>\n",
       "    <tr style=\"text-align: right;\">\n",
       "      <th></th>\n",
       "      <th>product_id</th>\n",
       "      <th>product_url</th>\n",
       "      <th>shop_id</th>\n",
       "      <th>shop_name</th>\n",
       "      <th>shop_url</th>\n",
       "      <th>review_id</th>\n",
       "      <th>star</th>\n",
       "      <th>review</th>\n",
       "      <th>source</th>\n",
       "      <th>variant_name</th>\n",
       "      <th>is_anonymous</th>\n",
       "    </tr>\n",
       "  </thead>\n",
       "  <tbody>\n",
       "    <tr>\n",
       "      <th>0</th>\n",
       "      <td></td>\n",
       "      <td>https://www.tokopedia.com/merriesofficial/flas...</td>\n",
       "      <td></td>\n",
       "      <td>None</td>\n",
       "      <td>https://www.tokopedia.com/merriesofficial</td>\n",
       "      <td></td>\n",
       "      <td>5</td>\n",
       "      <td>Barang yg dibeli sesuai , pengiriman cepat dan...</td>\n",
       "      <td>html</td>\n",
       "      <td></td>\n",
       "      <td></td>\n",
       "    </tr>\n",
       "    <tr>\n",
       "      <th>1</th>\n",
       "      <td></td>\n",
       "      <td>https://www.tokopedia.com/merriesofficial/flas...</td>\n",
       "      <td></td>\n",
       "      <td>None</td>\n",
       "      <td>https://www.tokopedia.com/merriesofficial</td>\n",
       "      <td></td>\n",
       "      <td>5</td>\n",
       "      <td>Barang Original!!! Packing sangat aman... Grea...</td>\n",
       "      <td>html</td>\n",
       "      <td></td>\n",
       "      <td></td>\n",
       "    </tr>\n",
       "    <tr>\n",
       "      <th>2</th>\n",
       "      <td></td>\n",
       "      <td>https://www.tokopedia.com/merriesofficial/flas...</td>\n",
       "      <td></td>\n",
       "      <td>None</td>\n",
       "      <td>https://www.tokopedia.com/merriesofficial</td>\n",
       "      <td></td>\n",
       "      <td>5</td>\n",
       "      <td>Pengiriman sangat cepat!!! pesan hari ini  bes...</td>\n",
       "      <td>html</td>\n",
       "      <td></td>\n",
       "      <td></td>\n",
       "    </tr>\n",
       "    <tr>\n",
       "      <th>3</th>\n",
       "      <td>8536883143</td>\n",
       "      <td>https://www.tokopedia.com/winodofficialshop/wi...</td>\n",
       "      <td>11061624</td>\n",
       "      <td>winod</td>\n",
       "      <td>https://www.tokopedia.com/winodofficialshop</td>\n",
       "      <td>914575864</td>\n",
       "      <td>5</td>\n",
       "      <td>ini rekomen banget.. yg beli ga bakal nyesel.....</td>\n",
       "      <td>api</td>\n",
       "      <td>Black - 37</td>\n",
       "      <td>False</td>\n",
       "    </tr>\n",
       "    <tr>\n",
       "      <th>4</th>\n",
       "      <td>8536883143</td>\n",
       "      <td>https://www.tokopedia.com/winodofficialshop/wi...</td>\n",
       "      <td>11061624</td>\n",
       "      <td>winod</td>\n",
       "      <td>https://www.tokopedia.com/winodofficialshop</td>\n",
       "      <td>1243605012</td>\n",
       "      <td>5</td>\n",
       "      <td>so cute, ukurannya pas, sendalnya ringan dan n...</td>\n",
       "      <td>api</td>\n",
       "      <td>Ivory - 38</td>\n",
       "      <td>True</td>\n",
       "    </tr>\n",
       "  </tbody>\n",
       "</table>\n",
       "</div>"
      ],
      "text/plain": [
       "   product_id                                        product_url   shop_id  \\\n",
       "0              https://www.tokopedia.com/merriesofficial/flas...             \n",
       "1              https://www.tokopedia.com/merriesofficial/flas...             \n",
       "2              https://www.tokopedia.com/merriesofficial/flas...             \n",
       "3  8536883143  https://www.tokopedia.com/winodofficialshop/wi...  11061624   \n",
       "4  8536883143  https://www.tokopedia.com/winodofficialshop/wi...  11061624   \n",
       "\n",
       "  shop_name                                     shop_url   review_id  star  \\\n",
       "0      None    https://www.tokopedia.com/merriesofficial                 5   \n",
       "1      None    https://www.tokopedia.com/merriesofficial                 5   \n",
       "2      None    https://www.tokopedia.com/merriesofficial                 5   \n",
       "3     winod  https://www.tokopedia.com/winodofficialshop   914575864     5   \n",
       "4     winod  https://www.tokopedia.com/winodofficialshop  1243605012     5   \n",
       "\n",
       "                                              review source variant_name  \\\n",
       "0  Barang yg dibeli sesuai , pengiriman cepat dan...   html                \n",
       "1  Barang Original!!! Packing sangat aman... Grea...   html                \n",
       "2  Pengiriman sangat cepat!!! pesan hari ini  bes...   html                \n",
       "3  ini rekomen banget.. yg beli ga bakal nyesel.....    api   Black - 37   \n",
       "4  so cute, ukurannya pas, sendalnya ringan dan n...    api   Ivory - 38   \n",
       "\n",
       "  is_anonymous  \n",
       "0               \n",
       "1               \n",
       "2               \n",
       "3        False  \n",
       "4         True  "
      ]
     },
     "execution_count": 49,
     "metadata": {},
     "output_type": "execute_result"
    }
   ],
   "source": [
    "import pandas as pd\n",
    "\n",
    "df = pd.read_json(path_or_buf='data/reviews.jsonl', lines=True)\n",
    "df.head()"
   ]
  },
  {
   "cell_type": "code",
   "execution_count": 50,
   "id": "1ba68f31e7cd4d58",
   "metadata": {
    "ExecuteTime": {
     "end_time": "2025-05-16T12:13:32.079291Z",
     "start_time": "2025-05-16T12:13:32.043362Z"
    }
   },
   "outputs": [
    {
     "data": {
      "text/plain": [
       "star\n",
       "5    3626\n",
       "4     215\n",
       "3      88\n",
       "1      71\n",
       "2      34\n",
       "Name: count, dtype: int64"
      ]
     },
     "execution_count": 50,
     "metadata": {},
     "output_type": "execute_result"
    }
   ],
   "source": [
    "df.star.value_counts()"
   ]
  },
  {
   "cell_type": "markdown",
   "id": "da998e4d75fcbf20",
   "metadata": {},
   "source": [
    "## Assessing Data"
   ]
  },
  {
   "cell_type": "code",
   "execution_count": 52,
   "id": "eea93f35e2ad58c",
   "metadata": {
    "ExecuteTime": {
     "end_time": "2025-05-16T12:14:41.147450Z",
     "start_time": "2025-05-16T12:14:41.117567Z"
    }
   },
   "outputs": [
    {
     "data": {
      "text/plain": [
       "review    123\n",
       "star        0\n",
       "dtype: int64"
      ]
     },
     "execution_count": 52,
     "metadata": {},
     "output_type": "execute_result"
    }
   ],
   "source": [
    "df[['review', 'star']].isna().sum()"
   ]
  },
  {
   "cell_type": "code",
   "execution_count": 54,
   "id": "de13af0536897942",
   "metadata": {
    "ExecuteTime": {
     "end_time": "2025-05-16T12:20:02.818603Z",
     "start_time": "2025-05-16T12:20:02.800219Z"
    }
   },
   "outputs": [
    {
     "data": {
      "text/html": [
       "<div>\n",
       "<style scoped>\n",
       "    .dataframe tbody tr th:only-of-type {\n",
       "        vertical-align: middle;\n",
       "    }\n",
       "\n",
       "    .dataframe tbody tr th {\n",
       "        vertical-align: top;\n",
       "    }\n",
       "\n",
       "    .dataframe thead th {\n",
       "        text-align: right;\n",
       "    }\n",
       "</style>\n",
       "<table border=\"1\" class=\"dataframe\">\n",
       "  <thead>\n",
       "    <tr style=\"text-align: right;\">\n",
       "      <th></th>\n",
       "      <th>review</th>\n",
       "      <th>star</th>\n",
       "    </tr>\n",
       "  </thead>\n",
       "  <tbody>\n",
       "    <tr>\n",
       "      <th>0</th>\n",
       "      <td>Barang yg dibeli sesuai , pengiriman cepat dan...</td>\n",
       "      <td>5</td>\n",
       "    </tr>\n",
       "    <tr>\n",
       "      <th>1</th>\n",
       "      <td>Barang Original!!! Packing sangat aman... Grea...</td>\n",
       "      <td>5</td>\n",
       "    </tr>\n",
       "    <tr>\n",
       "      <th>2</th>\n",
       "      <td>Pengiriman sangat cepat!!! pesan hari ini  bes...</td>\n",
       "      <td>5</td>\n",
       "    </tr>\n",
       "    <tr>\n",
       "      <th>3</th>\n",
       "      <td>ini rekomen banget.. yg beli ga bakal nyesel.....</td>\n",
       "      <td>5</td>\n",
       "    </tr>\n",
       "    <tr>\n",
       "      <th>4</th>\n",
       "      <td>so cute, ukurannya pas, sendalnya ringan dan n...</td>\n",
       "      <td>5</td>\n",
       "    </tr>\n",
       "  </tbody>\n",
       "</table>\n",
       "</div>"
      ],
      "text/plain": [
       "                                              review  star\n",
       "0  Barang yg dibeli sesuai , pengiriman cepat dan...     5\n",
       "1  Barang Original!!! Packing sangat aman... Grea...     5\n",
       "2  Pengiriman sangat cepat!!! pesan hari ini  bes...     5\n",
       "3  ini rekomen banget.. yg beli ga bakal nyesel.....     5\n",
       "4  so cute, ukurannya pas, sendalnya ringan dan n...     5"
      ]
     },
     "execution_count": 54,
     "metadata": {},
     "output_type": "execute_result"
    }
   ],
   "source": [
    "df.dropna(subset='review', inplace=True)\n",
    "df[['review', 'star']].head()"
   ]
  },
  {
   "cell_type": "code",
   "execution_count": 56,
   "id": "3d4710b351c32b21",
   "metadata": {
    "ExecuteTime": {
     "end_time": "2025-05-16T12:46:28.756432Z",
     "start_time": "2025-05-16T12:46:28.735191Z"
    }
   },
   "outputs": [
    {
     "data": {
      "text/plain": [
       "37                                           Good quality\n",
       "38                                Bagus sesuai ekspektasi\n",
       "40                                                   good\n",
       "49                                                 mantap\n",
       "50                                                 mantap\n",
       "                              ...                        \n",
       "4016    Mantap gan barangnya 👍🏻💯\\nSukses terus buatlap...\n",
       "4017    Mantap gan barangnya 👍🏻💯\\nSukses terus buatlap...\n",
       "4023               Kualitasnya bagus dan sesuai deskripsi\n",
       "4024               Kualitasnya bagus dan sesuai deskripsi\n",
       "4031                                       sesuai pesanan\n",
       "Name: review, Length: 524, dtype: object"
      ]
     },
     "execution_count": 56,
     "metadata": {},
     "output_type": "execute_result"
    }
   ],
   "source": [
    "df[df.duplicated(subset='review', keep=False)]['review']"
   ]
  },
  {
   "cell_type": "code",
   "execution_count": 57,
   "id": "1f45271e441b8f8f",
   "metadata": {
    "ExecuteTime": {
     "end_time": "2025-05-16T12:57:52.990918Z",
     "start_time": "2025-05-16T12:57:52.979881Z"
    }
   },
   "outputs": [],
   "source": [
    "df.drop_duplicates(subset='review', inplace=True)"
   ]
  },
  {
   "cell_type": "code",
   "execution_count": 58,
   "id": "b3d18e3061bd8d4b",
   "metadata": {
    "ExecuteTime": {
     "end_time": "2025-05-16T13:01:33.800383Z",
     "start_time": "2025-05-16T13:01:33.783848Z"
    }
   },
   "outputs": [
    {
     "data": {
      "text/plain": [
       "np.int64(0)"
      ]
     },
     "execution_count": 58,
     "metadata": {},
     "output_type": "execute_result"
    }
   ],
   "source": [
    "df.duplicated().sum()"
   ]
  },
  {
   "cell_type": "markdown",
   "id": "1ee8ac87d1b0ea20",
   "metadata": {},
   "source": [
    "## Text Preprocessing"
   ]
  },
  {
   "cell_type": "markdown",
   "id": "3f037156",
   "metadata": {},
   "source": [
    "Kita hanya tertarik pada kolom `review` dan `star`. Maka buang kolom lain."
   ]
  },
  {
   "cell_type": "code",
   "execution_count": 63,
   "id": "1df7b6a7351d3dcc",
   "metadata": {
    "ExecuteTime": {
     "end_time": "2025-05-16T13:16:13.778454Z",
     "start_time": "2025-05-16T13:16:13.773307Z"
    }
   },
   "outputs": [],
   "source": [
    "clean_df = df[['review', 'star']].copy()"
   ]
  },
  {
   "cell_type": "markdown",
   "id": "f1d30f8e0cd718bb",
   "metadata": {},
   "source": [
    "### Case Folding"
   ]
  },
  {
   "cell_type": "code",
   "execution_count": 65,
   "id": "cfd08eb1dd636bcc",
   "metadata": {
    "ExecuteTime": {
     "end_time": "2025-05-16T13:16:14.521021Z",
     "start_time": "2025-05-16T13:16:14.500608Z"
    }
   },
   "outputs": [
    {
     "data": {
      "text/html": [
       "<div>\n",
       "<style scoped>\n",
       "    .dataframe tbody tr th:only-of-type {\n",
       "        vertical-align: middle;\n",
       "    }\n",
       "\n",
       "    .dataframe tbody tr th {\n",
       "        vertical-align: top;\n",
       "    }\n",
       "\n",
       "    .dataframe thead th {\n",
       "        text-align: right;\n",
       "    }\n",
       "</style>\n",
       "<table border=\"1\" class=\"dataframe\">\n",
       "  <thead>\n",
       "    <tr style=\"text-align: right;\">\n",
       "      <th></th>\n",
       "      <th>review</th>\n",
       "      <th>star</th>\n",
       "    </tr>\n",
       "  </thead>\n",
       "  <tbody>\n",
       "    <tr>\n",
       "      <th>0</th>\n",
       "      <td>barang yg dibeli sesuai , pengiriman cepat dan...</td>\n",
       "      <td>5</td>\n",
       "    </tr>\n",
       "    <tr>\n",
       "      <th>1</th>\n",
       "      <td>barang original!!! packing sangat aman... grea...</td>\n",
       "      <td>5</td>\n",
       "    </tr>\n",
       "    <tr>\n",
       "      <th>2</th>\n",
       "      <td>pengiriman sangat cepat!!! pesan hari ini  bes...</td>\n",
       "      <td>5</td>\n",
       "    </tr>\n",
       "    <tr>\n",
       "      <th>3</th>\n",
       "      <td>ini rekomen banget.. yg beli ga bakal nyesel.....</td>\n",
       "      <td>5</td>\n",
       "    </tr>\n",
       "    <tr>\n",
       "      <th>4</th>\n",
       "      <td>so cute, ukurannya pas, sendalnya ringan dan n...</td>\n",
       "      <td>5</td>\n",
       "    </tr>\n",
       "  </tbody>\n",
       "</table>\n",
       "</div>"
      ],
      "text/plain": [
       "                                              review  star\n",
       "0  barang yg dibeli sesuai , pengiriman cepat dan...     5\n",
       "1  barang original!!! packing sangat aman... grea...     5\n",
       "2  pengiriman sangat cepat!!! pesan hari ini  bes...     5\n",
       "3  ini rekomen banget.. yg beli ga bakal nyesel.....     5\n",
       "4  so cute, ukurannya pas, sendalnya ringan dan n...     5"
      ]
     },
     "execution_count": 65,
     "metadata": {},
     "output_type": "execute_result"
    }
   ],
   "source": [
    "clean_df.review = clean_df.review.map(lambda x: x.lower())\n",
    "clean_df.head()"
   ]
  },
  {
   "cell_type": "markdown",
   "id": "28249a212bdc6e86",
   "metadata": {},
   "source": [
    "### Remove Special Characters"
   ]
  },
  {
   "cell_type": "markdown",
   "id": "7c5777b14b4e7ea5",
   "metadata": {},
   "source": [
    "#### Numbers"
   ]
  },
  {
   "cell_type": "code",
   "execution_count": 67,
   "id": "d385997c7e5e283a",
   "metadata": {
    "ExecuteTime": {
     "end_time": "2025-05-16T13:16:16.640973Z",
     "start_time": "2025-05-16T13:16:16.610696Z"
    }
   },
   "outputs": [
    {
     "data": {
      "text/html": [
       "<div>\n",
       "<style scoped>\n",
       "    .dataframe tbody tr th:only-of-type {\n",
       "        vertical-align: middle;\n",
       "    }\n",
       "\n",
       "    .dataframe tbody tr th {\n",
       "        vertical-align: top;\n",
       "    }\n",
       "\n",
       "    .dataframe thead th {\n",
       "        text-align: right;\n",
       "    }\n",
       "</style>\n",
       "<table border=\"1\" class=\"dataframe\">\n",
       "  <thead>\n",
       "    <tr style=\"text-align: right;\">\n",
       "      <th></th>\n",
       "      <th>review</th>\n",
       "      <th>star</th>\n",
       "    </tr>\n",
       "  </thead>\n",
       "  <tbody>\n",
       "    <tr>\n",
       "      <th>26</th>\n",
       "      <td>kuliatas ok, pengiriman cepat respon penjual 100%</td>\n",
       "      <td>5</td>\n",
       "    </tr>\n",
       "    <tr>\n",
       "      <th>60</th>\n",
       "      <td>si kecil cabe rawit, first impression pas di s...</td>\n",
       "      <td>5</td>\n",
       "    </tr>\n",
       "    <tr>\n",
       "      <th>67</th>\n",
       "      <td>alhamdulillah paketnya sampe dgn selamat,  coc...</td>\n",
       "      <td>5</td>\n",
       "    </tr>\n",
       "    <tr>\n",
       "      <th>69</th>\n",
       "      <td>order ke 2x nya karena sebagus itu hydra boost...</td>\n",
       "      <td>5</td>\n",
       "    </tr>\n",
       "    <tr>\n",
       "      <th>73</th>\n",
       "      <td>udah order beerrr kali2. segar, bisa dipakai k...</td>\n",
       "      <td>5</td>\n",
       "    </tr>\n",
       "    <tr>\n",
       "      <th>...</th>\n",
       "      <td>...</td>\n",
       "      <td>...</td>\n",
       "    </tr>\n",
       "    <tr>\n",
       "      <th>3961</th>\n",
       "      <td>sdh sampai, barang berfungsi dengan baik, hany...</td>\n",
       "      <td>5</td>\n",
       "    </tr>\n",
       "    <tr>\n",
       "      <th>3967</th>\n",
       "      <td>tolong sering-sering kasih diskon yaaaaaa kao....</td>\n",
       "      <td>5</td>\n",
       "    </tr>\n",
       "    <tr>\n",
       "      <th>3976</th>\n",
       "      <td>meh meh meh, toko paling jarang diskon\\nsekali...</td>\n",
       "      <td>5</td>\n",
       "    </tr>\n",
       "    <tr>\n",
       "      <th>4007</th>\n",
       "      <td>barang saya belum sampai sampai saat ini \\nsdh...</td>\n",
       "      <td>1</td>\n",
       "    </tr>\n",
       "    <tr>\n",
       "      <th>4022</th>\n",
       "      <td>bagus sekali pengiriman cepat. dapet gift juga...</td>\n",
       "      <td>5</td>\n",
       "    </tr>\n",
       "  </tbody>\n",
       "</table>\n",
       "<p>427 rows × 2 columns</p>\n",
       "</div>"
      ],
      "text/plain": [
       "                                                 review  star\n",
       "26    kuliatas ok, pengiriman cepat respon penjual 100%     5\n",
       "60    si kecil cabe rawit, first impression pas di s...     5\n",
       "67    alhamdulillah paketnya sampe dgn selamat,  coc...     5\n",
       "69    order ke 2x nya karena sebagus itu hydra boost...     5\n",
       "73    udah order beerrr kali2. segar, bisa dipakai k...     5\n",
       "...                                                 ...   ...\n",
       "3961  sdh sampai, barang berfungsi dengan baik, hany...     5\n",
       "3967  tolong sering-sering kasih diskon yaaaaaa kao....     5\n",
       "3976  meh meh meh, toko paling jarang diskon\\nsekali...     5\n",
       "4007  barang saya belum sampai sampai saat ini \\nsdh...     1\n",
       "4022  bagus sekali pengiriman cepat. dapet gift juga...     5\n",
       "\n",
       "[427 rows x 2 columns]"
      ]
     },
     "execution_count": 67,
     "metadata": {},
     "output_type": "execute_result"
    }
   ],
   "source": [
    "clean_df[clean_df.review.str.contains(r'\\d')]"
   ]
  },
  {
   "cell_type": "code",
   "execution_count": null,
   "id": "923ef9162e5fa3c1",
   "metadata": {
    "ExecuteTime": {
     "end_time": "2025-05-16T13:34:11.435004Z",
     "start_time": "2025-05-16T13:34:11.319860Z"
    }
   },
   "outputs": [],
   "source": [
    "import re\n",
    "\n",
    "\n",
    "def preprocess_numbers(x):\n",
    "    # Pattern 1: Price expressions - convert to [PRICE] token\n",
    "    price_pattern = r\"\\b\\d+(?:[,.]\\d+)*(?:rb|ribu|k|jt|juta|m|million)\\b\"\n",
    "    x = re.sub(price_pattern, \"[PRICE]\", x)\n",
    "\n",
    "    # Pattern 2: Simple math expressions - remove these\n",
    "    math_pattern = r\"\\b\\d+[\\+\\-\\*\\/]\\d+\\b\"\n",
    "    x = re.sub(math_pattern, \"\", x)\n",
    "\n",
    "    # Pattern 3: Split number prefix from words (e.g., 2hari -> 2 hari)\n",
    "    word_prefix_pattern = r\"(\\d+)(\\w+)\"\n",
    "    x = re.sub(word_prefix_pattern, r\"\\1 \\2\", x)\n",
    "\n",
    "    # Pattern 4: Remove repeated words (e.g., masing2 -> masing-masing)\n",
    "    repeated_word_pattern = r\"(\\w+)2\\b\"\n",
    "    x = re.sub(repeated_word_pattern, r\"\\1-\\1\", x)\n",
    "\n",
    "    # Pattern 5: Remove standalone numbers that aren't part of important expressions (time and/or quantity)\n",
    "    # This should run last to avoid interfering with other patterns\n",
    "    standalone_num_pattern = r\"\\b\\d+\\b(?!\\s+(?:tahun|thn|bulan|bln|hari|hr|minggu|mgg|jam|jm|menit|mnt|detik|dtk|pcs|kantong|kantng|bungkus|box|paket|biji|buah))\"\n",
    "    x = re.sub(standalone_num_pattern, \"\", x)\n",
    "\n",
    "    return x.strip()\n",
    "\n",
    "\n",
    "clean_df.review = clean_df.review.map(preprocess_numbers)\n"
   ]
  },
  {
   "cell_type": "code",
   "execution_count": 69,
   "id": "ee131f138e645e24",
   "metadata": {
    "ExecuteTime": {
     "end_time": "2025-05-16T13:34:14.027676Z",
     "start_time": "2025-05-16T13:34:14.004142Z"
    }
   },
   "outputs": [
    {
     "data": {
      "text/html": [
       "<div>\n",
       "<style scoped>\n",
       "    .dataframe tbody tr th:only-of-type {\n",
       "        vertical-align: middle;\n",
       "    }\n",
       "\n",
       "    .dataframe tbody tr th {\n",
       "        vertical-align: top;\n",
       "    }\n",
       "\n",
       "    .dataframe thead th {\n",
       "        text-align: right;\n",
       "    }\n",
       "</style>\n",
       "<table border=\"1\" class=\"dataframe\">\n",
       "  <thead>\n",
       "    <tr style=\"text-align: right;\">\n",
       "      <th></th>\n",
       "      <th>review</th>\n",
       "      <th>star</th>\n",
       "    </tr>\n",
       "  </thead>\n",
       "  <tbody>\n",
       "    <tr>\n",
       "      <th>214</th>\n",
       "      <td>dikasih free 3 pcs masyaallah baik banget. pen...</td>\n",
       "      <td>5</td>\n",
       "    </tr>\n",
       "    <tr>\n",
       "      <th>228</th>\n",
       "      <td>sangat mengecewakan dan sangat tidak professio...</td>\n",
       "      <td>1</td>\n",
       "    </tr>\n",
       "    <tr>\n",
       "      <th>242</th>\n",
       "      <td>sdh diterima br periksa  lusin, cek semuanya p...</td>\n",
       "      <td>5</td>\n",
       "    </tr>\n",
       "    <tr>\n",
       "      <th>299</th>\n",
       "      <td>kurang 2 kantong, mohon di cek kembali pas pac...</td>\n",
       "      <td>4</td>\n",
       "    </tr>\n",
       "    <tr>\n",
       "      <th>387</th>\n",
       "      <td>minyak wangi paling favorit laahhh, harganya m...</td>\n",
       "      <td>5</td>\n",
       "    </tr>\n",
       "    <tr>\n",
       "      <th>...</th>\n",
       "      <td>...</td>\n",
       "      <td>...</td>\n",
       "    </tr>\n",
       "    <tr>\n",
       "      <th>3518</th>\n",
       "      <td>kualitas suara &amp; bluetooth bagus, tapi sayang ...</td>\n",
       "      <td>2</td>\n",
       "    </tr>\n",
       "    <tr>\n",
       "      <th>3525</th>\n",
       "      <td>tws lenovo thinkplus selalu jadi pilihan, oran...</td>\n",
       "      <td>5</td>\n",
       "    </tr>\n",
       "    <tr>\n",
       "      <th>3589</th>\n",
       "      <td>bintang  ini utk pengiriman ya, utk kualitas b...</td>\n",
       "      <td>4</td>\n",
       "    </tr>\n",
       "    <tr>\n",
       "      <th>3662</th>\n",
       "      <td>ternyata dikirim dari ace artha gading yg jara...</td>\n",
       "      <td>2</td>\n",
       "    </tr>\n",
       "    <tr>\n",
       "      <th>3884</th>\n",
       "      <td>mantap...\\ncepat banget pengirimannya...\\ncuma...</td>\n",
       "      <td>5</td>\n",
       "    </tr>\n",
       "  </tbody>\n",
       "</table>\n",
       "<p>70 rows × 2 columns</p>\n",
       "</div>"
      ],
      "text/plain": [
       "                                                 review  star\n",
       "214   dikasih free 3 pcs masyaallah baik banget. pen...     5\n",
       "228   sangat mengecewakan dan sangat tidak professio...     1\n",
       "242   sdh diterima br periksa  lusin, cek semuanya p...     5\n",
       "299   kurang 2 kantong, mohon di cek kembali pas pac...     4\n",
       "387   minyak wangi paling favorit laahhh, harganya m...     5\n",
       "...                                                 ...   ...\n",
       "3518  kualitas suara & bluetooth bagus, tapi sayang ...     2\n",
       "3525  tws lenovo thinkplus selalu jadi pilihan, oran...     5\n",
       "3589  bintang  ini utk pengiriman ya, utk kualitas b...     4\n",
       "3662  ternyata dikirim dari ace artha gading yg jara...     2\n",
       "3884  mantap...\\ncepat banget pengirimannya...\\ncuma...     5\n",
       "\n",
       "[70 rows x 2 columns]"
      ]
     },
     "execution_count": 69,
     "metadata": {},
     "output_type": "execute_result"
    }
   ],
   "source": [
    "clean_df[clean_df.review.str.contains(r'\\d')]"
   ]
  },
  {
   "cell_type": "markdown",
   "id": "e3cc476f96a6e6ea",
   "metadata": {},
   "source": [
    "#### Punctuation"
   ]
  },
  {
   "cell_type": "code",
   "execution_count": 71,
   "id": "80caac7c7d1a672a",
   "metadata": {
    "ExecuteTime": {
     "end_time": "2025-05-16T13:38:28.920284Z",
     "start_time": "2025-05-16T13:38:28.826361Z"
    }
   },
   "outputs": [
    {
     "data": {
      "text/plain": [
       "0       barang yg dibeli sesuai  pengiriman cepat dan ...\n",
       "1           barang original packing sangat aman great job\n",
       "2       pengiriman sangat cepat pesan hari ini  besok ...\n",
       "3       ini rekomen banget yg beli ga bakal nyesel ga ...\n",
       "4       so cute ukurannya pas sendalnya ringan dan nya...\n",
       "                              ...                        \n",
       "4028                   mantuuulllllmulussssssemoga awettt\n",
       "4029                       kulitas bagus pengiriman cepat\n",
       "4030                                             the best\n",
       "4032    bbbaaarrraaaaaannnnnggggggggggg bbbbaaaaaggggu...\n",
       "4033    terimakasih brg datang tepat waktu dan trmksh ...\n",
       "Name: review, Length: 3565, dtype: object"
      ]
     },
     "execution_count": 71,
     "metadata": {},
     "output_type": "execute_result"
    }
   ],
   "source": [
    "import string\n",
    "\n",
    "\n",
    "def remove_punctuation(x):\n",
    "    punctuations = set(string.punctuation)\n",
    "    cleaned_text = ''.join(char for char in x if char not in punctuations)\n",
    "    return cleaned_text\n",
    "\n",
    "clean_df.review.map(remove_punctuation)"
   ]
  },
  {
   "cell_type": "code",
   "execution_count": 72,
   "id": "5dcb06323f98f0b0",
   "metadata": {
    "ExecuteTime": {
     "end_time": "2025-05-16T13:39:56.559027Z",
     "start_time": "2025-05-16T13:39:56.496784Z"
    }
   },
   "outputs": [],
   "source": [
    "clean_df.review = clean_df.review.map(remove_punctuation)"
   ]
  },
  {
   "cell_type": "markdown",
   "id": "4d15bef629a6cf22",
   "metadata": {},
   "source": [
    "#### Whitespaces"
   ]
  },
  {
   "cell_type": "code",
   "execution_count": 74,
   "id": "3299a12464bd749a",
   "metadata": {
    "ExecuteTime": {
     "end_time": "2025-05-16T13:42:26.424666Z",
     "start_time": "2025-05-16T13:42:26.384955Z"
    }
   },
   "outputs": [
    {
     "data": {
      "text/plain": [
       "0       barang yg dibeli sesuai pengiriman cepat dan h...\n",
       "1           barang original packing sangat aman great job\n",
       "2       pengiriman sangat cepat pesan hari ini besok s...\n",
       "3       ini rekomen banget yg beli ga bakal nyesel ga ...\n",
       "4       so cute ukurannya pas sendalnya ringan dan nya...\n",
       "                              ...                        \n",
       "4028                   mantuuulllllmulussssssemoga awettt\n",
       "4029                       kulitas bagus pengiriman cepat\n",
       "4030                                             the best\n",
       "4032    bbbaaarrraaaaaannnnnggggggggggg bbbbaaaaaggggu...\n",
       "4033    terimakasih brg datang tepat waktu dan trmksh ...\n",
       "Name: review, Length: 3565, dtype: object"
      ]
     },
     "execution_count": 74,
     "metadata": {},
     "output_type": "execute_result"
    }
   ],
   "source": [
    "def remove_whitespaces(x):\n",
    "    return re.sub(r\"\\s+\", \" \", x).strip()\n",
    "\n",
    "clean_df.review.map(remove_whitespaces)"
   ]
  },
  {
   "cell_type": "code",
   "execution_count": 75,
   "id": "4ec5b8533292785d",
   "metadata": {
    "ExecuteTime": {
     "end_time": "2025-05-16T14:02:33.798701Z",
     "start_time": "2025-05-16T14:02:33.752400Z"
    }
   },
   "outputs": [],
   "source": [
    "clean_df.review = clean_df.review.map(remove_whitespaces)"
   ]
  },
  {
   "cell_type": "markdown",
   "id": "53e0e0b94bd9fec2",
   "metadata": {},
   "source": [
    "#### Emoji\n",
    "\n",
    "Emoji is not directly removed as it might helpful for the sentiment. For example love emoji (❤️‍) shows a positive sentiment.\n",
    "\n",
    "The preprocessing that's needed for emoji is to split any emoji that stick to a word. This will be helpful for tokenization process later."
   ]
  },
  {
   "cell_type": "code",
   "execution_count": 80,
   "id": "72fa0b26ef5e93ea",
   "metadata": {
    "ExecuteTime": {
     "end_time": "2025-05-16T14:17:40.106989Z",
     "start_time": "2025-05-16T14:17:39.139916Z"
    }
   },
   "outputs": [
    {
     "data": {
      "text/plain": [
       "0       barang yg dibeli sesuai pengiriman cepat dan h...\n",
       "1           barang original packing sangat aman great job\n",
       "2       pengiriman sangat cepat pesan hari ini besok s...\n",
       "3       ini rekomen banget yg beli ga bakal nyesel ga ...\n",
       "4       so cute ukurannya pas sendalnya ringan dan nya...\n",
       "                              ...                        \n",
       "4028                   mantuuulllllmulussssssemoga awettt\n",
       "4029                       kulitas bagus pengiriman cepat\n",
       "4030                                             the best\n",
       "4032    bbbaaarrraaaaaannnnnggggggggggg bbbbaaaaaggggu...\n",
       "4033    terimakasih brg datang tepat waktu dan trmksh ...\n",
       "Name: review, Length: 3565, dtype: object"
      ]
     },
     "execution_count": 80,
     "metadata": {},
     "output_type": "execute_result"
    }
   ],
   "source": [
    "import re\n",
    "import emoji\n",
    "\n",
    "def preprocess_emojis(x):\n",
    "    # identify emoji positions\n",
    "    emoji_positions = []\n",
    "    for match in emoji.emoji_list(x):\n",
    "        start, end = match['match_start'], match['match_end']\n",
    "        emoji_positions.append((start, end))\n",
    "\n",
    "    # Process the string from end to beginning (to avoid position shifts)\n",
    "    emoji_positions.sort(reverse=True)\n",
    "\n",
    "    char_list = list(x)\n",
    "    for start, end in emoji_positions:\n",
    "        # if preceded by word character\n",
    "        if start > 0 and char_list[start-1].isalnum():\n",
    "            char_list.insert(start, ' ')\n",
    "\n",
    "        # if followed by word character\n",
    "        if end < len(char_list) and end < len(x) and char_list[end].isalnum():\n",
    "            char_list.insert(end, ' ')\n",
    "\n",
    "    return ''.join(char_list)\n",
    "\n",
    "\n",
    "clean_df.review.map(preprocess_emojis)"
   ]
  },
  {
   "cell_type": "code",
   "execution_count": 81,
   "id": "71a96138",
   "metadata": {},
   "outputs": [],
   "source": [
    "clean_df.review = clean_df.review.map(preprocess_emojis)"
   ]
  },
  {
   "cell_type": "markdown",
   "id": "ec248cb5",
   "metadata": {},
   "source": [
    "#### Repeated Letters"
   ]
  },
  {
   "cell_type": "code",
   "execution_count": 82,
   "id": "36686507",
   "metadata": {},
   "outputs": [],
   "source": [
    "def normalize_repeated_letters(word):\n",
    "    # Only replace if a character repeats 3 or more times\n",
    "    return re.sub(r'(.)\\1{2,}', r'\\1', word)\n",
    "\n",
    "def normalize_review(text):\n",
    "    return ' '.join([normalize_repeated_letters(w) for w in text.split()])\n",
    "\n",
    "clean_df.review = clean_df.review.map(normalize_review)"
   ]
  },
  {
   "cell_type": "code",
   "execution_count": 83,
   "id": "d33b4334",
   "metadata": {},
   "outputs": [
    {
     "data": {
      "text/plain": [
       "0       barang yg dibeli sesuai pengiriman cepat dan h...\n",
       "1           barang original packing sangat aman great job\n",
       "2       pengiriman sangat cepat pesan hari ini besok s...\n",
       "3       ini rekomen banget yg beli ga bakal nyesel ga ...\n",
       "4       so cute ukurannya pas sendalnya ringan dan nya...\n",
       "                              ...                        \n",
       "4028                                mantulmulusemoga awet\n",
       "4029                       kulitas bagus pengiriman cepat\n",
       "4030                                             the best\n",
       "4032                                    barang bagus puas\n",
       "4033    terimakasih brg datang tepat waktu dan trmksh ...\n",
       "Name: review, Length: 3565, dtype: object"
      ]
     },
     "execution_count": 83,
     "metadata": {},
     "output_type": "execute_result"
    }
   ],
   "source": [
    "clean_df.review"
   ]
  },
  {
   "cell_type": "markdown",
   "id": "440919e8161f0b4e",
   "metadata": {},
   "source": [
    "### Stopword Removal"
   ]
  },
  {
   "cell_type": "code",
   "execution_count": 84,
   "id": "6a7006f76960808d",
   "metadata": {
    "ExecuteTime": {
     "end_time": "2025-05-16T14:35:09.012868Z",
     "start_time": "2025-05-16T14:35:06.427629Z"
    }
   },
   "outputs": [
    {
     "name": "stderr",
     "output_type": "stream",
     "text": [
      "[nltk_data] Downloading package punkt_tab to\n",
      "[nltk_data]     /home/codespace/nltk_data...\n",
      "[nltk_data]   Package punkt_tab is already up-to-date!\n"
     ]
    },
    {
     "data": {
      "text/plain": [
       "True"
      ]
     },
     "execution_count": 84,
     "metadata": {},
     "output_type": "execute_result"
    }
   ],
   "source": [
    "import nltk\n",
    "nltk.download('punkt_tab')"
   ]
  },
  {
   "cell_type": "code",
   "execution_count": 85,
   "id": "c32c159a8800566c",
   "metadata": {
    "ExecuteTime": {
     "end_time": "2025-05-16T14:33:46.295294Z",
     "start_time": "2025-05-16T14:33:46.290468Z"
    }
   },
   "outputs": [],
   "source": [
    "from Sastrawi.StopWordRemover.StopWordRemoverFactory import StopWordRemoverFactory\n",
    "from nltk.tokenize import word_tokenize\n",
    "\n",
    "factory = StopWordRemoverFactory()\n",
    "stopwords = factory.get_stop_words()"
   ]
  },
  {
   "cell_type": "code",
   "execution_count": 86,
   "id": "6eaaadb7bf40a639",
   "metadata": {
    "ExecuteTime": {
     "end_time": "2025-05-16T14:35:16.158193Z",
     "start_time": "2025-05-16T14:35:15.516468Z"
    }
   },
   "outputs": [
    {
     "data": {
      "text/plain": [
       "0       barang yg dibeli sesuai pengiriman cepat harga...\n",
       "1           barang original packing sangat aman great job\n",
       "2       pengiriman sangat cepat pesan hari besok great...\n",
       "3       rekomen banget yg beli ga bakal nyesel ga nyan...\n",
       "4       so cute ukurannya pas sendalnya ringan nyaman ...\n",
       "                              ...                        \n",
       "4028                                mantulmulusemoga awet\n",
       "4029                       kulitas bagus pengiriman cepat\n",
       "4030                                             the best\n",
       "4032                                    barang bagus puas\n",
       "4033    terimakasih brg datang tepat waktu trmksh atas...\n",
       "Name: review, Length: 3565, dtype: object"
      ]
     },
     "execution_count": 86,
     "metadata": {},
     "output_type": "execute_result"
    }
   ],
   "source": [
    "def remove_stopwords(x):\n",
    "    word_token = word_tokenize(x)\n",
    "    important_words = [word for word in word_token if word.lower() not in stopwords]\n",
    "    return ' '.join(important_words)\n",
    "\n",
    "clean_df.review.map(remove_stopwords)"
   ]
  },
  {
   "cell_type": "code",
   "execution_count": 87,
   "id": "1008e7dbbcae6ade",
   "metadata": {
    "ExecuteTime": {
     "end_time": "2025-05-16T14:38:12.416652Z",
     "start_time": "2025-05-16T14:38:10.215971Z"
    }
   },
   "outputs": [],
   "source": [
    "clean_df.review = clean_df.review.map(remove_stopwords)"
   ]
  },
  {
   "cell_type": "markdown",
   "id": "8e7863a0caeb95ae",
   "metadata": {},
   "source": [
    "### Stemming"
   ]
  },
  {
   "cell_type": "code",
   "execution_count": 89,
   "id": "b07dea83f544c258",
   "metadata": {
    "ExecuteTime": {
     "end_time": "2025-05-16T14:37:29.385827Z",
     "start_time": "2025-05-16T14:37:29.224909Z"
    }
   },
   "outputs": [],
   "source": [
    "from Sastrawi.Stemmer.StemmerFactory import StemmerFactory\n",
    "\n",
    "factory = StemmerFactory()\n",
    "stemmer = factory.create_stemmer()"
   ]
  },
  {
   "cell_type": "code",
   "execution_count": 90,
   "id": "eaf759c5237ffcf5",
   "metadata": {
    "ExecuteTime": {
     "end_time": "2025-05-16T15:03:10.168910Z",
     "start_time": "2025-05-16T14:58:33.799271Z"
    }
   },
   "outputs": [
    {
     "data": {
      "application/vnd.jupyter.widget-view+json": {
       "model_id": "0f0d8a84f2dd48cc88960eaec0728784",
       "version_major": 2,
       "version_minor": 0
      },
      "text/plain": [
       "  0%|          | 0/3565 [00:00<?, ?it/s]"
      ]
     },
     "metadata": {},
     "output_type": "display_data"
    }
   ],
   "source": [
    "clean_df.review = clean_df.review.progress_map(lambda x: stemmer.stem(x))"
   ]
  },
  {
   "cell_type": "code",
   "execution_count": 91,
   "id": "b20078b1e4ed31fe",
   "metadata": {
    "ExecuteTime": {
     "end_time": "2025-05-16T15:03:10.273327Z",
     "start_time": "2025-05-16T15:03:10.242248Z"
    }
   },
   "outputs": [
    {
     "data": {
      "text/plain": [
       "0       barang yg beli sesuai kirim cepat harga masuk ...\n",
       "1           barang original packing sangat aman great job\n",
       "2           kirim sangat cepat pesan hari besok great jpb\n",
       "3       rekomen banget yg beli ga bakal nyesel ga nyan...\n",
       "4             so cute ukur pas sendal ringan nyaman pakai\n",
       "                              ...                        \n",
       "4028                                mantulmulusemoga awet\n",
       "4029                            kulitas bagus kirim cepat\n",
       "4030                                             the best\n",
       "4032                                    barang bagus puas\n",
       "4033    terimakasih brg datang tepat waktu trmksh atas...\n",
       "Name: review, Length: 3565, dtype: object"
      ]
     },
     "execution_count": 91,
     "metadata": {},
     "output_type": "execute_result"
    }
   ],
   "source": [
    "clean_df.review"
   ]
  },
  {
   "cell_type": "code",
   "execution_count": 93,
   "id": "7edd47b1",
   "metadata": {},
   "outputs": [],
   "source": [
    "df.loc[clean_df.index]\\\n",
    "    .assign(review=clean_df.review)\\\n",
    "    .to_csv('data/clean_reviews.csv', index=False, sep='\\t')"
   ]
  },
  {
   "cell_type": "markdown",
   "id": "a0edc0308fc3136",
   "metadata": {},
   "source": [
    "## Feature Extraction"
   ]
  },
  {
   "cell_type": "code",
   "execution_count": 2,
   "id": "d93e43f9",
   "metadata": {},
   "outputs": [
    {
     "data": {
      "text/html": [
       "<div>\n",
       "<style scoped>\n",
       "    .dataframe tbody tr th:only-of-type {\n",
       "        vertical-align: middle;\n",
       "    }\n",
       "\n",
       "    .dataframe tbody tr th {\n",
       "        vertical-align: top;\n",
       "    }\n",
       "\n",
       "    .dataframe thead th {\n",
       "        text-align: right;\n",
       "    }\n",
       "</style>\n",
       "<table border=\"1\" class=\"dataframe\">\n",
       "  <thead>\n",
       "    <tr style=\"text-align: right;\">\n",
       "      <th></th>\n",
       "      <th>star</th>\n",
       "      <th>review</th>\n",
       "    </tr>\n",
       "  </thead>\n",
       "  <tbody>\n",
       "    <tr>\n",
       "      <th>0</th>\n",
       "      <td>5</td>\n",
       "      <td>barang yg beli sesuai kirim cepat harga masuk ...</td>\n",
       "    </tr>\n",
       "    <tr>\n",
       "      <th>1</th>\n",
       "      <td>5</td>\n",
       "      <td>barang original packing sangat aman great job</td>\n",
       "    </tr>\n",
       "    <tr>\n",
       "      <th>2</th>\n",
       "      <td>5</td>\n",
       "      <td>kirim sangat cepat pesan hari besok great jpb</td>\n",
       "    </tr>\n",
       "    <tr>\n",
       "      <th>3</th>\n",
       "      <td>5</td>\n",
       "      <td>rekomen banget yg beli ga bakal nyesel ga nyan...</td>\n",
       "    </tr>\n",
       "    <tr>\n",
       "      <th>4</th>\n",
       "      <td>5</td>\n",
       "      <td>so cute ukur pas sendal ringan nyaman pakai</td>\n",
       "    </tr>\n",
       "  </tbody>\n",
       "</table>\n",
       "</div>"
      ],
      "text/plain": [
       "   star                                             review\n",
       "0     5  barang yg beli sesuai kirim cepat harga masuk ...\n",
       "1     5      barang original packing sangat aman great job\n",
       "2     5      kirim sangat cepat pesan hari besok great jpb\n",
       "3     5  rekomen banget yg beli ga bakal nyesel ga nyan...\n",
       "4     5        so cute ukur pas sendal ringan nyaman pakai"
      ]
     },
     "execution_count": 2,
     "metadata": {},
     "output_type": "execute_result"
    }
   ],
   "source": [
    "# load the cleaned data if necessary\n",
    "import pandas as pd\n",
    "\n",
    "clean_df = pd.read_csv('data/clean_reviews.csv', sep='\\t', usecols=['review', 'star'])\n",
    "clean_df.head()"
   ]
  },
  {
   "cell_type": "code",
   "execution_count": 3,
   "id": "fceb65c3",
   "metadata": {},
   "outputs": [
    {
     "data": {
      "text/plain": [
       "star\n",
       "5    3219\n",
       "4     196\n",
       "3      75\n",
       "1      50\n",
       "2      25\n",
       "Name: count, dtype: int64"
      ]
     },
     "execution_count": 3,
     "metadata": {},
     "output_type": "execute_result"
    }
   ],
   "source": [
    "clean_df.star.value_counts()"
   ]
  },
  {
   "cell_type": "code",
   "execution_count": 4,
   "id": "ceb94d8b",
   "metadata": {},
   "outputs": [
    {
     "data": {
      "text/plain": [
       "{np.int64(1): [('barang', 21),\n",
       "  ('kirim', 13),\n",
       "  ('yg', 12),\n",
       "  ('beli', 9),\n",
       "  ('sangat', 8),\n",
       "  ('produk', 8),\n",
       "  ('gak', 8),\n",
       "  ('seller', 8),\n",
       "  ('sesuai', 7),\n",
       "  ('baru', 7)],\n",
       " np.int64(2): [('kirim', 8),\n",
       "  ('yg', 8),\n",
       "  ('pesan', 5),\n",
       "  ('baru', 5),\n",
       "  ('pcs', 5),\n",
       "  ('nya', 4),\n",
       "  ('barang', 4),\n",
       "  ('sampe', 4),\n",
       "  ('kali', 4),\n",
       "  ('gak', 4)],\n",
       " np.int64(3): [('kirim', 19),\n",
       "  ('barang', 18),\n",
       "  ('nya', 13),\n",
       "  ('gak', 9),\n",
       "  ('bagus', 9),\n",
       "  ('yg', 9),\n",
       "  ('lama', 9),\n",
       "  ('kecil', 9),\n",
       "  ('kurang', 8),\n",
       "  ('sesuai', 8)],\n",
       " np.int64(4): [('barang', 51),\n",
       "  ('kirim', 42),\n",
       "  ('sesuai', 35),\n",
       "  ('bagus', 35),\n",
       "  ('nya', 30),\n",
       "  ('yg', 26),\n",
       "  ('lama', 24),\n",
       "  ('cepat', 22),\n",
       "  ('kurang', 20),\n",
       "  ('harga', 20)],\n",
       " np.int64(5): [('barang', 749),\n",
       "  ('bagus', 702),\n",
       "  ('cepat', 664),\n",
       "  ('sesuai', 623),\n",
       "  ('kirim', 622),\n",
       "  ('aman', 387),\n",
       "  ('nya', 342),\n",
       "  ('terima', 321),\n",
       "  ('baik', 318),\n",
       "  ('banget', 310)]}"
      ]
     },
     "execution_count": 4,
     "metadata": {},
     "output_type": "execute_result"
    }
   ],
   "source": [
    "from collections import Counter\n",
    "\n",
    "top_words_per_star = {}\n",
    "\n",
    "for star in sorted(clean_df.star.unique()):\n",
    "    reviews = clean_df[clean_df.star == star].review.dropna()\n",
    "    words = ' '.join(reviews).split()\n",
    "    most_common = Counter(words).most_common(10)\n",
    "    top_words_per_star[star] = most_common\n",
    "\n",
    "top_words_per_star"
   ]
  },
  {
   "cell_type": "code",
   "execution_count": 5,
   "id": "15fd687bf8dfb9d8",
   "metadata": {},
   "outputs": [
    {
     "ename": "",
     "evalue": "",
     "output_type": "error",
     "traceback": [
      "\u001b[1;31mThe Kernel crashed while executing code in the current cell or a previous cell. \n",
      "\u001b[1;31mPlease review the code in the cell(s) to identify a possible cause of the failure. \n",
      "\u001b[1;31mClick <a href='https://aka.ms/vscodeJupyterKernelCrash'>here</a> for more info. \n",
      "\u001b[1;31mView Jupyter <a href='command:jupyter.viewOutput'>log</a> for further details."
     ]
    }
   ],
   "source": [
    "import fasttext\n",
    "\n",
    "# try to run this in terminal (python console)\n",
    "# as the downloading progress bar badly handled by notebook output causing lags\n",
    "# import fasttext.util\n",
    "# fasttext.util.download_model('id', if_exists='ignore')\n",
    "ft = fasttext.load_model('cc.id.300.bin')"
   ]
  },
  {
   "cell_type": "code",
   "execution_count": null,
   "id": "729a1fb7",
   "metadata": {},
   "outputs": [],
   "source": [
    "ft.get_word_vector('yg')"
   ]
  }
 ],
 "metadata": {
  "kernelspec": {
   "display_name": ".venv",
   "language": "python",
   "name": "python3"
  },
  "language_info": {
   "codemirror_mode": {
    "name": "ipython",
    "version": 3
   },
   "file_extension": ".py",
   "mimetype": "text/x-python",
   "name": "python",
   "nbconvert_exporter": "python",
   "pygments_lexer": "ipython3",
   "version": "3.13.2"
  }
 },
 "nbformat": 4,
 "nbformat_minor": 5
}
